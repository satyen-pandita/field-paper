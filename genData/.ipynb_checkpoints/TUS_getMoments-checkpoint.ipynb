{
 "cells": [
  {
   "cell_type": "markdown",
   "id": "dca7d0b2-73ec-4c98-bdc9-0d2a03991606",
   "metadata": {},
   "source": [
    "### In this File\n",
    "\n",
    "Having calculated time spent by each primID in each activity, I merge this dataframe with the dataframe containing characteristics for these primIDs."
   ]
  },
  {
   "cell_type": "code",
   "execution_count": 2,
   "id": "9a42311e-db3c-45af-9c3a-f4ae420652ba",
   "metadata": {
    "tags": []
   },
   "outputs": [],
   "source": [
    "import pandas as pd\n",
    "import os\n",
    "from datetime import datetime\n",
    "import copy"
   ]
  },
  {
   "cell_type": "code",
   "execution_count": 3,
   "id": "6806fcd4-5053-4d98-aecf-64f1d4d563e7",
   "metadata": {
    "tags": []
   },
   "outputs": [],
   "source": [
    "################# GLOBAL VARIABLES ######################\n",
    "\n",
    "# Definitions from PLFS 2018-19 Annual Report, Concepts and Definitions (2.38.1)\n",
    "# Problematic codes for self employed criteria: `21` - worked in household enterprises (self-employed) as helper\n",
    "SELF_EMP_CODES = [\"11\", \"12\", \"21\"]\n",
    "REG_EMP_CODES = [\"31\"]\n",
    "CASUAL_EMP_CODES = [\"41\", \"42\", \"51\", \"61\", \"62\", \"71\", \"72\"]\n",
    "\n",
    "NOT_REG_CODES = SELF_EMP_CODES + CASUAL_EMP_CODES\n",
    "\n",
    "EMP_CODES = SELF_EMP_CODES + REG_EMP_CODES + CASUAL_EMP_CODES\n",
    "UNEMP_CODES = [\"81\", \"82\"]\n",
    "LF_CODES = EMP_CODES + UNEMP_CODES\n",
    "NOT_IN_LF_CODES = [str(x) for x in list(range(91,100))]\n",
    "\n",
    "CODE_MAP = {\"1\": \"work\", \"2\": \"work\", \"3\": \"home\", \"4\": \"home\", \"5\": \"home\", \"6\": \"leisure\", \"7\": \"leisure\", \"8\": \"leisure\", \"9\": \"self\"}"
   ]
  },
  {
   "cell_type": "code",
   "execution_count": 4,
   "id": "518dd6af-de4c-4679-9f4e-d79a1e0cf7d4",
   "metadata": {
    "tags": []
   },
   "outputs": [],
   "source": [
    "# Read data files\n",
    "df_chars = pd.read_pickle(\"df_L1L2.pkl\")\n",
    "df_time = pd.read_pickle(\"df_timeSpent.pkl\")"
   ]
  },
  {
   "cell_type": "code",
   "execution_count": 5,
   "id": "8dd37509-5f07-44c1-b44e-85cfa35740be",
   "metadata": {
    "tags": []
   },
   "outputs": [
    {
     "data": {
      "text/plain": [
       "Index(['Schedule ID', 'FSU Serial No.', 'Schedule', 'survey year', 'Sector',\n",
       "       'NSS-Region', 'District', 'Stratum', 'Sub-Stratum', 'Sub-Round',\n",
       "       'FOD Sub-Region', 'Sample hhld. No.', 'Level ', 'Filler_x',\n",
       "       'Informant Sl.No.', 'Response Code', 'Survey Code',\n",
       "       'Substitution Code/ Casualty code', 'Filler_x', 'Date of Survey',\n",
       "       'Date of Despatch', 'Time to canvass(minutes)',\n",
       "       'No. of investigators(FI/ASO) in the team', 'Remarks in block 7',\n",
       "       'Remarks in block 8', 'Remarks elsewhere in Sch.',\n",
       "       'Remarks elsewhere in Sch.', 'Blank_x', 'NSC_x', 'MULT_x', 'State',\n",
       "       'north', 'Common-ID', 'Level', 'Filler_y', 'Person serial no.',\n",
       "       'Relation to head', 'Gender', 'Age', 'marital status',\n",
       "       'highest level of education', 'usual principal activity: status (code)',\n",
       "       'industry of work: 2-digit of NIC 2008', 'Blank_y', 'NSC_y', 'MULT_y',\n",
       "       'primID'],\n",
       "      dtype='object', name='item')"
      ]
     },
     "execution_count": 5,
     "metadata": {},
     "output_type": "execute_result"
    }
   ],
   "source": [
    "df_chars.columns"
   ]
  },
  {
   "cell_type": "code",
   "execution_count": 6,
   "id": "3b4add00-6276-42cd-b1b3-f352e05a9156",
   "metadata": {
    "tags": []
   },
   "outputs": [],
   "source": [
    "df_chars.drop(columns=['Schedule ID', 'FSU Serial No.', 'Schedule', 'survey year',\\\n",
    "                       'NSS-Region','Stratum', 'Sub-Stratum', 'Sub-Round','FOD Sub-Region',\\\n",
    "                       'Sample hhld. No.', 'Level ', 'Filler_x','Date of Survey',\\\n",
    "                       'Date of Despatch', 'Time to canvass(minutes)',\\\n",
    "                       'No. of investigators(FI/ASO) in the team', 'Remarks in block 7',\\\n",
    "                       'Remarks in block 8', 'Remarks elsewhere in Sch.',\\\n",
    "                       'Remarks elsewhere in Sch.', 'Blank_x', 'NSC_x', 'MULT_x','Level', 'Filler_y',\\\n",
    "                       'Blank_y', 'Informant Sl.No.', 'Response Code', 'Survey Code',\\\n",
    "                       'Substitution Code/ Casualty code',],inplace=True)"
   ]
  },
  {
   "cell_type": "code",
   "execution_count": 7,
   "id": "f2fd0883-7175-47b9-8346-f04b1925653f",
   "metadata": {
    "tags": []
   },
   "outputs": [],
   "source": [
    "df_chars.rename(columns={'NSC_y': 'NSC', 'MULT_y':'MULT'},inplace=True)"
   ]
  },
  {
   "cell_type": "code",
   "execution_count": 8,
   "id": "0adaf8fc-3287-4711-8be0-604829eeb7ce",
   "metadata": {
    "tags": []
   },
   "outputs": [
    {
     "data": {
      "text/plain": [
       "Index(['time_spent', 'primID', 'activity', 'TotalTime'], dtype='object')"
      ]
     },
     "execution_count": 8,
     "metadata": {},
     "output_type": "execute_result"
    }
   ],
   "source": [
    "df_time.columns"
   ]
  },
  {
   "cell_type": "code",
   "execution_count": 9,
   "id": "34e231a1-731d-4842-95e7-db5add94eb21",
   "metadata": {
    "tags": []
   },
   "outputs": [
    {
     "data": {
      "text/plain": [
       "Index(['Sector', 'District', 'State', 'north', 'Common-ID',\n",
       "       'Person serial no.', 'Relation to head', 'Gender', 'Age',\n",
       "       'marital status', 'highest level of education',\n",
       "       'usual principal activity: status (code)',\n",
       "       'industry of work: 2-digit of NIC 2008', 'NSC', 'MULT', 'primID'],\n",
       "      dtype='object', name='item')"
      ]
     },
     "execution_count": 9,
     "metadata": {},
     "output_type": "execute_result"
    }
   ],
   "source": [
    "df_chars.columns"
   ]
  },
  {
   "cell_type": "code",
   "execution_count": 10,
   "id": "d57a9f35-d440-4925-8c8e-6bedbcb01e21",
   "metadata": {
    "tags": []
   },
   "outputs": [],
   "source": [
    "df_merged=pd.merge(df_chars, df_time, on='primID', how=\"outer\", indicator=True)"
   ]
  },
  {
   "cell_type": "code",
   "execution_count": 11,
   "id": "dc1b0d52-8045-474b-81e1-31144330fa5c",
   "metadata": {
    "tags": []
   },
   "outputs": [
    {
     "data": {
      "text/plain": [
       "_merge\n",
       "both          1781196\n",
       "left_only       73445\n",
       "right_only          0\n",
       "Name: count, dtype: int64"
      ]
     },
     "execution_count": 11,
     "metadata": {},
     "output_type": "execute_result"
    }
   ],
   "source": [
    "df_merged[\"_merge\"].value_counts()"
   ]
  },
  {
   "cell_type": "code",
   "execution_count": 12,
   "id": "486795d4-935b-4c1c-a193-64f7b731f6cb",
   "metadata": {
    "tags": []
   },
   "outputs": [
    {
     "data": {
      "text/plain": [
       "(71542, 20)"
      ]
     },
     "execution_count": 12,
     "metadata": {},
     "output_type": "execute_result"
    }
   ],
   "source": [
    "# Checking if the 'left_only' are aged less than 6. Turns out, most of them are. \n",
    "df_merged[(df_merged[\"_merge\"] == \"left_only\") & (df_merged['Age'].astype(float) <= 6)].shape"
   ]
  },
  {
   "cell_type": "code",
   "execution_count": 13,
   "id": "97d513ef-0ffc-4a04-90d7-72ef94b671d7",
   "metadata": {
    "tags": []
   },
   "outputs": [
    {
     "data": {
      "text/plain": [
       "(1903, 20)"
      ]
     },
     "execution_count": 13,
     "metadata": {},
     "output_type": "execute_result"
    }
   ],
   "source": [
    "df_merged[(df_merged[\"_merge\"] == \"left_only\") & (df_merged['Age'].astype(float) > 6)].shape"
   ]
  },
  {
   "cell_type": "code",
   "execution_count": 14,
   "id": "1c58fb7b-ef38-4f83-94d9-87073793adff",
   "metadata": {
    "tags": []
   },
   "outputs": [],
   "source": [
    "df_merged = df_merged[df_merged['_merge'] == 'both']\n",
    "df_merged.drop(columns=['_merge'], inplace=True)"
   ]
  },
  {
   "cell_type": "code",
   "execution_count": 15,
   "id": "d57d20d7-daf1-49ff-8a2a-d901195b3516",
   "metadata": {
    "tags": []
   },
   "outputs": [],
   "source": [
    "# Subsetting married people in urban areas \n",
    "df_merged = df_merged[df_merged[\"marital status\"] == \"2\"]\n",
    "df_merged = df_merged[df_merged[\"Sector\"] == \"2\"]"
   ]
  },
  {
   "cell_type": "code",
   "execution_count": 16,
   "id": "ade750af-4cdb-4bf6-9114-d9ee0933b87d",
   "metadata": {
    "tags": []
   },
   "outputs": [
    {
     "data": {
      "text/plain": [
       "(406444, 19)"
      ]
     },
     "execution_count": 16,
     "metadata": {},
     "output_type": "execute_result"
    }
   ],
   "source": [
    "df_merged.shape"
   ]
  },
  {
   "cell_type": "code",
   "execution_count": 17,
   "id": "42990817-1dce-4ce0-94a4-d7aa49eea7e1",
   "metadata": {
    "tags": []
   },
   "outputs": [
    {
     "data": {
      "text/plain": [
       "Relation to head\n",
       "1    172288\n",
       "2    159876\n",
       "3     33424\n",
       "4     31628\n",
       "8      4500\n",
       "7      3916\n",
       "9       476\n",
       "6       336\n",
       "Name: count, dtype: int64"
      ]
     },
     "execution_count": 17,
     "metadata": {},
     "output_type": "execute_result"
    }
   ],
   "source": [
    "df_merged[\"Relation to head\"].value_counts()"
   ]
  },
  {
   "cell_type": "code",
   "execution_count": 18,
   "id": "4eaaca80-9809-4f88-95d7-7f56963d4562",
   "metadata": {
    "tags": []
   },
   "outputs": [],
   "source": [
    "df_merged = df_merged[df_merged['Relation to head'].isin(['1','2','3','4','7','8'])]\n",
    "df_merged.loc[:,'spouse'] = \"husband\"\n",
    "df_merged.loc[df_merged['Gender'] == \"2\", \"spouse\"] = \"wife\""
   ]
  },
  {
   "cell_type": "code",
   "execution_count": 19,
   "id": "80a5ecde-fcd9-47ad-9f4a-58e189afc00c",
   "metadata": {
    "tags": []
   },
   "outputs": [
    {
     "data": {
      "text/plain": [
       "Relation to head  spouse \n",
       "1                 husband    165320\n",
       "                  wife         6968\n",
       "2                 husband      1628\n",
       "                  wife       158248\n",
       "3                 husband     30320\n",
       "                  wife         3104\n",
       "4                 husband      1000\n",
       "                  wife        30628\n",
       "7                 husband      1796\n",
       "                  wife         2120\n",
       "8                 husband      2356\n",
       "                  wife         2144\n",
       "Name: count, dtype: int64"
      ]
     },
     "execution_count": 19,
     "metadata": {},
     "output_type": "execute_result"
    }
   ],
   "source": [
    "df_merged[['Relation to head', 'spouse']].value_counts().sort_index()"
   ]
  },
  {
   "cell_type": "code",
   "execution_count": 20,
   "id": "2d137b1f-76a6-44c8-a74e-c2e36da35a38",
   "metadata": {
    "tags": []
   },
   "outputs": [],
   "source": [
    "df_husb = df_merged[df_merged['spouse'] == 'husband']\n",
    "df_wife = df_merged[df_merged['spouse'] == 'wife']"
   ]
  },
  {
   "cell_type": "code",
   "execution_count": 21,
   "id": "a5e07bd7-fec9-42a8-a4f7-1ac965d38c5f",
   "metadata": {
    "tags": []
   },
   "outputs": [
    {
     "name": "stderr",
     "output_type": "stream",
     "text": [
      "C:\\Users\\shrey\\AppData\\Local\\Temp\\ipykernel_3760\\219374032.py:6: SettingWithCopyWarning: \n",
      "A value is trying to be set on a copy of a slice from a DataFrame.\n",
      "Try using .loc[row_indexer,col_indexer] = value instead\n",
      "\n",
      "See the caveats in the documentation: https://pandas.pydata.org/pandas-docs/stable/user_guide/indexing.html#returning-a-view-versus-a-copy\n",
      "  df_husb.loc[:,\"rel_key\"] = None\n",
      "C:\\Users\\shrey\\AppData\\Local\\Temp\\ipykernel_3760\\219374032.py:7: SettingWithCopyWarning: \n",
      "A value is trying to be set on a copy of a slice from a DataFrame.\n",
      "Try using .loc[row_indexer,col_indexer] = value instead\n",
      "\n",
      "See the caveats in the documentation: https://pandas.pydata.org/pandas-docs/stable/user_guide/indexing.html#returning-a-view-versus-a-copy\n",
      "  df_wife.loc[:,\"rel_key\"] = None\n"
     ]
    }
   ],
   "source": [
    "\n",
    "# # Now, define a mapping -- 1<->2, 3<->4, 7<->7, 8<->8 within each hh has to be mapped.\n",
    "# # The relationship key will be kept the same as b4q4_per_fv for husbands. Relationship key \n",
    "# # for wives will be according to the merge map. \n",
    "\n",
    "\n",
    "df_husb.loc[:,\"rel_key\"] = None\n",
    "df_wife.loc[:,\"rel_key\"] = None\n",
    "df_husb.loc[:,\"rel_key\"] = df_husb.loc[:,\"Relation to head\"]\n",
    "merge_map = {\"1\":\"2\", \"2\":\"1\", \"3\":\"4\", \"4\":\"3\", \"7\":\"7\", \"8\":\"8\"}\n",
    "df_wife.loc[:,\"rel_key\"] = df_wife.loc[:,\"Relation to head\"].apply(lambda x: merge_map[x])\n"
   ]
  },
  {
   "cell_type": "code",
   "execution_count": 22,
   "id": "3daa91be-1049-4a30-b61c-c9e31d822015",
   "metadata": {
    "tags": []
   },
   "outputs": [],
   "source": [
    "# Update column names so that husb. cols have _husb, wives, _wife\n",
    "df_husb.columns = [col+\"_h\" for col in df_husb.columns]\n",
    "df_wife.columns = [col+\"_w\" for col in df_wife.columns]\n"
   ]
  },
  {
   "cell_type": "code",
   "execution_count": 23,
   "id": "bf5b2a70-7623-41ad-bbf1-0b15e141a98b",
   "metadata": {
    "tags": []
   },
   "outputs": [],
   "source": [
    "df_husb_wife = pd.merge(left=df_husb, right=df_wife, left_on=[\"Common-ID_h\", \"rel_key_h\"], right_on=[\"Common-ID_w\", \"rel_key_w\"], how=\"outer\", indicator=True)"
   ]
  },
  {
   "cell_type": "code",
   "execution_count": 24,
   "id": "76fd20f1-f41a-4319-b6b0-ddf7198dc89a",
   "metadata": {
    "tags": []
   },
   "outputs": [
    {
     "data": {
      "text/plain": [
       "_merge\n",
       "both          792736\n",
       "right_only     11380\n",
       "left_only      10888\n",
       "Name: count, dtype: int64"
      ]
     },
     "execution_count": 24,
     "metadata": {},
     "output_type": "execute_result"
    }
   ],
   "source": [
    "df_husb_wife[\"_merge\"].value_counts()"
   ]
  },
  {
   "cell_type": "code",
   "execution_count": 25,
   "id": "59aede49-fd3e-4086-b113-5e18f59f2934",
   "metadata": {
    "tags": []
   },
   "outputs": [],
   "source": [
    "df_husb_wife = df_husb_wife[df_husb_wife[\"_merge\"] == \"both\"]\n",
    "df_husb_wife.drop(columns=['_merge'], inplace=True)"
   ]
  },
  {
   "cell_type": "code",
   "execution_count": 26,
   "id": "18495d6c-b8a5-4304-896b-c906d10eda51",
   "metadata": {
    "tags": []
   },
   "outputs": [],
   "source": [
    "# Now that I have the husband wife dataframe, now I subset women with age in [15,49]\n",
    "df_husb_wife = df_husb_wife[(df_husb_wife['Age_w'].astype(float) <= 49) & (df_husb_wife['Age_w'].astype(float) >= 15)]"
   ]
  },
  {
   "cell_type": "code",
   "execution_count": 27,
   "id": "00e9ee19-9a14-400d-88f4-3aa9d7668bb3",
   "metadata": {
    "tags": []
   },
   "outputs": [
    {
     "data": {
      "text/plain": [
       "Index(['Sector_h', 'District_h', 'State_h', 'north_h', 'Common-ID_h',\n",
       "       'Person serial no._h', 'Relation to head_h', 'Gender_h', 'Age_h',\n",
       "       'marital status_h', 'highest level of education_h',\n",
       "       'usual principal activity: status (code)_h',\n",
       "       'industry of work: 2-digit of NIC 2008_h', 'NSC_h', 'MULT_h',\n",
       "       'primID_h', 'time_spent_h', 'activity_h', 'TotalTime_h', 'spouse_h',\n",
       "       'rel_key_h', 'Sector_w', 'District_w', 'State_w', 'north_w',\n",
       "       'Common-ID_w', 'Person serial no._w', 'Relation to head_w', 'Gender_w',\n",
       "       'Age_w', 'marital status_w', 'highest level of education_w',\n",
       "       'usual principal activity: status (code)_w',\n",
       "       'industry of work: 2-digit of NIC 2008_w', 'NSC_w', 'MULT_w',\n",
       "       'primID_w', 'time_spent_w', 'activity_w', 'TotalTime_w', 'spouse_w',\n",
       "       'rel_key_w'],\n",
       "      dtype='object')"
      ]
     },
     "execution_count": 27,
     "metadata": {},
     "output_type": "execute_result"
    }
   ],
   "source": [
    "df_husb_wife.columns"
   ]
  },
  {
   "cell_type": "code",
   "execution_count": 43,
   "id": "3620ab2f-7764-4515-b347-a69d35dcc7ff",
   "metadata": {
    "tags": []
   },
   "outputs": [
    {
     "data": {
      "text/plain": [
       "highest level of education_h\n",
       "01     52704\n",
       "02     27632\n",
       "03     56384\n",
       "04     93984\n",
       "05    103776\n",
       "06     83856\n",
       "07      8368\n",
       "08      9168\n",
       "10     10560\n",
       "11    114384\n",
       "12     44992\n",
       "Name: count, dtype: int64"
      ]
     },
     "execution_count": 43,
     "metadata": {},
     "output_type": "execute_result"
    }
   ],
   "source": [
    "df_husb_wife[\"highest level of education_h\"].value_counts().sort_index()"
   ]
  },
  {
   "cell_type": "code",
   "execution_count": 44,
   "id": "3989a6e5-0fd4-46c5-a172-fc15918093d6",
   "metadata": {
    "tags": []
   },
   "outputs": [],
   "source": [
    "# Generate college dummy variables\n",
    "df_husb_wife.loc[:,\"col_h\"] = 0\n",
    "df_husb_wife.loc[df_husb_wife[\"highest level of education_h\"].astype(float) >= 12,\"col_h\"] = 1\n",
    "\n",
    "df_husb_wife.loc[:,\"col_w\"] = 0\n",
    "df_husb_wife.loc[df_husb_wife[\"highest level of education_w\"].astype(float) >= 12,\"col_w\"] = 1\n"
   ]
  },
  {
   "cell_type": "markdown",
   "id": "7baf971e-0ca4-4bd1-b85e-86f45114f3ec",
   "metadata": {},
   "source": [
    " Now I calculate moments for: \n",
    " 1. The entire dataset\n",
    " 2. Working men vs Working women\n",
    " 3. Working men and Working women in North v South. \n",
    " \n",
    " BEFORE I DO THAT, I need to note one thing about the men's and women's dataframes: For each woman, I will have 4 rows for all her activities, and 4 rows for her husband's activities. That means each woman is represented in 16 rows. Would it be a problem? I can do a check, where I disentangle the two frames and calculate moments that way too. \\[My guess is that this won't make much of a difference\\]"
   ]
  },
  {
   "cell_type": "code",
   "execution_count": 28,
   "id": "877840b2-0ea5-45ea-8488-f1c1c54ec532",
   "metadata": {
    "tags": []
   },
   "outputs": [
    {
     "data": {
      "text/html": [
       "<div>\n",
       "<style scoped>\n",
       "    .dataframe tbody tr th:only-of-type {\n",
       "        vertical-align: middle;\n",
       "    }\n",
       "\n",
       "    .dataframe tbody tr th {\n",
       "        vertical-align: top;\n",
       "    }\n",
       "\n",
       "    .dataframe thead th {\n",
       "        text-align: right;\n",
       "    }\n",
       "</style>\n",
       "<table border=\"1\" class=\"dataframe\">\n",
       "  <thead>\n",
       "    <tr style=\"text-align: right;\">\n",
       "      <th></th>\n",
       "      <th>prop_day_h</th>\n",
       "    </tr>\n",
       "    <tr>\n",
       "      <th>activity_h</th>\n",
       "      <th></th>\n",
       "    </tr>\n",
       "  </thead>\n",
       "  <tbody>\n",
       "    <tr>\n",
       "      <th>home</th>\n",
       "      <td>0.054616</td>\n",
       "    </tr>\n",
       "    <tr>\n",
       "      <th>leisure</th>\n",
       "      <td>0.335565</td>\n",
       "    </tr>\n",
       "    <tr>\n",
       "      <th>self</th>\n",
       "      <td>NaN</td>\n",
       "    </tr>\n",
       "    <tr>\n",
       "      <th>work</th>\n",
       "      <td>0.609819</td>\n",
       "    </tr>\n",
       "  </tbody>\n",
       "</table>\n",
       "</div>"
      ],
      "text/plain": [
       "            prop_day_h\n",
       "activity_h            \n",
       "home          0.054616\n",
       "leisure       0.335565\n",
       "self               NaN\n",
       "work          0.609819"
      ]
     },
     "execution_count": 28,
     "metadata": {},
     "output_type": "execute_result"
    }
   ],
   "source": [
    "# 1. The entire dataset\n",
    "df_husb_wife[\"prop_day_h\"] = df_husb_wife[\"time_spent_h\"]/df_husb_wife[\"TotalTime_h\"]\n",
    "df_husb_wife[\"prop_day_w\"] = df_husb_wife[\"time_spent_w\"]/df_husb_wife[\"TotalTime_w\"]\n",
    "\n",
    "df_husb_wife[[\"activity_h\", \"prop_day_h\"]].groupby(\"activity_h\").mean()\n"
   ]
  },
  {
   "cell_type": "code",
   "execution_count": 29,
   "id": "5bf79188-6cda-4571-bd68-0cc7064d5efc",
   "metadata": {
    "tags": []
   },
   "outputs": [
    {
     "data": {
      "text/html": [
       "<div>\n",
       "<style scoped>\n",
       "    .dataframe tbody tr th:only-of-type {\n",
       "        vertical-align: middle;\n",
       "    }\n",
       "\n",
       "    .dataframe tbody tr th {\n",
       "        vertical-align: top;\n",
       "    }\n",
       "\n",
       "    .dataframe thead th {\n",
       "        text-align: right;\n",
       "    }\n",
       "</style>\n",
       "<table border=\"1\" class=\"dataframe\">\n",
       "  <thead>\n",
       "    <tr style=\"text-align: right;\">\n",
       "      <th></th>\n",
       "      <th>prop_day_w</th>\n",
       "    </tr>\n",
       "    <tr>\n",
       "      <th>activity_w</th>\n",
       "      <th></th>\n",
       "    </tr>\n",
       "  </thead>\n",
       "  <tbody>\n",
       "    <tr>\n",
       "      <th>home</th>\n",
       "      <td>0.552811</td>\n",
       "    </tr>\n",
       "    <tr>\n",
       "      <th>leisure</th>\n",
       "      <td>0.362055</td>\n",
       "    </tr>\n",
       "    <tr>\n",
       "      <th>self</th>\n",
       "      <td>NaN</td>\n",
       "    </tr>\n",
       "    <tr>\n",
       "      <th>work</th>\n",
       "      <td>0.085134</td>\n",
       "    </tr>\n",
       "  </tbody>\n",
       "</table>\n",
       "</div>"
      ],
      "text/plain": [
       "            prop_day_w\n",
       "activity_w            \n",
       "home          0.552811\n",
       "leisure       0.362055\n",
       "self               NaN\n",
       "work          0.085134"
      ]
     },
     "execution_count": 29,
     "metadata": {},
     "output_type": "execute_result"
    }
   ],
   "source": [
    "df_husb_wife[[\"activity_w\", \"prop_day_w\"]].groupby(\"activity_w\").mean()"
   ]
  },
  {
   "cell_type": "code",
   "execution_count": 30,
   "id": "38158dd0-3977-4f02-bc4b-b8b8515e36de",
   "metadata": {
    "tags": []
   },
   "outputs": [],
   "source": [
    "# 2. Working men vs Working women\n",
    "df_husb_wife.loc[:,\"working_h\"] = 0\n",
    "df_husb_wife.loc[df_husb_wife[\"usual principal activity: status (code)_h\"].isin(EMP_CODES),\"working_h\"] = 1\n",
    "\n",
    "df_husb_wife.loc[:,\"working_w\"] = 0\n",
    "df_husb_wife.loc[df_husb_wife[\"usual principal activity: status (code)_w\"].isin(EMP_CODES),\"working_w\"] = 1\n"
   ]
  },
  {
   "cell_type": "code",
   "execution_count": 31,
   "id": "68bae8a2-e817-4c02-a7f4-8efbe5953883",
   "metadata": {
    "tags": []
   },
   "outputs": [
    {
     "data": {
      "text/html": [
       "<div>\n",
       "<style scoped>\n",
       "    .dataframe tbody tr th:only-of-type {\n",
       "        vertical-align: middle;\n",
       "    }\n",
       "\n",
       "    .dataframe tbody tr th {\n",
       "        vertical-align: top;\n",
       "    }\n",
       "\n",
       "    .dataframe thead th {\n",
       "        text-align: right;\n",
       "    }\n",
       "</style>\n",
       "<table border=\"1\" class=\"dataframe\">\n",
       "  <thead>\n",
       "    <tr style=\"text-align: right;\">\n",
       "      <th></th>\n",
       "      <th></th>\n",
       "      <th>prop_day_h</th>\n",
       "    </tr>\n",
       "    <tr>\n",
       "      <th>working_h</th>\n",
       "      <th>activity_h</th>\n",
       "      <th></th>\n",
       "    </tr>\n",
       "  </thead>\n",
       "  <tbody>\n",
       "    <tr>\n",
       "      <th rowspan=\"4\" valign=\"top\">0</th>\n",
       "      <th>home</th>\n",
       "      <td>0.119806</td>\n",
       "    </tr>\n",
       "    <tr>\n",
       "      <th>leisure</th>\n",
       "      <td>0.795375</td>\n",
       "    </tr>\n",
       "    <tr>\n",
       "      <th>self</th>\n",
       "      <td>NaN</td>\n",
       "    </tr>\n",
       "    <tr>\n",
       "      <th>work</th>\n",
       "      <td>0.084819</td>\n",
       "    </tr>\n",
       "    <tr>\n",
       "      <th rowspan=\"4\" valign=\"top\">1</th>\n",
       "      <th>home</th>\n",
       "      <td>0.052292</td>\n",
       "    </tr>\n",
       "    <tr>\n",
       "      <th>leisure</th>\n",
       "      <td>0.319173</td>\n",
       "    </tr>\n",
       "    <tr>\n",
       "      <th>self</th>\n",
       "      <td>NaN</td>\n",
       "    </tr>\n",
       "    <tr>\n",
       "      <th>work</th>\n",
       "      <td>0.628535</td>\n",
       "    </tr>\n",
       "  </tbody>\n",
       "</table>\n",
       "</div>"
      ],
      "text/plain": [
       "                      prop_day_h\n",
       "working_h activity_h            \n",
       "0         home          0.119806\n",
       "          leisure       0.795375\n",
       "          self               NaN\n",
       "          work          0.084819\n",
       "1         home          0.052292\n",
       "          leisure       0.319173\n",
       "          self               NaN\n",
       "          work          0.628535"
      ]
     },
     "execution_count": 31,
     "metadata": {},
     "output_type": "execute_result"
    }
   ],
   "source": [
    "df_husb_wife[[\"activity_h\", \"prop_day_h\", \"working_h\"]].groupby([\"working_h\", \"activity_h\"]).mean()"
   ]
  },
  {
   "cell_type": "code",
   "execution_count": 32,
   "id": "5351b348-4137-4085-9330-5daf83e844a8",
   "metadata": {
    "tags": []
   },
   "outputs": [
    {
     "data": {
      "text/html": [
       "<div>\n",
       "<style scoped>\n",
       "    .dataframe tbody tr th:only-of-type {\n",
       "        vertical-align: middle;\n",
       "    }\n",
       "\n",
       "    .dataframe tbody tr th {\n",
       "        vertical-align: top;\n",
       "    }\n",
       "\n",
       "    .dataframe thead th {\n",
       "        text-align: right;\n",
       "    }\n",
       "</style>\n",
       "<table border=\"1\" class=\"dataframe\">\n",
       "  <thead>\n",
       "    <tr style=\"text-align: right;\">\n",
       "      <th></th>\n",
       "      <th></th>\n",
       "      <th>time_spent_h</th>\n",
       "    </tr>\n",
       "    <tr>\n",
       "      <th>working_h</th>\n",
       "      <th>activity_h</th>\n",
       "      <th></th>\n",
       "    </tr>\n",
       "  </thead>\n",
       "  <tbody>\n",
       "    <tr>\n",
       "      <th rowspan=\"4\" valign=\"top\">0</th>\n",
       "      <th>home</th>\n",
       "      <td>1.325242</td>\n",
       "    </tr>\n",
       "    <tr>\n",
       "      <th>leisure</th>\n",
       "      <td>8.508410</td>\n",
       "    </tr>\n",
       "    <tr>\n",
       "      <th>self</th>\n",
       "      <td>13.145133</td>\n",
       "    </tr>\n",
       "    <tr>\n",
       "      <th>work</th>\n",
       "      <td>1.021216</td>\n",
       "    </tr>\n",
       "    <tr>\n",
       "      <th rowspan=\"4\" valign=\"top\">1</th>\n",
       "      <th>home</th>\n",
       "      <td>0.641987</td>\n",
       "    </tr>\n",
       "    <tr>\n",
       "      <th>leisure</th>\n",
       "      <td>3.938864</td>\n",
       "    </tr>\n",
       "    <tr>\n",
       "      <th>self</th>\n",
       "      <td>11.380026</td>\n",
       "    </tr>\n",
       "    <tr>\n",
       "      <th>work</th>\n",
       "      <td>8.039124</td>\n",
       "    </tr>\n",
       "  </tbody>\n",
       "</table>\n",
       "</div>"
      ],
      "text/plain": [
       "                      time_spent_h\n",
       "working_h activity_h              \n",
       "0         home            1.325242\n",
       "          leisure         8.508410\n",
       "          self           13.145133\n",
       "          work            1.021216\n",
       "1         home            0.641987\n",
       "          leisure         3.938864\n",
       "          self           11.380026\n",
       "          work            8.039124"
      ]
     },
     "execution_count": 32,
     "metadata": {},
     "output_type": "execute_result"
    }
   ],
   "source": [
    "df_husb_wife[[\"activity_h\", \"time_spent_h\", \"working_h\"]].groupby([\"working_h\", \"activity_h\"]).mean()"
   ]
  },
  {
   "cell_type": "code",
   "execution_count": 50,
   "id": "61f6c681-09cb-465d-bf66-8cf8a57b6fe6",
   "metadata": {
    "tags": []
   },
   "outputs": [
    {
     "data": {
      "text/html": [
       "<div>\n",
       "<style scoped>\n",
       "    .dataframe tbody tr th:only-of-type {\n",
       "        vertical-align: middle;\n",
       "    }\n",
       "\n",
       "    .dataframe tbody tr th {\n",
       "        vertical-align: top;\n",
       "    }\n",
       "\n",
       "    .dataframe thead th {\n",
       "        text-align: right;\n",
       "    }\n",
       "</style>\n",
       "<table border=\"1\" class=\"dataframe\">\n",
       "  <thead>\n",
       "    <tr style=\"text-align: right;\">\n",
       "      <th></th>\n",
       "      <th></th>\n",
       "      <th>time_spent_h</th>\n",
       "    </tr>\n",
       "    <tr>\n",
       "      <th>col_h</th>\n",
       "      <th>activity_h</th>\n",
       "      <th></th>\n",
       "    </tr>\n",
       "  </thead>\n",
       "  <tbody>\n",
       "    <tr>\n",
       "      <th rowspan=\"4\" valign=\"top\">0</th>\n",
       "      <th>home</th>\n",
       "      <td>0.654423</td>\n",
       "    </tr>\n",
       "    <tr>\n",
       "      <th>leisure</th>\n",
       "      <td>4.046977</td>\n",
       "    </tr>\n",
       "    <tr>\n",
       "      <th>self</th>\n",
       "      <td>11.453893</td>\n",
       "    </tr>\n",
       "    <tr>\n",
       "      <th>work</th>\n",
       "      <td>7.844707</td>\n",
       "    </tr>\n",
       "    <tr>\n",
       "      <th rowspan=\"4\" valign=\"top\">1</th>\n",
       "      <th>home</th>\n",
       "      <td>0.804795</td>\n",
       "    </tr>\n",
       "    <tr>\n",
       "      <th>leisure</th>\n",
       "      <td>4.716779</td>\n",
       "    </tr>\n",
       "    <tr>\n",
       "      <th>self</th>\n",
       "      <td>11.280317</td>\n",
       "    </tr>\n",
       "    <tr>\n",
       "      <th>work</th>\n",
       "      <td>7.198109</td>\n",
       "    </tr>\n",
       "  </tbody>\n",
       "</table>\n",
       "</div>"
      ],
      "text/plain": [
       "                  time_spent_h\n",
       "col_h activity_h              \n",
       "0     home            0.654423\n",
       "      leisure         4.046977\n",
       "      self           11.453893\n",
       "      work            7.844707\n",
       "1     home            0.804795\n",
       "      leisure         4.716779\n",
       "      self           11.280317\n",
       "      work            7.198109"
      ]
     },
     "execution_count": 50,
     "metadata": {},
     "output_type": "execute_result"
    }
   ],
   "source": [
    "df_husb_wife[[\"activity_h\", \"time_spent_h\", \"col_h\"]].groupby([\"col_h\", \"activity_h\"]).mean()"
   ]
  },
  {
   "cell_type": "code",
   "execution_count": 33,
   "id": "d3a4b1e9-325d-4e9f-945d-456bc10d5b11",
   "metadata": {
    "tags": []
   },
   "outputs": [
    {
     "data": {
      "text/html": [
       "<div>\n",
       "<style scoped>\n",
       "    .dataframe tbody tr th:only-of-type {\n",
       "        vertical-align: middle;\n",
       "    }\n",
       "\n",
       "    .dataframe tbody tr th {\n",
       "        vertical-align: top;\n",
       "    }\n",
       "\n",
       "    .dataframe thead th {\n",
       "        text-align: right;\n",
       "    }\n",
       "</style>\n",
       "<table border=\"1\" class=\"dataframe\">\n",
       "  <thead>\n",
       "    <tr style=\"text-align: right;\">\n",
       "      <th></th>\n",
       "      <th></th>\n",
       "      <th>prop_day_w</th>\n",
       "    </tr>\n",
       "    <tr>\n",
       "      <th>working_w</th>\n",
       "      <th>activity_w</th>\n",
       "      <th></th>\n",
       "    </tr>\n",
       "  </thead>\n",
       "  <tbody>\n",
       "    <tr>\n",
       "      <th rowspan=\"4\" valign=\"top\">0</th>\n",
       "      <th>home</th>\n",
       "      <td>0.595931</td>\n",
       "    </tr>\n",
       "    <tr>\n",
       "      <th>leisure</th>\n",
       "      <td>0.385719</td>\n",
       "    </tr>\n",
       "    <tr>\n",
       "      <th>self</th>\n",
       "      <td>NaN</td>\n",
       "    </tr>\n",
       "    <tr>\n",
       "      <th>work</th>\n",
       "      <td>0.018350</td>\n",
       "    </tr>\n",
       "    <tr>\n",
       "      <th rowspan=\"4\" valign=\"top\">1</th>\n",
       "      <th>home</th>\n",
       "      <td>0.349531</td>\n",
       "    </tr>\n",
       "    <tr>\n",
       "      <th>leisure</th>\n",
       "      <td>0.250497</td>\n",
       "    </tr>\n",
       "    <tr>\n",
       "      <th>self</th>\n",
       "      <td>NaN</td>\n",
       "    </tr>\n",
       "    <tr>\n",
       "      <th>work</th>\n",
       "      <td>0.399972</td>\n",
       "    </tr>\n",
       "  </tbody>\n",
       "</table>\n",
       "</div>"
      ],
      "text/plain": [
       "                      prop_day_w\n",
       "working_w activity_w            \n",
       "0         home          0.595931\n",
       "          leisure       0.385719\n",
       "          self               NaN\n",
       "          work          0.018350\n",
       "1         home          0.349531\n",
       "          leisure       0.250497\n",
       "          self               NaN\n",
       "          work          0.399972"
      ]
     },
     "execution_count": 33,
     "metadata": {},
     "output_type": "execute_result"
    }
   ],
   "source": [
    "df_husb_wife[[\"activity_w\", \"prop_day_w\", \"working_w\"]].groupby([\"working_w\", \"activity_w\"]).mean()"
   ]
  },
  {
   "cell_type": "code",
   "execution_count": 34,
   "id": "bee1d1be-fd07-4f58-a104-1b8a9b6968df",
   "metadata": {
    "tags": []
   },
   "outputs": [
    {
     "data": {
      "text/html": [
       "<div>\n",
       "<style scoped>\n",
       "    .dataframe tbody tr th:only-of-type {\n",
       "        vertical-align: middle;\n",
       "    }\n",
       "\n",
       "    .dataframe tbody tr th {\n",
       "        vertical-align: top;\n",
       "    }\n",
       "\n",
       "    .dataframe thead th {\n",
       "        text-align: right;\n",
       "    }\n",
       "</style>\n",
       "<table border=\"1\" class=\"dataframe\">\n",
       "  <thead>\n",
       "    <tr style=\"text-align: right;\">\n",
       "      <th></th>\n",
       "      <th></th>\n",
       "      <th>time_spent_w</th>\n",
       "    </tr>\n",
       "    <tr>\n",
       "      <th>working_w</th>\n",
       "      <th>activity_w</th>\n",
       "      <th></th>\n",
       "    </tr>\n",
       "  </thead>\n",
       "  <tbody>\n",
       "    <tr>\n",
       "      <th rowspan=\"4\" valign=\"top\">0</th>\n",
       "      <th>home</th>\n",
       "      <td>7.330628</td>\n",
       "    </tr>\n",
       "    <tr>\n",
       "      <th>leisure</th>\n",
       "      <td>4.777924</td>\n",
       "    </tr>\n",
       "    <tr>\n",
       "      <th>self</th>\n",
       "      <td>11.656540</td>\n",
       "    </tr>\n",
       "    <tr>\n",
       "      <th>work</th>\n",
       "      <td>0.234908</td>\n",
       "    </tr>\n",
       "    <tr>\n",
       "      <th rowspan=\"4\" valign=\"top\">1</th>\n",
       "      <th>home</th>\n",
       "      <td>4.634118</td>\n",
       "    </tr>\n",
       "    <tr>\n",
       "      <th>leisure</th>\n",
       "      <td>3.302231</td>\n",
       "    </tr>\n",
       "    <tr>\n",
       "      <th>self</th>\n",
       "      <td>10.638017</td>\n",
       "    </tr>\n",
       "    <tr>\n",
       "      <th>work</th>\n",
       "      <td>5.425634</td>\n",
       "    </tr>\n",
       "  </tbody>\n",
       "</table>\n",
       "</div>"
      ],
      "text/plain": [
       "                      time_spent_w\n",
       "working_w activity_w              \n",
       "0         home            7.330628\n",
       "          leisure         4.777924\n",
       "          self           11.656540\n",
       "          work            0.234908\n",
       "1         home            4.634118\n",
       "          leisure         3.302231\n",
       "          self           10.638017\n",
       "          work            5.425634"
      ]
     },
     "execution_count": 34,
     "metadata": {},
     "output_type": "execute_result"
    }
   ],
   "source": [
    "df_husb_wife[[\"activity_w\", \"time_spent_w\", \"working_w\"]].groupby([\"working_w\", \"activity_w\"]).mean()\n"
   ]
  },
  {
   "cell_type": "code",
   "execution_count": 52,
   "id": "033c90da-00c6-4439-b8af-45a839455d20",
   "metadata": {
    "tags": []
   },
   "outputs": [
    {
     "data": {
      "text/html": [
       "<div>\n",
       "<style scoped>\n",
       "    .dataframe tbody tr th:only-of-type {\n",
       "        vertical-align: middle;\n",
       "    }\n",
       "\n",
       "    .dataframe tbody tr th {\n",
       "        vertical-align: top;\n",
       "    }\n",
       "\n",
       "    .dataframe thead th {\n",
       "        text-align: right;\n",
       "    }\n",
       "</style>\n",
       "<table border=\"1\" class=\"dataframe\">\n",
       "  <thead>\n",
       "    <tr style=\"text-align: right;\">\n",
       "      <th></th>\n",
       "      <th></th>\n",
       "      <th>time_spent_w</th>\n",
       "    </tr>\n",
       "    <tr>\n",
       "      <th>col_w</th>\n",
       "      <th>activity_w</th>\n",
       "      <th></th>\n",
       "    </tr>\n",
       "  </thead>\n",
       "  <tbody>\n",
       "    <tr>\n",
       "      <th rowspan=\"4\" valign=\"top\">0</th>\n",
       "      <th>home</th>\n",
       "      <td>4.698559</td>\n",
       "    </tr>\n",
       "    <tr>\n",
       "      <th>leisure</th>\n",
       "      <td>3.250043</td>\n",
       "    </tr>\n",
       "    <tr>\n",
       "      <th>self</th>\n",
       "      <td>10.640694</td>\n",
       "    </tr>\n",
       "    <tr>\n",
       "      <th>work</th>\n",
       "      <td>5.410703</td>\n",
       "    </tr>\n",
       "    <tr>\n",
       "      <th rowspan=\"4\" valign=\"top\">1</th>\n",
       "      <th>home</th>\n",
       "      <td>4.190844</td>\n",
       "    </tr>\n",
       "    <tr>\n",
       "      <th>leisure</th>\n",
       "      <td>3.661217</td>\n",
       "    </tr>\n",
       "    <tr>\n",
       "      <th>self</th>\n",
       "      <td>10.619600</td>\n",
       "    </tr>\n",
       "    <tr>\n",
       "      <th>work</th>\n",
       "      <td>5.528339</td>\n",
       "    </tr>\n",
       "  </tbody>\n",
       "</table>\n",
       "</div>"
      ],
      "text/plain": [
       "                  time_spent_w\n",
       "col_w activity_w              \n",
       "0     home            4.698559\n",
       "      leisure         3.250043\n",
       "      self           10.640694\n",
       "      work            5.410703\n",
       "1     home            4.190844\n",
       "      leisure         3.661217\n",
       "      self           10.619600\n",
       "      work            5.528339"
      ]
     },
     "execution_count": 52,
     "metadata": {},
     "output_type": "execute_result"
    }
   ],
   "source": [
    "# College vs Non-college\n",
    "df_husb_wife[df_husb_wife[\"working_w\"] == 1][[\"activity_w\", \"time_spent_w\", \"col_w\"]].groupby([\"col_w\", \"activity_w\"]).mean()\n"
   ]
  },
  {
   "cell_type": "code",
   "execution_count": 53,
   "id": "45b19afb-43e3-4d79-8e1a-114646b40a6a",
   "metadata": {
    "tags": []
   },
   "outputs": [
    {
     "data": {
      "text/html": [
       "<div>\n",
       "<style scoped>\n",
       "    .dataframe tbody tr th:only-of-type {\n",
       "        vertical-align: middle;\n",
       "    }\n",
       "\n",
       "    .dataframe tbody tr th {\n",
       "        vertical-align: top;\n",
       "    }\n",
       "\n",
       "    .dataframe thead th {\n",
       "        text-align: right;\n",
       "    }\n",
       "</style>\n",
       "<table border=\"1\" class=\"dataframe\">\n",
       "  <thead>\n",
       "    <tr style=\"text-align: right;\">\n",
       "      <th></th>\n",
       "      <th></th>\n",
       "      <th>time_spent_w</th>\n",
       "    </tr>\n",
       "    <tr>\n",
       "      <th>col_w</th>\n",
       "      <th>activity_w</th>\n",
       "      <th></th>\n",
       "    </tr>\n",
       "  </thead>\n",
       "  <tbody>\n",
       "    <tr>\n",
       "      <th rowspan=\"4\" valign=\"top\">0</th>\n",
       "      <th>home</th>\n",
       "      <td>7.342210</td>\n",
       "    </tr>\n",
       "    <tr>\n",
       "      <th>leisure</th>\n",
       "      <td>4.760518</td>\n",
       "    </tr>\n",
       "    <tr>\n",
       "      <th>self</th>\n",
       "      <td>11.656973</td>\n",
       "    </tr>\n",
       "    <tr>\n",
       "      <th>work</th>\n",
       "      <td>0.240298</td>\n",
       "    </tr>\n",
       "    <tr>\n",
       "      <th rowspan=\"4\" valign=\"top\">1</th>\n",
       "      <th>home</th>\n",
       "      <td>7.106367</td>\n",
       "    </tr>\n",
       "    <tr>\n",
       "      <th>leisure</th>\n",
       "      <td>5.114950</td>\n",
       "    </tr>\n",
       "    <tr>\n",
       "      <th>self</th>\n",
       "      <td>11.648142</td>\n",
       "    </tr>\n",
       "    <tr>\n",
       "      <th>work</th>\n",
       "      <td>0.130541</td>\n",
       "    </tr>\n",
       "  </tbody>\n",
       "</table>\n",
       "</div>"
      ],
      "text/plain": [
       "                  time_spent_w\n",
       "col_w activity_w              \n",
       "0     home            7.342210\n",
       "      leisure         4.760518\n",
       "      self           11.656973\n",
       "      work            0.240298\n",
       "1     home            7.106367\n",
       "      leisure         5.114950\n",
       "      self           11.648142\n",
       "      work            0.130541"
      ]
     },
     "execution_count": 53,
     "metadata": {},
     "output_type": "execute_result"
    }
   ],
   "source": [
    "df_husb_wife[df_husb_wife[\"working_w\"] == 0][[\"activity_w\", \"time_spent_w\", \"col_w\"]].groupby([\"col_w\", \"activity_w\"]).mean()\n"
   ]
  },
  {
   "cell_type": "code",
   "execution_count": null,
   "id": "b795d8f8-39c4-4165-8f97-cb01243095d2",
   "metadata": {},
   "outputs": [],
   "source": []
  },
  {
   "cell_type": "code",
   "execution_count": 35,
   "id": "c4b7dc48-a808-47ed-9e0d-6a5c3a5767e2",
   "metadata": {
    "tags": []
   },
   "outputs": [
    {
     "data": {
      "text/html": [
       "<div>\n",
       "<style scoped>\n",
       "    .dataframe tbody tr th:only-of-type {\n",
       "        vertical-align: middle;\n",
       "    }\n",
       "\n",
       "    .dataframe tbody tr th {\n",
       "        vertical-align: top;\n",
       "    }\n",
       "\n",
       "    .dataframe thead th {\n",
       "        text-align: right;\n",
       "    }\n",
       "</style>\n",
       "<table border=\"1\" class=\"dataframe\">\n",
       "  <thead>\n",
       "    <tr style=\"text-align: right;\">\n",
       "      <th></th>\n",
       "      <th></th>\n",
       "      <th>prop_day_h</th>\n",
       "    </tr>\n",
       "    <tr>\n",
       "      <th>north_h</th>\n",
       "      <th>activity_h</th>\n",
       "      <th></th>\n",
       "    </tr>\n",
       "  </thead>\n",
       "  <tbody>\n",
       "    <tr>\n",
       "      <th rowspan=\"4\" valign=\"top\">0</th>\n",
       "      <th>home</th>\n",
       "      <td>0.047162</td>\n",
       "    </tr>\n",
       "    <tr>\n",
       "      <th>leisure</th>\n",
       "      <td>0.322195</td>\n",
       "    </tr>\n",
       "    <tr>\n",
       "      <th>self</th>\n",
       "      <td>0.922551</td>\n",
       "    </tr>\n",
       "    <tr>\n",
       "      <th>work</th>\n",
       "      <td>0.630643</td>\n",
       "    </tr>\n",
       "    <tr>\n",
       "      <th rowspan=\"4\" valign=\"top\">1</th>\n",
       "      <th>home</th>\n",
       "      <td>0.039105</td>\n",
       "    </tr>\n",
       "    <tr>\n",
       "      <th>leisure</th>\n",
       "      <td>0.326082</td>\n",
       "    </tr>\n",
       "    <tr>\n",
       "      <th>self</th>\n",
       "      <td>0.946878</td>\n",
       "    </tr>\n",
       "    <tr>\n",
       "      <th>work</th>\n",
       "      <td>0.634813</td>\n",
       "    </tr>\n",
       "  </tbody>\n",
       "</table>\n",
       "</div>"
      ],
      "text/plain": [
       "                    prop_day_h\n",
       "north_h activity_h            \n",
       "0       home          0.047162\n",
       "        leisure       0.322195\n",
       "        self          0.922551\n",
       "        work          0.630643\n",
       "1       home          0.039105\n",
       "        leisure       0.326082\n",
       "        self          0.946878\n",
       "        work          0.634813"
      ]
     },
     "execution_count": 35,
     "metadata": {},
     "output_type": "execute_result"
    }
   ],
   "source": [
    "#3.  North v South: Working men v Working women\n",
    "\n",
    "df_husb_wife[df_husb_wife[\"working_h\"] == 1][[\"activity_h\", \"prop_day_h\", \"north_h\"]].groupby(['north_h', 'activity_h']).mean()"
   ]
  },
  {
   "cell_type": "code",
   "execution_count": 37,
   "id": "1658bc66-322d-45c5-8fc7-e4a30b098e55",
   "metadata": {
    "tags": []
   },
   "outputs": [
    {
     "data": {
      "text/html": [
       "<div>\n",
       "<style scoped>\n",
       "    .dataframe tbody tr th:only-of-type {\n",
       "        vertical-align: middle;\n",
       "    }\n",
       "\n",
       "    .dataframe tbody tr th {\n",
       "        vertical-align: top;\n",
       "    }\n",
       "\n",
       "    .dataframe thead th {\n",
       "        text-align: right;\n",
       "    }\n",
       "</style>\n",
       "<table border=\"1\" class=\"dataframe\">\n",
       "  <thead>\n",
       "    <tr style=\"text-align: right;\">\n",
       "      <th></th>\n",
       "      <th></th>\n",
       "      <th>time_spent_h</th>\n",
       "    </tr>\n",
       "    <tr>\n",
       "      <th>north_h</th>\n",
       "      <th>activity_h</th>\n",
       "      <th></th>\n",
       "    </tr>\n",
       "  </thead>\n",
       "  <tbody>\n",
       "    <tr>\n",
       "      <th rowspan=\"4\" valign=\"top\">0</th>\n",
       "      <th>home</th>\n",
       "      <td>0.581275</td>\n",
       "    </tr>\n",
       "    <tr>\n",
       "      <th>leisure</th>\n",
       "      <td>4.008945</td>\n",
       "    </tr>\n",
       "    <tr>\n",
       "      <th>self</th>\n",
       "      <td>11.215828</td>\n",
       "    </tr>\n",
       "    <tr>\n",
       "      <th>work</th>\n",
       "      <td>8.193953</td>\n",
       "    </tr>\n",
       "    <tr>\n",
       "      <th rowspan=\"4\" valign=\"top\">1</th>\n",
       "      <th>home</th>\n",
       "      <td>0.476465</td>\n",
       "    </tr>\n",
       "    <tr>\n",
       "      <th>leisure</th>\n",
       "      <td>4.039651</td>\n",
       "    </tr>\n",
       "    <tr>\n",
       "      <th>self</th>\n",
       "      <td>11.381377</td>\n",
       "    </tr>\n",
       "    <tr>\n",
       "      <th>work</th>\n",
       "      <td>8.102506</td>\n",
       "    </tr>\n",
       "  </tbody>\n",
       "</table>\n",
       "</div>"
      ],
      "text/plain": [
       "                    time_spent_h\n",
       "north_h activity_h              \n",
       "0       home            0.581275\n",
       "        leisure         4.008945\n",
       "        self           11.215828\n",
       "        work            8.193953\n",
       "1       home            0.476465\n",
       "        leisure         4.039651\n",
       "        self           11.381377\n",
       "        work            8.102506"
      ]
     },
     "execution_count": 37,
     "metadata": {},
     "output_type": "execute_result"
    }
   ],
   "source": [
    "df_husb_wife[df_husb_wife[\"working_h\"] == 1][[\"activity_h\", \"time_spent_h\", \"north_h\"]].groupby(['north_h', 'activity_h']).mean()"
   ]
  },
  {
   "cell_type": "code",
   "execution_count": 39,
   "id": "e4f19c37-6353-4fb1-9329-f38f5f0d412b",
   "metadata": {
    "tags": []
   },
   "outputs": [
    {
     "data": {
      "text/html": [
       "<div>\n",
       "<style scoped>\n",
       "    .dataframe tbody tr th:only-of-type {\n",
       "        vertical-align: middle;\n",
       "    }\n",
       "\n",
       "    .dataframe tbody tr th {\n",
       "        vertical-align: top;\n",
       "    }\n",
       "\n",
       "    .dataframe thead th {\n",
       "        text-align: right;\n",
       "    }\n",
       "</style>\n",
       "<table border=\"1\" class=\"dataframe\">\n",
       "  <thead>\n",
       "    <tr style=\"text-align: right;\">\n",
       "      <th></th>\n",
       "      <th></th>\n",
       "      <th>time_spent_h</th>\n",
       "    </tr>\n",
       "    <tr>\n",
       "      <th>north_h</th>\n",
       "      <th>activity_h</th>\n",
       "      <th></th>\n",
       "    </tr>\n",
       "  </thead>\n",
       "  <tbody>\n",
       "    <tr>\n",
       "      <th rowspan=\"4\" valign=\"top\">0</th>\n",
       "      <th>home</th>\n",
       "      <td>1.293249</td>\n",
       "    </tr>\n",
       "    <tr>\n",
       "      <th>leisure</th>\n",
       "      <td>8.781435</td>\n",
       "    </tr>\n",
       "    <tr>\n",
       "      <th>self</th>\n",
       "      <td>13.134177</td>\n",
       "    </tr>\n",
       "    <tr>\n",
       "      <th>work</th>\n",
       "      <td>0.791139</td>\n",
       "    </tr>\n",
       "    <tr>\n",
       "      <th rowspan=\"4\" valign=\"top\">1</th>\n",
       "      <th>home</th>\n",
       "      <td>0.888070</td>\n",
       "    </tr>\n",
       "    <tr>\n",
       "      <th>leisure</th>\n",
       "      <td>8.913860</td>\n",
       "    </tr>\n",
       "    <tr>\n",
       "      <th>self</th>\n",
       "      <td>13.077895</td>\n",
       "    </tr>\n",
       "    <tr>\n",
       "      <th>work</th>\n",
       "      <td>1.120175</td>\n",
       "    </tr>\n",
       "  </tbody>\n",
       "</table>\n",
       "</div>"
      ],
      "text/plain": [
       "                    time_spent_h\n",
       "north_h activity_h              \n",
       "0       home            1.293249\n",
       "        leisure         8.781435\n",
       "        self           13.134177\n",
       "        work            0.791139\n",
       "1       home            0.888070\n",
       "        leisure         8.913860\n",
       "        self           13.077895\n",
       "        work            1.120175"
      ]
     },
     "execution_count": 39,
     "metadata": {},
     "output_type": "execute_result"
    }
   ],
   "source": [
    "df_husb_wife[df_husb_wife[\"working_h\"] == 0][[\"activity_h\", \"time_spent_h\", \"north_h\"]].groupby(['north_h', 'activity_h']).mean()"
   ]
  },
  {
   "cell_type": "code",
   "execution_count": 42,
   "id": "7d20293a-dd33-4c50-a5ce-47c9deb375df",
   "metadata": {
    "tags": []
   },
   "outputs": [
    {
     "data": {
      "text/html": [
       "<div>\n",
       "<style scoped>\n",
       "    .dataframe tbody tr th:only-of-type {\n",
       "        vertical-align: middle;\n",
       "    }\n",
       "\n",
       "    .dataframe tbody tr th {\n",
       "        vertical-align: top;\n",
       "    }\n",
       "\n",
       "    .dataframe thead th {\n",
       "        text-align: right;\n",
       "    }\n",
       "</style>\n",
       "<table border=\"1\" class=\"dataframe\">\n",
       "  <thead>\n",
       "    <tr style=\"text-align: right;\">\n",
       "      <th></th>\n",
       "      <th></th>\n",
       "      <th>prop_day_h</th>\n",
       "    </tr>\n",
       "    <tr>\n",
       "      <th>north_h</th>\n",
       "      <th>activity_h</th>\n",
       "      <th></th>\n",
       "    </tr>\n",
       "  </thead>\n",
       "  <tbody>\n",
       "    <tr>\n",
       "      <th rowspan=\"4\" valign=\"top\">0</th>\n",
       "      <th>home</th>\n",
       "      <td>0.091897</td>\n",
       "    </tr>\n",
       "    <tr>\n",
       "      <th>leisure</th>\n",
       "      <td>0.216728</td>\n",
       "    </tr>\n",
       "    <tr>\n",
       "      <th>self</th>\n",
       "      <td>0.386315</td>\n",
       "    </tr>\n",
       "    <tr>\n",
       "      <th>work</th>\n",
       "      <td>0.246749</td>\n",
       "    </tr>\n",
       "    <tr>\n",
       "      <th rowspan=\"4\" valign=\"top\">1</th>\n",
       "      <th>home</th>\n",
       "      <td>0.086273</td>\n",
       "    </tr>\n",
       "    <tr>\n",
       "      <th>leisure</th>\n",
       "      <td>0.216269</td>\n",
       "    </tr>\n",
       "    <tr>\n",
       "      <th>self</th>\n",
       "      <td>0.507704</td>\n",
       "    </tr>\n",
       "    <tr>\n",
       "      <th>work</th>\n",
       "      <td>0.240865</td>\n",
       "    </tr>\n",
       "  </tbody>\n",
       "</table>\n",
       "</div>"
      ],
      "text/plain": [
       "                    prop_day_h\n",
       "north_h activity_h            \n",
       "0       home          0.091897\n",
       "        leisure       0.216728\n",
       "        self          0.386315\n",
       "        work          0.246749\n",
       "1       home          0.086273\n",
       "        leisure       0.216269\n",
       "        self          0.507704\n",
       "        work          0.240865"
      ]
     },
     "execution_count": 42,
     "metadata": {},
     "output_type": "execute_result"
    }
   ],
   "source": [
    "df_husb_wife[df_husb_wife[\"working_h\"] == 1][[\"activity_h\", \"prop_day_h\", \"north_h\"]].groupby(['north_h', 'activity_h']).std()"
   ]
  },
  {
   "cell_type": "code",
   "execution_count": 38,
   "id": "a33d130c-81fe-4209-8fc3-067027a89177",
   "metadata": {
    "tags": []
   },
   "outputs": [
    {
     "data": {
      "text/html": [
       "<div>\n",
       "<style scoped>\n",
       "    .dataframe tbody tr th:only-of-type {\n",
       "        vertical-align: middle;\n",
       "    }\n",
       "\n",
       "    .dataframe tbody tr th {\n",
       "        vertical-align: top;\n",
       "    }\n",
       "\n",
       "    .dataframe thead th {\n",
       "        text-align: right;\n",
       "    }\n",
       "</style>\n",
       "<table border=\"1\" class=\"dataframe\">\n",
       "  <thead>\n",
       "    <tr style=\"text-align: right;\">\n",
       "      <th></th>\n",
       "      <th></th>\n",
       "      <th>prop_day_w</th>\n",
       "    </tr>\n",
       "    <tr>\n",
       "      <th>north_w</th>\n",
       "      <th>activity_w</th>\n",
       "      <th></th>\n",
       "    </tr>\n",
       "  </thead>\n",
       "  <tbody>\n",
       "    <tr>\n",
       "      <th rowspan=\"4\" valign=\"top\">0</th>\n",
       "      <th>home</th>\n",
       "      <td>0.329049</td>\n",
       "    </tr>\n",
       "    <tr>\n",
       "      <th>leisure</th>\n",
       "      <td>0.250778</td>\n",
       "    </tr>\n",
       "    <tr>\n",
       "      <th>self</th>\n",
       "      <td>0.809591</td>\n",
       "    </tr>\n",
       "    <tr>\n",
       "      <th>work</th>\n",
       "      <td>0.420172</td>\n",
       "    </tr>\n",
       "    <tr>\n",
       "      <th rowspan=\"4\" valign=\"top\">1</th>\n",
       "      <th>home</th>\n",
       "      <td>0.355575</td>\n",
       "    </tr>\n",
       "    <tr>\n",
       "      <th>leisure</th>\n",
       "      <td>0.261242</td>\n",
       "    </tr>\n",
       "    <tr>\n",
       "      <th>self</th>\n",
       "      <td>0.840451</td>\n",
       "    </tr>\n",
       "    <tr>\n",
       "      <th>work</th>\n",
       "      <td>0.383183</td>\n",
       "    </tr>\n",
       "  </tbody>\n",
       "</table>\n",
       "</div>"
      ],
      "text/plain": [
       "                    prop_day_w\n",
       "north_w activity_w            \n",
       "0       home          0.329049\n",
       "        leisure       0.250778\n",
       "        self          0.809591\n",
       "        work          0.420172\n",
       "1       home          0.355575\n",
       "        leisure       0.261242\n",
       "        self          0.840451\n",
       "        work          0.383183"
      ]
     },
     "execution_count": 38,
     "metadata": {},
     "output_type": "execute_result"
    }
   ],
   "source": [
    "df_husb_wife[df_husb_wife[\"working_w\"] == 1][[\"activity_w\", \"prop_day_w\", \"north_w\"]].groupby(['north_w', 'activity_w']).mean()"
   ]
  },
  {
   "cell_type": "code",
   "execution_count": 40,
   "id": "4a8d3220-5830-4591-b8fb-08c8657f6901",
   "metadata": {
    "tags": []
   },
   "outputs": [
    {
     "data": {
      "text/html": [
       "<div>\n",
       "<style scoped>\n",
       "    .dataframe tbody tr th:only-of-type {\n",
       "        vertical-align: middle;\n",
       "    }\n",
       "\n",
       "    .dataframe tbody tr th {\n",
       "        vertical-align: top;\n",
       "    }\n",
       "\n",
       "    .dataframe thead th {\n",
       "        text-align: right;\n",
       "    }\n",
       "</style>\n",
       "<table border=\"1\" class=\"dataframe\">\n",
       "  <thead>\n",
       "    <tr style=\"text-align: right;\">\n",
       "      <th></th>\n",
       "      <th></th>\n",
       "      <th>time_spent_w</th>\n",
       "    </tr>\n",
       "    <tr>\n",
       "      <th>north_w</th>\n",
       "      <th>activity_w</th>\n",
       "      <th></th>\n",
       "    </tr>\n",
       "  </thead>\n",
       "  <tbody>\n",
       "    <tr>\n",
       "      <th rowspan=\"4\" valign=\"top\">0</th>\n",
       "      <th>home</th>\n",
       "      <td>4.398236</td>\n",
       "    </tr>\n",
       "    <tr>\n",
       "      <th>leisure</th>\n",
       "      <td>3.333361</td>\n",
       "    </tr>\n",
       "    <tr>\n",
       "      <th>self</th>\n",
       "      <td>10.517897</td>\n",
       "    </tr>\n",
       "    <tr>\n",
       "      <th>work</th>\n",
       "      <td>5.750506</td>\n",
       "    </tr>\n",
       "    <tr>\n",
       "      <th rowspan=\"4\" valign=\"top\">1</th>\n",
       "      <th>home</th>\n",
       "      <td>4.702661</td>\n",
       "    </tr>\n",
       "    <tr>\n",
       "      <th>leisure</th>\n",
       "      <td>3.421862</td>\n",
       "    </tr>\n",
       "    <tr>\n",
       "      <th>self</th>\n",
       "      <td>10.702237</td>\n",
       "    </tr>\n",
       "    <tr>\n",
       "      <th>work</th>\n",
       "      <td>5.173240</td>\n",
       "    </tr>\n",
       "  </tbody>\n",
       "</table>\n",
       "</div>"
      ],
      "text/plain": [
       "                    time_spent_w\n",
       "north_w activity_w              \n",
       "0       home            4.398236\n",
       "        leisure         3.333361\n",
       "        self           10.517897\n",
       "        work            5.750506\n",
       "1       home            4.702661\n",
       "        leisure         3.421862\n",
       "        self           10.702237\n",
       "        work            5.173240"
      ]
     },
     "execution_count": 40,
     "metadata": {},
     "output_type": "execute_result"
    }
   ],
   "source": [
    "df_husb_wife[df_husb_wife[\"working_w\"] == 1][[\"activity_w\", \"time_spent_w\", \"north_w\"]].groupby(['north_w', 'activity_w']).mean()"
   ]
  },
  {
   "cell_type": "code",
   "execution_count": 44,
   "id": "427c12bd-8c87-4e1f-a32f-81aaa0740511",
   "metadata": {
    "tags": []
   },
   "outputs": [
    {
     "data": {
      "text/html": [
       "<div>\n",
       "<style scoped>\n",
       "    .dataframe tbody tr th:only-of-type {\n",
       "        vertical-align: middle;\n",
       "    }\n",
       "\n",
       "    .dataframe tbody tr th {\n",
       "        vertical-align: top;\n",
       "    }\n",
       "\n",
       "    .dataframe thead th {\n",
       "        text-align: right;\n",
       "    }\n",
       "</style>\n",
       "<table border=\"1\" class=\"dataframe\">\n",
       "  <thead>\n",
       "    <tr style=\"text-align: right;\">\n",
       "      <th></th>\n",
       "      <th></th>\n",
       "      <th>prop_day_w</th>\n",
       "    </tr>\n",
       "    <tr>\n",
       "      <th>north_w</th>\n",
       "      <th>activity_w</th>\n",
       "      <th></th>\n",
       "    </tr>\n",
       "  </thead>\n",
       "  <tbody>\n",
       "    <tr>\n",
       "      <th rowspan=\"4\" valign=\"top\">0</th>\n",
       "      <th>home</th>\n",
       "      <td>0.583286</td>\n",
       "    </tr>\n",
       "    <tr>\n",
       "      <th>leisure</th>\n",
       "      <td>0.400915</td>\n",
       "    </tr>\n",
       "    <tr>\n",
       "      <th>self</th>\n",
       "      <td>NaN</td>\n",
       "    </tr>\n",
       "    <tr>\n",
       "      <th>work</th>\n",
       "      <td>0.015799</td>\n",
       "    </tr>\n",
       "    <tr>\n",
       "      <th rowspan=\"4\" valign=\"top\">1</th>\n",
       "      <th>home</th>\n",
       "      <td>0.581337</td>\n",
       "    </tr>\n",
       "    <tr>\n",
       "      <th>leisure</th>\n",
       "      <td>0.399278</td>\n",
       "    </tr>\n",
       "    <tr>\n",
       "      <th>self</th>\n",
       "      <td>0.994900</td>\n",
       "    </tr>\n",
       "    <tr>\n",
       "      <th>work</th>\n",
       "      <td>0.019384</td>\n",
       "    </tr>\n",
       "  </tbody>\n",
       "</table>\n",
       "</div>"
      ],
      "text/plain": [
       "                    prop_day_w\n",
       "north_w activity_w            \n",
       "0       home          0.583286\n",
       "        leisure       0.400915\n",
       "        self               NaN\n",
       "        work          0.015799\n",
       "1       home          0.581337\n",
       "        leisure       0.399278\n",
       "        self          0.994900\n",
       "        work          0.019384"
      ]
     },
     "execution_count": 44,
     "metadata": {},
     "output_type": "execute_result"
    }
   ],
   "source": [
    "df_husb_wife[df_husb_wife[\"working_w\"] == 0][[\"activity_w\", \"prop_day_w\", \"north_w\"]].groupby(['north_w', 'activity_w']).mean()"
   ]
  },
  {
   "cell_type": "code",
   "execution_count": 41,
   "id": "4d7fc515-f049-450e-9f18-8476d5154113",
   "metadata": {
    "tags": []
   },
   "outputs": [
    {
     "data": {
      "text/html": [
       "<div>\n",
       "<style scoped>\n",
       "    .dataframe tbody tr th:only-of-type {\n",
       "        vertical-align: middle;\n",
       "    }\n",
       "\n",
       "    .dataframe tbody tr th {\n",
       "        vertical-align: top;\n",
       "    }\n",
       "\n",
       "    .dataframe thead th {\n",
       "        text-align: right;\n",
       "    }\n",
       "</style>\n",
       "<table border=\"1\" class=\"dataframe\">\n",
       "  <thead>\n",
       "    <tr style=\"text-align: right;\">\n",
       "      <th></th>\n",
       "      <th></th>\n",
       "      <th>time_spent_w</th>\n",
       "    </tr>\n",
       "    <tr>\n",
       "      <th>north_w</th>\n",
       "      <th>activity_w</th>\n",
       "      <th></th>\n",
       "    </tr>\n",
       "  </thead>\n",
       "  <tbody>\n",
       "    <tr>\n",
       "      <th rowspan=\"4\" valign=\"top\">0</th>\n",
       "      <th>home</th>\n",
       "      <td>7.216073</td>\n",
       "    </tr>\n",
       "    <tr>\n",
       "      <th>leisure</th>\n",
       "      <td>4.967065</td>\n",
       "    </tr>\n",
       "    <tr>\n",
       "      <th>self</th>\n",
       "      <td>11.610999</td>\n",
       "    </tr>\n",
       "    <tr>\n",
       "      <th>work</th>\n",
       "      <td>0.205863</td>\n",
       "    </tr>\n",
       "    <tr>\n",
       "      <th rowspan=\"4\" valign=\"top\">1</th>\n",
       "      <th>home</th>\n",
       "      <td>7.175212</td>\n",
       "    </tr>\n",
       "    <tr>\n",
       "      <th>leisure</th>\n",
       "      <td>4.984284</td>\n",
       "    </tr>\n",
       "    <tr>\n",
       "      <th>self</th>\n",
       "      <td>11.595702</td>\n",
       "    </tr>\n",
       "    <tr>\n",
       "      <th>work</th>\n",
       "      <td>0.244803</td>\n",
       "    </tr>\n",
       "  </tbody>\n",
       "</table>\n",
       "</div>"
      ],
      "text/plain": [
       "                    time_spent_w\n",
       "north_w activity_w              \n",
       "0       home            7.216073\n",
       "        leisure         4.967065\n",
       "        self           11.610999\n",
       "        work            0.205863\n",
       "1       home            7.175212\n",
       "        leisure         4.984284\n",
       "        self           11.595702\n",
       "        work            0.244803"
      ]
     },
     "execution_count": 41,
     "metadata": {},
     "output_type": "execute_result"
    }
   ],
   "source": [
    "df_husb_wife[df_husb_wife[\"working_w\"] == 0][[\"activity_w\", \"time_spent_w\", \"north_w\"]].groupby(['north_w', 'activity_w']).mean()"
   ]
  },
  {
   "cell_type": "code",
   "execution_count": 45,
   "id": "be14cd71-87db-47a5-98ba-8cd4fce2331e",
   "metadata": {
    "tags": []
   },
   "outputs": [
    {
     "data": {
      "text/html": [
       "<div>\n",
       "<style scoped>\n",
       "    .dataframe tbody tr th:only-of-type {\n",
       "        vertical-align: middle;\n",
       "    }\n",
       "\n",
       "    .dataframe tbody tr th {\n",
       "        vertical-align: top;\n",
       "    }\n",
       "\n",
       "    .dataframe thead th {\n",
       "        text-align: right;\n",
       "    }\n",
       "</style>\n",
       "<table border=\"1\" class=\"dataframe\">\n",
       "  <thead>\n",
       "    <tr style=\"text-align: right;\">\n",
       "      <th></th>\n",
       "      <th></th>\n",
       "      <th>prop_day_h</th>\n",
       "    </tr>\n",
       "    <tr>\n",
       "      <th>north_h</th>\n",
       "      <th>activity_h</th>\n",
       "      <th></th>\n",
       "    </tr>\n",
       "  </thead>\n",
       "  <tbody>\n",
       "    <tr>\n",
       "      <th rowspan=\"4\" valign=\"top\">0</th>\n",
       "      <th>home</th>\n",
       "      <td>0.175469</td>\n",
       "    </tr>\n",
       "    <tr>\n",
       "      <th>leisure</th>\n",
       "      <td>0.232482</td>\n",
       "    </tr>\n",
       "    <tr>\n",
       "      <th>self</th>\n",
       "      <td>NaN</td>\n",
       "    </tr>\n",
       "    <tr>\n",
       "      <th>work</th>\n",
       "      <td>0.173116</td>\n",
       "    </tr>\n",
       "    <tr>\n",
       "      <th rowspan=\"4\" valign=\"top\">1</th>\n",
       "      <th>home</th>\n",
       "      <td>0.139366</td>\n",
       "    </tr>\n",
       "    <tr>\n",
       "      <th>leisure</th>\n",
       "      <td>0.237019</td>\n",
       "    </tr>\n",
       "    <tr>\n",
       "      <th>self</th>\n",
       "      <td>1.310001</td>\n",
       "    </tr>\n",
       "    <tr>\n",
       "      <th>work</th>\n",
       "      <td>0.209629</td>\n",
       "    </tr>\n",
       "  </tbody>\n",
       "</table>\n",
       "</div>"
      ],
      "text/plain": [
       "                    prop_day_h\n",
       "north_h activity_h            \n",
       "0       home          0.175469\n",
       "        leisure       0.232482\n",
       "        self               NaN\n",
       "        work          0.173116\n",
       "1       home          0.139366\n",
       "        leisure       0.237019\n",
       "        self          1.310001\n",
       "        work          0.209629"
      ]
     },
     "execution_count": 45,
     "metadata": {},
     "output_type": "execute_result"
    }
   ],
   "source": [
    "df_husb_wife[df_husb_wife[\"working_h\"] == 0][[\"activity_h\", \"prop_day_h\", \"north_h\"]].groupby(['north_h', 'activity_h']).std()"
   ]
  },
  {
   "cell_type": "code",
   "execution_count": 94,
   "id": "2125a252-3478-418c-97e0-adb296a891e9",
   "metadata": {
    "tags": []
   },
   "outputs": [
    {
     "data": {
      "text/html": [
       "<div>\n",
       "<style scoped>\n",
       "    .dataframe tbody tr th:only-of-type {\n",
       "        vertical-align: middle;\n",
       "    }\n",
       "\n",
       "    .dataframe tbody tr th {\n",
       "        vertical-align: top;\n",
       "    }\n",
       "\n",
       "    .dataframe thead th {\n",
       "        text-align: right;\n",
       "    }\n",
       "</style>\n",
       "<table border=\"1\" class=\"dataframe\">\n",
       "  <thead>\n",
       "    <tr style=\"text-align: right;\">\n",
       "      <th></th>\n",
       "      <th></th>\n",
       "      <th>prop_day_w</th>\n",
       "    </tr>\n",
       "    <tr>\n",
       "      <th>north_w</th>\n",
       "      <th>activity_w</th>\n",
       "      <th></th>\n",
       "    </tr>\n",
       "  </thead>\n",
       "  <tbody>\n",
       "    <tr>\n",
       "      <th rowspan=\"4\" valign=\"top\">0</th>\n",
       "      <th>home</th>\n",
       "      <td>0.172077</td>\n",
       "    </tr>\n",
       "    <tr>\n",
       "      <th>leisure</th>\n",
       "      <td>0.166643</td>\n",
       "    </tr>\n",
       "    <tr>\n",
       "      <th>self</th>\n",
       "      <td>0.253295</td>\n",
       "    </tr>\n",
       "    <tr>\n",
       "      <th>work</th>\n",
       "      <td>0.244546</td>\n",
       "    </tr>\n",
       "    <tr>\n",
       "      <th rowspan=\"4\" valign=\"top\">1</th>\n",
       "      <th>home</th>\n",
       "      <td>0.187768</td>\n",
       "    </tr>\n",
       "    <tr>\n",
       "      <th>leisure</th>\n",
       "      <td>0.173236</td>\n",
       "    </tr>\n",
       "    <tr>\n",
       "      <th>self</th>\n",
       "      <td>0.307457</td>\n",
       "    </tr>\n",
       "    <tr>\n",
       "      <th>work</th>\n",
       "      <td>0.235459</td>\n",
       "    </tr>\n",
       "  </tbody>\n",
       "</table>\n",
       "</div>"
      ],
      "text/plain": [
       "                    prop_day_w\n",
       "north_w activity_w            \n",
       "0       home          0.172077\n",
       "        leisure       0.166643\n",
       "        self          0.253295\n",
       "        work          0.244546\n",
       "1       home          0.187768\n",
       "        leisure       0.173236\n",
       "        self          0.307457\n",
       "        work          0.235459"
      ]
     },
     "execution_count": 94,
     "metadata": {},
     "output_type": "execute_result"
    }
   ],
   "source": [
    "df_husb_wife[df_husb_wife[\"working_w\"] == 1][[\"activity_w\", \"prop_day_w\", \"north_w\"]].groupby(['north_w', 'activity_w']).std()"
   ]
  },
  {
   "cell_type": "code",
   "execution_count": 45,
   "id": "d7df56b9-34ae-4523-b5fe-296a9f1c7914",
   "metadata": {},
   "outputs": [
    {
     "data": {
      "text/html": [
       "<div>\n",
       "<style scoped>\n",
       "    .dataframe tbody tr th:only-of-type {\n",
       "        vertical-align: middle;\n",
       "    }\n",
       "\n",
       "    .dataframe tbody tr th {\n",
       "        vertical-align: top;\n",
       "    }\n",
       "\n",
       "    .dataframe thead th {\n",
       "        text-align: right;\n",
       "    }\n",
       "</style>\n",
       "<table border=\"1\" class=\"dataframe\">\n",
       "  <thead>\n",
       "    <tr style=\"text-align: right;\">\n",
       "      <th></th>\n",
       "      <th>time_spent_w</th>\n",
       "      <th>prop_day_w</th>\n",
       "    </tr>\n",
       "    <tr>\n",
       "      <th>activity_w</th>\n",
       "      <th></th>\n",
       "      <th></th>\n",
       "    </tr>\n",
       "  </thead>\n",
       "  <tbody>\n",
       "    <tr>\n",
       "      <th>home</th>\n",
       "      <td>4.634118</td>\n",
       "      <td>0.349531</td>\n",
       "    </tr>\n",
       "    <tr>\n",
       "      <th>leisure</th>\n",
       "      <td>3.302231</td>\n",
       "      <td>0.250497</td>\n",
       "    </tr>\n",
       "    <tr>\n",
       "      <th>self</th>\n",
       "      <td>10.638017</td>\n",
       "      <td>NaN</td>\n",
       "    </tr>\n",
       "    <tr>\n",
       "      <th>work</th>\n",
       "      <td>5.425634</td>\n",
       "      <td>0.399972</td>\n",
       "    </tr>\n",
       "  </tbody>\n",
       "</table>\n",
       "</div>"
      ],
      "text/plain": [
       "            time_spent_w  prop_day_w\n",
       "activity_w                          \n",
       "home            4.634118    0.349531\n",
       "leisure         3.302231    0.250497\n",
       "self           10.638017         NaN\n",
       "work            5.425634    0.399972"
      ]
     },
     "execution_count": 45,
     "metadata": {},
     "output_type": "execute_result"
    }
   ],
   "source": [
    "df_husb_wife[df_husb_wife[\"working_w\"] == 1][[\"activity_w\", \"time_spent_w\", \"prop_day_w\"]].groupby(['activity_w']).mean()"
   ]
  },
  {
   "cell_type": "code",
   "execution_count": 46,
   "id": "715f3912-677a-44e3-ab95-0de4aa940de6",
   "metadata": {
    "tags": []
   },
   "outputs": [
    {
     "data": {
      "text/html": [
       "<div>\n",
       "<style scoped>\n",
       "    .dataframe tbody tr th:only-of-type {\n",
       "        vertical-align: middle;\n",
       "    }\n",
       "\n",
       "    .dataframe tbody tr th {\n",
       "        vertical-align: top;\n",
       "    }\n",
       "\n",
       "    .dataframe thead th {\n",
       "        text-align: right;\n",
       "    }\n",
       "</style>\n",
       "<table border=\"1\" class=\"dataframe\">\n",
       "  <thead>\n",
       "    <tr style=\"text-align: right;\">\n",
       "      <th></th>\n",
       "      <th>time_spent_h</th>\n",
       "      <th>prop_day_h</th>\n",
       "    </tr>\n",
       "    <tr>\n",
       "      <th>activity_h</th>\n",
       "      <th></th>\n",
       "      <th></th>\n",
       "    </tr>\n",
       "  </thead>\n",
       "  <tbody>\n",
       "    <tr>\n",
       "      <th>home</th>\n",
       "      <td>0.641987</td>\n",
       "      <td>0.052292</td>\n",
       "    </tr>\n",
       "    <tr>\n",
       "      <th>leisure</th>\n",
       "      <td>3.938864</td>\n",
       "      <td>0.319173</td>\n",
       "    </tr>\n",
       "    <tr>\n",
       "      <th>self</th>\n",
       "      <td>11.380026</td>\n",
       "      <td>NaN</td>\n",
       "    </tr>\n",
       "    <tr>\n",
       "      <th>work</th>\n",
       "      <td>8.039124</td>\n",
       "      <td>0.628535</td>\n",
       "    </tr>\n",
       "  </tbody>\n",
       "</table>\n",
       "</div>"
      ],
      "text/plain": [
       "            time_spent_h  prop_day_h\n",
       "activity_h                          \n",
       "home            0.641987    0.052292\n",
       "leisure         3.938864    0.319173\n",
       "self           11.380026         NaN\n",
       "work            8.039124    0.628535"
      ]
     },
     "execution_count": 46,
     "metadata": {},
     "output_type": "execute_result"
    }
   ],
   "source": [
    "df_husb_wife[df_husb_wife[\"working_h\"] == 1][[\"activity_h\", \"time_spent_h\", \"prop_day_h\"]].groupby(['activity_h']).mean()"
   ]
  },
  {
   "cell_type": "code",
   "execution_count": 47,
   "id": "a7b57eb3-248e-40f6-865c-4d06430a12f6",
   "metadata": {
    "tags": []
   },
   "outputs": [
    {
     "data": {
      "text/plain": [
       "spouse_h\n",
       "husband    605808\n",
       "Name: count, dtype: int64"
      ]
     },
     "execution_count": 47,
     "metadata": {},
     "output_type": "execute_result"
    }
   ],
   "source": [
    "# What is the average time spent by a working person, on work. \n",
    "# Weighted average of men and women's time spent at work: \n",
    "# Proportion men and women: \n",
    "df_husb_wife[\"spouse_h\"].value_counts()"
   ]
  },
  {
   "cell_type": "code",
   "execution_count": 48,
   "id": "b9d1a803-a61a-4a48-936b-25e1737dc27c",
   "metadata": {
    "tags": []
   },
   "outputs": [
    {
     "data": {
      "text/plain": [
       "spouse_w\n",
       "wife    605808\n",
       "Name: count, dtype: int64"
      ]
     },
     "execution_count": 48,
     "metadata": {},
     "output_type": "execute_result"
    }
   ],
   "source": [
    "df_husb_wife[\"spouse_w\"].value_counts()"
   ]
  },
  {
   "cell_type": "code",
   "execution_count": 53,
   "id": "6a521dcd-70c8-4cff-9c3e-c65dcd6e798d",
   "metadata": {
    "tags": []
   },
   "outputs": [
    {
     "data": {
      "text/plain": [
       "36273"
      ]
     },
     "execution_count": 53,
     "metadata": {},
     "output_type": "execute_result"
    }
   ],
   "source": [
    "df_husb_wife[\"primID_h\"].nunique()"
   ]
  },
  {
   "cell_type": "code",
   "execution_count": 54,
   "id": "a3fdf7e9-baf2-4ed4-addf-9e66d021a684",
   "metadata": {
    "tags": []
   },
   "outputs": [
    {
     "data": {
      "text/plain": [
       "36308"
      ]
     },
     "execution_count": 54,
     "metadata": {},
     "output_type": "execute_result"
    }
   ],
   "source": [
    "df_husb_wife[\"primID_w\"].nunique()"
   ]
  },
  {
   "cell_type": "code",
   "execution_count": 55,
   "id": "91ad47f7-25c4-4709-a5fb-ff850c31f300",
   "metadata": {
    "tags": []
   },
   "outputs": [
    {
     "data": {
      "text/plain": [
       "580368"
      ]
     },
     "execution_count": 55,
     "metadata": {},
     "output_type": "execute_result"
    }
   ],
   "source": [
    "16*36273"
   ]
  },
  {
   "cell_type": "code",
   "execution_count": 56,
   "id": "29eede65-92f1-4274-97e9-468b279d53f9",
   "metadata": {
    "tags": []
   },
   "outputs": [
    {
     "data": {
      "text/html": [
       "<div>\n",
       "<style scoped>\n",
       "    .dataframe tbody tr th:only-of-type {\n",
       "        vertical-align: middle;\n",
       "    }\n",
       "\n",
       "    .dataframe tbody tr th {\n",
       "        vertical-align: top;\n",
       "    }\n",
       "\n",
       "    .dataframe thead th {\n",
       "        text-align: right;\n",
       "    }\n",
       "</style>\n",
       "<table border=\"1\" class=\"dataframe\">\n",
       "  <thead>\n",
       "    <tr style=\"text-align: right;\">\n",
       "      <th></th>\n",
       "      <th>primID_w</th>\n",
       "      <th>activity_w</th>\n",
       "    </tr>\n",
       "  </thead>\n",
       "  <tbody>\n",
       "    <tr>\n",
       "      <th>16</th>\n",
       "      <td>TUS20124106201920110702012011005002</td>\n",
       "      <td>leisure</td>\n",
       "    </tr>\n",
       "    <tr>\n",
       "      <th>17</th>\n",
       "      <td>TUS20124106201920110702012011005002</td>\n",
       "      <td>self</td>\n",
       "    </tr>\n",
       "    <tr>\n",
       "      <th>18</th>\n",
       "      <td>TUS20124106201920110702012011005002</td>\n",
       "      <td>work</td>\n",
       "    </tr>\n",
       "    <tr>\n",
       "      <th>19</th>\n",
       "      <td>TUS20124106201920110702012011005002</td>\n",
       "      <td>home</td>\n",
       "    </tr>\n",
       "    <tr>\n",
       "      <th>20</th>\n",
       "      <td>TUS20124106201920110702012011005002</td>\n",
       "      <td>leisure</td>\n",
       "    </tr>\n",
       "    <tr>\n",
       "      <th>...</th>\n",
       "      <td>...</td>\n",
       "      <td>...</td>\n",
       "    </tr>\n",
       "    <tr>\n",
       "      <th>803619</th>\n",
       "      <td>TUS26082106201923612304043361014002</td>\n",
       "      <td>home</td>\n",
       "    </tr>\n",
       "    <tr>\n",
       "      <th>803620</th>\n",
       "      <td>TUS26082106201923612304043361014002</td>\n",
       "      <td>leisure</td>\n",
       "    </tr>\n",
       "    <tr>\n",
       "      <th>803621</th>\n",
       "      <td>TUS26082106201923612304043361014002</td>\n",
       "      <td>self</td>\n",
       "    </tr>\n",
       "    <tr>\n",
       "      <th>803622</th>\n",
       "      <td>TUS26082106201923612304043361014002</td>\n",
       "      <td>work</td>\n",
       "    </tr>\n",
       "    <tr>\n",
       "      <th>803623</th>\n",
       "      <td>TUS26082106201923612304043361014002</td>\n",
       "      <td>home</td>\n",
       "    </tr>\n",
       "  </tbody>\n",
       "</table>\n",
       "<p>605808 rows × 2 columns</p>\n",
       "</div>"
      ],
      "text/plain": [
       "                                   primID_w activity_w\n",
       "16      TUS20124106201920110702012011005002    leisure\n",
       "17      TUS20124106201920110702012011005002       self\n",
       "18      TUS20124106201920110702012011005002       work\n",
       "19      TUS20124106201920110702012011005002       home\n",
       "20      TUS20124106201920110702012011005002    leisure\n",
       "...                                     ...        ...\n",
       "803619  TUS26082106201923612304043361014002       home\n",
       "803620  TUS26082106201923612304043361014002    leisure\n",
       "803621  TUS26082106201923612304043361014002       self\n",
       "803622  TUS26082106201923612304043361014002       work\n",
       "803623  TUS26082106201923612304043361014002       home\n",
       "\n",
       "[605808 rows x 2 columns]"
      ]
     },
     "execution_count": 56,
     "metadata": {},
     "output_type": "execute_result"
    }
   ],
   "source": [
    "df_husb_wife[df_husb_wife[\"spouse_w\"] == \"wife\"][[\"primID_w\", \"activity_w\"]]"
   ]
  },
  {
   "cell_type": "markdown",
   "id": "062993da-f693-40a2-9180-f2f90316be54",
   "metadata": {},
   "source": [
    "#### Trying to separate the two dataframes and seeing if results remain the same"
   ]
  },
  {
   "cell_type": "code",
   "execution_count": 57,
   "id": "8d6407a2-beb2-4f67-91f3-ff5cac2b856d",
   "metadata": {
    "tags": []
   },
   "outputs": [],
   "source": [
    "df_husb = df_husb_wife[['Sector_h', 'District_h', 'State_h', 'north_h', 'Common-ID_h',\\\n",
    "       'Person serial no._h', 'Relation to head_h', 'Gender_h', 'Age_h',\\\n",
    "       'marital status_h', 'highest level of education_h',\\\n",
    "       'usual principal activity: status (code)_h',\\\n",
    "       'industry of work: 2-digit of NIC 2008_h', 'NSC_h', 'MULT_h',\\\n",
    "       'primID_h', 'time_spent_h', 'activity_h', 'TotalTime_h', 'spouse_h',\\\n",
    "       'rel_key_h']]\n",
    "\n",
    "df_wife = df_husb_wife[['Sector_w', 'District_w', 'State_w', 'north_w',\\\n",
    "       'Common-ID_w', 'Person serial no._w', 'Relation to head_w', 'Gender_w',\\\n",
    "       'Age_w', 'marital status_w', 'highest level of education_w',\\\n",
    "       'usual principal activity: status (code)_w',\\\n",
    "       'industry of work: 2-digit of NIC 2008_w', 'NSC_w', 'MULT_w',\\\n",
    "       'primID_w', 'time_spent_w', 'activity_w', 'TotalTime_w', 'spouse_w',\\\n",
    "       'rel_key_w']]"
   ]
  },
  {
   "cell_type": "code",
   "execution_count": 59,
   "id": "1a905dea-a65d-424a-b3ff-e63b87210ae0",
   "metadata": {
    "tags": []
   },
   "outputs": [],
   "source": [
    "df_husb.loc[:,'IDact'] = df_husb['primID_h']+df_husb['activity_h']\n",
    "df_wife.loc[:,'IDact'] = df_wife['primID_w'] + df_wife['activity_w']"
   ]
  },
  {
   "cell_type": "code",
   "execution_count": 60,
   "id": "ecfbc6d1-0cf7-4237-a650-991c53d3e11c",
   "metadata": {
    "tags": []
   },
   "outputs": [],
   "source": [
    "df_husb = df_husb.drop_duplicates(subset='IDact')\n",
    "df_wife = df_wife.drop_duplicates(subset=\"IDact\")"
   ]
  },
  {
   "cell_type": "code",
   "execution_count": 62,
   "id": "c25d884b-85db-44e4-b548-b74d1581887a",
   "metadata": {
    "tags": []
   },
   "outputs": [
    {
     "data": {
      "text/html": [
       "<div>\n",
       "<style scoped>\n",
       "    .dataframe tbody tr th:only-of-type {\n",
       "        vertical-align: middle;\n",
       "    }\n",
       "\n",
       "    .dataframe tbody tr th {\n",
       "        vertical-align: top;\n",
       "    }\n",
       "\n",
       "    .dataframe thead th {\n",
       "        text-align: right;\n",
       "    }\n",
       "</style>\n",
       "<table border=\"1\" class=\"dataframe\">\n",
       "  <thead>\n",
       "    <tr style=\"text-align: right;\">\n",
       "      <th></th>\n",
       "      <th>prop_day_h</th>\n",
       "    </tr>\n",
       "    <tr>\n",
       "      <th>activity_h</th>\n",
       "      <th></th>\n",
       "    </tr>\n",
       "  </thead>\n",
       "  <tbody>\n",
       "    <tr>\n",
       "      <th>home</th>\n",
       "      <td>0.055053</td>\n",
       "    </tr>\n",
       "    <tr>\n",
       "      <th>leisure</th>\n",
       "      <td>0.334750</td>\n",
       "    </tr>\n",
       "    <tr>\n",
       "      <th>self</th>\n",
       "      <td>NaN</td>\n",
       "    </tr>\n",
       "    <tr>\n",
       "      <th>work</th>\n",
       "      <td>0.610197</td>\n",
       "    </tr>\n",
       "  </tbody>\n",
       "</table>\n",
       "</div>"
      ],
      "text/plain": [
       "            prop_day_h\n",
       "activity_h            \n",
       "home          0.055053\n",
       "leisure       0.334750\n",
       "self               NaN\n",
       "work          0.610197"
      ]
     },
     "execution_count": 62,
     "metadata": {},
     "output_type": "execute_result"
    }
   ],
   "source": [
    "# 1. The entire dataset\n",
    "df_husb.loc[:,\"prop_day_h\"] = df_husb[\"time_spent_h\"]/df_husb[\"TotalTime_h\"]\n",
    "df_wife.loc[:,\"prop_day_w\"] = df_wife[\"time_spent_w\"]/df_wife[\"TotalTime_w\"]\n",
    "df_husb[['activity_h', 'prop_day_h']].groupby('activity_h').mean()\n",
    "# df_husb_wife[[\"activity_h\", \"prop_day_h\"]].groupby(\"activity_h\").mean()\n"
   ]
  },
  {
   "cell_type": "code",
   "execution_count": 63,
   "id": "5f8cb334-4380-47fa-8a16-2403fc5d7c92",
   "metadata": {
    "tags": []
   },
   "outputs": [
    {
     "data": {
      "text/html": [
       "<div>\n",
       "<style scoped>\n",
       "    .dataframe tbody tr th:only-of-type {\n",
       "        vertical-align: middle;\n",
       "    }\n",
       "\n",
       "    .dataframe tbody tr th {\n",
       "        vertical-align: top;\n",
       "    }\n",
       "\n",
       "    .dataframe thead th {\n",
       "        text-align: right;\n",
       "    }\n",
       "</style>\n",
       "<table border=\"1\" class=\"dataframe\">\n",
       "  <thead>\n",
       "    <tr style=\"text-align: right;\">\n",
       "      <th></th>\n",
       "      <th>prop_day_w</th>\n",
       "    </tr>\n",
       "    <tr>\n",
       "      <th>activity_w</th>\n",
       "      <th></th>\n",
       "    </tr>\n",
       "  </thead>\n",
       "  <tbody>\n",
       "    <tr>\n",
       "      <th>home</th>\n",
       "      <td>0.552880</td>\n",
       "    </tr>\n",
       "    <tr>\n",
       "      <th>leisure</th>\n",
       "      <td>0.360651</td>\n",
       "    </tr>\n",
       "    <tr>\n",
       "      <th>self</th>\n",
       "      <td>NaN</td>\n",
       "    </tr>\n",
       "    <tr>\n",
       "      <th>work</th>\n",
       "      <td>0.086468</td>\n",
       "    </tr>\n",
       "  </tbody>\n",
       "</table>\n",
       "</div>"
      ],
      "text/plain": [
       "            prop_day_w\n",
       "activity_w            \n",
       "home          0.552880\n",
       "leisure       0.360651\n",
       "self               NaN\n",
       "work          0.086468"
      ]
     },
     "execution_count": 63,
     "metadata": {},
     "output_type": "execute_result"
    }
   ],
   "source": [
    "df_wife[['activity_w', 'prop_day_w']].groupby('activity_w').mean()\n"
   ]
  },
  {
   "cell_type": "code",
   "execution_count": 64,
   "id": "0e42f044-1e8a-4237-b659-e2a341093cac",
   "metadata": {
    "tags": []
   },
   "outputs": [
    {
     "name": "stderr",
     "output_type": "stream",
     "text": [
      "C:\\Users\\shrey\\AppData\\Local\\Temp\\ipykernel_17644\\3534159773.py:2: SettingWithCopyWarning: \n",
      "A value is trying to be set on a copy of a slice from a DataFrame.\n",
      "Try using .loc[row_indexer,col_indexer] = value instead\n",
      "\n",
      "See the caveats in the documentation: https://pandas.pydata.org/pandas-docs/stable/user_guide/indexing.html#returning-a-view-versus-a-copy\n",
      "  df_husb.loc[:,\"working_h\"] = 0\n",
      "C:\\Users\\shrey\\AppData\\Local\\Temp\\ipykernel_17644\\3534159773.py:5: SettingWithCopyWarning: \n",
      "A value is trying to be set on a copy of a slice from a DataFrame.\n",
      "Try using .loc[row_indexer,col_indexer] = value instead\n",
      "\n",
      "See the caveats in the documentation: https://pandas.pydata.org/pandas-docs/stable/user_guide/indexing.html#returning-a-view-versus-a-copy\n",
      "  df_wife.loc[:,\"working_w\"] = 0\n"
     ]
    }
   ],
   "source": [
    "# 2. Working men vs Working women\n",
    "df_husb.loc[:,\"working_h\"] = 0\n",
    "df_husb.loc[df_husb[\"usual principal activity: status (code)_h\"].isin(EMP_CODES),\"working_h\"] = 1\n",
    "\n",
    "df_wife.loc[:,\"working_w\"] = 0\n",
    "df_wife.loc[df_husb_wife[\"usual principal activity: status (code)_w\"].isin(EMP_CODES),\"working_w\"] = 1\n"
   ]
  },
  {
   "cell_type": "code",
   "execution_count": 66,
   "id": "a1a2dc9c-548c-4ef8-8389-bd500793290d",
   "metadata": {
    "tags": []
   },
   "outputs": [
    {
     "data": {
      "text/html": [
       "<div>\n",
       "<style scoped>\n",
       "    .dataframe tbody tr th:only-of-type {\n",
       "        vertical-align: middle;\n",
       "    }\n",
       "\n",
       "    .dataframe tbody tr th {\n",
       "        vertical-align: top;\n",
       "    }\n",
       "\n",
       "    .dataframe thead th {\n",
       "        text-align: right;\n",
       "    }\n",
       "</style>\n",
       "<table border=\"1\" class=\"dataframe\">\n",
       "  <thead>\n",
       "    <tr style=\"text-align: right;\">\n",
       "      <th></th>\n",
       "      <th></th>\n",
       "      <th>prop_day_h</th>\n",
       "      <th>time_spent_h</th>\n",
       "    </tr>\n",
       "    <tr>\n",
       "      <th>working_h</th>\n",
       "      <th>activity_h</th>\n",
       "      <th></th>\n",
       "      <th></th>\n",
       "    </tr>\n",
       "  </thead>\n",
       "  <tbody>\n",
       "    <tr>\n",
       "      <th rowspan=\"4\" valign=\"top\">0</th>\n",
       "      <th>home</th>\n",
       "      <td>0.125132</td>\n",
       "      <td>1.388587</td>\n",
       "    </tr>\n",
       "    <tr>\n",
       "      <th>leisure</th>\n",
       "      <td>0.794025</td>\n",
       "      <td>8.442517</td>\n",
       "    </tr>\n",
       "    <tr>\n",
       "      <th>self</th>\n",
       "      <td>NaN</td>\n",
       "      <td>13.196697</td>\n",
       "    </tr>\n",
       "    <tr>\n",
       "      <th>work</th>\n",
       "      <td>0.080843</td>\n",
       "      <td>0.972199</td>\n",
       "    </tr>\n",
       "    <tr>\n",
       "      <th rowspan=\"4\" valign=\"top\">1</th>\n",
       "      <th>home</th>\n",
       "      <td>0.052669</td>\n",
       "      <td>0.646820</td>\n",
       "    </tr>\n",
       "    <tr>\n",
       "      <th>leisure</th>\n",
       "      <td>0.319128</td>\n",
       "      <td>3.937148</td>\n",
       "    </tr>\n",
       "    <tr>\n",
       "      <th>self</th>\n",
       "      <td>NaN</td>\n",
       "      <td>11.378586</td>\n",
       "    </tr>\n",
       "    <tr>\n",
       "      <th>work</th>\n",
       "      <td>0.628203</td>\n",
       "      <td>8.037446</td>\n",
       "    </tr>\n",
       "  </tbody>\n",
       "</table>\n",
       "</div>"
      ],
      "text/plain": [
       "                      prop_day_h  time_spent_h\n",
       "working_h activity_h                          \n",
       "0         home          0.125132      1.388587\n",
       "          leisure       0.794025      8.442517\n",
       "          self               NaN     13.196697\n",
       "          work          0.080843      0.972199\n",
       "1         home          0.052669      0.646820\n",
       "          leisure       0.319128      3.937148\n",
       "          self               NaN     11.378586\n",
       "          work          0.628203      8.037446"
      ]
     },
     "execution_count": 66,
     "metadata": {},
     "output_type": "execute_result"
    }
   ],
   "source": [
    "df_husb[[\"activity_h\", \"prop_day_h\", \"working_h\", 'time_spent_h']].groupby([\"working_h\", \"activity_h\"]).mean()"
   ]
  },
  {
   "cell_type": "code",
   "execution_count": 67,
   "id": "a921aac7-d7f6-491c-9f59-f4df591d129d",
   "metadata": {
    "tags": []
   },
   "outputs": [
    {
     "data": {
      "text/html": [
       "<div>\n",
       "<style scoped>\n",
       "    .dataframe tbody tr th:only-of-type {\n",
       "        vertical-align: middle;\n",
       "    }\n",
       "\n",
       "    .dataframe tbody tr th {\n",
       "        vertical-align: top;\n",
       "    }\n",
       "\n",
       "    .dataframe thead th {\n",
       "        text-align: right;\n",
       "    }\n",
       "</style>\n",
       "<table border=\"1\" class=\"dataframe\">\n",
       "  <thead>\n",
       "    <tr style=\"text-align: right;\">\n",
       "      <th></th>\n",
       "      <th></th>\n",
       "      <th>prop_day_w</th>\n",
       "      <th>time_spent_w</th>\n",
       "    </tr>\n",
       "    <tr>\n",
       "      <th>working_w</th>\n",
       "      <th>activity_w</th>\n",
       "      <th></th>\n",
       "      <th></th>\n",
       "    </tr>\n",
       "  </thead>\n",
       "  <tbody>\n",
       "    <tr>\n",
       "      <th rowspan=\"4\" valign=\"top\">0</th>\n",
       "      <th>home</th>\n",
       "      <td>0.596739</td>\n",
       "      <td>7.341304</td>\n",
       "    </tr>\n",
       "    <tr>\n",
       "      <th>leisure</th>\n",
       "      <td>0.384786</td>\n",
       "      <td>4.765316</td>\n",
       "    </tr>\n",
       "    <tr>\n",
       "      <th>self</th>\n",
       "      <td>NaN</td>\n",
       "      <td>11.656702</td>\n",
       "    </tr>\n",
       "    <tr>\n",
       "      <th>work</th>\n",
       "      <td>0.018475</td>\n",
       "      <td>0.236679</td>\n",
       "    </tr>\n",
       "    <tr>\n",
       "      <th rowspan=\"4\" valign=\"top\">1</th>\n",
       "      <th>home</th>\n",
       "      <td>0.350579</td>\n",
       "      <td>4.649611</td>\n",
       "    </tr>\n",
       "    <tr>\n",
       "      <th>leisure</th>\n",
       "      <td>0.249327</td>\n",
       "      <td>3.288865</td>\n",
       "    </tr>\n",
       "    <tr>\n",
       "      <th>self</th>\n",
       "      <td>NaN</td>\n",
       "      <td>10.632967</td>\n",
       "    </tr>\n",
       "    <tr>\n",
       "      <th>work</th>\n",
       "      <td>0.400093</td>\n",
       "      <td>5.428557</td>\n",
       "    </tr>\n",
       "  </tbody>\n",
       "</table>\n",
       "</div>"
      ],
      "text/plain": [
       "                      prop_day_w  time_spent_w\n",
       "working_w activity_w                          \n",
       "0         home          0.596739      7.341304\n",
       "          leisure       0.384786      4.765316\n",
       "          self               NaN     11.656702\n",
       "          work          0.018475      0.236679\n",
       "1         home          0.350579      4.649611\n",
       "          leisure       0.249327      3.288865\n",
       "          self               NaN     10.632967\n",
       "          work          0.400093      5.428557"
      ]
     },
     "execution_count": 67,
     "metadata": {},
     "output_type": "execute_result"
    }
   ],
   "source": [
    "df_wife[[\"activity_w\", \"prop_day_w\", \"working_w\", 'time_spent_w']].groupby([\"working_w\", \"activity_w\"]).mean()"
   ]
  },
  {
   "cell_type": "markdown",
   "id": "f9f57953-c453-4c3f-9c23-87e03bbf4dab",
   "metadata": {},
   "source": [
    "### Conditional on working, what proportion of time does an average person spend?"
   ]
  },
  {
   "cell_type": "code",
   "execution_count": 91,
   "id": "bbb84c6b-1cd2-4cb2-a6f1-4495e52202b0",
   "metadata": {
    "tags": []
   },
   "outputs": [],
   "source": [
    "h_h = df_husb[(df_husb['working_h'] == 1) & (df_husb['activity_h'] == 'work')]['prop_day_h'].mean()\n",
    "h_w = df_wife[(df_wife['working_w'] == 1) & (df_wife['activity_w'] == 'work')]['prop_day_w'].mean()\n",
    "# Taking Weighted average\n",
    "N_h = df_husb[df_husb['working_h'] == 1]['primID_h'].nunique()\n",
    "N_w = df_wife[df_wife['working_w'] == 1]['primID_w'].nunique()\n",
    "H = (h_h*N_h + h_w*N_w)/(N_h+N_w)"
   ]
  },
  {
   "cell_type": "code",
   "execution_count": 92,
   "id": "f06c4705-694b-4e23-8d95-6900975cca0f",
   "metadata": {
    "tags": []
   },
   "outputs": [
    {
     "data": {
      "text/plain": [
       "0.5926845434561677"
      ]
     },
     "execution_count": 92,
     "metadata": {},
     "output_type": "execute_result"
    }
   ],
   "source": [
    "H"
   ]
  }
 ],
 "metadata": {
  "kernelspec": {
   "display_name": "Python 3 (ipykernel)",
   "language": "python",
   "name": "python3"
  },
  "language_info": {
   "codemirror_mode": {
    "name": "ipython",
    "version": 3
   },
   "file_extension": ".py",
   "mimetype": "text/x-python",
   "name": "python",
   "nbconvert_exporter": "python",
   "pygments_lexer": "ipython3",
   "version": "3.11.5"
  }
 },
 "nbformat": 4,
 "nbformat_minor": 5
}
