{
 "cells": [
  {
   "cell_type": "code",
   "execution_count": 1,
   "id": "a8ff642e-d6fd-4601-8a8c-64ea97a41f3b",
   "metadata": {
    "tags": []
   },
   "outputs": [],
   "source": [
    "import pandas as pd"
   ]
  },
  {
   "cell_type": "code",
   "execution_count": 2,
   "id": "09be63f1-1379-4fc3-828b-99a9c857bd64",
   "metadata": {
    "tags": []
   },
   "outputs": [],
   "source": [
    "# Level 5: Has all the time info.\n",
    "layoutFile_L5 = pd.read_excel(\"../../data/raw/TUS_2019/Data_Layout_TUS106.xlsx\", header=108,nrows=18,usecols=[1,6,8])\n",
    "layoutFile_L5.columns=['item', 'start', 'end']\n",
    "layoutFile_L5.set_index(\"item\", inplace=True)\n"
   ]
  },
  {
   "cell_type": "code",
   "execution_count": 3,
   "id": "769c1f40-4bbc-4472-866d-cbec8d852fc1",
   "metadata": {
    "tags": []
   },
   "outputs": [],
   "source": [
    "L5_txt = open(\"../../data/raw/TUS_2019/TUS106_L05.TXT\")\n",
    "start = layoutFile_L5['start']\n",
    "end = layoutFile_L5['end']\n",
    "rows = []\n",
    "for line in L5_txt:\n",
    "    line = line.strip()\n",
    "    row = [line[start[i]-1:end[i]].strip() for i in range(len(layoutFile_L5))]\n",
    "    rows.append(row)"
   ]
  },
  {
   "cell_type": "code",
   "execution_count": 4,
   "id": "95a96710-edbb-4024-91a6-04b001367f1f",
   "metadata": {
    "tags": []
   },
   "outputs": [],
   "source": [
    "df_L5 = pd.DataFrame(rows, columns=layoutFile_L5.index)"
   ]
  },
  {
   "cell_type": "code",
   "execution_count": 5,
   "id": "7c182dd1-c241-4da9-b914-030866b2abb3",
   "metadata": {
    "tags": []
   },
   "outputs": [],
   "source": [
    "df_L5[\"primID\"] = df_L5[\"Common-ID\"]+df_L5[\"Serial no.of member\"]"
   ]
  },
  {
   "cell_type": "code",
   "execution_count": 6,
   "id": "af6de5b1-43a9-4be3-8d7a-168e2ac8118a",
   "metadata": {
    "tags": []
   },
   "outputs": [],
   "source": [
    "df_L5.to_pickle(\"df_L5.pkl\")"
   ]
  }
 ],
 "metadata": {
  "kernelspec": {
   "display_name": "Python 3 (ipykernel)",
   "language": "python",
   "name": "python3"
  },
  "language_info": {
   "codemirror_mode": {
    "name": "ipython",
    "version": 3
   },
   "file_extension": ".py",
   "mimetype": "text/x-python",
   "name": "python",
   "nbconvert_exporter": "python",
   "pygments_lexer": "ipython3",
   "version": "3.11.5"
  }
 },
 "nbformat": 4,
 "nbformat_minor": 5
}
