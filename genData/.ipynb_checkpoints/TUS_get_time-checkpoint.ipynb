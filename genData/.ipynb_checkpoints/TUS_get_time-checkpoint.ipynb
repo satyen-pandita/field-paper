{
 "cells": [
  {
   "cell_type": "code",
   "execution_count": 1,
   "id": "e8009eb5-5b2c-45fa-a297-ee67349c78eb",
   "metadata": {
    "tags": []
   },
   "outputs": [],
   "source": [
    "import pandas as pd\n",
    "import os\n",
    "from datetime import datetime\n",
    "import copy"
   ]
  },
  {
   "cell_type": "code",
   "execution_count": null,
   "id": "e7af0e00-5595-44c8-ab15-d72886916127",
   "metadata": {},
   "outputs": [],
   "source": []
  },
  {
   "cell_type": "code",
   "execution_count": null,
   "id": "dc0105cd-5e7d-4064-90e2-f3c628daef04",
   "metadata": {},
   "outputs": [],
   "source": []
  },
  {
   "cell_type": "code",
   "execution_count": 2,
   "id": "4299e96e-d382-4816-9e11-8eeb1d83a938",
   "metadata": {
    "tags": []
   },
   "outputs": [],
   "source": [
    "################# GLOBAL VARIABLES ######################\n",
    "\n",
    "# Definitions from PLFS 2018-19 Annual Report, Concepts and Definitions (2.38.1)\n",
    "# Problematic codes for self employed criteria: `21` - worked in household enterprises (self-employed) as helper\n",
    "SELF_EMP_CODES = [\"11\", \"12\", \"21\"]\n",
    "REG_EMP_CODES = [\"31\"]\n",
    "CASUAL_EMP_CODES = [\"41\", \"42\", \"51\", \"61\", \"62\", \"71\", \"72\"]\n",
    "\n",
    "NOT_REG_CODES = SELF_EMP_CODES + CASUAL_EMP_CODES\n",
    "\n",
    "EMP_CODES = SELF_EMP_CODES + REG_EMP_CODES + CASUAL_EMP_CODES\n",
    "UNEMP_CODES = [\"81\", \"82\"]\n",
    "LF_CODES = EMP_CODES + UNEMP_CODES\n",
    "NOT_IN_LF_CODES = [str(x) for x in list(range(91,100))]\n",
    "\n",
    "CODE_MAP = {\"1\": \"work\", \"2\": \"work\", \"3\": \"home\", \"4\": \"home\", \"5\": \"home\", \"6\": \"leisure\", \"7\": \"leisure\", \"8\": \"leisure\", \"9\": \"self\"}"
   ]
  },
  {
   "cell_type": "code",
   "execution_count": 3,
   "id": "f5258de2-41f7-48ae-9eab-130482fd6953",
   "metadata": {
    "tags": []
   },
   "outputs": [],
   "source": [
    "df_test = pd.read_pickle(\"df_merged.pkl\")\n",
    "DF_GENDER = pd.read_pickle(\"DF_GENDER.pkl\")\n",
    "DF_WEIGHT = pd.read_pickle(\"DF_WEIGHT.pkl\")"
   ]
  },
  {
   "cell_type": "code",
   "execution_count": 4,
   "id": "1949a175-4faa-4927-a1ac-8b1a7fed58c4",
   "metadata": {
    "tags": []
   },
   "outputs": [],
   "source": [
    "# Just in case, GENDER and WEIGHT don't have unique primID \n",
    "DF_GENDER.drop_duplicates(subset=[\"primID\"], inplace=True)\n",
    "DF_WEIGHT.drop_duplicates(subset=[\"primID\"], inplace=True)"
   ]
  },
  {
   "cell_type": "code",
   "execution_count": 5,
   "id": "caf40145-c084-47dc-bee6-1444559c2345",
   "metadata": {
    "tags": []
   },
   "outputs": [
    {
     "name": "stderr",
     "output_type": "stream",
     "text": [
      "C:\\Users\\shrey\\AppData\\Local\\Temp\\ipykernel_22176\\1850894220.py:3: SettingWithCopyWarning: \n",
      "A value is trying to be set on a copy of a slice from a DataFrame.\n",
      "Try using .loc[row_indexer,col_indexer] = value instead\n",
      "\n",
      "See the caveats in the documentation: https://pandas.pydata.org/pandas-docs/stable/user_guide/indexing.html#returning-a-view-versus-a-copy\n",
      "  DF_WORKING.loc[:,\"working\"] = DF_WORKING.loc[:,\"usual principal activity: status (code)\"].apply(lambda x: 1 if x in EMP_CODES else 0)\n"
     ]
    }
   ],
   "source": [
    "# Working? \n",
    "DF_WORKING = df_test[[\"primID\", \"usual principal activity: status (code)\"]]\n",
    "DF_WORKING.loc[:,\"working\"] = DF_WORKING.loc[:,\"usual principal activity: status (code)\"].apply(lambda x: 1 if x in EMP_CODES else 0)\n",
    "# DF_WORKING.drop_duplicates(subset=[\"primID\"], inplace=True)\n",
    "# DF_WORKING.drop(columns=[\"usual principal activity: status (code)\"], inplace=True)"
   ]
  },
  {
   "cell_type": "code",
   "execution_count": 6,
   "id": "a48127db-c739-463d-8fef-204c74d97c0a",
   "metadata": {
    "tags": []
   },
   "outputs": [
    {
     "data": {
      "text/plain": [
       "array(['93', '91', '92', '94', '97', '95', '81'], dtype=object)"
      ]
     },
     "execution_count": 6,
     "metadata": {},
     "output_type": "execute_result"
    }
   ],
   "source": [
    "DF_WORKING[DF_WORKING[\"working\"] == 0][\"usual principal activity: status (code)\"].unique()"
   ]
  },
  {
   "cell_type": "code",
   "execution_count": 7,
   "id": "d3681750-3a56-48ee-8824-e6e28f319cef",
   "metadata": {
    "tags": []
   },
   "outputs": [],
   "source": [
    "# Age: Bishnu: 15-65\n",
    "df_test = df_test[(df_test[\"Age\"].astype(float) <= 65) & (df_test[\"Age\"].astype(float) >= 15)]\n",
    "# Marital\n",
    "df_test = df_test[df_test[\"marital status\"] == \"2\"]\n",
    "# Major activity\n",
    "df_test[\"major_code\"] = df_test[\"3-didit activity code\"].apply(lambda x: x[0])\n"
   ]
  },
  {
   "cell_type": "code",
   "execution_count": 8,
   "id": "77a9589c-8a37-4a18-a6ff-d9bf0c33f91d",
   "metadata": {
    "tags": []
   },
   "outputs": [],
   "source": [
    "# Handle multiple: Split time between these activities - this will get Total Time to be 24 hours. \n",
    "# Create id + time_slot: Then each id and time slot that has multiple entries, give equally to each. That's df_factor.\n",
    "df_test[\"time_slot\"] = df_test[\"time from\"].apply(lambda x: x.strftime(\"%H:%M\")) + df_test[\"time to\"].apply(lambda x: x.strftime(\"%H:%M\"))\n",
    "df_test[\"id_time_slot\"] = df_test[\"primID\"]+df_test[\"time_slot\"]\n",
    "# no of time each time slot appears with a primID is the factor applied to time spent \n",
    "df_factor = df_test[\"id_time_slot\"].value_counts()\n",
    "df_factor = pd.DataFrame(df_factor)\n",
    "df_factor.reset_index(inplace=True)\n",
    "df_factor.columns=[\"id_time_slot\", \"factor\"]\n",
    "df_test_factor = pd.merge(df_test, df_factor, on=\"id_time_slot\", how=\"inner\")\n",
    "df_test_factor[\"time_spent\"] = df_test_factor[\"time_spent\"]/df_test_factor[\"factor\"]"
   ]
  },
  {
   "cell_type": "code",
   "execution_count": 9,
   "id": "7ad6351b-e383-4f0f-bd66-5b23a0b8962d",
   "metadata": {
    "tags": []
   },
   "outputs": [
    {
     "name": "stderr",
     "output_type": "stream",
     "text": [
      "C:\\Users\\shrey\\AppData\\Local\\Temp\\ipykernel_22176\\793466110.py:3: SettingWithCopyWarning: \n",
      "A value is trying to be set on a copy of a slice from a DataFrame.\n",
      "Try using .loc[row_indexer,col_indexer] = value instead\n",
      "\n",
      "See the caveats in the documentation: https://pandas.pydata.org/pandas-docs/stable/user_guide/indexing.html#returning-a-view-versus-a-copy\n",
      "  df_sub.loc[:,'activity'] = df_sub.loc[:,'major_code'].apply(lambda x: CODE_MAP[x])\n",
      "C:\\Users\\shrey\\AppData\\Local\\Temp\\ipykernel_22176\\793466110.py:4: SettingWithCopyWarning: \n",
      "A value is trying to be set on a copy of a slice from a DataFrame\n",
      "\n",
      "See the caveats in the documentation: https://pandas.pydata.org/pandas-docs/stable/user_guide/indexing.html#returning-a-view-versus-a-copy\n",
      "  df_sub.drop(columns=['major_code'], inplace=True)\n"
     ]
    }
   ],
   "source": [
    "# Calculating time spent in each activity: Need to take out other columns\n",
    "df_sub = df_test_factor[[\"primID\", \"major_code\", \"time_spent\"]]\n",
    "df_sub.loc[:,'activity'] = df_sub.loc[:,'major_code'].apply(lambda x: CODE_MAP[x])\n",
    "df_sub.drop(columns=['major_code'], inplace=True)\n",
    "# Now for each person, calculate time spent on each activity\n",
    "df_sub_agg = df_sub.groupby([\"primID\", \"activity\"]).sum(\"time_spent\")\n",
    "df_sub_agg.reset_index(inplace=True)\n",
    "# Because final dataset I need has to have gender and activity code and time, \n",
    "df_actgen = pd.merge(DF_GENDER, df_sub_agg, on=\"primID\", how=\"inner\")"
   ]
  },
  {
   "cell_type": "code",
   "execution_count": 10,
   "id": "20b86907-4669-49a3-a6f9-7bada8619eb1",
   "metadata": {
    "tags": []
   },
   "outputs": [],
   "source": [
    "# Get Total Time removing \"self\"\n",
    "df_TotalTime = df_actgen[df_actgen[\"activity\"]== \"self\"][[\"primID\", \"time_spent\"]]\n",
    "df_TotalTime[\"TotalTime\"] = 24 - df_TotalTime[\"time_spent\"]\n",
    "df_TotalTime.drop(columns=\"time_spent\", inplace=True)\n",
    "df_actgen = pd.merge(df_actgen, df_TotalTime, on=\"primID\", how=\"inner\")\n"
   ]
  },
  {
   "cell_type": "code",
   "execution_count": 11,
   "id": "282dc528-9c42-4093-a994-b432f9bf510c",
   "metadata": {
    "tags": []
   },
   "outputs": [
    {
     "data": {
      "text/html": [
       "<div>\n",
       "<style scoped>\n",
       "    .dataframe tbody tr th:only-of-type {\n",
       "        vertical-align: middle;\n",
       "    }\n",
       "\n",
       "    .dataframe tbody tr th {\n",
       "        vertical-align: top;\n",
       "    }\n",
       "\n",
       "    .dataframe thead th {\n",
       "        text-align: right;\n",
       "    }\n",
       "</style>\n",
       "<table border=\"1\" class=\"dataframe\">\n",
       "  <thead>\n",
       "    <tr style=\"text-align: right;\">\n",
       "      <th></th>\n",
       "      <th>primID</th>\n",
       "      <th>Gender</th>\n",
       "      <th>activity</th>\n",
       "      <th>time_spent</th>\n",
       "      <th>TotalTime</th>\n",
       "    </tr>\n",
       "  </thead>\n",
       "  <tbody>\n",
       "    <tr>\n",
       "      <th>0</th>\n",
       "      <td>TUS10202106201910111901311011001001</td>\n",
       "      <td>1</td>\n",
       "      <td>home</td>\n",
       "      <td>2.166667</td>\n",
       "      <td>14.500000</td>\n",
       "    </tr>\n",
       "    <tr>\n",
       "      <th>1</th>\n",
       "      <td>TUS10202106201910111901311011001001</td>\n",
       "      <td>1</td>\n",
       "      <td>leisure</td>\n",
       "      <td>1.333333</td>\n",
       "      <td>14.500000</td>\n",
       "    </tr>\n",
       "    <tr>\n",
       "      <th>2</th>\n",
       "      <td>TUS10202106201910111901311011001001</td>\n",
       "      <td>1</td>\n",
       "      <td>self</td>\n",
       "      <td>9.500000</td>\n",
       "      <td>14.500000</td>\n",
       "    </tr>\n",
       "    <tr>\n",
       "      <th>3</th>\n",
       "      <td>TUS10202106201910111901311011001001</td>\n",
       "      <td>1</td>\n",
       "      <td>work</td>\n",
       "      <td>11.000000</td>\n",
       "      <td>14.500000</td>\n",
       "    </tr>\n",
       "    <tr>\n",
       "      <th>4</th>\n",
       "      <td>TUS10202106201910111901311011001002</td>\n",
       "      <td>2</td>\n",
       "      <td>home</td>\n",
       "      <td>6.000000</td>\n",
       "      <td>14.500000</td>\n",
       "    </tr>\n",
       "    <tr>\n",
       "      <th>5</th>\n",
       "      <td>TUS10202106201910111901311011001002</td>\n",
       "      <td>2</td>\n",
       "      <td>leisure</td>\n",
       "      <td>2.000000</td>\n",
       "      <td>14.500000</td>\n",
       "    </tr>\n",
       "    <tr>\n",
       "      <th>6</th>\n",
       "      <td>TUS10202106201910111901311011001002</td>\n",
       "      <td>2</td>\n",
       "      <td>self</td>\n",
       "      <td>9.500000</td>\n",
       "      <td>14.500000</td>\n",
       "    </tr>\n",
       "    <tr>\n",
       "      <th>7</th>\n",
       "      <td>TUS10202106201910111901311011001002</td>\n",
       "      <td>2</td>\n",
       "      <td>work</td>\n",
       "      <td>6.500000</td>\n",
       "      <td>14.500000</td>\n",
       "    </tr>\n",
       "    <tr>\n",
       "      <th>8</th>\n",
       "      <td>TUS10202106201910111901311011002001</td>\n",
       "      <td>1</td>\n",
       "      <td>home</td>\n",
       "      <td>2.250000</td>\n",
       "      <td>12.166667</td>\n",
       "    </tr>\n",
       "    <tr>\n",
       "      <th>9</th>\n",
       "      <td>TUS10202106201910111901311011002001</td>\n",
       "      <td>1</td>\n",
       "      <td>leisure</td>\n",
       "      <td>5.916667</td>\n",
       "      <td>12.166667</td>\n",
       "    </tr>\n",
       "    <tr>\n",
       "      <th>10</th>\n",
       "      <td>TUS10202106201910111901311011002001</td>\n",
       "      <td>1</td>\n",
       "      <td>self</td>\n",
       "      <td>11.833333</td>\n",
       "      <td>12.166667</td>\n",
       "    </tr>\n",
       "    <tr>\n",
       "      <th>11</th>\n",
       "      <td>TUS10202106201910111901311011002001</td>\n",
       "      <td>1</td>\n",
       "      <td>work</td>\n",
       "      <td>4.000000</td>\n",
       "      <td>12.166667</td>\n",
       "    </tr>\n",
       "    <tr>\n",
       "      <th>12</th>\n",
       "      <td>TUS10202106201910111901311011002002</td>\n",
       "      <td>2</td>\n",
       "      <td>home</td>\n",
       "      <td>9.000000</td>\n",
       "      <td>14.166667</td>\n",
       "    </tr>\n",
       "    <tr>\n",
       "      <th>13</th>\n",
       "      <td>TUS10202106201910111901311011002002</td>\n",
       "      <td>2</td>\n",
       "      <td>leisure</td>\n",
       "      <td>5.166667</td>\n",
       "      <td>14.166667</td>\n",
       "    </tr>\n",
       "    <tr>\n",
       "      <th>14</th>\n",
       "      <td>TUS10202106201910111901311011002002</td>\n",
       "      <td>2</td>\n",
       "      <td>self</td>\n",
       "      <td>9.833333</td>\n",
       "      <td>14.166667</td>\n",
       "    </tr>\n",
       "  </tbody>\n",
       "</table>\n",
       "</div>"
      ],
      "text/plain": [
       "                                 primID Gender activity  time_spent  TotalTime\n",
       "0   TUS10202106201910111901311011001001      1     home    2.166667  14.500000\n",
       "1   TUS10202106201910111901311011001001      1  leisure    1.333333  14.500000\n",
       "2   TUS10202106201910111901311011001001      1     self    9.500000  14.500000\n",
       "3   TUS10202106201910111901311011001001      1     work   11.000000  14.500000\n",
       "4   TUS10202106201910111901311011001002      2     home    6.000000  14.500000\n",
       "5   TUS10202106201910111901311011001002      2  leisure    2.000000  14.500000\n",
       "6   TUS10202106201910111901311011001002      2     self    9.500000  14.500000\n",
       "7   TUS10202106201910111901311011001002      2     work    6.500000  14.500000\n",
       "8   TUS10202106201910111901311011002001      1     home    2.250000  12.166667\n",
       "9   TUS10202106201910111901311011002001      1  leisure    5.916667  12.166667\n",
       "10  TUS10202106201910111901311011002001      1     self   11.833333  12.166667\n",
       "11  TUS10202106201910111901311011002001      1     work    4.000000  12.166667\n",
       "12  TUS10202106201910111901311011002002      2     home    9.000000  14.166667\n",
       "13  TUS10202106201910111901311011002002      2  leisure    5.166667  14.166667\n",
       "14  TUS10202106201910111901311011002002      2     self    9.833333  14.166667"
      ]
     },
     "execution_count": 11,
     "metadata": {},
     "output_type": "execute_result"
    }
   ],
   "source": [
    "df_actgen.head(15)"
   ]
  },
  {
   "cell_type": "code",
   "execution_count": 12,
   "id": "ccb5fd2e-99f3-414b-82bc-058d37aaea33",
   "metadata": {
    "tags": []
   },
   "outputs": [],
   "source": [
    "# Before I get to calculating proportions, I need to make sure that if some activity\n",
    "# is missing for some person, make sure it has 0. \n",
    "# For each primID, I will do a cross prod with all activities\n",
    "# Then for those people that don't any such activity in a day, \n",
    "# an NA will show up - will replace NAs with 0.\n",
    "primids = pd.DataFrame(df_actgen[\"primID\"].unique())\n",
    "primids.columns=[\"primID\"]\n",
    "\n",
    "import itertools\n",
    "primids_act = pd.DataFrame(\n",
    "            list(itertools.product(primids[\"primID\"], [\"leisure\", \"self\", \"work\", \"home\"])), \n",
    "            columns=[\"primID\", \"activity\"])\n",
    "\n",
    "primids_act = pd.merge(primids_act, DF_GENDER, on=\"primID\", how=\"inner\")\n",
    "primids_act = pd.merge(primids_act, df_TotalTime, on=\"primID\", how=\"inner\")\n",
    "primids_act[\"ID_act\"] = primids_act[\"primID\"]+primids_act[\"activity\"]\n",
    "\n",
    "df_actgen[\"ID_act\"] = df_actgen[\"primID\"]+df_actgen[\"activity\"]\n",
    "\n",
    "df_actgen = pd.merge(df_actgen, primids_act, on=\"ID_act\", how=\"right\") \n",
    "df_actgen.drop(columns=[\"primID_x\", \"activity_x\", \"ID_act\", \"Gender_x\", \"TotalTime_x\"], inplace=True)\n",
    "\n",
    "df_actgen.columns = [\"time_spent\", \"primID\", \"activity\", \"gender\", \"TotalTime\"]\n",
    "df_actgen = df_actgen[[\"primID\", \"gender\", \"activity\", \"time_spent\", \"TotalTime\"]]\n",
    "df_actgen.fillna(0, inplace=True)\n"
   ]
  },
  {
   "cell_type": "code",
   "execution_count": 13,
   "id": "44ce6a79-334d-4044-b601-a7ee1ccdcea9",
   "metadata": {
    "tags": []
   },
   "outputs": [],
   "source": [
    "# Merge with Working Status. \n",
    "df_working = pd.merge(df_actgen, DF_WORKING, on=\"primID\", how=\"inner\")"
   ]
  },
  {
   "cell_type": "code",
   "execution_count": 14,
   "id": "bf1569b8-736a-43f3-9e81-dd3f1ee84c15",
   "metadata": {
    "tags": []
   },
   "outputs": [],
   "source": [
    "# Drop self\n",
    "df_working = df_working[df_working[\"activity\"] != \"self\"]\n",
    "# Calculate prop time\n",
    "df_working[\"propTime\"] = df_working[\"time_spent\"]/df_working[\"TotalTime\"]\n"
   ]
  },
  {
   "cell_type": "code",
   "execution_count": 15,
   "id": "1f5f20b7-3188-4922-b295-11aefaced7a6",
   "metadata": {
    "tags": []
   },
   "outputs": [
    {
     "data": {
      "text/html": [
       "<div>\n",
       "<style scoped>\n",
       "    .dataframe tbody tr th:only-of-type {\n",
       "        vertical-align: middle;\n",
       "    }\n",
       "\n",
       "    .dataframe tbody tr th {\n",
       "        vertical-align: top;\n",
       "    }\n",
       "\n",
       "    .dataframe thead th {\n",
       "        text-align: right;\n",
       "    }\n",
       "</style>\n",
       "<table border=\"1\" class=\"dataframe\">\n",
       "  <thead>\n",
       "    <tr style=\"text-align: right;\">\n",
       "      <th></th>\n",
       "      <th>primID</th>\n",
       "      <th>gender</th>\n",
       "      <th>activity</th>\n",
       "      <th>time_spent</th>\n",
       "      <th>TotalTime</th>\n",
       "      <th>usual principal activity: status (code)</th>\n",
       "      <th>working</th>\n",
       "      <th>propTime</th>\n",
       "    </tr>\n",
       "  </thead>\n",
       "  <tbody>\n",
       "    <tr>\n",
       "      <th>0</th>\n",
       "      <td>TUS10202106201910111901311011001001</td>\n",
       "      <td>1</td>\n",
       "      <td>leisure</td>\n",
       "      <td>1.333333</td>\n",
       "      <td>14.5</td>\n",
       "      <td>31</td>\n",
       "      <td>1</td>\n",
       "      <td>0.091954</td>\n",
       "    </tr>\n",
       "    <tr>\n",
       "      <th>1</th>\n",
       "      <td>TUS10202106201910111901311011001001</td>\n",
       "      <td>1</td>\n",
       "      <td>leisure</td>\n",
       "      <td>1.333333</td>\n",
       "      <td>14.5</td>\n",
       "      <td>31</td>\n",
       "      <td>1</td>\n",
       "      <td>0.091954</td>\n",
       "    </tr>\n",
       "    <tr>\n",
       "      <th>2</th>\n",
       "      <td>TUS10202106201910111901311011001001</td>\n",
       "      <td>1</td>\n",
       "      <td>leisure</td>\n",
       "      <td>1.333333</td>\n",
       "      <td>14.5</td>\n",
       "      <td>31</td>\n",
       "      <td>1</td>\n",
       "      <td>0.091954</td>\n",
       "    </tr>\n",
       "    <tr>\n",
       "      <th>3</th>\n",
       "      <td>TUS10202106201910111901311011001001</td>\n",
       "      <td>1</td>\n",
       "      <td>leisure</td>\n",
       "      <td>1.333333</td>\n",
       "      <td>14.5</td>\n",
       "      <td>31</td>\n",
       "      <td>1</td>\n",
       "      <td>0.091954</td>\n",
       "    </tr>\n",
       "    <tr>\n",
       "      <th>4</th>\n",
       "      <td>TUS10202106201910111901311011001001</td>\n",
       "      <td>1</td>\n",
       "      <td>leisure</td>\n",
       "      <td>1.333333</td>\n",
       "      <td>14.5</td>\n",
       "      <td>31</td>\n",
       "      <td>1</td>\n",
       "      <td>0.091954</td>\n",
       "    </tr>\n",
       "  </tbody>\n",
       "</table>\n",
       "</div>"
      ],
      "text/plain": [
       "                                primID gender activity  time_spent  TotalTime  \\\n",
       "0  TUS10202106201910111901311011001001      1  leisure    1.333333       14.5   \n",
       "1  TUS10202106201910111901311011001001      1  leisure    1.333333       14.5   \n",
       "2  TUS10202106201910111901311011001001      1  leisure    1.333333       14.5   \n",
       "3  TUS10202106201910111901311011001001      1  leisure    1.333333       14.5   \n",
       "4  TUS10202106201910111901311011001001      1  leisure    1.333333       14.5   \n",
       "\n",
       "  usual principal activity: status (code)  working  propTime  \n",
       "0                                      31        1  0.091954  \n",
       "1                                      31        1  0.091954  \n",
       "2                                      31        1  0.091954  \n",
       "3                                      31        1  0.091954  \n",
       "4                                      31        1  0.091954  "
      ]
     },
     "execution_count": 15,
     "metadata": {},
     "output_type": "execute_result"
    }
   ],
   "source": [
    "df_working.head()"
   ]
  },
  {
   "cell_type": "code",
   "execution_count": 16,
   "id": "1edeea68-cc56-45c9-ba85-f35c707da8f8",
   "metadata": {
    "tags": []
   },
   "outputs": [
    {
     "data": {
      "text/html": [
       "<div>\n",
       "<style scoped>\n",
       "    .dataframe tbody tr th:only-of-type {\n",
       "        vertical-align: middle;\n",
       "    }\n",
       "\n",
       "    .dataframe tbody tr th {\n",
       "        vertical-align: top;\n",
       "    }\n",
       "\n",
       "    .dataframe thead th {\n",
       "        text-align: right;\n",
       "    }\n",
       "</style>\n",
       "<table border=\"1\" class=\"dataframe\">\n",
       "  <thead>\n",
       "    <tr style=\"text-align: right;\">\n",
       "      <th></th>\n",
       "      <th></th>\n",
       "      <th>time_spent</th>\n",
       "    </tr>\n",
       "    <tr>\n",
       "      <th>gender</th>\n",
       "      <th>working</th>\n",
       "      <th></th>\n",
       "    </tr>\n",
       "  </thead>\n",
       "  <tbody>\n",
       "    <tr>\n",
       "      <th rowspan=\"2\" valign=\"top\">1</th>\n",
       "      <th>0</th>\n",
       "      <td>0.779853</td>\n",
       "    </tr>\n",
       "    <tr>\n",
       "      <th>1</th>\n",
       "      <td>7.178618</td>\n",
       "    </tr>\n",
       "    <tr>\n",
       "      <th rowspan=\"2\" valign=\"top\">2</th>\n",
       "      <th>0</th>\n",
       "      <td>0.578792</td>\n",
       "    </tr>\n",
       "    <tr>\n",
       "      <th>1</th>\n",
       "      <td>4.825073</td>\n",
       "    </tr>\n",
       "    <tr>\n",
       "      <th rowspan=\"2\" valign=\"top\">3</th>\n",
       "      <th>0</th>\n",
       "      <td>0.300708</td>\n",
       "    </tr>\n",
       "    <tr>\n",
       "      <th>1</th>\n",
       "      <td>7.158796</td>\n",
       "    </tr>\n",
       "  </tbody>\n",
       "</table>\n",
       "</div>"
      ],
      "text/plain": [
       "                time_spent\n",
       "gender working            \n",
       "1      0          0.779853\n",
       "       1          7.178618\n",
       "2      0          0.578792\n",
       "       1          4.825073\n",
       "3      0          0.300708\n",
       "       1          7.158796"
      ]
     },
     "execution_count": 16,
     "metadata": {},
     "output_type": "execute_result"
    }
   ],
   "source": [
    "df_working[df_working[\"activity\"] == \"work\"][[\"gender\", \"time_spent\", \"working\"]].groupby([\"gender\", \"working\"]).mean()"
   ]
  },
  {
   "cell_type": "code",
   "execution_count": 17,
   "id": "c39a4b95-f48e-4ccf-b782-e85a411724fb",
   "metadata": {
    "tags": []
   },
   "outputs": [
    {
     "data": {
      "text/html": [
       "<div>\n",
       "<style scoped>\n",
       "    .dataframe tbody tr th:only-of-type {\n",
       "        vertical-align: middle;\n",
       "    }\n",
       "\n",
       "    .dataframe tbody tr th {\n",
       "        vertical-align: top;\n",
       "    }\n",
       "\n",
       "    .dataframe thead th {\n",
       "        text-align: right;\n",
       "    }\n",
       "</style>\n",
       "<table border=\"1\" class=\"dataframe\">\n",
       "  <thead>\n",
       "    <tr style=\"text-align: right;\">\n",
       "      <th></th>\n",
       "      <th>propTime</th>\n",
       "    </tr>\n",
       "    <tr>\n",
       "      <th>activity</th>\n",
       "      <th></th>\n",
       "    </tr>\n",
       "  </thead>\n",
       "  <tbody>\n",
       "    <tr>\n",
       "      <th>home</th>\n",
       "      <td>0.143743</td>\n",
       "    </tr>\n",
       "    <tr>\n",
       "      <th>leisure</th>\n",
       "      <td>0.333190</td>\n",
       "    </tr>\n",
       "    <tr>\n",
       "      <th>work</th>\n",
       "      <td>0.523067</td>\n",
       "    </tr>\n",
       "  </tbody>\n",
       "</table>\n",
       "</div>"
      ],
      "text/plain": [
       "          propTime\n",
       "activity          \n",
       "home      0.143743\n",
       "leisure   0.333190\n",
       "work      0.523067"
      ]
     },
     "execution_count": 17,
     "metadata": {},
     "output_type": "execute_result"
    }
   ],
   "source": [
    "df_working[df_working[\"working\"] == 1][[\"activity\", \"propTime\"]].groupby([\"activity\"]).mean()"
   ]
  },
  {
   "cell_type": "code",
   "execution_count": 18,
   "id": "d6a836ce-c940-4c3d-931b-7a0d7b80c96f",
   "metadata": {
    "tags": []
   },
   "outputs": [
    {
     "data": {
      "text/html": [
       "<div>\n",
       "<style scoped>\n",
       "    .dataframe tbody tr th:only-of-type {\n",
       "        vertical-align: middle;\n",
       "    }\n",
       "\n",
       "    .dataframe tbody tr th {\n",
       "        vertical-align: top;\n",
       "    }\n",
       "\n",
       "    .dataframe thead th {\n",
       "        text-align: right;\n",
       "    }\n",
       "</style>\n",
       "<table border=\"1\" class=\"dataframe\">\n",
       "  <thead>\n",
       "    <tr style=\"text-align: right;\">\n",
       "      <th></th>\n",
       "      <th></th>\n",
       "      <th></th>\n",
       "      <th>propTime</th>\n",
       "    </tr>\n",
       "    <tr>\n",
       "      <th>gender</th>\n",
       "      <th>working</th>\n",
       "      <th>activity</th>\n",
       "      <th></th>\n",
       "    </tr>\n",
       "  </thead>\n",
       "  <tbody>\n",
       "    <tr>\n",
       "      <th rowspan=\"6\" valign=\"top\">1</th>\n",
       "      <th rowspan=\"3\" valign=\"top\">0</th>\n",
       "      <th>home</th>\n",
       "      <td>0.133729</td>\n",
       "    </tr>\n",
       "    <tr>\n",
       "      <th>leisure</th>\n",
       "      <td>0.798298</td>\n",
       "    </tr>\n",
       "    <tr>\n",
       "      <th>work</th>\n",
       "      <td>0.067973</td>\n",
       "    </tr>\n",
       "    <tr>\n",
       "      <th rowspan=\"3\" valign=\"top\">1</th>\n",
       "      <th>home</th>\n",
       "      <td>0.068504</td>\n",
       "    </tr>\n",
       "    <tr>\n",
       "      <th>leisure</th>\n",
       "      <td>0.356202</td>\n",
       "    </tr>\n",
       "    <tr>\n",
       "      <th>work</th>\n",
       "      <td>0.575294</td>\n",
       "    </tr>\n",
       "    <tr>\n",
       "      <th rowspan=\"6\" valign=\"top\">2</th>\n",
       "      <th rowspan=\"3\" valign=\"top\">0</th>\n",
       "      <th>home</th>\n",
       "      <td>0.578327</td>\n",
       "    </tr>\n",
       "    <tr>\n",
       "      <th>leisure</th>\n",
       "      <td>0.375779</td>\n",
       "    </tr>\n",
       "    <tr>\n",
       "      <th>work</th>\n",
       "      <td>0.045894</td>\n",
       "    </tr>\n",
       "    <tr>\n",
       "      <th rowspan=\"3\" valign=\"top\">1</th>\n",
       "      <th>home</th>\n",
       "      <td>0.373369</td>\n",
       "    </tr>\n",
       "    <tr>\n",
       "      <th>leisure</th>\n",
       "      <td>0.262956</td>\n",
       "    </tr>\n",
       "    <tr>\n",
       "      <th>work</th>\n",
       "      <td>0.363675</td>\n",
       "    </tr>\n",
       "    <tr>\n",
       "      <th rowspan=\"6\" valign=\"top\">3</th>\n",
       "      <th rowspan=\"3\" valign=\"top\">0</th>\n",
       "      <th>home</th>\n",
       "      <td>0.595676</td>\n",
       "    </tr>\n",
       "    <tr>\n",
       "      <th>leisure</th>\n",
       "      <td>0.374629</td>\n",
       "    </tr>\n",
       "    <tr>\n",
       "      <th>work</th>\n",
       "      <td>0.029695</td>\n",
       "    </tr>\n",
       "    <tr>\n",
       "      <th rowspan=\"3\" valign=\"top\">1</th>\n",
       "      <th>home</th>\n",
       "      <td>0.077744</td>\n",
       "    </tr>\n",
       "    <tr>\n",
       "      <th>leisure</th>\n",
       "      <td>0.355583</td>\n",
       "    </tr>\n",
       "    <tr>\n",
       "      <th>work</th>\n",
       "      <td>0.566674</td>\n",
       "    </tr>\n",
       "  </tbody>\n",
       "</table>\n",
       "</div>"
      ],
      "text/plain": [
       "                         propTime\n",
       "gender working activity          \n",
       "1      0       home      0.133729\n",
       "               leisure   0.798298\n",
       "               work      0.067973\n",
       "       1       home      0.068504\n",
       "               leisure   0.356202\n",
       "               work      0.575294\n",
       "2      0       home      0.578327\n",
       "               leisure   0.375779\n",
       "               work      0.045894\n",
       "       1       home      0.373369\n",
       "               leisure   0.262956\n",
       "               work      0.363675\n",
       "3      0       home      0.595676\n",
       "               leisure   0.374629\n",
       "               work      0.029695\n",
       "       1       home      0.077744\n",
       "               leisure   0.355583\n",
       "               work      0.566674"
      ]
     },
     "execution_count": 18,
     "metadata": {},
     "output_type": "execute_result"
    }
   ],
   "source": [
    "df_working[[\"gender\", \"activity\", \"working\", \"propTime\"]].groupby([\"gender\", \"working\", \"activity\"]).mean()"
   ]
  },
  {
   "cell_type": "code",
   "execution_count": null,
   "id": "d2b3a2c3-2587-414f-87a1-1c3739e967ae",
   "metadata": {},
   "outputs": [],
   "source": []
  },
  {
   "cell_type": "code",
   "execution_count": 19,
   "id": "4dda4c86-d4d7-41dd-9c56-b468f48c27e6",
   "metadata": {
    "tags": []
   },
   "outputs": [
    {
     "ename": "NameError",
     "evalue": "name 'df_w' is not defined",
     "output_type": "error",
     "traceback": [
      "\u001b[1;31m---------------------------------------------------------------------------\u001b[0m",
      "\u001b[1;31mNameError\u001b[0m                                 Traceback (most recent call last)",
      "Cell \u001b[1;32mIn[19], line 8\u001b[0m\n\u001b[0;32m      6\u001b[0m df_working \u001b[38;5;241m=\u001b[39m df_working[df_working[\u001b[38;5;124m\"\u001b[39m\u001b[38;5;124mworking\u001b[39m\u001b[38;5;124m\"\u001b[39m] \u001b[38;5;241m==\u001b[39m \u001b[38;5;241m1\u001b[39m]\n\u001b[0;32m      7\u001b[0m df_working\u001b[38;5;241m.\u001b[39mdrop(columns\u001b[38;5;241m=\u001b[39m[\u001b[38;5;124m\"\u001b[39m\u001b[38;5;124mworking\u001b[39m\u001b[38;5;124m\"\u001b[39m], inplace\u001b[38;5;241m=\u001b[39m\u001b[38;5;28;01mTrue\u001b[39;00m)\n\u001b[1;32m----> 8\u001b[0m df_w\n",
      "\u001b[1;31mNameError\u001b[0m: name 'df_w' is not defined"
     ]
    }
   ],
   "source": [
    "# Here I want to do two things: \n",
    "# 1. First, calculate time spent by only working individuals on working using TUS. \n",
    "# 2. Second, replace time spent by only working individuals from PLFS, and then calculate their prop. of day.\n",
    "\n",
    "df_working = pd.merge(df_actgen, DF_WORKING, on=\"primID\", how=\"inner\")\n",
    "df_working = df_working[df_working[\"working\"] == 1]\n",
    "df_working.drop(columns=[\"working\"], inplace=True)\n",
    "df_w"
   ]
  },
  {
   "cell_type": "code",
   "execution_count": null,
   "id": "32516d80-50b6-49d9-99d4-90aee54b9bdc",
   "metadata": {},
   "outputs": [],
   "source": []
  },
  {
   "cell_type": "code",
   "execution_count": null,
   "id": "3f52ec45-a807-4d4a-b3b0-1af61918281b",
   "metadata": {},
   "outputs": [],
   "source": []
  }
 ],
 "metadata": {
  "kernelspec": {
   "display_name": "Python 3 (ipykernel)",
   "language": "python",
   "name": "python3"
  },
  "language_info": {
   "codemirror_mode": {
    "name": "ipython",
    "version": 3
   },
   "file_extension": ".py",
   "mimetype": "text/x-python",
   "name": "python",
   "nbconvert_exporter": "python",
   "pygments_lexer": "ipython3",
   "version": "3.11.5"
  }
 },
 "nbformat": 4,
 "nbformat_minor": 5
}
