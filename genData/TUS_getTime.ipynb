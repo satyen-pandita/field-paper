{
 "cells": [
  {
   "cell_type": "markdown",
   "id": "9266c146-1a18-433b-8448-62c7ae8432db",
   "metadata": {},
   "source": [
    "### In this file \n",
    "From L5 data, I create how much time each primID spends in each activity"
   ]
  },
  {
   "cell_type": "code",
   "execution_count": 1,
   "id": "dd946cc0-3111-42f7-8207-ccf02ac80f6b",
   "metadata": {
    "tags": []
   },
   "outputs": [],
   "source": [
    "import pandas as pd\n",
    "import os\n",
    "from datetime import datetime\n",
    "import copy"
   ]
  },
  {
   "cell_type": "code",
   "execution_count": 2,
   "id": "2103d1a4-0046-4c00-aa84-9561cf1d0fb2",
   "metadata": {
    "tags": []
   },
   "outputs": [],
   "source": [
    "################# GLOBAL VARIABLES ######################\n",
    "\n",
    "# Definitions from PLFS 2018-19 Annual Report, Concepts and Definitions (2.38.1)\n",
    "# Problematic codes for self employed criteria: `21` - worked in household enterprises (self-employed) as helper\n",
    "SELF_EMP_CODES = [\"11\", \"12\", \"21\"]\n",
    "REG_EMP_CODES = [\"31\"]\n",
    "CASUAL_EMP_CODES = [\"41\", \"42\", \"51\", \"61\", \"62\", \"71\", \"72\"]\n",
    "\n",
    "NOT_REG_CODES = SELF_EMP_CODES + CASUAL_EMP_CODES\n",
    "\n",
    "EMP_CODES = SELF_EMP_CODES + REG_EMP_CODES + CASUAL_EMP_CODES\n",
    "UNEMP_CODES = [\"81\", \"82\"]\n",
    "LF_CODES = EMP_CODES + UNEMP_CODES\n",
    "NOT_IN_LF_CODES = [str(x) for x in list(range(91,100))]\n",
    "\n",
    "CODE_MAP = {\"1\": \"work\", \"2\": \"work\", \"3\": \"home\", \"4\": \"home\", \"5\": \"home\", \"6\": \"leisure\", \"7\": \"leisure\", \"8\": \"leisure\", \"9\": \"self\"}"
   ]
  },
  {
   "cell_type": "code",
   "execution_count": 3,
   "id": "7007d024-58b5-4f1f-a56f-d9f83c38e43e",
   "metadata": {
    "tags": []
   },
   "outputs": [],
   "source": [
    "df_L5 = pd.read_pickle(\"df_L5.pkl\")"
   ]
  },
  {
   "cell_type": "code",
   "execution_count": 4,
   "id": "97e9cf15-a973-42b4-b812-c952822bf847",
   "metadata": {
    "tags": []
   },
   "outputs": [
    {
     "data": {
      "text/plain": [
       "Index(['Common-ID', 'Level', 'Filler', 'Serial no.of member', 'age',\n",
       "       'srl. No of activity', 'time from', 'time to',\n",
       "       'whether performed multiple activity in the time slot',\n",
       "       'whether simultaneous activity', 'whether a major activity',\n",
       "       '3-didit activity code', 'where the activity was performed',\n",
       "       'unpaid/paid status of activity', 'enterprise type', 'Blank', 'NSC',\n",
       "       'MULT', 'primID'],\n",
       "      dtype='object', name='item')"
      ]
     },
     "execution_count": 4,
     "metadata": {},
     "output_type": "execute_result"
    }
   ],
   "source": [
    "df_L5.columns"
   ]
  },
  {
   "cell_type": "code",
   "execution_count": 5,
   "id": "895576dd-be32-4035-9e96-4ce1745616f3",
   "metadata": {
    "tags": []
   },
   "outputs": [],
   "source": [
    "df_L5 = df_L5[df_L5[\"3-didit activity code\"].apply(lambda x: len(x) > 0)] # There is one entry that is empty.\n",
    "df_L5[\"major_code\"] = df_L5[\"3-didit activity code\"].apply(lambda x: str(x)[0])"
   ]
  },
  {
   "cell_type": "code",
   "execution_count": 6,
   "id": "9fa1c1c5-b266-45f1-8bb1-76d25ba68907",
   "metadata": {
    "tags": []
   },
   "outputs": [],
   "source": [
    "df_L5 = df_L5[df_L5.loc[:,\"time from\"].isna() != True]"
   ]
  },
  {
   "cell_type": "code",
   "execution_count": 7,
   "id": "93b98ed0-581c-4157-9213-5d52d611c614",
   "metadata": {
    "tags": []
   },
   "outputs": [],
   "source": [
    "df_L5.loc[:,'time from'] = df_L5.loc[:,\"time from\"].apply(lambda x: datetime.strptime(x, '%H:%M'))\n",
    "df_L5.loc[:,'time to'] = df_L5.loc[:,\"time to\"].apply(lambda x: datetime.strptime(x, '%H:%M'))\n",
    "df_L5.loc[:,'time_spent'] = (df_L5.loc[:,'time to']-df_L5.loc[:,'time from']).apply(lambda x: x.total_seconds()/3600)\n",
    "df_L5.loc[:,'time_spent'] = df_L5.loc[:,'time_spent'].apply(lambda x: x+24.0 if x < 0 else x)"
   ]
  },
  {
   "cell_type": "code",
   "execution_count": 8,
   "id": "fbf68754-092c-4fd7-9fb2-e102dd51b190",
   "metadata": {
    "tags": []
   },
   "outputs": [],
   "source": [
    "# Handle multiple: Split time between these activities - this will get Total Time to be 24 hours. \n",
    "# Create id + time_slot: Then each id and time slot that has multiple entries, give equally to each. That's df_factor.\n",
    "df_L5.loc[:,\"time_slot\"] = df_L5.loc[:,\"time from\"].apply(lambda x: x.strftime(\"%H:%M\")) + df_L5.loc[:,\"time to\"].apply(lambda x: x.strftime(\"%H:%M\"))\n",
    "df_L5.loc[:,\"id_time_slot\"] = df_L5[\"primID\"]+df_L5[\"time_slot\"]\n",
    "# no of time each time slot appears with a primID is the factor applied to time spent \n",
    "df_factor = df_L5[\"id_time_slot\"].value_counts()\n",
    "df_factor = pd.DataFrame(df_factor)\n",
    "df_factor.reset_index(inplace=True)\n",
    "df_factor.columns=[\"id_time_slot\", \"factor\"]\n",
    "df_L5 = pd.merge(df_L5, df_factor, on=\"id_time_slot\", how=\"inner\")\n",
    "df_L5.loc[:,\"time_spent\"] = df_L5[\"time_spent\"]/df_L5[\"factor\"]"
   ]
  },
  {
   "cell_type": "code",
   "execution_count": 9,
   "id": "646a6731-0e55-47af-90da-5b0a9086e2f6",
   "metadata": {
    "tags": []
   },
   "outputs": [
    {
     "data": {
      "text/html": [
       "<div>\n",
       "<style scoped>\n",
       "    .dataframe tbody tr th:only-of-type {\n",
       "        vertical-align: middle;\n",
       "    }\n",
       "\n",
       "    .dataframe tbody tr th {\n",
       "        vertical-align: top;\n",
       "    }\n",
       "\n",
       "    .dataframe thead th {\n",
       "        text-align: right;\n",
       "    }\n",
       "</style>\n",
       "<table border=\"1\" class=\"dataframe\">\n",
       "  <thead>\n",
       "    <tr style=\"text-align: right;\">\n",
       "      <th></th>\n",
       "      <th>primID</th>\n",
       "      <th>major_code</th>\n",
       "      <th>time_spent</th>\n",
       "    </tr>\n",
       "  </thead>\n",
       "  <tbody>\n",
       "    <tr>\n",
       "      <th>0</th>\n",
       "      <td>TUS10202106201910111901311011001001</td>\n",
       "      <td>9</td>\n",
       "      <td>2.000000</td>\n",
       "    </tr>\n",
       "    <tr>\n",
       "      <th>1</th>\n",
       "      <td>TUS10202106201910111901311011001001</td>\n",
       "      <td>9</td>\n",
       "      <td>0.166667</td>\n",
       "    </tr>\n",
       "    <tr>\n",
       "      <th>2</th>\n",
       "      <td>TUS10202106201910111901311011001001</td>\n",
       "      <td>9</td>\n",
       "      <td>0.166667</td>\n",
       "    </tr>\n",
       "    <tr>\n",
       "      <th>3</th>\n",
       "      <td>TUS10202106201910111901311011001001</td>\n",
       "      <td>7</td>\n",
       "      <td>0.166667</td>\n",
       "    </tr>\n",
       "    <tr>\n",
       "      <th>4</th>\n",
       "      <td>TUS10202106201910111901311011001001</td>\n",
       "      <td>9</td>\n",
       "      <td>0.250000</td>\n",
       "    </tr>\n",
       "    <tr>\n",
       "      <th>5</th>\n",
       "      <td>TUS10202106201910111901311011001001</td>\n",
       "      <td>8</td>\n",
       "      <td>0.250000</td>\n",
       "    </tr>\n",
       "    <tr>\n",
       "      <th>6</th>\n",
       "      <td>TUS10202106201910111901311011001001</td>\n",
       "      <td>4</td>\n",
       "      <td>1.000000</td>\n",
       "    </tr>\n",
       "    <tr>\n",
       "      <th>7</th>\n",
       "      <td>TUS10202106201910111901311011001001</td>\n",
       "      <td>1</td>\n",
       "      <td>0.500000</td>\n",
       "    </tr>\n",
       "    <tr>\n",
       "      <th>8</th>\n",
       "      <td>TUS10202106201910111901311011001001</td>\n",
       "      <td>1</td>\n",
       "      <td>4.500000</td>\n",
       "    </tr>\n",
       "    <tr>\n",
       "      <th>9</th>\n",
       "      <td>TUS10202106201910111901311011001001</td>\n",
       "      <td>1</td>\n",
       "      <td>1.000000</td>\n",
       "    </tr>\n",
       "    <tr>\n",
       "      <th>10</th>\n",
       "      <td>TUS10202106201910111901311011001001</td>\n",
       "      <td>1</td>\n",
       "      <td>4.000000</td>\n",
       "    </tr>\n",
       "    <tr>\n",
       "      <th>11</th>\n",
       "      <td>TUS10202106201910111901311011001001</td>\n",
       "      <td>1</td>\n",
       "      <td>1.000000</td>\n",
       "    </tr>\n",
       "    <tr>\n",
       "      <th>12</th>\n",
       "      <td>TUS10202106201910111901311011001001</td>\n",
       "      <td>8</td>\n",
       "      <td>0.166667</td>\n",
       "    </tr>\n",
       "    <tr>\n",
       "      <th>13</th>\n",
       "      <td>TUS10202106201910111901311011001001</td>\n",
       "      <td>9</td>\n",
       "      <td>0.166667</td>\n",
       "    </tr>\n",
       "    <tr>\n",
       "      <th>14</th>\n",
       "      <td>TUS10202106201910111901311011001001</td>\n",
       "      <td>4</td>\n",
       "      <td>0.166667</td>\n",
       "    </tr>\n",
       "  </tbody>\n",
       "</table>\n",
       "</div>"
      ],
      "text/plain": [
       "                                 primID major_code  time_spent\n",
       "0   TUS10202106201910111901311011001001          9    2.000000\n",
       "1   TUS10202106201910111901311011001001          9    0.166667\n",
       "2   TUS10202106201910111901311011001001          9    0.166667\n",
       "3   TUS10202106201910111901311011001001          7    0.166667\n",
       "4   TUS10202106201910111901311011001001          9    0.250000\n",
       "5   TUS10202106201910111901311011001001          8    0.250000\n",
       "6   TUS10202106201910111901311011001001          4    1.000000\n",
       "7   TUS10202106201910111901311011001001          1    0.500000\n",
       "8   TUS10202106201910111901311011001001          1    4.500000\n",
       "9   TUS10202106201910111901311011001001          1    1.000000\n",
       "10  TUS10202106201910111901311011001001          1    4.000000\n",
       "11  TUS10202106201910111901311011001001          1    1.000000\n",
       "12  TUS10202106201910111901311011001001          8    0.166667\n",
       "13  TUS10202106201910111901311011001001          9    0.166667\n",
       "14  TUS10202106201910111901311011001001          4    0.166667"
      ]
     },
     "execution_count": 9,
     "metadata": {},
     "output_type": "execute_result"
    }
   ],
   "source": [
    "df_L5[[\"primID\", \"major_code\", \"time_spent\"]].head(15)"
   ]
  },
  {
   "cell_type": "code",
   "execution_count": 10,
   "id": "cba25331-c741-423c-9b3b-52d1f0bc5d91",
   "metadata": {
    "tags": []
   },
   "outputs": [
    {
     "name": "stderr",
     "output_type": "stream",
     "text": [
      "C:\\Users\\shrey\\AppData\\Local\\Temp\\ipykernel_17288\\855945185.py:3: SettingWithCopyWarning: \n",
      "A value is trying to be set on a copy of a slice from a DataFrame.\n",
      "Try using .loc[row_indexer,col_indexer] = value instead\n",
      "\n",
      "See the caveats in the documentation: https://pandas.pydata.org/pandas-docs/stable/user_guide/indexing.html#returning-a-view-versus-a-copy\n",
      "  df_sub.loc[:,'activity'] = df_sub.loc[:,'major_code'].apply(lambda x: CODE_MAP[x])\n",
      "C:\\Users\\shrey\\AppData\\Local\\Temp\\ipykernel_17288\\855945185.py:4: SettingWithCopyWarning: \n",
      "A value is trying to be set on a copy of a slice from a DataFrame\n",
      "\n",
      "See the caveats in the documentation: https://pandas.pydata.org/pandas-docs/stable/user_guide/indexing.html#returning-a-view-versus-a-copy\n",
      "  df_sub.drop(columns=['major_code'], inplace=True)\n"
     ]
    }
   ],
   "source": [
    "# Calculating time spent in each activity: Need to take out other columns\n",
    "df_sub = df_L5[[\"primID\", \"major_code\", \"time_spent\"]]\n",
    "df_sub.loc[:,'activity'] = df_sub.loc[:,'major_code'].apply(lambda x: CODE_MAP[x])\n",
    "df_sub.drop(columns=['major_code'], inplace=True)\n",
    "# Now for each person, calculate time spent on each activity\n",
    "df_sub_agg = df_sub.groupby([\"primID\", \"activity\"]).sum(\"time_spent\")\n",
    "df_sub_agg.reset_index(inplace=True)"
   ]
  },
  {
   "cell_type": "code",
   "execution_count": 11,
   "id": "697e97d6-b210-407d-9f0d-f62b57bc951a",
   "metadata": {
    "tags": []
   },
   "outputs": [
    {
     "data": {
      "text/html": [
       "<div>\n",
       "<style scoped>\n",
       "    .dataframe tbody tr th:only-of-type {\n",
       "        vertical-align: middle;\n",
       "    }\n",
       "\n",
       "    .dataframe tbody tr th {\n",
       "        vertical-align: top;\n",
       "    }\n",
       "\n",
       "    .dataframe thead th {\n",
       "        text-align: right;\n",
       "    }\n",
       "</style>\n",
       "<table border=\"1\" class=\"dataframe\">\n",
       "  <thead>\n",
       "    <tr style=\"text-align: right;\">\n",
       "      <th></th>\n",
       "      <th>primID</th>\n",
       "      <th>activity</th>\n",
       "      <th>time_spent</th>\n",
       "    </tr>\n",
       "  </thead>\n",
       "  <tbody>\n",
       "    <tr>\n",
       "      <th>0</th>\n",
       "      <td>TUS10001106201913310301382332001001</td>\n",
       "      <td>home</td>\n",
       "      <td>0.75</td>\n",
       "    </tr>\n",
       "    <tr>\n",
       "      <th>1</th>\n",
       "      <td>TUS10001106201913310301382332001001</td>\n",
       "      <td>leisure</td>\n",
       "      <td>2.75</td>\n",
       "    </tr>\n",
       "    <tr>\n",
       "      <th>2</th>\n",
       "      <td>TUS10001106201913310301382332001001</td>\n",
       "      <td>self</td>\n",
       "      <td>12.50</td>\n",
       "    </tr>\n",
       "    <tr>\n",
       "      <th>3</th>\n",
       "      <td>TUS10001106201913310301382332001001</td>\n",
       "      <td>work</td>\n",
       "      <td>8.00</td>\n",
       "    </tr>\n",
       "    <tr>\n",
       "      <th>4</th>\n",
       "      <td>TUS10001106201913310301382332001002</td>\n",
       "      <td>home</td>\n",
       "      <td>3.75</td>\n",
       "    </tr>\n",
       "    <tr>\n",
       "      <th>5</th>\n",
       "      <td>TUS10001106201913310301382332001002</td>\n",
       "      <td>leisure</td>\n",
       "      <td>3.25</td>\n",
       "    </tr>\n",
       "    <tr>\n",
       "      <th>6</th>\n",
       "      <td>TUS10001106201913310301382332001002</td>\n",
       "      <td>self</td>\n",
       "      <td>12.00</td>\n",
       "    </tr>\n",
       "    <tr>\n",
       "      <th>7</th>\n",
       "      <td>TUS10001106201913310301382332001002</td>\n",
       "      <td>work</td>\n",
       "      <td>5.00</td>\n",
       "    </tr>\n",
       "    <tr>\n",
       "      <th>8</th>\n",
       "      <td>TUS10001106201913310301382332001003</td>\n",
       "      <td>home</td>\n",
       "      <td>0.25</td>\n",
       "    </tr>\n",
       "    <tr>\n",
       "      <th>9</th>\n",
       "      <td>TUS10001106201913310301382332001003</td>\n",
       "      <td>leisure</td>\n",
       "      <td>4.00</td>\n",
       "    </tr>\n",
       "  </tbody>\n",
       "</table>\n",
       "</div>"
      ],
      "text/plain": [
       "                                primID activity  time_spent\n",
       "0  TUS10001106201913310301382332001001     home        0.75\n",
       "1  TUS10001106201913310301382332001001  leisure        2.75\n",
       "2  TUS10001106201913310301382332001001     self       12.50\n",
       "3  TUS10001106201913310301382332001001     work        8.00\n",
       "4  TUS10001106201913310301382332001002     home        3.75\n",
       "5  TUS10001106201913310301382332001002  leisure        3.25\n",
       "6  TUS10001106201913310301382332001002     self       12.00\n",
       "7  TUS10001106201913310301382332001002     work        5.00\n",
       "8  TUS10001106201913310301382332001003     home        0.25\n",
       "9  TUS10001106201913310301382332001003  leisure        4.00"
      ]
     },
     "execution_count": 11,
     "metadata": {},
     "output_type": "execute_result"
    }
   ],
   "source": [
    "df_sub_agg.head(10)"
   ]
  },
  {
   "cell_type": "code",
   "execution_count": 12,
   "id": "b30b0d78-6b40-490d-a0c3-0bf41b577f70",
   "metadata": {
    "tags": []
   },
   "outputs": [],
   "source": [
    "# I need to make sure that if some activity\n",
    "# is missing for some person, make sure it has 0. \n",
    "# For each primID, I will do a cross prod with all activities\n",
    "# Then for those people that don't any such activity in a day,\n",
    "# an NA will show up - will replace NAs with 0.\n",
    "primids = pd.DataFrame(df_sub_agg[\"primID\"].unique())\n",
    "primids.columns=[\"primID\"]\n",
    "\n",
    "import itertools\n",
    "primids_act = pd.DataFrame(\n",
    "            list(itertools.product(primids[\"primID\"], [\"leisure\", \"self\", \"work\", \"home\"])), \n",
    "            columns=[\"primID\", \"activity\"])\n",
    "primids_act[\"ID_act\"] = primids_act[\"primID\"]+primids_act[\"activity\"]\n",
    "\n",
    "df_sub_agg[\"ID_act\"] = df_sub_agg[\"primID\"]+df_sub_agg[\"activity\"]\n",
    "df_sub_agg = pd.merge(df_sub_agg, primids_act, on=\"ID_act\", how=\"right\") \n",
    "df_sub_agg.drop(columns=[\"activity_x\", \"primID_x\", \"ID_act\"], inplace=True)\n",
    "df_sub_agg.rename(columns={\"primID_y\": \"primID\", \"activity_y\": \"activity\"}, inplace=True)\n",
    "df_sub_agg.fillna(0, inplace=True)\n",
    "# df_sub_agg.head(25)"
   ]
  },
  {
   "cell_type": "code",
   "execution_count": 13,
   "id": "7dc5a3e5-2849-48be-9af7-ae359e52bc57",
   "metadata": {
    "tags": []
   },
   "outputs": [],
   "source": [
    "# Get Total Time net of Self\n",
    "df_TotalTime = df_sub_agg[df_sub_agg[\"activity\"]== \"self\"][[\"primID\", \"time_spent\"]]\n",
    "df_TotalTime[\"TotalTime\"] = 24 - df_TotalTime[\"time_spent\"]\n",
    "df_TotalTime.drop(columns=\"time_spent\", inplace=True)"
   ]
  },
  {
   "cell_type": "code",
   "execution_count": 14,
   "id": "af6d0bbf-4149-4a7d-be07-9c61198f63ca",
   "metadata": {
    "tags": []
   },
   "outputs": [
    {
     "data": {
      "text/html": [
       "<div>\n",
       "<style scoped>\n",
       "    .dataframe tbody tr th:only-of-type {\n",
       "        vertical-align: middle;\n",
       "    }\n",
       "\n",
       "    .dataframe tbody tr th {\n",
       "        vertical-align: top;\n",
       "    }\n",
       "\n",
       "    .dataframe thead th {\n",
       "        text-align: right;\n",
       "    }\n",
       "</style>\n",
       "<table border=\"1\" class=\"dataframe\">\n",
       "  <thead>\n",
       "    <tr style=\"text-align: right;\">\n",
       "      <th></th>\n",
       "      <th>primID</th>\n",
       "      <th>TotalTime</th>\n",
       "    </tr>\n",
       "  </thead>\n",
       "  <tbody>\n",
       "    <tr>\n",
       "      <th>1</th>\n",
       "      <td>TUS10001106201913310301382332001001</td>\n",
       "      <td>11.50</td>\n",
       "    </tr>\n",
       "    <tr>\n",
       "      <th>5</th>\n",
       "      <td>TUS10001106201913310301382332001002</td>\n",
       "      <td>12.00</td>\n",
       "    </tr>\n",
       "    <tr>\n",
       "      <th>9</th>\n",
       "      <td>TUS10001106201913310301382332001003</td>\n",
       "      <td>11.25</td>\n",
       "    </tr>\n",
       "    <tr>\n",
       "      <th>13</th>\n",
       "      <td>TUS10001106201913310301382332001004</td>\n",
       "      <td>11.75</td>\n",
       "    </tr>\n",
       "    <tr>\n",
       "      <th>17</th>\n",
       "      <td>TUS10001106201913310301382332002001</td>\n",
       "      <td>9.50</td>\n",
       "    </tr>\n",
       "    <tr>\n",
       "      <th>21</th>\n",
       "      <td>TUS10001106201913310301382332003001</td>\n",
       "      <td>10.25</td>\n",
       "    </tr>\n",
       "    <tr>\n",
       "      <th>25</th>\n",
       "      <td>TUS10001106201913310301382332003002</td>\n",
       "      <td>10.75</td>\n",
       "    </tr>\n",
       "    <tr>\n",
       "      <th>29</th>\n",
       "      <td>TUS10001106201913310301382332003003</td>\n",
       "      <td>10.75</td>\n",
       "    </tr>\n",
       "    <tr>\n",
       "      <th>33</th>\n",
       "      <td>TUS10001106201913310301382332003004</td>\n",
       "      <td>8.25</td>\n",
       "    </tr>\n",
       "    <tr>\n",
       "      <th>37</th>\n",
       "      <td>TUS10001106201913310301382332004001</td>\n",
       "      <td>11.00</td>\n",
       "    </tr>\n",
       "  </tbody>\n",
       "</table>\n",
       "</div>"
      ],
      "text/plain": [
       "                                 primID  TotalTime\n",
       "1   TUS10001106201913310301382332001001      11.50\n",
       "5   TUS10001106201913310301382332001002      12.00\n",
       "9   TUS10001106201913310301382332001003      11.25\n",
       "13  TUS10001106201913310301382332001004      11.75\n",
       "17  TUS10001106201913310301382332002001       9.50\n",
       "21  TUS10001106201913310301382332003001      10.25\n",
       "25  TUS10001106201913310301382332003002      10.75\n",
       "29  TUS10001106201913310301382332003003      10.75\n",
       "33  TUS10001106201913310301382332003004       8.25\n",
       "37  TUS10001106201913310301382332004001      11.00"
      ]
     },
     "execution_count": 14,
     "metadata": {},
     "output_type": "execute_result"
    }
   ],
   "source": [
    "df_TotalTime.head(10)"
   ]
  },
  {
   "cell_type": "code",
   "execution_count": 15,
   "id": "2c20d707-274a-47ce-92a4-0eb1199d33f6",
   "metadata": {
    "tags": []
   },
   "outputs": [],
   "source": [
    "# merge total time available df with data frame with time in each activity\n",
    "df_sub_agg = pd.merge(df_sub_agg, df_TotalTime, on=\"primID\", how=\"outer\",indicator=True)"
   ]
  },
  {
   "cell_type": "code",
   "execution_count": 16,
   "id": "a3629aad-3411-4524-9f7e-0a2822d33b8b",
   "metadata": {
    "tags": []
   },
   "outputs": [
    {
     "data": {
      "text/plain": [
       "_merge\n",
       "both          1781196\n",
       "left_only           0\n",
       "right_only          0\n",
       "Name: count, dtype: int64"
      ]
     },
     "execution_count": 16,
     "metadata": {},
     "output_type": "execute_result"
    }
   ],
   "source": [
    "df_sub_agg[\"_merge\"].value_counts()"
   ]
  },
  {
   "cell_type": "code",
   "execution_count": 17,
   "id": "5d68f3db-6d30-4203-9f49-4f73df0e7f8f",
   "metadata": {
    "tags": []
   },
   "outputs": [],
   "source": [
    "df_sub_agg.drop(columns=[\"_merge\"], inplace=True)"
   ]
  },
  {
   "cell_type": "code",
   "execution_count": 18,
   "id": "0b208d2f-1ac4-4645-b500-5df34d2cde87",
   "metadata": {
    "tags": []
   },
   "outputs": [],
   "source": [
    "df_sub_agg.fillna(0,inplace=True)"
   ]
  },
  {
   "cell_type": "code",
   "execution_count": 19,
   "id": "b3cc45d5-3c56-4023-8566-d7f6d0f3c5b1",
   "metadata": {
    "tags": []
   },
   "outputs": [],
   "source": [
    "# Final Output: \n",
    "df_sub_agg.to_pickle(\"df_timeSpent.pkl\")"
   ]
  },
  {
   "cell_type": "code",
   "execution_count": 20,
   "id": "17bb050f-754b-4803-ad62-c1c93e259514",
   "metadata": {
    "tags": []
   },
   "outputs": [],
   "source": [
    "############################## END ########################################"
   ]
  },
  {
   "cell_type": "code",
   "execution_count": null,
   "id": "618fb9ee-53ff-42c8-b98f-40486044cb25",
   "metadata": {},
   "outputs": [],
   "source": []
  }
 ],
 "metadata": {
  "kernelspec": {
   "display_name": "Python 3 (ipykernel)",
   "language": "python",
   "name": "python3"
  },
  "language_info": {
   "codemirror_mode": {
    "name": "ipython",
    "version": 3
   },
   "file_extension": ".py",
   "mimetype": "text/x-python",
   "name": "python",
   "nbconvert_exporter": "python",
   "pygments_lexer": "ipython3",
   "version": "3.11.5"
  }
 },
 "nbformat": 4,
 "nbformat_minor": 5
}
