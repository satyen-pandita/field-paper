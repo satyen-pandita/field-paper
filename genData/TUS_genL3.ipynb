{
 "cells": [
  {
   "cell_type": "code",
   "execution_count": 4,
   "id": "3cd10036-ca24-4297-a368-9b41f9254940",
   "metadata": {
    "tags": []
   },
   "outputs": [],
   "source": [
    "import os\n",
    "import pandas as pd"
   ]
  },
  {
   "cell_type": "code",
   "execution_count": 17,
   "id": "d1aa0b53-9dcb-4314-bbb9-85a68497a309",
   "metadata": {
    "tags": []
   },
   "outputs": [],
   "source": [
    "layoutFile_L3 = pd.read_excel(\"../raw/TUS_2019/Data_Layout_TUS106.xlsx\", header=63,nrows=21,usecols=[1,6,8])\n",
    "layoutFile_L3.columns=['item', 'start', 'end']\n",
    "layoutFile_L3.set_index(\"item\", inplace=True)"
   ]
  },
  {
   "cell_type": "code",
   "execution_count": 18,
   "id": "227127c9-4c68-4a7d-8a0f-d299e034c8a9",
   "metadata": {
    "tags": []
   },
   "outputs": [
    {
     "data": {
      "text/html": [
       "<div>\n",
       "<style scoped>\n",
       "    .dataframe tbody tr th:only-of-type {\n",
       "        vertical-align: middle;\n",
       "    }\n",
       "\n",
       "    .dataframe tbody tr th {\n",
       "        vertical-align: top;\n",
       "    }\n",
       "\n",
       "    .dataframe thead th {\n",
       "        text-align: right;\n",
       "    }\n",
       "</style>\n",
       "<table border=\"1\" class=\"dataframe\">\n",
       "  <thead>\n",
       "    <tr style=\"text-align: right;\">\n",
       "      <th></th>\n",
       "      <th>start</th>\n",
       "      <th>end</th>\n",
       "    </tr>\n",
       "    <tr>\n",
       "      <th>item</th>\n",
       "      <th></th>\n",
       "      <th></th>\n",
       "    </tr>\n",
       "  </thead>\n",
       "  <tbody>\n",
       "    <tr>\n",
       "      <th>Common-ID</th>\n",
       "      <td>1</td>\n",
       "      <td>32</td>\n",
       "    </tr>\n",
       "    <tr>\n",
       "      <th>Level</th>\n",
       "      <td>33</td>\n",
       "      <td>34</td>\n",
       "    </tr>\n",
       "    <tr>\n",
       "      <th>Filler</th>\n",
       "      <td>35</td>\n",
       "      <td>39</td>\n",
       "    </tr>\n",
       "    <tr>\n",
       "      <th>Household size</th>\n",
       "      <td>40</td>\n",
       "      <td>42</td>\n",
       "    </tr>\n",
       "    <tr>\n",
       "      <th>religion</th>\n",
       "      <td>43</td>\n",
       "      <td>43</td>\n",
       "    </tr>\n",
       "  </tbody>\n",
       "</table>\n",
       "</div>"
      ],
      "text/plain": [
       "                start  end\n",
       "item                      \n",
       "Common-ID           1   32\n",
       "Level              33   34\n",
       "Filler             35   39\n",
       "Household size     40   42\n",
       "religion           43   43"
      ]
     },
     "execution_count": 18,
     "metadata": {},
     "output_type": "execute_result"
    }
   ],
   "source": [
    "layoutFile_L3.head()"
   ]
  },
  {
   "cell_type": "code",
   "execution_count": 19,
   "id": "57e21512-0381-4d50-a083-0da24cd19ccd",
   "metadata": {
    "tags": []
   },
   "outputs": [],
   "source": [
    "L3_txt = open(\"../raw/TUS_2019/TUS106_L03.TXT\")\n",
    "start = layoutFile_L3['start']\n",
    "end = layoutFile_L3['end']\n",
    "rows = []\n",
    "for line in L3_txt:\n",
    "    line = line.strip()\n",
    "    row = [line[start[i]-1:end[i]].strip() for i in range(len(layoutFile_L3))]\n",
    "    rows.append(row)"
   ]
  },
  {
   "cell_type": "code",
   "execution_count": 20,
   "id": "f01644fe-dd32-4a5c-906c-9cd31656b88f",
   "metadata": {
    "tags": []
   },
   "outputs": [],
   "source": [
    "df_L3 = pd.DataFrame(rows, columns=layoutFile_L3.index)"
   ]
  },
  {
   "cell_type": "code",
   "execution_count": 21,
   "id": "98f3ac02-4701-4284-a967-ee690caa11f6",
   "metadata": {
    "tags": []
   },
   "outputs": [
    {
     "data": {
      "text/html": [
       "<div>\n",
       "<style scoped>\n",
       "    .dataframe tbody tr th:only-of-type {\n",
       "        vertical-align: middle;\n",
       "    }\n",
       "\n",
       "    .dataframe tbody tr th {\n",
       "        vertical-align: top;\n",
       "    }\n",
       "\n",
       "    .dataframe thead th {\n",
       "        text-align: right;\n",
       "    }\n",
       "</style>\n",
       "<table border=\"1\" class=\"dataframe\">\n",
       "  <thead>\n",
       "    <tr style=\"text-align: right;\">\n",
       "      <th>item</th>\n",
       "      <th>Common-ID</th>\n",
       "      <th>Level</th>\n",
       "      <th>Filler</th>\n",
       "      <th>Household size</th>\n",
       "      <th>religion</th>\n",
       "      <th>Social group</th>\n",
       "      <th>Land possessed as on date of survey(code)</th>\n",
       "      <th>usual consumer expenditure in a month for household purposes out of purchase (A)</th>\n",
       "      <th>imputed value of usual consumption in a month from home grown stock (B)</th>\n",
       "      <th>imputed value of usual consumption in a month from wages in kind, free collection, gifts, etc (C )</th>\n",
       "      <th>...</th>\n",
       "      <th>usual monthly consumer expenditure E: [A+B+C+(D/12)]</th>\n",
       "      <th>Primary source of energey for cooking</th>\n",
       "      <th>Primary source of energey for lighting</th>\n",
       "      <th>Type of washing of clothes</th>\n",
       "      <th>Type of sweeping of floor</th>\n",
       "      <th>Type of structure of the dwelling unit</th>\n",
       "      <th>member of age 5 years and above needing special care but no care giver is available</th>\n",
       "      <th>Blank</th>\n",
       "      <th>NSC</th>\n",
       "      <th>MULT</th>\n",
       "    </tr>\n",
       "  </thead>\n",
       "  <tbody>\n",
       "    <tr>\n",
       "      <th>0</th>\n",
       "      <td>TUS10202106201910111901311011001</td>\n",
       "      <td>03</td>\n",
       "      <td>00000</td>\n",
       "      <td>4</td>\n",
       "      <td>1</td>\n",
       "      <td>9</td>\n",
       "      <td>05</td>\n",
       "      <td>8500</td>\n",
       "      <td>2000</td>\n",
       "      <td>0</td>\n",
       "      <td>...</td>\n",
       "      <td>10500</td>\n",
       "      <td>01</td>\n",
       "      <td>1</td>\n",
       "      <td>2</td>\n",
       "      <td>2</td>\n",
       "      <td>3</td>\n",
       "      <td>2</td>\n",
       "      <td></td>\n",
       "      <td>4</td>\n",
       "      <td>1281550</td>\n",
       "    </tr>\n",
       "    <tr>\n",
       "      <th>1</th>\n",
       "      <td>TUS10202106201910111901311011002</td>\n",
       "      <td>03</td>\n",
       "      <td>00000</td>\n",
       "      <td>5</td>\n",
       "      <td>1</td>\n",
       "      <td>9</td>\n",
       "      <td>05</td>\n",
       "      <td>7000</td>\n",
       "      <td>2500</td>\n",
       "      <td>0</td>\n",
       "      <td>...</td>\n",
       "      <td>9500</td>\n",
       "      <td>01</td>\n",
       "      <td>1</td>\n",
       "      <td>1</td>\n",
       "      <td>2</td>\n",
       "      <td>3</td>\n",
       "      <td>2</td>\n",
       "      <td></td>\n",
       "      <td>4</td>\n",
       "      <td>1281550</td>\n",
       "    </tr>\n",
       "    <tr>\n",
       "      <th>2</th>\n",
       "      <td>TUS10202106201910111901311011003</td>\n",
       "      <td>03</td>\n",
       "      <td>00000</td>\n",
       "      <td>4</td>\n",
       "      <td>4</td>\n",
       "      <td>1</td>\n",
       "      <td>08</td>\n",
       "      <td>12000</td>\n",
       "      <td>3000</td>\n",
       "      <td>650</td>\n",
       "      <td>...</td>\n",
       "      <td>17733</td>\n",
       "      <td>02</td>\n",
       "      <td>1</td>\n",
       "      <td>2</td>\n",
       "      <td>2</td>\n",
       "      <td>3</td>\n",
       "      <td>2</td>\n",
       "      <td></td>\n",
       "      <td>4</td>\n",
       "      <td>1281550</td>\n",
       "    </tr>\n",
       "    <tr>\n",
       "      <th>3</th>\n",
       "      <td>TUS10202106201910111901311011004</td>\n",
       "      <td>03</td>\n",
       "      <td>00000</td>\n",
       "      <td>5</td>\n",
       "      <td>1</td>\n",
       "      <td>9</td>\n",
       "      <td>06</td>\n",
       "      <td>12000</td>\n",
       "      <td>2000</td>\n",
       "      <td>0</td>\n",
       "      <td>...</td>\n",
       "      <td>14000</td>\n",
       "      <td>01</td>\n",
       "      <td>1</td>\n",
       "      <td>2</td>\n",
       "      <td>2</td>\n",
       "      <td>3</td>\n",
       "      <td>2</td>\n",
       "      <td></td>\n",
       "      <td>4</td>\n",
       "      <td>1281550</td>\n",
       "    </tr>\n",
       "    <tr>\n",
       "      <th>4</th>\n",
       "      <td>TUS10202106201910111901311011005</td>\n",
       "      <td>03</td>\n",
       "      <td>00000</td>\n",
       "      <td>5</td>\n",
       "      <td>1</td>\n",
       "      <td>9</td>\n",
       "      <td>05</td>\n",
       "      <td>10000</td>\n",
       "      <td>3000</td>\n",
       "      <td>500</td>\n",
       "      <td>...</td>\n",
       "      <td>14500</td>\n",
       "      <td>01</td>\n",
       "      <td>1</td>\n",
       "      <td>2</td>\n",
       "      <td>2</td>\n",
       "      <td>2</td>\n",
       "      <td>1</td>\n",
       "      <td></td>\n",
       "      <td>4</td>\n",
       "      <td>1281550</td>\n",
       "    </tr>\n",
       "  </tbody>\n",
       "</table>\n",
       "<p>5 rows × 21 columns</p>\n",
       "</div>"
      ],
      "text/plain": [
       "item                         Common-ID Level Filler Household size religion  \\\n",
       "0     TUS10202106201910111901311011001    03  00000              4        1   \n",
       "1     TUS10202106201910111901311011002    03  00000              5        1   \n",
       "2     TUS10202106201910111901311011003    03  00000              4        4   \n",
       "3     TUS10202106201910111901311011004    03  00000              5        1   \n",
       "4     TUS10202106201910111901311011005    03  00000              5        1   \n",
       "\n",
       "item Social group  Land possessed as on date of survey(code)  \\\n",
       "0                9                                        05   \n",
       "1                9                                        05   \n",
       "2                1                                        08   \n",
       "3                9                                        06   \n",
       "4                9                                        05   \n",
       "\n",
       "item usual consumer expenditure in a month for household purposes out of purchase (A)  \\\n",
       "0                                                  8500                                 \n",
       "1                                                  7000                                 \n",
       "2                                                 12000                                 \n",
       "3                                                 12000                                 \n",
       "4                                                 10000                                 \n",
       "\n",
       "item imputed value of usual consumption in a month from home grown stock (B)  \\\n",
       "0                                                  2000                        \n",
       "1                                                  2500                        \n",
       "2                                                  3000                        \n",
       "3                                                  2000                        \n",
       "4                                                  3000                        \n",
       "\n",
       "item imputed value of usual consumption in a month from wages in kind, free collection, gifts, etc (C )  \\\n",
       "0                                                     0                                                   \n",
       "1                                                     0                                                   \n",
       "2                                                   650                                                   \n",
       "3                                                     0                                                   \n",
       "4                                                   500                                                   \n",
       "\n",
       "item  ... usual monthly consumer expenditure E: [A+B+C+(D/12)]  \\\n",
       "0     ...                                              10500     \n",
       "1     ...                                               9500     \n",
       "2     ...                                              17733     \n",
       "3     ...                                              14000     \n",
       "4     ...                                              14500     \n",
       "\n",
       "item Primary source of energey for cooking  \\\n",
       "0                                       01   \n",
       "1                                       01   \n",
       "2                                       02   \n",
       "3                                       01   \n",
       "4                                       01   \n",
       "\n",
       "item Primary source of energey for lighting Type of washing of clothes  \\\n",
       "0                                         1                          2   \n",
       "1                                         1                          1   \n",
       "2                                         1                          2   \n",
       "3                                         1                          2   \n",
       "4                                         1                          2   \n",
       "\n",
       "item Type of sweeping of floor Type of structure of the dwelling unit  \\\n",
       "0                            2                                      3   \n",
       "1                            2                                      3   \n",
       "2                            2                                      3   \n",
       "3                            2                                      3   \n",
       "4                            2                                      2   \n",
       "\n",
       "item member of age 5 years and above needing special care but no care giver is available  \\\n",
       "0                                                     2                                    \n",
       "1                                                     2                                    \n",
       "2                                                     2                                    \n",
       "3                                                     2                                    \n",
       "4                                                     1                                    \n",
       "\n",
       "item Blank NSC     MULT  \n",
       "0            4  1281550  \n",
       "1            4  1281550  \n",
       "2            4  1281550  \n",
       "3            4  1281550  \n",
       "4            4  1281550  \n",
       "\n",
       "[5 rows x 21 columns]"
      ]
     },
     "execution_count": 21,
     "metadata": {},
     "output_type": "execute_result"
    }
   ],
   "source": [
    "df_L3.head()"
   ]
  },
  {
   "cell_type": "code",
   "execution_count": 23,
   "id": "a9f4a3f7-ab7f-49a5-a8b1-0b40c2435716",
   "metadata": {
    "tags": []
   },
   "outputs": [
    {
     "data": {
      "text/plain": [
       "Index(['Common-ID', 'Level', 'Filler', 'Household size', 'religion',\n",
       "       'Social group ', 'Land possessed as on date of survey(code)',\n",
       "       'usual consumer expenditure in a month for household purposes out of purchase (A)',\n",
       "       'imputed value of usual consumption in a month from home grown stock (B)',\n",
       "       'imputed value of usual consumption in a month from wages in kind, free collection, gifts, etc (C )',\n",
       "       'expenditure on purchase of household durable during last 365 days (D)',\n",
       "       'usual monthly consumer expenditure E: [A+B+C+(D/12)]',\n",
       "       'Primary source of energey for cooking',\n",
       "       'Primary source of energey for lighting', 'Type of washing of clothes',\n",
       "       'Type of sweeping of floor', 'Type of structure of the dwelling unit',\n",
       "       'member of age 5 years and above needing special care but no care giver is available',\n",
       "       'Blank', 'NSC', 'MULT'],\n",
       "      dtype='object', name='item')"
      ]
     },
     "execution_count": 23,
     "metadata": {},
     "output_type": "execute_result"
    }
   ],
   "source": [
    "df_L3.columns"
   ]
  },
  {
   "cell_type": "code",
   "execution_count": 24,
   "id": "b6a8c33a-7d1c-4c24-9bb4-9dc60838e427",
   "metadata": {
    "tags": []
   },
   "outputs": [],
   "source": [
    "df_L3.drop(columns=['Level', 'Filler','Blank', 'NSC', 'MULT'], inplace=True)"
   ]
  },
  {
   "cell_type": "code",
   "execution_count": 27,
   "id": "7a624f5d-fa7a-40d4-966c-b753971a0fe8",
   "metadata": {
    "tags": []
   },
   "outputs": [
    {
     "data": {
      "text/plain": [
       "Common-ID\n",
       "32    130551\n",
       "31      8248\n",
       "Name: count, dtype: int64"
      ]
     },
     "execution_count": 27,
     "metadata": {},
     "output_type": "execute_result"
    }
   ],
   "source": [
    "df_L3[\"Common-ID\"].apply(lambda x: len(x.replace(\" \", \"\"))).value_counts()"
   ]
  },
  {
   "cell_type": "markdown",
   "id": "dbf4adee-da79-4483-b11f-122b9f97487d",
   "metadata": {},
   "source": [
    "There is some error with these IDs and some of them have missed a bit somewhere. Dropping them below"
   ]
  },
  {
   "cell_type": "code",
   "execution_count": 30,
   "id": "62158bc3-e37b-44af-ae96-ea1e5b0df208",
   "metadata": {
    "tags": []
   },
   "outputs": [
    {
     "name": "stderr",
     "output_type": "stream",
     "text": [
      "C:\\Users\\shrey\\AppData\\Local\\Temp\\ipykernel_30712\\4052392573.py:1: SettingWithCopyWarning: \n",
      "A value is trying to be set on a copy of a slice from a DataFrame.\n",
      "Try using .loc[row_indexer,col_indexer] = value instead\n",
      "\n",
      "See the caveats in the documentation: https://pandas.pydata.org/pandas-docs/stable/user_guide/indexing.html#returning-a-view-versus-a-copy\n",
      "  df_L3[\"Common-ID\"] = df_L3[\"Common-ID\"].apply(lambda x: x.replace(\" \", \"\"))\n"
     ]
    }
   ],
   "source": [
    "\n",
    "df_L3[\"Common-ID\"] = df_L3[\"Common-ID\"].apply(lambda x: x.replace(\" \", \"\"))\n",
    "df_L3 = df_L3[df_L3[\"Common-ID\"].apply(lambda x: len(x)) == 32]"
   ]
  },
  {
   "cell_type": "code",
   "execution_count": 31,
   "id": "19d6cfa5-dee4-4bf8-a287-4ddb06877511",
   "metadata": {
    "tags": []
   },
   "outputs": [],
   "source": [
    "df_L3.to_pickle(\"../proc/df_L3.pkl\")"
   ]
  },
  {
   "cell_type": "code",
   "execution_count": null,
   "id": "cd9a156f-14cc-4aee-a14b-ae2e4c144587",
   "metadata": {},
   "outputs": [],
   "source": []
  }
 ],
 "metadata": {
  "kernelspec": {
   "display_name": "Python 3 (ipykernel)",
   "language": "python",
   "name": "python3"
  },
  "language_info": {
   "codemirror_mode": {
    "name": "ipython",
    "version": 3
   },
   "file_extension": ".py",
   "mimetype": "text/x-python",
   "name": "python",
   "nbconvert_exporter": "python",
   "pygments_lexer": "ipython3",
   "version": "3.11.5"
  }
 },
 "nbformat": 4,
 "nbformat_minor": 5
}
