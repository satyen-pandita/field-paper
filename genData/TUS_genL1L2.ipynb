{
 "cells": [
  {
   "cell_type": "code",
   "execution_count": 1,
   "id": "d6d0d5b5-89af-4b93-b735-d3d64c52329b",
   "metadata": {
    "tags": []
   },
   "outputs": [],
   "source": [
    "import pandas as pd\n",
    "import os\n",
    "from datetime import datetime\n",
    "import copy"
   ]
  },
  {
   "cell_type": "code",
   "execution_count": 2,
   "id": "e38596eb-e421-408c-9540-bfb1aff7e6fb",
   "metadata": {
    "tags": []
   },
   "outputs": [],
   "source": [
    "################# GLOBAL VARIABLES ######################\n",
    "\n",
    "# Definitions from PLFS 2018-19 Annual Report, Concepts and Definitions (2.38.1)\n",
    "# Problematic codes for self employed criteria: `21` - worked in household enterprises (self-employed) as helper\n",
    "SELF_EMP_CODES = [\"11\", \"12\", \"21\"]\n",
    "REG_EMP_CODES = [\"31\"]\n",
    "CASUAL_EMP_CODES = [\"41\", \"42\", \"51\", \"61\", \"62\", \"71\", \"72\"]\n",
    "\n",
    "NOT_REG_CODES = SELF_EMP_CODES + CASUAL_EMP_CODES\n",
    "\n",
    "EMP_CODES = SELF_EMP_CODES + REG_EMP_CODES + CASUAL_EMP_CODES\n",
    "UNEMP_CODES = [\"81\", \"82\"]\n",
    "LF_CODES = EMP_CODES + UNEMP_CODES\n",
    "NOT_IN_LF_CODES = [str(x) for x in list(range(91,100))]"
   ]
  },
  {
   "cell_type": "markdown",
   "id": "b09a2362-8832-4fe2-89a2-f95a352aafe7",
   "metadata": {},
   "source": [
    "### Name of the game: \n",
    "1) Write a cleaner version of the code from before, \n",
    "    1) Get average time spent in home production, leisure (and work?). Group by work status\n",
    "    2) See difference across north/south for couples where both agents are working.\n",
    "    3) In order to get proper subsetting, I need to make match husbands and wives, just like I did in PLFS, so that I can subset married women with 15-49 age.\n",
    "    \n",
    "In order to this, it is important to first write code that gets me a data frame. This is because reading from the text file is costly. "
   ]
  },
  {
   "cell_type": "code",
   "execution_count": 3,
   "id": "aa6d2d89-aa20-421d-86fa-557e21d1eef7",
   "metadata": {
    "tags": []
   },
   "outputs": [],
   "source": [
    "# Level 1: Get start bits, end bits and name of variable\n",
    "# This Level contains States -- not exactly but still..\n",
    "layoutFile_L1 = pd.read_excel(\"../../data/raw/TUS_2019/Data_Layout_TUS106.xlsx\", header=7,nrows=30,usecols=[1,6,8])\n",
    "layoutFile_L1.columns=['item', 'start', 'end']\n",
    "layoutFile_L1.set_index(\"item\", inplace=True)"
   ]
  },
  {
   "cell_type": "code",
   "execution_count": 4,
   "id": "12487513-f2f6-4270-a42e-eea4741b70b1",
   "metadata": {
    "tags": []
   },
   "outputs": [],
   "source": [
    "# Read the corresponding text file\n",
    "L1_txt = open(\"../../data/raw/TUS_2019/TUS106_L01.TXT\")\n",
    "start = layoutFile_L1['start']\n",
    "end = layoutFile_L1['end']\n",
    "rows = []\n",
    "for line in L1_txt:\n",
    "    line = line.strip()\n",
    "    row = [line[start[i]-1:end[i]].strip() for i in range(len(layoutFile_L1))]\n",
    "    rows.append(row)"
   ]
  },
  {
   "cell_type": "code",
   "execution_count": 5,
   "id": "c4b3e29c-3645-4ff5-a153-d285fb584dbc",
   "metadata": {
    "tags": []
   },
   "outputs": [
    {
     "data": {
      "text/html": [
       "<div>\n",
       "<style scoped>\n",
       "    .dataframe tbody tr th:only-of-type {\n",
       "        vertical-align: middle;\n",
       "    }\n",
       "\n",
       "    .dataframe tbody tr th {\n",
       "        vertical-align: top;\n",
       "    }\n",
       "\n",
       "    .dataframe thead th {\n",
       "        text-align: right;\n",
       "    }\n",
       "</style>\n",
       "<table border=\"1\" class=\"dataframe\">\n",
       "  <thead>\n",
       "    <tr style=\"text-align: right;\">\n",
       "      <th>item</th>\n",
       "      <th>Schedule ID</th>\n",
       "      <th>FSU Serial No.</th>\n",
       "      <th>Schedule</th>\n",
       "      <th>survey year</th>\n",
       "      <th>Sector</th>\n",
       "      <th>NSS-Region</th>\n",
       "      <th>District</th>\n",
       "      <th>Stratum</th>\n",
       "      <th>Sub-Stratum</th>\n",
       "      <th>Sub-Round</th>\n",
       "      <th>...</th>\n",
       "      <th>Date of Despatch</th>\n",
       "      <th>Time to canvass(minutes)</th>\n",
       "      <th>No. of investigators(FI/ASO) in the team</th>\n",
       "      <th>Remarks in block 7</th>\n",
       "      <th>Remarks in block 8</th>\n",
       "      <th>Remarks elsewhere in Sch.</th>\n",
       "      <th>Remarks elsewhere in Sch.</th>\n",
       "      <th>Blank</th>\n",
       "      <th>NSC</th>\n",
       "      <th>MULT</th>\n",
       "    </tr>\n",
       "  </thead>\n",
       "  <tbody>\n",
       "    <tr>\n",
       "      <th>0</th>\n",
       "      <td>TUS</td>\n",
       "      <td>10202</td>\n",
       "      <td>106</td>\n",
       "      <td>2019</td>\n",
       "      <td>1</td>\n",
       "      <td>011</td>\n",
       "      <td>19</td>\n",
       "      <td>01</td>\n",
       "      <td>31</td>\n",
       "      <td>1</td>\n",
       "      <td>...</td>\n",
       "      <td>130219</td>\n",
       "      <td>90</td>\n",
       "      <td>1</td>\n",
       "      <td>2</td>\n",
       "      <td>2</td>\n",
       "      <td>2</td>\n",
       "      <td>2</td>\n",
       "      <td></td>\n",
       "      <td>4</td>\n",
       "      <td>1281550</td>\n",
       "    </tr>\n",
       "    <tr>\n",
       "      <th>1</th>\n",
       "      <td>TUS</td>\n",
       "      <td>10202</td>\n",
       "      <td>106</td>\n",
       "      <td>2019</td>\n",
       "      <td>1</td>\n",
       "      <td>011</td>\n",
       "      <td>19</td>\n",
       "      <td>01</td>\n",
       "      <td>31</td>\n",
       "      <td>1</td>\n",
       "      <td>...</td>\n",
       "      <td>130219</td>\n",
       "      <td>90</td>\n",
       "      <td>1</td>\n",
       "      <td>2</td>\n",
       "      <td>2</td>\n",
       "      <td>2</td>\n",
       "      <td>2</td>\n",
       "      <td></td>\n",
       "      <td>4</td>\n",
       "      <td>1281550</td>\n",
       "    </tr>\n",
       "    <tr>\n",
       "      <th>2</th>\n",
       "      <td>TUS</td>\n",
       "      <td>10202</td>\n",
       "      <td>106</td>\n",
       "      <td>2019</td>\n",
       "      <td>1</td>\n",
       "      <td>011</td>\n",
       "      <td>19</td>\n",
       "      <td>01</td>\n",
       "      <td>31</td>\n",
       "      <td>1</td>\n",
       "      <td>...</td>\n",
       "      <td>130219</td>\n",
       "      <td>90</td>\n",
       "      <td>1</td>\n",
       "      <td>2</td>\n",
       "      <td>2</td>\n",
       "      <td>2</td>\n",
       "      <td>2</td>\n",
       "      <td></td>\n",
       "      <td>4</td>\n",
       "      <td>1281550</td>\n",
       "    </tr>\n",
       "    <tr>\n",
       "      <th>3</th>\n",
       "      <td>TUS</td>\n",
       "      <td>10202</td>\n",
       "      <td>106</td>\n",
       "      <td>2019</td>\n",
       "      <td>1</td>\n",
       "      <td>011</td>\n",
       "      <td>19</td>\n",
       "      <td>01</td>\n",
       "      <td>31</td>\n",
       "      <td>1</td>\n",
       "      <td>...</td>\n",
       "      <td>130219</td>\n",
       "      <td>90</td>\n",
       "      <td>1</td>\n",
       "      <td>2</td>\n",
       "      <td>2</td>\n",
       "      <td>2</td>\n",
       "      <td>2</td>\n",
       "      <td></td>\n",
       "      <td>4</td>\n",
       "      <td>1281550</td>\n",
       "    </tr>\n",
       "    <tr>\n",
       "      <th>4</th>\n",
       "      <td>TUS</td>\n",
       "      <td>10202</td>\n",
       "      <td>106</td>\n",
       "      <td>2019</td>\n",
       "      <td>1</td>\n",
       "      <td>011</td>\n",
       "      <td>19</td>\n",
       "      <td>01</td>\n",
       "      <td>31</td>\n",
       "      <td>1</td>\n",
       "      <td>...</td>\n",
       "      <td>130219</td>\n",
       "      <td>90</td>\n",
       "      <td>1</td>\n",
       "      <td>2</td>\n",
       "      <td>2</td>\n",
       "      <td>2</td>\n",
       "      <td>2</td>\n",
       "      <td></td>\n",
       "      <td>4</td>\n",
       "      <td>1281550</td>\n",
       "    </tr>\n",
       "  </tbody>\n",
       "</table>\n",
       "<p>5 rows × 30 columns</p>\n",
       "</div>"
      ],
      "text/plain": [
       "item Schedule ID FSU Serial No. Schedule survey year Sector NSS-Region  \\\n",
       "0            TUS          10202      106        2019      1        011   \n",
       "1            TUS          10202      106        2019      1        011   \n",
       "2            TUS          10202      106        2019      1        011   \n",
       "3            TUS          10202      106        2019      1        011   \n",
       "4            TUS          10202      106        2019      1        011   \n",
       "\n",
       "item District Stratum Sub-Stratum Sub-Round  ... Date of Despatch  \\\n",
       "0          19      01          31         1  ...           130219   \n",
       "1          19      01          31         1  ...           130219   \n",
       "2          19      01          31         1  ...           130219   \n",
       "3          19      01          31         1  ...           130219   \n",
       "4          19      01          31         1  ...           130219   \n",
       "\n",
       "item Time to canvass(minutes) No. of investigators(FI/ASO) in the team  \\\n",
       "0                          90                                        1   \n",
       "1                          90                                        1   \n",
       "2                          90                                        1   \n",
       "3                          90                                        1   \n",
       "4                          90                                        1   \n",
       "\n",
       "item Remarks in block 7 Remarks in block 8 Remarks elsewhere in Sch.  \\\n",
       "0                     2                  2                         2   \n",
       "1                     2                  2                         2   \n",
       "2                     2                  2                         2   \n",
       "3                     2                  2                         2   \n",
       "4                     2                  2                         2   \n",
       "\n",
       "item Remarks elsewhere in Sch. Blank NSC     MULT  \n",
       "0                            2         4  1281550  \n",
       "1                            2         4  1281550  \n",
       "2                            2         4  1281550  \n",
       "3                            2         4  1281550  \n",
       "4                            2         4  1281550  \n",
       "\n",
       "[5 rows x 30 columns]"
      ]
     },
     "execution_count": 5,
     "metadata": {},
     "output_type": "execute_result"
    }
   ],
   "source": [
    "df_L1 = pd.DataFrame(rows, columns=layoutFile_L1.index)\n",
    "df_L1.head()"
   ]
  },
  {
   "cell_type": "markdown",
   "id": "3018b738-8103-4d2e-810b-e74d25e02aa2",
   "metadata": {},
   "source": [
    "It looks like the dataset does not have State Codes/Names. But it does have NSS-Region. And it looks like that the first two digits of the NSS-Region Code is actually State Codes. I am quite sure that these state codes will be the same as those in PLFS."
   ]
  },
  {
   "cell_type": "code",
   "execution_count": 6,
   "id": "442a41c6-f052-4853-bb67-ec7692e93120",
   "metadata": {
    "tags": []
   },
   "outputs": [],
   "source": [
    "df_L1[\"State\"] = df_L1.loc[:,\"NSS-Region\"].apply(lambda x: x[:-1])"
   ]
  },
  {
   "cell_type": "code",
   "execution_count": 7,
   "id": "4065c334-612c-4edd-9b70-71005e81aa1f",
   "metadata": {
    "tags": []
   },
   "outputs": [],
   "source": [
    "df_L1[\"north\"] = pd.Series(None)\n",
    "df_L1.loc[df_L1[\"State\"].isin([\"03\",\"06\",\"08\",\"09\",\"23\",\"24\"]),\"north\"] = 1\n",
    "df_L1.loc[df_L1[\"State\"].isin([\"27\",\"28\",\"29\",\"32\",\"33\",\"36\"]),\"north\"] = 0"
   ]
  },
  {
   "cell_type": "code",
   "execution_count": 8,
   "id": "d9936ded-5082-4d73-9ec4-58a05aab5057",
   "metadata": {
    "tags": []
   },
   "outputs": [],
   "source": [
    "# Generate a Common-ID to merge across data frames. This Common-ID is a HH Level ID.\n",
    "df_L1[\"Common-ID\"] = df_L1[\"Schedule ID\"] + df_L1[\"FSU Serial No.\"] + df_L1[\"Schedule\"] + df_L1[\"survey year\"] +\\\n",
    "                     df_L1[\"Sector\"] + df_L1[\"NSS-Region\"] + df_L1[\"District\"] + df_L1[\"Stratum\"] + df_L1[\"Sub-Stratum\"] + \\\n",
    "                     df_L1[\"Sub-Round\"] + df_L1[\"FOD Sub-Region\"] + df_L1[\"Sample hhld. No.\"]"
   ]
  },
  {
   "cell_type": "code",
   "execution_count": 9,
   "id": "534997af-98bf-4fe9-813e-53be61ae2f54",
   "metadata": {
    "tags": []
   },
   "outputs": [
    {
     "data": {
      "text/plain": [
       "0         TUS10202106201910111901311011001\n",
       "1         TUS10202106201910111901311011002\n",
       "2         TUS10202106201910111901311011003\n",
       "3         TUS10202106201910111901311011004\n",
       "4         TUS10202106201910111901311011005\n",
       "                        ...               \n",
       "138794    TUS26082106201923612304043361010\n",
       "138795    TUS26082106201923612304043361011\n",
       "138796    TUS26082106201923612304043361012\n",
       "138797    TUS26082106201923612304043361013\n",
       "138798    TUS26082106201923612304043361014\n",
       "Name: Common-ID, Length: 138799, dtype: object"
      ]
     },
     "execution_count": 9,
     "metadata": {},
     "output_type": "execute_result"
    }
   ],
   "source": [
    "df_L1[\"Common-ID\"]"
   ]
  },
  {
   "cell_type": "code",
   "execution_count": 10,
   "id": "6be610fe-0ea9-45e8-9f5c-037e1003c5ff",
   "metadata": {
    "tags": []
   },
   "outputs": [
    {
     "data": {
      "text/plain": [
       "Index(['Schedule ID', 'FSU Serial No.', 'Schedule', 'survey year', 'Sector',\n",
       "       'NSS-Region', 'District', 'Stratum', 'Sub-Stratum', 'Sub-Round',\n",
       "       'FOD Sub-Region', 'Sample hhld. No.', 'Level ', 'Filler',\n",
       "       'Informant Sl.No.', 'Response Code', 'Survey Code',\n",
       "       'Substitution Code/ Casualty code', 'Filler', 'Date of Survey',\n",
       "       'Date of Despatch', 'Time to canvass(minutes)',\n",
       "       'No. of investigators(FI/ASO) in the team', 'Remarks in block 7',\n",
       "       'Remarks in block 8', 'Remarks elsewhere in Sch.',\n",
       "       'Remarks elsewhere in Sch.', 'Blank', 'NSC', 'MULT', 'State', 'north',\n",
       "       'Common-ID'],\n",
       "      dtype='object', name='item')"
      ]
     },
     "execution_count": 10,
     "metadata": {},
     "output_type": "execute_result"
    }
   ],
   "source": [
    "df_L1.columns"
   ]
  },
  {
   "cell_type": "code",
   "execution_count": 11,
   "id": "0fed0eea-4376-4d22-8f4f-6233371d0a84",
   "metadata": {
    "tags": []
   },
   "outputs": [],
   "source": [
    "# Level 2: Contains marital status and gender. \n",
    "layoutFile_L2 = pd.read_excel(\"../../data/raw/TUS_2019/Data_Layout_TUS106.xlsx\", header=43,nrows=14,usecols=[1,6,8])\n",
    "layoutFile_L2.columns=['item', 'start', 'end']\n",
    "layoutFile_L2.set_index(\"item\", inplace=True)"
   ]
  },
  {
   "cell_type": "code",
   "execution_count": 12,
   "id": "a128143f-139d-4598-8fa8-a7e309f89140",
   "metadata": {
    "tags": []
   },
   "outputs": [],
   "source": [
    "L2_txt = open(\"../../data/raw/TUS_2019/TUS106_L02.TXT\")\n",
    "n = 0\n",
    "start = layoutFile_L2['start']\n",
    "end = layoutFile_L2['end']\n",
    "rows = []\n",
    "for line in L2_txt:\n",
    "    line = line.strip()\n",
    "    row = [line[start[i]-1:end[i]].strip() for i in range(len(layoutFile_L2))]\n",
    "    rows.append(row)"
   ]
  },
  {
   "cell_type": "code",
   "execution_count": 13,
   "id": "46073951-9a41-4602-9edf-9b5a9a6a64c5",
   "metadata": {
    "tags": []
   },
   "outputs": [
    {
     "data": {
      "text/html": [
       "<div>\n",
       "<style scoped>\n",
       "    .dataframe tbody tr th:only-of-type {\n",
       "        vertical-align: middle;\n",
       "    }\n",
       "\n",
       "    .dataframe tbody tr th {\n",
       "        vertical-align: top;\n",
       "    }\n",
       "\n",
       "    .dataframe thead th {\n",
       "        text-align: right;\n",
       "    }\n",
       "</style>\n",
       "<table border=\"1\" class=\"dataframe\">\n",
       "  <thead>\n",
       "    <tr style=\"text-align: right;\">\n",
       "      <th>item</th>\n",
       "      <th>Common-ID</th>\n",
       "      <th>Level</th>\n",
       "      <th>Filler</th>\n",
       "      <th>Person serial no.</th>\n",
       "      <th>Relation to head</th>\n",
       "      <th>Gender</th>\n",
       "      <th>Age</th>\n",
       "      <th>marital status</th>\n",
       "      <th>highest level of education</th>\n",
       "      <th>usual principal activity: status (code)</th>\n",
       "      <th>industry of work: 2-digit of NIC 2008</th>\n",
       "      <th>Blank</th>\n",
       "      <th>NSC</th>\n",
       "      <th>MULT</th>\n",
       "    </tr>\n",
       "  </thead>\n",
       "  <tbody>\n",
       "    <tr>\n",
       "      <th>0</th>\n",
       "      <td>TUS10202106201910111901311011001</td>\n",
       "      <td>02</td>\n",
       "      <td>00</td>\n",
       "      <td>001</td>\n",
       "      <td>1</td>\n",
       "      <td>1</td>\n",
       "      <td>44</td>\n",
       "      <td>2</td>\n",
       "      <td>04</td>\n",
       "      <td>31</td>\n",
       "      <td>20</td>\n",
       "      <td></td>\n",
       "      <td>4</td>\n",
       "      <td>1281550</td>\n",
       "    </tr>\n",
       "    <tr>\n",
       "      <th>1</th>\n",
       "      <td>TUS10202106201910111901311011001</td>\n",
       "      <td>02</td>\n",
       "      <td>00</td>\n",
       "      <td>002</td>\n",
       "      <td>2</td>\n",
       "      <td>2</td>\n",
       "      <td>32</td>\n",
       "      <td>2</td>\n",
       "      <td>11</td>\n",
       "      <td>31</td>\n",
       "      <td>85</td>\n",
       "      <td></td>\n",
       "      <td>4</td>\n",
       "      <td>1281550</td>\n",
       "    </tr>\n",
       "    <tr>\n",
       "      <th>2</th>\n",
       "      <td>TUS10202106201910111901311011001</td>\n",
       "      <td>02</td>\n",
       "      <td>00</td>\n",
       "      <td>003</td>\n",
       "      <td>5</td>\n",
       "      <td>1</td>\n",
       "      <td>5</td>\n",
       "      <td>1</td>\n",
       "      <td>02</td>\n",
       "      <td></td>\n",
       "      <td></td>\n",
       "      <td></td>\n",
       "      <td>4</td>\n",
       "      <td>1281550</td>\n",
       "    </tr>\n",
       "    <tr>\n",
       "      <th>3</th>\n",
       "      <td>TUS10202106201910111901311011001</td>\n",
       "      <td>02</td>\n",
       "      <td>00</td>\n",
       "      <td>004</td>\n",
       "      <td>5</td>\n",
       "      <td>2</td>\n",
       "      <td>3</td>\n",
       "      <td>1</td>\n",
       "      <td>01</td>\n",
       "      <td></td>\n",
       "      <td></td>\n",
       "      <td></td>\n",
       "      <td>4</td>\n",
       "      <td>1281550</td>\n",
       "    </tr>\n",
       "    <tr>\n",
       "      <th>4</th>\n",
       "      <td>TUS10202106201910111901311011002</td>\n",
       "      <td>02</td>\n",
       "      <td>00</td>\n",
       "      <td>001</td>\n",
       "      <td>1</td>\n",
       "      <td>1</td>\n",
       "      <td>38</td>\n",
       "      <td>2</td>\n",
       "      <td>04</td>\n",
       "      <td>11</td>\n",
       "      <td>01</td>\n",
       "      <td></td>\n",
       "      <td>4</td>\n",
       "      <td>1281550</td>\n",
       "    </tr>\n",
       "  </tbody>\n",
       "</table>\n",
       "</div>"
      ],
      "text/plain": [
       "item                         Common-ID Level Filler Person serial no.  \\\n",
       "0     TUS10202106201910111901311011001    02     00               001   \n",
       "1     TUS10202106201910111901311011001    02     00               002   \n",
       "2     TUS10202106201910111901311011001    02     00               003   \n",
       "3     TUS10202106201910111901311011001    02     00               004   \n",
       "4     TUS10202106201910111901311011002    02     00               001   \n",
       "\n",
       "item Relation to head Gender Age marital status highest level of education  \\\n",
       "0                   1      1  44              2                         04   \n",
       "1                   2      2  32              2                         11   \n",
       "2                   5      1   5              1                         02   \n",
       "3                   5      2   3              1                         01   \n",
       "4                   1      1  38              2                         04   \n",
       "\n",
       "item usual principal activity: status (code)  \\\n",
       "0                                         31   \n",
       "1                                         31   \n",
       "2                                              \n",
       "3                                              \n",
       "4                                         11   \n",
       "\n",
       "item industry of work: 2-digit of NIC 2008 Blank NSC     MULT  \n",
       "0                                       20         4  1281550  \n",
       "1                                       85         4  1281550  \n",
       "2                                                  4  1281550  \n",
       "3                                                  4  1281550  \n",
       "4                                       01         4  1281550  "
      ]
     },
     "execution_count": 13,
     "metadata": {},
     "output_type": "execute_result"
    }
   ],
   "source": [
    "df_L2 = pd.DataFrame(rows, columns=layoutFile_L2.index)\n",
    "df_L2.head()"
   ]
  },
  {
   "cell_type": "code",
   "execution_count": 14,
   "id": "aca55fe1-2aaa-4f30-baf5-50bae134cfb6",
   "metadata": {
    "tags": []
   },
   "outputs": [
    {
     "data": {
      "text/plain": [
       "Index(['Common-ID', 'Level', 'Filler', 'Person serial no.', 'Relation to head',\n",
       "       'Gender', 'Age', 'marital status', 'highest level of education',\n",
       "       'usual principal activity: status (code)',\n",
       "       'industry of work: 2-digit of NIC 2008', 'Blank', 'NSC', 'MULT'],\n",
       "      dtype='object', name='item')"
      ]
     },
     "execution_count": 14,
     "metadata": {},
     "output_type": "execute_result"
    }
   ],
   "source": [
    "df_L2.columns"
   ]
  },
  {
   "cell_type": "code",
   "execution_count": 15,
   "id": "a1b00399-bc67-4f77-bbca-2ecb7447a4ed",
   "metadata": {
    "tags": []
   },
   "outputs": [],
   "source": [
    "df_L2[\"primID\"] = df_L2[\"Common-ID\"]+df_L2[\"Person serial no.\"]"
   ]
  },
  {
   "cell_type": "code",
   "execution_count": 16,
   "id": "d2c1770e-b019-46dc-9815-ebfc1677b420",
   "metadata": {
    "tags": []
   },
   "outputs": [],
   "source": [
    "# Merge all the dataframes into one and save as pickle file\n",
    "# L1: Common-ID\n",
    "# L2: primID\n",
    "df_L2[\"Common-ID\"] = df_L2[\"Common-ID\"].apply(lambda x: x.replace(\" \", \"\"))\n",
    "df_merged = pd.merge(left=df_L1, right=df_L2, on=\"Common-ID\", how=\"outer\",indicator=True)"
   ]
  },
  {
   "cell_type": "code",
   "execution_count": 17,
   "id": "51ec8f85-2cce-4e27-aa2e-30a1a4e0023c",
   "metadata": {
    "tags": []
   },
   "outputs": [],
   "source": [
    "df_len = df_merged[\"primID\"].apply(lambda x: len(x))"
   ]
  },
  {
   "cell_type": "code",
   "execution_count": 18,
   "id": "dfc78ab8-61bb-4e6c-8d64-ac68779188b3",
   "metadata": {
    "tags": []
   },
   "outputs": [
    {
     "data": {
      "text/plain": [
       "primID\n",
       "35    518744\n",
       "Name: count, dtype: int64"
      ]
     },
     "execution_count": 18,
     "metadata": {},
     "output_type": "execute_result"
    }
   ],
   "source": [
    "df_len.value_counts()"
   ]
  },
  {
   "cell_type": "code",
   "execution_count": 19,
   "id": "dd2f0a7d-aa97-4264-9b89-bc17ff87413b",
   "metadata": {
    "tags": []
   },
   "outputs": [],
   "source": [
    "df_merged.drop(columns=[\"_merge\"],inplace=True)"
   ]
  },
  {
   "cell_type": "code",
   "execution_count": 20,
   "id": "d1463660-055e-4026-aaa9-ab51909572d1",
   "metadata": {
    "tags": []
   },
   "outputs": [],
   "source": [
    "df_merged.to_pickle(\"df_L1L2.pkl\")"
   ]
  },
  {
   "cell_type": "code",
   "execution_count": 40,
   "id": "7d8c5578-9776-4a83-9ebd-2855cc82022b",
   "metadata": {
    "tags": []
   },
   "outputs": [],
   "source": [
    "####################### END DATA GENERATION ########################"
   ]
  }
 ],
 "metadata": {
  "kernelspec": {
   "display_name": "Python 3 (ipykernel)",
   "language": "python",
   "name": "python3"
  },
  "language_info": {
   "codemirror_mode": {
    "name": "ipython",
    "version": 3
   },
   "file_extension": ".py",
   "mimetype": "text/x-python",
   "name": "python",
   "nbconvert_exporter": "python",
   "pygments_lexer": "ipython3",
   "version": "3.11.5"
  }
 },
 "nbformat": 4,
 "nbformat_minor": 5
}
