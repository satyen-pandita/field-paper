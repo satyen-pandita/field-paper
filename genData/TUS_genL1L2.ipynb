{
 "cells": [
  {
   "cell_type": "code",
   "execution_count": 166,
   "id": "d6d0d5b5-89af-4b93-b735-d3d64c52329b",
   "metadata": {
    "tags": []
   },
   "outputs": [],
   "source": [
    "import pandas as pd\n",
    "import os\n",
    "from datetime import datetime\n",
    "import copy"
   ]
  },
  {
   "cell_type": "code",
   "execution_count": 167,
   "id": "f31f091c-e7a7-4fc9-935f-27df3a3a4f93",
   "metadata": {
    "tags": []
   },
   "outputs": [
    {
     "data": {
      "text/plain": [
       "'C:\\\\Users\\\\shrey\\\\OneDrive - UW-Madison\\\\UW\\\\field-paper\\\\code\\\\genData'"
      ]
     },
     "execution_count": 167,
     "metadata": {},
     "output_type": "execute_result"
    }
   ],
   "source": [
    "os.getcwd()"
   ]
  },
  {
   "cell_type": "code",
   "execution_count": 168,
   "id": "e38596eb-e421-408c-9540-bfb1aff7e6fb",
   "metadata": {
    "tags": []
   },
   "outputs": [],
   "source": [
    "################# GLOBAL VARIABLES ######################\n",
    "\n",
    "# Definitions from PLFS 2018-19 Annual Report, Concepts and Definitions (2.38.1)\n",
    "# Problematic codes for self employed criteria: `21` - worked in household enterprises (self-employed) as helper\n",
    "SELF_EMP_CODES = [\"11\", \"12\", \"21\"]\n",
    "REG_EMP_CODES = [\"31\"]\n",
    "CASUAL_EMP_CODES = [\"41\", \"42\", \"51\", \"61\", \"62\", \"71\", \"72\"]\n",
    "\n",
    "NOT_REG_CODES = SELF_EMP_CODES + CASUAL_EMP_CODES\n",
    "\n",
    "EMP_CODES = SELF_EMP_CODES + REG_EMP_CODES + CASUAL_EMP_CODES\n",
    "UNEMP_CODES = [\"81\", \"82\"]\n",
    "LF_CODES = EMP_CODES + UNEMP_CODES\n",
    "NOT_IN_LF_CODES = [str(x) for x in list(range(91,100))]"
   ]
  },
  {
   "cell_type": "markdown",
   "id": "b09a2362-8832-4fe2-89a2-f95a352aafe7",
   "metadata": {},
   "source": [
    "### Name of the game: \n",
    "1) Write a cleaner version of the code from before, \n",
    "    1) Get average time spent in home production, leisure (and work?). Group by work status\n",
    "    2) See difference across north/south for couples where both agents are working.\n",
    "    3) In order to get proper subsetting, I need to make match husbands and wives, just like I did in PLFS, so that I can subset married women with 15-49 age.\n",
    "    \n",
    "In order to this, it is important to first write code that gets me a data frame. This is because reading from the text file is costly. "
   ]
  },
  {
   "cell_type": "code",
   "execution_count": 169,
   "id": "aa6d2d89-aa20-421d-86fa-557e21d1eef7",
   "metadata": {
    "tags": []
   },
   "outputs": [],
   "source": [
    "# Level 1: Get start bits, end bits and name of variable\n",
    "# This Level contains States -- not exactly but still..\n",
    "layoutFile_L1 = pd.read_excel(\"../../raw/TUS_2019/Data_Layout_TUS106.xlsx\", header=7,nrows=30,usecols=[1,6,8])\n",
    "layoutFile_L1.columns=['item', 'start', 'end']\n",
    "layoutFile_L1.set_index(\"item\", inplace=True)"
   ]
  },
  {
   "cell_type": "code",
   "execution_count": 170,
   "id": "12487513-f2f6-4270-a42e-eea4741b70b1",
   "metadata": {
    "tags": []
   },
   "outputs": [],
   "source": [
    "# Read the corresponding text file\n",
    "L1_txt = open(\"../../raw/TUS_2019/TUS106_L01.TXT\")\n",
    "start = layoutFile_L1['start']\n",
    "end = layoutFile_L1['end']\n",
    "rows = []\n",
    "for line in L1_txt:\n",
    "    line = line.strip()\n",
    "    row = [line[start[i]-1:end[i]].strip() for i in range(len(layoutFile_L1))]\n",
    "    rows.append(row)"
   ]
  },
  {
   "cell_type": "code",
   "execution_count": 171,
   "id": "c4b3e29c-3645-4ff5-a153-d285fb584dbc",
   "metadata": {
    "tags": []
   },
   "outputs": [
    {
     "data": {
      "text/html": [
       "<div>\n",
       "<style scoped>\n",
       "    .dataframe tbody tr th:only-of-type {\n",
       "        vertical-align: middle;\n",
       "    }\n",
       "\n",
       "    .dataframe tbody tr th {\n",
       "        vertical-align: top;\n",
       "    }\n",
       "\n",
       "    .dataframe thead th {\n",
       "        text-align: right;\n",
       "    }\n",
       "</style>\n",
       "<table border=\"1\" class=\"dataframe\">\n",
       "  <thead>\n",
       "    <tr style=\"text-align: right;\">\n",
       "      <th>item</th>\n",
       "      <th>Schedule ID</th>\n",
       "      <th>FSU Serial No.</th>\n",
       "      <th>Schedule</th>\n",
       "      <th>survey year</th>\n",
       "      <th>Sector</th>\n",
       "      <th>NSS-Region</th>\n",
       "      <th>District</th>\n",
       "      <th>Stratum</th>\n",
       "      <th>Sub-Stratum</th>\n",
       "      <th>Sub-Round</th>\n",
       "      <th>...</th>\n",
       "      <th>Date of Despatch</th>\n",
       "      <th>Time to canvass(minutes)</th>\n",
       "      <th>No. of investigators(FI/ASO) in the team</th>\n",
       "      <th>Remarks in block 7</th>\n",
       "      <th>Remarks in block 8</th>\n",
       "      <th>Remarks elsewhere in Sch.</th>\n",
       "      <th>Remarks elsewhere in Sch.</th>\n",
       "      <th>Blank</th>\n",
       "      <th>NSC</th>\n",
       "      <th>MULT</th>\n",
       "    </tr>\n",
       "  </thead>\n",
       "  <tbody>\n",
       "    <tr>\n",
       "      <th>0</th>\n",
       "      <td>TUS</td>\n",
       "      <td>10202</td>\n",
       "      <td>106</td>\n",
       "      <td>2019</td>\n",
       "      <td>1</td>\n",
       "      <td>011</td>\n",
       "      <td>19</td>\n",
       "      <td>01</td>\n",
       "      <td>31</td>\n",
       "      <td>1</td>\n",
       "      <td>...</td>\n",
       "      <td>130219</td>\n",
       "      <td>90</td>\n",
       "      <td>1</td>\n",
       "      <td>2</td>\n",
       "      <td>2</td>\n",
       "      <td>2</td>\n",
       "      <td>2</td>\n",
       "      <td></td>\n",
       "      <td>4</td>\n",
       "      <td>1281550</td>\n",
       "    </tr>\n",
       "    <tr>\n",
       "      <th>1</th>\n",
       "      <td>TUS</td>\n",
       "      <td>10202</td>\n",
       "      <td>106</td>\n",
       "      <td>2019</td>\n",
       "      <td>1</td>\n",
       "      <td>011</td>\n",
       "      <td>19</td>\n",
       "      <td>01</td>\n",
       "      <td>31</td>\n",
       "      <td>1</td>\n",
       "      <td>...</td>\n",
       "      <td>130219</td>\n",
       "      <td>90</td>\n",
       "      <td>1</td>\n",
       "      <td>2</td>\n",
       "      <td>2</td>\n",
       "      <td>2</td>\n",
       "      <td>2</td>\n",
       "      <td></td>\n",
       "      <td>4</td>\n",
       "      <td>1281550</td>\n",
       "    </tr>\n",
       "    <tr>\n",
       "      <th>2</th>\n",
       "      <td>TUS</td>\n",
       "      <td>10202</td>\n",
       "      <td>106</td>\n",
       "      <td>2019</td>\n",
       "      <td>1</td>\n",
       "      <td>011</td>\n",
       "      <td>19</td>\n",
       "      <td>01</td>\n",
       "      <td>31</td>\n",
       "      <td>1</td>\n",
       "      <td>...</td>\n",
       "      <td>130219</td>\n",
       "      <td>90</td>\n",
       "      <td>1</td>\n",
       "      <td>2</td>\n",
       "      <td>2</td>\n",
       "      <td>2</td>\n",
       "      <td>2</td>\n",
       "      <td></td>\n",
       "      <td>4</td>\n",
       "      <td>1281550</td>\n",
       "    </tr>\n",
       "    <tr>\n",
       "      <th>3</th>\n",
       "      <td>TUS</td>\n",
       "      <td>10202</td>\n",
       "      <td>106</td>\n",
       "      <td>2019</td>\n",
       "      <td>1</td>\n",
       "      <td>011</td>\n",
       "      <td>19</td>\n",
       "      <td>01</td>\n",
       "      <td>31</td>\n",
       "      <td>1</td>\n",
       "      <td>...</td>\n",
       "      <td>130219</td>\n",
       "      <td>90</td>\n",
       "      <td>1</td>\n",
       "      <td>2</td>\n",
       "      <td>2</td>\n",
       "      <td>2</td>\n",
       "      <td>2</td>\n",
       "      <td></td>\n",
       "      <td>4</td>\n",
       "      <td>1281550</td>\n",
       "    </tr>\n",
       "    <tr>\n",
       "      <th>4</th>\n",
       "      <td>TUS</td>\n",
       "      <td>10202</td>\n",
       "      <td>106</td>\n",
       "      <td>2019</td>\n",
       "      <td>1</td>\n",
       "      <td>011</td>\n",
       "      <td>19</td>\n",
       "      <td>01</td>\n",
       "      <td>31</td>\n",
       "      <td>1</td>\n",
       "      <td>...</td>\n",
       "      <td>130219</td>\n",
       "      <td>90</td>\n",
       "      <td>1</td>\n",
       "      <td>2</td>\n",
       "      <td>2</td>\n",
       "      <td>2</td>\n",
       "      <td>2</td>\n",
       "      <td></td>\n",
       "      <td>4</td>\n",
       "      <td>1281550</td>\n",
       "    </tr>\n",
       "  </tbody>\n",
       "</table>\n",
       "<p>5 rows × 30 columns</p>\n",
       "</div>"
      ],
      "text/plain": [
       "item Schedule ID FSU Serial No. Schedule survey year Sector NSS-Region  \\\n",
       "0            TUS          10202      106        2019      1        011   \n",
       "1            TUS          10202      106        2019      1        011   \n",
       "2            TUS          10202      106        2019      1        011   \n",
       "3            TUS          10202      106        2019      1        011   \n",
       "4            TUS          10202      106        2019      1        011   \n",
       "\n",
       "item District Stratum Sub-Stratum Sub-Round  ... Date of Despatch  \\\n",
       "0          19      01          31         1  ...           130219   \n",
       "1          19      01          31         1  ...           130219   \n",
       "2          19      01          31         1  ...           130219   \n",
       "3          19      01          31         1  ...           130219   \n",
       "4          19      01          31         1  ...           130219   \n",
       "\n",
       "item Time to canvass(minutes) No. of investigators(FI/ASO) in the team  \\\n",
       "0                          90                                        1   \n",
       "1                          90                                        1   \n",
       "2                          90                                        1   \n",
       "3                          90                                        1   \n",
       "4                          90                                        1   \n",
       "\n",
       "item Remarks in block 7 Remarks in block 8 Remarks elsewhere in Sch.  \\\n",
       "0                     2                  2                         2   \n",
       "1                     2                  2                         2   \n",
       "2                     2                  2                         2   \n",
       "3                     2                  2                         2   \n",
       "4                     2                  2                         2   \n",
       "\n",
       "item Remarks elsewhere in Sch. Blank NSC     MULT  \n",
       "0                            2         4  1281550  \n",
       "1                            2         4  1281550  \n",
       "2                            2         4  1281550  \n",
       "3                            2         4  1281550  \n",
       "4                            2         4  1281550  \n",
       "\n",
       "[5 rows x 30 columns]"
      ]
     },
     "execution_count": 171,
     "metadata": {},
     "output_type": "execute_result"
    }
   ],
   "source": [
    "df_L1 = pd.DataFrame(rows, columns=layoutFile_L1.index)\n",
    "df_L1.head()"
   ]
  },
  {
   "cell_type": "markdown",
   "id": "3018b738-8103-4d2e-810b-e74d25e02aa2",
   "metadata": {},
   "source": [
    "It looks like the dataset does not have State Codes/Names. But it does have NSS-Region. And it looks like that the first two digits of the NSS-Region Code is actually State Codes. I am quite sure that these state codes will be the same as those in PLFS."
   ]
  },
  {
   "cell_type": "code",
   "execution_count": 172,
   "id": "442a41c6-f052-4853-bb67-ec7692e93120",
   "metadata": {
    "tags": []
   },
   "outputs": [],
   "source": [
    "df_L1[\"State\"] = df_L1.loc[:,\"NSS-Region\"].apply(lambda x: x[:-1])"
   ]
  },
  {
   "cell_type": "code",
   "execution_count": 173,
   "id": "4065c334-612c-4edd-9b70-71005e81aa1f",
   "metadata": {
    "tags": []
   },
   "outputs": [],
   "source": [
    "df_L1[\"north\"] = pd.Series(None)\n",
    "df_L1.loc[df_L1[\"State\"].isin([\"03\",\"06\",\"08\",\"09\",\"23\",\"24\"]),\"north\"] = 1\n",
    "df_L1.loc[df_L1[\"State\"].isin([\"27\",\"28\",\"29\",\"32\",\"33\",\"36\"]),\"north\"] = 0"
   ]
  },
  {
   "cell_type": "code",
   "execution_count": 174,
   "id": "d9936ded-5082-4d73-9ec4-58a05aab5057",
   "metadata": {
    "tags": []
   },
   "outputs": [],
   "source": [
    "# Generate a Common-ID to merge across data frames. This Common-ID is a HH Level ID.\n",
    "df_L1[\"Common-ID\"] = df_L1[\"Schedule ID\"] + df_L1[\"FSU Serial No.\"] + df_L1[\"Schedule\"] + df_L1[\"survey year\"] +\\\n",
    "                     df_L1[\"Sector\"] + df_L1[\"NSS-Region\"] + df_L1[\"District\"] + df_L1[\"Stratum\"] + df_L1[\"Sub-Stratum\"] + \\\n",
    "                     df_L1[\"Sub-Round\"] + df_L1[\"FOD Sub-Region\"] + df_L1[\"Sample hhld. No.\"]"
   ]
  },
  {
   "cell_type": "code",
   "execution_count": 175,
   "id": "6be610fe-0ea9-45e8-9f5c-037e1003c5ff",
   "metadata": {
    "tags": []
   },
   "outputs": [
    {
     "data": {
      "text/plain": [
       "Index(['Schedule ID', 'FSU Serial No.', 'Schedule', 'survey year', 'Sector',\n",
       "       'NSS-Region', 'District', 'Stratum', 'Sub-Stratum', 'Sub-Round',\n",
       "       'FOD Sub-Region', 'Sample hhld. No.', 'Level ', 'Filler',\n",
       "       'Informant Sl.No.', 'Response Code', 'Survey Code',\n",
       "       'Substitution Code/ Casualty code', 'Filler', 'Date of Survey',\n",
       "       'Date of Despatch', 'Time to canvass(minutes)',\n",
       "       'No. of investigators(FI/ASO) in the team', 'Remarks in block 7',\n",
       "       'Remarks in block 8', 'Remarks elsewhere in Sch.',\n",
       "       'Remarks elsewhere in Sch.', 'Blank', 'NSC', 'MULT', 'State', 'north',\n",
       "       'Common-ID'],\n",
       "      dtype='object', name='item')"
      ]
     },
     "execution_count": 175,
     "metadata": {},
     "output_type": "execute_result"
    }
   ],
   "source": [
    "df_L1.columns"
   ]
  },
  {
   "cell_type": "code",
   "execution_count": 176,
   "id": "5597e276-522a-464e-91fb-7d9b9baab4d9",
   "metadata": {
    "tags": []
   },
   "outputs": [
    {
     "data": {
      "text/plain": [
       "Response Code\n",
       "1    130123\n",
       "2      6923\n",
       "3      1204\n",
       "4       448\n",
       "9       101\n",
       "Name: count, dtype: int64"
      ]
     },
     "execution_count": 176,
     "metadata": {},
     "output_type": "execute_result"
    }
   ],
   "source": [
    "df_L1[\"Response Code\"].value_counts()"
   ]
  },
  {
   "cell_type": "markdown",
   "id": "414e65cf-459d-4570-a0ce-e8e2d0b92689",
   "metadata": {},
   "source": [
    "**Note:** Somehow `Response Code != 1` have valid responses in L2 which is weird. But I think it is prudent to drop entries that have `Response Code != 1`. In fact save them in a `pkl` file and drop these from other files as well\n",
    "\n",
    "```response code: informant: co-operative and capable -1, co-operative but not capable -2, busy -3,\n",
    "reluctant -4, others -9.```"
   ]
  },
  {
   "cell_type": "code",
   "execution_count": 177,
   "id": "c3aaf4d0-73b3-4816-b1ce-b0e4d186931b",
   "metadata": {
    "tags": []
   },
   "outputs": [],
   "source": [
    "dropids = df_L1[df_L1[\"Response Code\"] != \"1\"][\"Common-ID\"]\n",
    "dropids.to_pickle(\"../../proc/NonResponseCommonIDs.pkl\")"
   ]
  },
  {
   "cell_type": "code",
   "execution_count": 178,
   "id": "6a587d43-72b5-4eed-a410-b80f22e2e2ba",
   "metadata": {
    "tags": []
   },
   "outputs": [],
   "source": [
    "df_L1 = df_L1[df_L1[\"Response Code\"] == \"1\"]"
   ]
  },
  {
   "cell_type": "code",
   "execution_count": 179,
   "id": "6b65d00f-58f8-40fb-bb3e-487ecfee6896",
   "metadata": {
    "tags": []
   },
   "outputs": [
    {
     "data": {
      "text/plain": [
       "Response Code  Survey Code\n",
       "1              1              122284\n",
       "               2                7839\n",
       "Name: count, dtype: int64"
      ]
     },
     "execution_count": 179,
     "metadata": {},
     "output_type": "execute_result"
    }
   ],
   "source": [
    "df_L1[[ \"Response Code\", \"Survey Code\"]].value_counts()"
   ]
  },
  {
   "cell_type": "code",
   "execution_count": 180,
   "id": "643141ee-a539-4cf8-959b-0067887f2cd5",
   "metadata": {
    "tags": []
   },
   "outputs": [],
   "source": [
    "# Drop useless columns\n",
    "df_L1.drop(columns=['Schedule ID', 'FSU Serial No.', 'Schedule', 'survey year',\n",
    "       'NSS-Region','Stratum', 'Sub-Stratum', 'Sub-Round',\n",
    "       'FOD Sub-Region', 'Sample hhld. No.', 'Level ', 'Filler',\n",
    "       'Informant Sl.No.', 'Response Code', 'Survey Code',\n",
    "       'Substitution Code/ Casualty code', 'Filler', 'Date of Survey',\n",
    "       'Date of Despatch', 'Time to canvass(minutes)',\n",
    "       'No. of investigators(FI/ASO) in the team', 'Remarks in block 7',\n",
    "       'Remarks in block 8', 'Remarks elsewhere in Sch.',\n",
    "       'Remarks elsewhere in Sch.', 'Blank'], inplace=True)"
   ]
  },
  {
   "cell_type": "code",
   "execution_count": 181,
   "id": "c23a422c-2986-4ce0-8108-7a18be1a3369",
   "metadata": {
    "tags": []
   },
   "outputs": [],
   "source": [
    "df_weights = df_L1[[\"Common-ID\", \"NSC\", \"MULT\"]]\n",
    "df_weights.to_pickle(\"../../proc/HHWeights.pkl\")"
   ]
  },
  {
   "cell_type": "code",
   "execution_count": 182,
   "id": "b7784187-446c-459e-a943-9c1b5a1834b2",
   "metadata": {
    "tags": []
   },
   "outputs": [],
   "source": [
    "df_L1.drop(columns=['NSC', \"MULT\"], inplace=True)"
   ]
  },
  {
   "cell_type": "code",
   "execution_count": 183,
   "id": "36bd5bea-bc91-4620-a19e-f0dab6080af1",
   "metadata": {
    "tags": []
   },
   "outputs": [
    {
     "data": {
      "text/plain": [
       "Index(['Sector', 'District', 'State', 'north', 'Common-ID'], dtype='object', name='item')"
      ]
     },
     "execution_count": 183,
     "metadata": {},
     "output_type": "execute_result"
    }
   ],
   "source": [
    "df_L1.columns"
   ]
  },
  {
   "cell_type": "code",
   "execution_count": 184,
   "id": "fde744b7-1e4f-4430-a545-1a4ccfa4b2c2",
   "metadata": {
    "tags": []
   },
   "outputs": [
    {
     "data": {
      "text/plain": [
       "Common-ID\n",
       "32    121985\n",
       "31      8138\n",
       "Name: count, dtype: int64"
      ]
     },
     "execution_count": 184,
     "metadata": {},
     "output_type": "execute_result"
    }
   ],
   "source": [
    "# In L2, I find out that Common-ID may have an err'd space. Checking the same for L1\n",
    "df_L1[\"Common-ID\"].apply(lambda x: len(x.replace(\" \", \"\"))).value_counts()"
   ]
  },
  {
   "cell_type": "code",
   "execution_count": 185,
   "id": "b01d6747-bfae-462b-a739-3a3ffe5c9fa9",
   "metadata": {
    "tags": []
   },
   "outputs": [],
   "source": [
    "df_L1[\"Common-ID\"] = df_L1[\"Common-ID\"].apply(lambda x: x.replace(\" \", \"\"))"
   ]
  },
  {
   "cell_type": "markdown",
   "id": "c28ca004-f7ef-4f08-912a-58a7a5c7be7a",
   "metadata": {},
   "source": [
    "Drop the ones that have length less than 32"
   ]
  },
  {
   "cell_type": "code",
   "execution_count": 201,
   "id": "a153e17f-2a97-4443-9d35-f1360eb9510b",
   "metadata": {
    "tags": []
   },
   "outputs": [],
   "source": [
    "df_L1 = df_L1[df_L1[\"Common-ID\"].apply(lambda x: len(x)) == 32]"
   ]
  },
  {
   "cell_type": "code",
   "execution_count": 186,
   "id": "0fed0eea-4376-4d22-8f4f-6233371d0a84",
   "metadata": {
    "tags": []
   },
   "outputs": [],
   "source": [
    "# Level 2: Contains marital status and gender. \n",
    "layoutFile_L2 = pd.read_excel(\"../../raw/TUS_2019/Data_Layout_TUS106.xlsx\", header=43,nrows=14,usecols=[1,6,8])\n",
    "layoutFile_L2.columns=['item', 'start', 'end']\n",
    "layoutFile_L2.set_index(\"item\", inplace=True)"
   ]
  },
  {
   "cell_type": "code",
   "execution_count": 187,
   "id": "a128143f-139d-4598-8fa8-a7e309f89140",
   "metadata": {
    "tags": []
   },
   "outputs": [],
   "source": [
    "L2_txt = open(\"../../raw/TUS_2019/TUS106_L02.TXT\")\n",
    "n = 0\n",
    "start = layoutFile_L2['start']\n",
    "end = layoutFile_L2['end']\n",
    "rows = []\n",
    "for line in L2_txt:\n",
    "    line = line.strip()\n",
    "    row = [line[start[i]-1:end[i]].strip() for i in range(len(layoutFile_L2))]\n",
    "    rows.append(row)"
   ]
  },
  {
   "cell_type": "code",
   "execution_count": 188,
   "id": "46073951-9a41-4602-9edf-9b5a9a6a64c5",
   "metadata": {
    "tags": []
   },
   "outputs": [
    {
     "data": {
      "text/html": [
       "<div>\n",
       "<style scoped>\n",
       "    .dataframe tbody tr th:only-of-type {\n",
       "        vertical-align: middle;\n",
       "    }\n",
       "\n",
       "    .dataframe tbody tr th {\n",
       "        vertical-align: top;\n",
       "    }\n",
       "\n",
       "    .dataframe thead th {\n",
       "        text-align: right;\n",
       "    }\n",
       "</style>\n",
       "<table border=\"1\" class=\"dataframe\">\n",
       "  <thead>\n",
       "    <tr style=\"text-align: right;\">\n",
       "      <th>item</th>\n",
       "      <th>Common-ID</th>\n",
       "      <th>Level</th>\n",
       "      <th>Filler</th>\n",
       "      <th>Person serial no.</th>\n",
       "      <th>Relation to head</th>\n",
       "      <th>Gender</th>\n",
       "      <th>Age</th>\n",
       "      <th>marital status</th>\n",
       "      <th>highest level of education</th>\n",
       "      <th>usual principal activity: status (code)</th>\n",
       "      <th>industry of work: 2-digit of NIC 2008</th>\n",
       "      <th>Blank</th>\n",
       "      <th>NSC</th>\n",
       "      <th>MULT</th>\n",
       "    </tr>\n",
       "  </thead>\n",
       "  <tbody>\n",
       "    <tr>\n",
       "      <th>0</th>\n",
       "      <td>TUS10202106201910111901311011001</td>\n",
       "      <td>02</td>\n",
       "      <td>00</td>\n",
       "      <td>001</td>\n",
       "      <td>1</td>\n",
       "      <td>1</td>\n",
       "      <td>44</td>\n",
       "      <td>2</td>\n",
       "      <td>04</td>\n",
       "      <td>31</td>\n",
       "      <td>20</td>\n",
       "      <td></td>\n",
       "      <td>4</td>\n",
       "      <td>1281550</td>\n",
       "    </tr>\n",
       "    <tr>\n",
       "      <th>1</th>\n",
       "      <td>TUS10202106201910111901311011001</td>\n",
       "      <td>02</td>\n",
       "      <td>00</td>\n",
       "      <td>002</td>\n",
       "      <td>2</td>\n",
       "      <td>2</td>\n",
       "      <td>32</td>\n",
       "      <td>2</td>\n",
       "      <td>11</td>\n",
       "      <td>31</td>\n",
       "      <td>85</td>\n",
       "      <td></td>\n",
       "      <td>4</td>\n",
       "      <td>1281550</td>\n",
       "    </tr>\n",
       "    <tr>\n",
       "      <th>2</th>\n",
       "      <td>TUS10202106201910111901311011001</td>\n",
       "      <td>02</td>\n",
       "      <td>00</td>\n",
       "      <td>003</td>\n",
       "      <td>5</td>\n",
       "      <td>1</td>\n",
       "      <td>5</td>\n",
       "      <td>1</td>\n",
       "      <td>02</td>\n",
       "      <td></td>\n",
       "      <td></td>\n",
       "      <td></td>\n",
       "      <td>4</td>\n",
       "      <td>1281550</td>\n",
       "    </tr>\n",
       "    <tr>\n",
       "      <th>3</th>\n",
       "      <td>TUS10202106201910111901311011001</td>\n",
       "      <td>02</td>\n",
       "      <td>00</td>\n",
       "      <td>004</td>\n",
       "      <td>5</td>\n",
       "      <td>2</td>\n",
       "      <td>3</td>\n",
       "      <td>1</td>\n",
       "      <td>01</td>\n",
       "      <td></td>\n",
       "      <td></td>\n",
       "      <td></td>\n",
       "      <td>4</td>\n",
       "      <td>1281550</td>\n",
       "    </tr>\n",
       "    <tr>\n",
       "      <th>4</th>\n",
       "      <td>TUS10202106201910111901311011002</td>\n",
       "      <td>02</td>\n",
       "      <td>00</td>\n",
       "      <td>001</td>\n",
       "      <td>1</td>\n",
       "      <td>1</td>\n",
       "      <td>38</td>\n",
       "      <td>2</td>\n",
       "      <td>04</td>\n",
       "      <td>11</td>\n",
       "      <td>01</td>\n",
       "      <td></td>\n",
       "      <td>4</td>\n",
       "      <td>1281550</td>\n",
       "    </tr>\n",
       "  </tbody>\n",
       "</table>\n",
       "</div>"
      ],
      "text/plain": [
       "item                         Common-ID Level Filler Person serial no.  \\\n",
       "0     TUS10202106201910111901311011001    02     00               001   \n",
       "1     TUS10202106201910111901311011001    02     00               002   \n",
       "2     TUS10202106201910111901311011001    02     00               003   \n",
       "3     TUS10202106201910111901311011001    02     00               004   \n",
       "4     TUS10202106201910111901311011002    02     00               001   \n",
       "\n",
       "item Relation to head Gender Age marital status highest level of education  \\\n",
       "0                   1      1  44              2                         04   \n",
       "1                   2      2  32              2                         11   \n",
       "2                   5      1   5              1                         02   \n",
       "3                   5      2   3              1                         01   \n",
       "4                   1      1  38              2                         04   \n",
       "\n",
       "item usual principal activity: status (code)  \\\n",
       "0                                         31   \n",
       "1                                         31   \n",
       "2                                              \n",
       "3                                              \n",
       "4                                         11   \n",
       "\n",
       "item industry of work: 2-digit of NIC 2008 Blank NSC     MULT  \n",
       "0                                       20         4  1281550  \n",
       "1                                       85         4  1281550  \n",
       "2                                                  4  1281550  \n",
       "3                                                  4  1281550  \n",
       "4                                       01         4  1281550  "
      ]
     },
     "execution_count": 188,
     "metadata": {},
     "output_type": "execute_result"
    }
   ],
   "source": [
    "df_L2 = pd.DataFrame(rows, columns=layoutFile_L2.index)\n",
    "df_L2.head()"
   ]
  },
  {
   "cell_type": "code",
   "execution_count": 189,
   "id": "aca55fe1-2aaa-4f30-baf5-50bae134cfb6",
   "metadata": {
    "tags": []
   },
   "outputs": [
    {
     "data": {
      "text/plain": [
       "Index(['Common-ID', 'Level', 'Filler', 'Person serial no.', 'Relation to head',\n",
       "       'Gender', 'Age', 'marital status', 'highest level of education',\n",
       "       'usual principal activity: status (code)',\n",
       "       'industry of work: 2-digit of NIC 2008', 'Blank', 'NSC', 'MULT'],\n",
       "      dtype='object', name='item')"
      ]
     },
     "execution_count": 189,
     "metadata": {},
     "output_type": "execute_result"
    }
   ],
   "source": [
    "df_L2.columns"
   ]
  },
  {
   "cell_type": "code",
   "execution_count": 190,
   "id": "a1b00399-bc67-4f77-bbca-2ecb7447a4ed",
   "metadata": {
    "tags": []
   },
   "outputs": [],
   "source": [
    "df_L2[\"primID\"] = df_L2[\"Common-ID\"]+df_L2[\"Person serial no.\"]"
   ]
  },
  {
   "cell_type": "code",
   "execution_count": 191,
   "id": "b839b464-afe5-4462-9c07-4909098ec846",
   "metadata": {
    "tags": []
   },
   "outputs": [],
   "source": [
    "df_L2.drop(columns=['Level', 'Filler', 'Blank'], inplace=True)"
   ]
  },
  {
   "cell_type": "code",
   "execution_count": 192,
   "id": "a8059037-7440-4445-a651-1c05e40dab90",
   "metadata": {
    "tags": []
   },
   "outputs": [],
   "source": [
    "df_weights = df_L2[['Common-ID', 'Person serial no.', \"primID\", 'NSC', 'MULT']]\n",
    "df_weights.to_pickle(\"../../proc/IndWeights.pkl\")\n",
    "df_L2.drop(columns = ['NSC', 'MULT'], inplace=True)"
   ]
  },
  {
   "cell_type": "code",
   "execution_count": 193,
   "id": "79fa2ede-97f7-4628-94ba-f32207d9a05a",
   "metadata": {
    "tags": []
   },
   "outputs": [
    {
     "data": {
      "text/plain": [
       "Index(['Common-ID', 'Person serial no.', 'Relation to head', 'Gender', 'Age',\n",
       "       'marital status', 'highest level of education',\n",
       "       'usual principal activity: status (code)',\n",
       "       'industry of work: 2-digit of NIC 2008', 'primID'],\n",
       "      dtype='object', name='item')"
      ]
     },
     "execution_count": 193,
     "metadata": {},
     "output_type": "execute_result"
    }
   ],
   "source": [
    "df_L2.columns"
   ]
  },
  {
   "cell_type": "code",
   "execution_count": 194,
   "id": "5a1e7e81-b919-4d55-a30c-a9f393429d39",
   "metadata": {
    "tags": []
   },
   "outputs": [
    {
     "data": {
      "text/plain": [
       "Common-ID\n",
       "32    487826\n",
       "31     30918\n",
       "Name: count, dtype: int64"
      ]
     },
     "execution_count": 194,
     "metadata": {},
     "output_type": "execute_result"
    }
   ],
   "source": [
    "df_L2[\"Common-ID\"].apply(lambda x: len(x.replace(\" \", \"\"))).value_counts()"
   ]
  },
  {
   "cell_type": "markdown",
   "id": "e7c05181-da01-49af-9182-824eb4bbbbab",
   "metadata": {},
   "source": [
    "Looks like some Common-IDs in L2 have missing bits. About 6%. Drop them"
   ]
  },
  {
   "cell_type": "code",
   "execution_count": 202,
   "id": "6e3c4399-32aa-4cb3-814a-bfccc06adeab",
   "metadata": {
    "tags": []
   },
   "outputs": [],
   "source": [
    "df_L2[\"Common-ID\"] = df_L2[\"Common-ID\"].apply(lambda x: x.replace(\" \", \"\"))\n",
    "df_L2 = df_L2[df_L2[\"Common-ID\"].apply(lambda x: len(x)) == 32]"
   ]
  },
  {
   "cell_type": "code",
   "execution_count": 203,
   "id": "d2c1770e-b019-46dc-9815-ebfc1677b420",
   "metadata": {
    "tags": []
   },
   "outputs": [],
   "source": [
    "# Merge all the dataframes into one and save as pickle file\n",
    "df_merged = pd.merge(left=df_L1, right=df_L2, on=\"Common-ID\", how=\"outer\",indicator=True)"
   ]
  },
  {
   "cell_type": "code",
   "execution_count": 204,
   "id": "51ec8f85-2cce-4e27-aa2e-30a1a4e0023c",
   "metadata": {
    "tags": []
   },
   "outputs": [
    {
     "data": {
      "text/plain": [
       "_merge\n",
       "both          455448\n",
       "right_only     32378\n",
       "left_only          0\n",
       "Name: count, dtype: int64"
      ]
     },
     "execution_count": 204,
     "metadata": {},
     "output_type": "execute_result"
    }
   ],
   "source": [
    "df_merged[\"_merge\"].value_counts()"
   ]
  },
  {
   "cell_type": "markdown",
   "id": "68b85ee7-a850-4ccc-9ccf-1ae7b10d8979",
   "metadata": {},
   "source": [
    "`_merge == right_only` because I drop those HHs with `Response Code ~= 1` "
   ]
  },
  {
   "cell_type": "code",
   "execution_count": 206,
   "id": "ba941e1f-c0d5-49db-ae6b-37b31d93296e",
   "metadata": {
    "tags": []
   },
   "outputs": [
    {
     "data": {
      "text/plain": [
       "32378"
      ]
     },
     "execution_count": 206,
     "metadata": {},
     "output_type": "execute_result"
    }
   ],
   "source": [
    "respcodeids = pd.read_pickle(\"../../proc/NonResponseCommonIDs.pkl\")\n",
    "sum(df_merged[df_merged[\"_merge\"] == \"right_only\"][\"Common-ID\"].isin(respcodeids))"
   ]
  },
  {
   "cell_type": "code",
   "execution_count": 207,
   "id": "a0423a32-3516-4b9c-83db-8edb059872e4",
   "metadata": {
    "tags": []
   },
   "outputs": [
    {
     "data": {
      "text/plain": [
       "Index(['Sector', 'District', 'State', 'north', 'Common-ID',\n",
       "       'Person serial no.', 'Relation to head', 'Gender', 'Age',\n",
       "       'marital status', 'highest level of education',\n",
       "       'usual principal activity: status (code)',\n",
       "       'industry of work: 2-digit of NIC 2008', 'primID', '_merge'],\n",
       "      dtype='object', name='item')"
      ]
     },
     "execution_count": 207,
     "metadata": {},
     "output_type": "execute_result"
    }
   ],
   "source": [
    "df_merged.columns"
   ]
  },
  {
   "cell_type": "code",
   "execution_count": 208,
   "id": "ad70e22b-8564-4736-b623-10e09e0b496c",
   "metadata": {
    "tags": []
   },
   "outputs": [],
   "source": [
    "df_merged = df_merged[df_merged[\"_merge\"] == \"both\"]"
   ]
  },
  {
   "cell_type": "code",
   "execution_count": 209,
   "id": "dd2f0a7d-aa97-4264-9b89-bc17ff87413b",
   "metadata": {
    "tags": []
   },
   "outputs": [
    {
     "name": "stderr",
     "output_type": "stream",
     "text": [
      "C:\\Users\\shrey\\AppData\\Local\\Temp\\ipykernel_18208\\3764088376.py:1: SettingWithCopyWarning: \n",
      "A value is trying to be set on a copy of a slice from a DataFrame\n",
      "\n",
      "See the caveats in the documentation: https://pandas.pydata.org/pandas-docs/stable/user_guide/indexing.html#returning-a-view-versus-a-copy\n",
      "  df_merged.drop(columns=[\"_merge\"],inplace=True)\n"
     ]
    }
   ],
   "source": [
    "df_merged.drop(columns=[\"_merge\"],inplace=True)"
   ]
  },
  {
   "cell_type": "code",
   "execution_count": 210,
   "id": "d1463660-055e-4026-aaa9-ab51909572d1",
   "metadata": {
    "tags": []
   },
   "outputs": [],
   "source": [
    "df_merged.to_pickle(\"../../proc/df_L1L2.pkl\")"
   ]
  },
  {
   "cell_type": "code",
   "execution_count": 211,
   "id": "7d8c5578-9776-4a83-9ebd-2855cc82022b",
   "metadata": {
    "tags": []
   },
   "outputs": [],
   "source": [
    "####################### END DATA GENERATION ########################"
   ]
  }
 ],
 "metadata": {
  "kernelspec": {
   "display_name": "Python 3 (ipykernel)",
   "language": "python",
   "name": "python3"
  },
  "language_info": {
   "codemirror_mode": {
    "name": "ipython",
    "version": 3
   },
   "file_extension": ".py",
   "mimetype": "text/x-python",
   "name": "python",
   "nbconvert_exporter": "python",
   "pygments_lexer": "ipython3",
   "version": "3.11.5"
  }
 },
 "nbformat": 4,
 "nbformat_minor": 5
}
