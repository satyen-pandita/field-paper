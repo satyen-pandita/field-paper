{
 "cells": [
  {
   "cell_type": "code",
   "execution_count": 1,
   "id": "a0b1c43f-d0aa-466b-9878-e9d0f3f2037d",
   "metadata": {
    "tags": []
   },
   "outputs": [],
   "source": [
    "import pandas as pd\n",
    "import numpy as np\n",
    "import os\n",
    "import copy\n",
    "import scipy.stats as stats\n",
    "import math\n",
    "from scipy.optimize import minimize\n",
    "from scipy.optimize import Bounds\n",
    "from functools import partial\n",
    "import seaborn as sns\n",
    "import matplotlib.pyplot as plt"
   ]
  },
  {
   "cell_type": "code",
   "execution_count": 2,
   "id": "091da9da-d76c-4371-8ec7-bc2a46e7c832",
   "metadata": {
    "tags": []
   },
   "outputs": [],
   "source": [
    "df_husb_wife = pd.read_pickle(\"df_husb_wife.pkl\")"
   ]
  },
  {
   "cell_type": "code",
   "execution_count": 3,
   "id": "6c480312-45aa-4f3f-b38d-d9494e9a37d8",
   "metadata": {
    "tags": []
   },
   "outputs": [
    {
     "data": {
      "text/html": [
       "<div>\n",
       "<style scoped>\n",
       "    .dataframe tbody tr th:only-of-type {\n",
       "        vertical-align: middle;\n",
       "    }\n",
       "\n",
       "    .dataframe tbody tr th {\n",
       "        vertical-align: top;\n",
       "    }\n",
       "\n",
       "    .dataframe thead th {\n",
       "        text-align: right;\n",
       "    }\n",
       "</style>\n",
       "<table border=\"1\" class=\"dataframe\">\n",
       "  <thead>\n",
       "    <tr style=\"text-align: right;\">\n",
       "      <th></th>\n",
       "      <th>FI_per_fv_h</th>\n",
       "      <th>b1q2_per_fv_h</th>\n",
       "      <th>quarter_per_fv_h</th>\n",
       "      <th>visit_per_fv_h</th>\n",
       "      <th>b1q3_per_fv_h</th>\n",
       "      <th>state_per_fv_h</th>\n",
       "      <th>b1q4_per_fv_h</th>\n",
       "      <th>nss_region_per_fv_h</th>\n",
       "      <th>b1q5_per_fv_h</th>\n",
       "      <th>b1q6_per_fv_h</th>\n",
       "      <th>...</th>\n",
       "      <th>grad_h</th>\n",
       "      <th>grad_w</th>\n",
       "      <th>dip_h</th>\n",
       "      <th>dip_w</th>\n",
       "      <th>hs_h</th>\n",
       "      <th>hs_w</th>\n",
       "      <th>north</th>\n",
       "      <th>ratio</th>\n",
       "      <th>weight_h</th>\n",
       "      <th>state_name</th>\n",
       "    </tr>\n",
       "  </thead>\n",
       "  <tbody>\n",
       "  </tbody>\n",
       "</table>\n",
       "<p>0 rows × 376 columns</p>\n",
       "</div>"
      ],
      "text/plain": [
       "Empty DataFrame\n",
       "Columns: [FI_per_fv_h, b1q2_per_fv_h, quarter_per_fv_h, visit_per_fv_h, b1q3_per_fv_h, state_per_fv_h, b1q4_per_fv_h, nss_region_per_fv_h, b1q5_per_fv_h, b1q6_per_fv_h, b1q11_per_fv_h, b1q12_per_fv_h, fsu_per_fv_h, b1q13_per_fv_h, b1q14_per_fv_h, b1q15_per_fv_h, b4q1_per_fv_h, b4q4_per_fv_h, b4q5_per_fv_h, b4q6_per_fv_h, b4q7_per_fv_h, b4q8_per_fv_h, b4q9_per_fv_h, b4q10_per_fv_h, b4q11_per_fv_h, b4q12_per_fv_h, b4pt1q3_per_fv_h, b4pt1q4_per_fv_h, b4pt1q5_per_fv_h, b4pt1q6_per_fv_h, b4pt1q7_per_fv_h, b5pt1q3_per_fv_h, b5pt1q5_per_fv_h, b5pt1q6_per_fv_h, b5pt1q7_per_fv_h, b5pt1q8_per_fv_h, b5pt1q9_per_fv_h, b5pt1q10_per_fv_h, b5pt1q11_per_fv_h, b5pt1q12_per_fv_h, b5pt1q13_per_fv_h, b5pt2q3_per_fv_h, b5pt2q5_per_fv_h, b5pt2q6_per_fv_h, b5pt2q7_per_fv_h, b5pt2q8_per_fv_h, b5pt2q9_per_fv_h, b5pt2q10_per_fv_h, b5pt2q11_per_fv_h, b5pt2q12_per_fv_h, b6q4_3pt1_Act1_per_fv_h, b6q5_3pt1_Act1__per_fv_h, b6q6_3pt1_Act1_per_fv_h, b6q9_3pt1_Act1_per_fv_h, b6q4_3pt1__Act2_per_fv_h, b6q5_3pt1_Act2_per_fv_h, b6q6_3pt1_Act2_per_fv_h, b6q9_3pt1_Act2_per_fv_h, b6q7_3pt1_per_fv_h, b6q8_3pt1_per_fv_h, b6q4_3pt2_Act1_per_fv_h, b6q5_3pt2_Act1_per_fv_h, b6q6_3pt2_Act1_per_fv_h, b6q9_3pt2_Act1_per_fv_h, b6q4_3pt2_Act2_per_fv_h, b6q5_3pt2_Act2_per_fv_h, b6q6_3pt2_Act2_per_fv_h, b6q9_3pt2_Act2_per_fv_h, b6q7_3pt2_per_fv_h, b6q8_3pt2_per_fv_h, b6q4_3pt3_Act1_per_fv_h, b6q5_3pt3_Act1_per_fv_h, b6q6_3pt3_Act1_per_fv_h, b6q9_3pt3_Act1_per_fv_h, b6q4_3pt3_Act2_per_fv_h, b6q5_3pt3_Act2_per_fv_h, b6q6_3pt3_Act2_per_fv_h, b6q9_3pt3_Act2_per_fv_h, b6q7_3pt3_per_fv_h, b6q8_3pt3_per_fv_h, b6q4_3pt4_Act1_per_fv_h, b6q5_3pt4_Act1_per_fv_h, b6q6_3pt4_Act1_per_fv_h, b6q9_3pt4_Act1_per_fv_h, b6q4_3pt4_Act2_per_fv_h, b6q5_3pt4_Act2_per_fv_h, b6q6_3pt4_Act2_per_fv_h, b6q9_3pt4_Act2_per_fv_h, b6q7_3pt4_per_fv_h, b6q8_3pt4_per_fv_h, b6q4_3pt5_Act1_per_fv_h, b6q5_3pt5_Act1_per_fv_h, b6q6_3pt5_Act1_per_fv_h, b6q9_3pt5_Act1_per_fv_h, b6q4_3pt5_Act2_h, b6q5_3pt5_Act2_h, b6q6_3pt5_Act2_h, b6q9_3pt5_Act2_h, b6q7_3pt5_h, b6q8_3pt5_h, ...]\n",
       "Index: []\n",
       "\n",
       "[0 rows x 376 columns]"
      ]
     },
     "execution_count": 3,
     "metadata": {},
     "output_type": "execute_result"
    }
   ],
   "source": [
    "df_husb_wife.loc[df_husb_wife['state_per_fv_h'].isin([])]"
   ]
  },
  {
   "cell_type": "code",
   "execution_count": 4,
   "id": "881421ba-98d0-464c-83b2-e52d835fe882",
   "metadata": {
    "tags": []
   },
   "outputs": [],
   "source": [
    "# Create the table for LFP status\n",
    "df_husb_wife.loc[:,\"EMP_type\"] = None\n",
    "df_husb_wife.loc[(df_husb_wife[\"EMP_h\"] == 1) & (df_husb_wife[\"EMP_w\"] == 1),\"EMP_type\"] = \"YY\"\n",
    "df_husb_wife.loc[(df_husb_wife[\"EMP_h\"] == 1) & (df_husb_wife[\"EMP_w\"] == 0),\"EMP_type\"] = \"YN\"\n",
    "df_husb_wife.loc[(df_husb_wife[\"EMP_h\"] == 0) & (df_husb_wife[\"EMP_w\"] == 1),\"EMP_type\"] = \"NY\"\n",
    "df_husb_wife.loc[(df_husb_wife[\"EMP_h\"] == 0) & (df_husb_wife[\"EMP_w\"] == 0),\"EMP_type\"] = \"NN\"\n"
   ]
  },
  {
   "cell_type": "markdown",
   "id": "9b5a3904-86d2-4956-8951-873e36edd3ee",
   "metadata": {},
   "source": [
    "It is the goal of this exercise to get the gender wage gap.  What I need to do next is, given a skill level, identify the difference in wages. To keep matters from exploding, I will keep two skill levels -- high and low. These should be defined by, I think, college education? Or high school education? Or diploma? What I want is one of these skill levels gets you blue collar jobs and the other one, white collar jobs. \n",
    "\n",
    "The definition for white/blue collar, taking it equivalent to having a \"regular/salaried wage\" doesn't give a clean cut. Maybe see who earns more than median wage in each category.\n",
    "\n",
    "The thing that works is the 90th percentile. It gives me a \"clean\" cut around having a diploma. Could keep college also. (I can imagine Rasmus saying this cut is arbitrary.)\n",
    "\n",
    "Next, I need to see the following things: \n",
    "\n",
    "1. What proportion of married men and women are below/above college educated? \n",
    "2. What does the distribution of HHs look like across education and employment status? \n",
    "3. What is the \"truncated\" wage distribution like across these skills? \n",
    "    * How do I check this truncated thing? People in my dataset are recorded earning 0 wages and working positive hours. Even if I drop 0 wages, I am still left with people who are recorded earning 3-4 rs a day. That certainly doesn't feel possible. What do I do about the truncation point?? READING ON HOW TO GET ORIGINAL DISTRIBUTION FROM TRUNCATED DISTRIBUTION.\n",
    "        * **Now, I went through a few hoops and this feels like something I can't do anything about. I _could_ condition on working at least 5 hours or something but that is definitely arbitrary.** \n",
    "        * **Also, hourly wages is better to use than daily wage.**\n"
   ]
  },
  {
   "cell_type": "code",
   "execution_count": 5,
   "id": "16b7df94-d794-4b5d-865b-0133852a4d33",
   "metadata": {
    "tags": []
   },
   "outputs": [
    {
     "data": {
      "text/plain": [
       "EMP_type\n",
       "YN    0.785507\n",
       "YY    0.164712\n",
       "NN    0.039238\n",
       "NY    0.010543\n",
       "Name: proportion, dtype: float64"
      ]
     },
     "execution_count": 5,
     "metadata": {},
     "output_type": "execute_result"
    }
   ],
   "source": [
    "df_husb_wife[\"EMP_type\"].value_counts(normalize=True)"
   ]
  },
  {
   "cell_type": "code",
   "execution_count": 6,
   "id": "2ae6fa4b-30be-4fac-9d72-7309f7f9cc83",
   "metadata": {
    "tags": []
   },
   "outputs": [],
   "source": [
    "nrows = df_husb_wife.shape[0]"
   ]
  },
  {
   "cell_type": "markdown",
   "id": "71d5e4f0-6971-4f46-8144-b56145883da1",
   "metadata": {},
   "source": [
    "#### How do I come up with a \"high skill\" vs. \"low skill\"\n",
    "\n",
    "What I want is the `P(\"high wage\"|skill)` should exhibit a \"sharp\" jump when going `skill = low` to `skill = high`"
   ]
  },
  {
   "cell_type": "code",
   "execution_count": 35,
   "id": "268e28ef-d034-4838-b4d5-5208741028e7",
   "metadata": {
    "tags": []
   },
   "outputs": [],
   "source": [
    "\n",
    "df_husb_wife.loc[:,\"wc_h\"] = pd.Series(None)\n",
    "df_husb_wife.loc[df_husb_wife[\"hourlywage_h\"] < df_husb_wife[\"hourlywage_h\"].quantile(0.9),\"wc_h\"] = 0.0\n",
    "df_husb_wife.loc[df_husb_wife[\"hourlywage_h\"] >= df_husb_wife[\"hourlywage_h\"].quantile(0.9),\"wc_h\"] = 1.0\n",
    "\n",
    "df_husb_wife.loc[:,\"wc_w\"] = pd.Series(None)\n",
    "df_husb_wife.loc[df_husb_wife[\"hourlywage_w\"] < df_husb_wife[\"hourlywage_w\"].quantile(0.9),\"wc_w\"] = 0.0\n",
    "df_husb_wife.loc[df_husb_wife[\"hourlywage_w\"] >= df_husb_wife[\"hourlywage_w\"].quantile(0.9),\"wc_w\"] = 1.0"
   ]
  },
  {
   "cell_type": "code",
   "execution_count": 36,
   "id": "088da961-dc0c-43fa-bfa6-071ac52bb4b0",
   "metadata": {
    "tags": []
   },
   "outputs": [
    {
     "data": {
      "text/html": [
       "<div>\n",
       "<style scoped>\n",
       "    .dataframe tbody tr th:only-of-type {\n",
       "        vertical-align: middle;\n",
       "    }\n",
       "\n",
       "    .dataframe tbody tr th {\n",
       "        vertical-align: top;\n",
       "    }\n",
       "\n",
       "    .dataframe thead th {\n",
       "        text-align: right;\n",
       "    }\n",
       "</style>\n",
       "<table border=\"1\" class=\"dataframe\">\n",
       "  <thead>\n",
       "    <tr style=\"text-align: right;\">\n",
       "      <th></th>\n",
       "      <th>wc_h</th>\n",
       "    </tr>\n",
       "    <tr>\n",
       "      <th>col_h</th>\n",
       "      <th></th>\n",
       "    </tr>\n",
       "  </thead>\n",
       "  <tbody>\n",
       "    <tr>\n",
       "      <th>0</th>\n",
       "      <td>0.045739</td>\n",
       "    </tr>\n",
       "    <tr>\n",
       "      <th>1</th>\n",
       "      <td>0.285125</td>\n",
       "    </tr>\n",
       "  </tbody>\n",
       "</table>\n",
       "</div>"
      ],
      "text/plain": [
       "           wc_h\n",
       "col_h          \n",
       "0      0.045739\n",
       "1      0.285125"
      ]
     },
     "execution_count": 36,
     "metadata": {},
     "output_type": "execute_result"
    }
   ],
   "source": [
    "df_husb_wife[[\"col_h\", \"wc_h\"]].groupby(\"col_h\").mean()"
   ]
  },
  {
   "cell_type": "code",
   "execution_count": 37,
   "id": "d4b26a60-bead-4163-836e-cfd325239572",
   "metadata": {
    "tags": []
   },
   "outputs": [
    {
     "data": {
      "text/html": [
       "<div>\n",
       "<style scoped>\n",
       "    .dataframe tbody tr th:only-of-type {\n",
       "        vertical-align: middle;\n",
       "    }\n",
       "\n",
       "    .dataframe tbody tr th {\n",
       "        vertical-align: top;\n",
       "    }\n",
       "\n",
       "    .dataframe thead th {\n",
       "        text-align: right;\n",
       "    }\n",
       "</style>\n",
       "<table border=\"1\" class=\"dataframe\">\n",
       "  <thead>\n",
       "    <tr style=\"text-align: right;\">\n",
       "      <th></th>\n",
       "      <th>wc_w</th>\n",
       "    </tr>\n",
       "    <tr>\n",
       "      <th>col_w</th>\n",
       "      <th></th>\n",
       "    </tr>\n",
       "  </thead>\n",
       "  <tbody>\n",
       "    <tr>\n",
       "      <th>0</th>\n",
       "      <td>0.027897</td>\n",
       "    </tr>\n",
       "    <tr>\n",
       "      <th>1</th>\n",
       "      <td>0.313416</td>\n",
       "    </tr>\n",
       "  </tbody>\n",
       "</table>\n",
       "</div>"
      ],
      "text/plain": [
       "           wc_w\n",
       "col_w          \n",
       "0      0.027897\n",
       "1      0.313416"
      ]
     },
     "execution_count": 37,
     "metadata": {},
     "output_type": "execute_result"
    }
   ],
   "source": [
    "df_husb_wife[[\"col_w\", \"wc_w\"]].groupby(\"col_w\").mean()"
   ]
  },
  {
   "cell_type": "code",
   "execution_count": 10,
   "id": "494838db-0df1-4353-9a81-4368080e3bb3",
   "metadata": {
    "tags": []
   },
   "outputs": [],
   "source": [
    "################ SO THAT's HOW I COME UP WITH THE HIGH SKILL LOW SKILL DISTINCTION ###################"
   ]
  },
  {
   "cell_type": "code",
   "execution_count": 11,
   "id": "28dc3358-517c-454b-b119-5814e1809839",
   "metadata": {
    "tags": []
   },
   "outputs": [
    {
     "data": {
      "text/plain": [
       "col_h  col_w\n",
       "0      0        0.694385\n",
       "       1        0.069356\n",
       "1      0        0.101990\n",
       "       1        0.134269\n",
       "Name: count, dtype: float64"
      ]
     },
     "execution_count": 11,
     "metadata": {},
     "output_type": "execute_result"
    }
   ],
   "source": [
    "# 1. What proportion of married men and women are below/above college educated?\n",
    "df_husb_wife[[\"col_h\", \"col_w\"]].value_counts().sort_index()/nrows"
   ]
  },
  {
   "cell_type": "code",
   "execution_count": 12,
   "id": "8c8f2d08-66fb-435e-a913-5279720e299b",
   "metadata": {
    "tags": []
   },
   "outputs": [
    {
     "data": {
      "text/plain": [
       "col_w  col_h  EMP_type\n",
       "0      0      YN          0.555023\n",
       "              YY          0.106254\n",
       "              NN          0.025882\n",
       "              NY          0.007226\n",
       "       1      YN          0.086769\n",
       "              YY          0.009210\n",
       "              NN          0.005538\n",
       "              NY          0.000474\n",
       "1      0      YN          0.051439\n",
       "              YY          0.014659\n",
       "              NN          0.001866\n",
       "              NY          0.001392\n",
       "       1      YN          0.092277\n",
       "              YY          0.034589\n",
       "              NN          0.005952\n",
       "              NY          0.001451\n",
       "Name: count, dtype: float64"
      ]
     },
     "execution_count": 12,
     "metadata": {},
     "output_type": "execute_result"
    }
   ],
   "source": [
    "# 2. What does the distribution of HHs look like across education and employment status? \n",
    "df_husb_wife[[\"col_w\", \"col_h\", \"EMP_type\"]].groupby([\"col_w\", \"col_h\"]).value_counts()/nrows"
   ]
  },
  {
   "cell_type": "code",
   "execution_count": 13,
   "id": "442f17a2-7f44-455a-b10b-4977afc08c3c",
   "metadata": {
    "tags": []
   },
   "outputs": [
    {
     "data": {
      "text/html": [
       "<div>\n",
       "<style scoped>\n",
       "    .dataframe tbody tr th:only-of-type {\n",
       "        vertical-align: middle;\n",
       "    }\n",
       "\n",
       "    .dataframe tbody tr th {\n",
       "        vertical-align: top;\n",
       "    }\n",
       "\n",
       "    .dataframe thead th {\n",
       "        text-align: right;\n",
       "    }\n",
       "</style>\n",
       "<table border=\"1\" class=\"dataframe\">\n",
       "  <thead>\n",
       "    <tr style=\"text-align: right;\">\n",
       "      <th></th>\n",
       "      <th></th>\n",
       "      <th>hourlywage_h</th>\n",
       "      <th>hourlywage_w</th>\n",
       "    </tr>\n",
       "    <tr>\n",
       "      <th>col_h</th>\n",
       "      <th>col_w</th>\n",
       "      <th></th>\n",
       "      <th></th>\n",
       "    </tr>\n",
       "  </thead>\n",
       "  <tbody>\n",
       "    <tr>\n",
       "      <th rowspan=\"2\" valign=\"top\">0</th>\n",
       "      <th>0</th>\n",
       "      <td>47.169811</td>\n",
       "      <td>25.000000</td>\n",
       "    </tr>\n",
       "    <tr>\n",
       "      <th>1</th>\n",
       "      <td>62.5</td>\n",
       "      <td>53.571429</td>\n",
       "    </tr>\n",
       "    <tr>\n",
       "      <th rowspan=\"2\" valign=\"top\">1</th>\n",
       "      <th>0</th>\n",
       "      <td>80.357143</td>\n",
       "      <td>35.714286</td>\n",
       "    </tr>\n",
       "    <tr>\n",
       "      <th>1</th>\n",
       "      <td>111.607143</td>\n",
       "      <td>100.000000</td>\n",
       "    </tr>\n",
       "  </tbody>\n",
       "</table>\n",
       "</div>"
      ],
      "text/plain": [
       "            hourlywage_h  hourlywage_w\n",
       "col_h col_w                           \n",
       "0     0        47.169811     25.000000\n",
       "      1             62.5     53.571429\n",
       "1     0        80.357143     35.714286\n",
       "      1       111.607143    100.000000"
      ]
     },
     "execution_count": 13,
     "metadata": {},
     "output_type": "execute_result"
    }
   ],
   "source": [
    "# 3. What does the wage gap look like across these thresholds for men and women? \n",
    "df_husb_wife[[\"col_h\", \"col_w\",\"hourlywage_h\", \"hourlywage_w\"]].groupby([\"col_h\", \"col_w\"]).median()"
   ]
  },
  {
   "cell_type": "markdown",
   "id": "26c7c811-cab8-45f7-a056-2f3c5fa850a8",
   "metadata": {},
   "source": [
    "The ratio of median wages for non-college men and women is around 0.5, while for college educated men and women is 0.9"
   ]
  },
  {
   "cell_type": "code",
   "execution_count": 14,
   "id": "b311a769-b849-4346-a7a0-a1b13ba49bb3",
   "metadata": {
    "tags": []
   },
   "outputs": [
    {
     "data": {
      "text/html": [
       "<div>\n",
       "<style scoped>\n",
       "    .dataframe tbody tr th:only-of-type {\n",
       "        vertical-align: middle;\n",
       "    }\n",
       "\n",
       "    .dataframe tbody tr th {\n",
       "        vertical-align: top;\n",
       "    }\n",
       "\n",
       "    .dataframe thead th {\n",
       "        text-align: right;\n",
       "    }\n",
       "</style>\n",
       "<table border=\"1\" class=\"dataframe\">\n",
       "  <thead>\n",
       "    <tr style=\"text-align: right;\">\n",
       "      <th></th>\n",
       "      <th></th>\n",
       "      <th>hourlywage_h</th>\n",
       "      <th>hourlywage_w</th>\n",
       "    </tr>\n",
       "    <tr>\n",
       "      <th>col_h</th>\n",
       "      <th>col_w</th>\n",
       "      <th></th>\n",
       "      <th></th>\n",
       "    </tr>\n",
       "  </thead>\n",
       "  <tbody>\n",
       "    <tr>\n",
       "      <th rowspan=\"2\" valign=\"top\">0</th>\n",
       "      <th>0</th>\n",
       "      <td>59.059896</td>\n",
       "      <td>29.537793</td>\n",
       "    </tr>\n",
       "    <tr>\n",
       "      <th>1</th>\n",
       "      <td>76.749055</td>\n",
       "      <td>72.445285</td>\n",
       "    </tr>\n",
       "    <tr>\n",
       "      <th rowspan=\"2\" valign=\"top\">1</th>\n",
       "      <th>0</th>\n",
       "      <td>97.522107</td>\n",
       "      <td>55.271724</td>\n",
       "    </tr>\n",
       "    <tr>\n",
       "      <th>1</th>\n",
       "      <td>133.281124</td>\n",
       "      <td>116.780458</td>\n",
       "    </tr>\n",
       "  </tbody>\n",
       "</table>\n",
       "</div>"
      ],
      "text/plain": [
       "            hourlywage_h  hourlywage_w\n",
       "col_h col_w                           \n",
       "0     0        59.059896     29.537793\n",
       "      1        76.749055     72.445285\n",
       "1     0        97.522107     55.271724\n",
       "      1       133.281124    116.780458"
      ]
     },
     "execution_count": 14,
     "metadata": {},
     "output_type": "execute_result"
    }
   ],
   "source": [
    "df_husb_wife[[\"col_h\", \"col_w\",\"hourlywage_h\", \"hourlywage_w\"]].groupby([\"col_h\", \"col_w\"]).mean()"
   ]
  },
  {
   "cell_type": "markdown",
   "id": "3d434fa3-42e1-4cb8-82cd-b2cebc468fdb",
   "metadata": {},
   "source": [
    "The ratio of mean wages for non-college men and women is around 0.5, while for college educated men and women is around 0.88"
   ]
  },
  {
   "cell_type": "markdown",
   "id": "c58f496b-1636-4ed5-87cd-a2503c27a038",
   "metadata": {},
   "source": [
    "Issues that are bothering me:  \n",
    "\n",
    "1. The biggest issue is that women seem to be accepting very low wages which essentially means that the accepted wage distribution will look exactly like the offer distribution.\n",
    "2. Stigma Costs: I will probably have to put down a separate distribution for each of the education levels (college vs no college).\n",
    "    1. I will not do this. I will assume the same stigma costs across education. This is because I cannot identify the stigma cost parameter across education levels.\n",
    "\n",
    "Next Steps: \n",
    "1. Estimate Offer Distribution for men and women across education types: College educated vs Not College Educated\n",
    "    1. Done.\n",
    "2. I'll have to look at how stigma cost varies across these education types\n",
    "    1. Let this be.\n",
    "3. Establish clearly the fact that the gender wage gap doesn't look very different across the North/South\n",
    "    1. I have to plot the difference of the density functions of gender wage ratios in North v South.\n",
    "    2. In presentations, I will have to be parsimonious.\n"
   ]
  },
  {
   "cell_type": "markdown",
   "id": "6d7d721c-4f70-47a0-9fee-04b076efc2ad",
   "metadata": {},
   "source": [
    "### Hours worked & Job Types\n",
    "I use this from TUS to maintain consistency"
   ]
  },
  {
   "cell_type": "code",
   "execution_count": 15,
   "id": "966a3346-df4e-4164-9c42-19e8427e0073",
   "metadata": {
    "tags": []
   },
   "outputs": [
    {
     "data": {
      "text/plain": [
       "FT_h\n",
       "FT    0.940029\n",
       "PT    0.059971\n",
       "Name: proportion, dtype: float64"
      ]
     },
     "execution_count": 15,
     "metadata": {},
     "output_type": "execute_result"
    }
   ],
   "source": [
    "df_husb_wife[df_husb_wife[\"weeklyhrs_h\"].astype(float) > 0][\"FT_h\"].value_counts(normalize=True)"
   ]
  },
  {
   "cell_type": "markdown",
   "id": "fd000b14-3bb1-49b3-8d9a-c22d14a655fe",
   "metadata": {},
   "source": [
    "MAKE SURE TO RESET EMPLOYMENT VARIABLE (THAT IS CALCULATED ON A LAST YEAR BASIS) AND WEEKLY HRS, WAGES, THAT USE WEEKLY BASIS.\n"
   ]
  },
  {
   "cell_type": "code",
   "execution_count": 282,
   "id": "0a7267a1-0775-41ae-a071-9903881a4ef3",
   "metadata": {
    "tags": []
   },
   "outputs": [
    {
     "data": {
      "text/plain": [
       "FT_w\n",
       "FT    0.708494\n",
       "PT    0.291506\n",
       "Name: proportion, dtype: float64"
      ]
     },
     "execution_count": 282,
     "metadata": {},
     "output_type": "execute_result"
    }
   ],
   "source": [
    "df_husb_wife[(df_husb_wife[\"weeklyhrs_w\"].astype(float) > 0)][\"FT_w\"].value_counts(normalize=True)"
   ]
  },
  {
   "cell_type": "code",
   "execution_count": 283,
   "id": "a18a9e49-6e83-46aa-99f8-3d3a2443acc1",
   "metadata": {
    "tags": []
   },
   "outputs": [
    {
     "data": {
      "text/plain": [
       "FT_w\n",
       "FT    0.703785\n",
       "PT    0.296215\n",
       "Name: proportion, dtype: float64"
      ]
     },
     "execution_count": 283,
     "metadata": {},
     "output_type": "execute_result"
    }
   ],
   "source": [
    "df_husb_wife[df_husb_wife[\"EMP_w\"] == 1][\"FT_w\"].value_counts(normalize=True)"
   ]
  },
  {
   "cell_type": "code",
   "execution_count": 287,
   "id": "ed2db4b0-302d-43f3-9bba-121c2408bf50",
   "metadata": {
    "tags": []
   },
   "outputs": [
    {
     "data": {
      "text/html": [
       "<div>\n",
       "<style scoped>\n",
       "    .dataframe tbody tr th:only-of-type {\n",
       "        vertical-align: middle;\n",
       "    }\n",
       "\n",
       "    .dataframe tbody tr th {\n",
       "        vertical-align: top;\n",
       "    }\n",
       "\n",
       "    .dataframe thead th {\n",
       "        text-align: right;\n",
       "    }\n",
       "</style>\n",
       "<table border=\"1\" class=\"dataframe\">\n",
       "  <thead>\n",
       "    <tr style=\"text-align: right;\">\n",
       "      <th></th>\n",
       "      <th>wage_h</th>\n",
       "    </tr>\n",
       "    <tr>\n",
       "      <th>FT_h</th>\n",
       "      <th></th>\n",
       "    </tr>\n",
       "  </thead>\n",
       "  <tbody>\n",
       "    <tr>\n",
       "      <th>FT</th>\n",
       "      <td>15000.0</td>\n",
       "    </tr>\n",
       "    <tr>\n",
       "      <th>PT</th>\n",
       "      <td>10000.0</td>\n",
       "    </tr>\n",
       "  </tbody>\n",
       "</table>\n",
       "</div>"
      ],
      "text/plain": [
       "       wage_h\n",
       "FT_h         \n",
       "FT    15000.0\n",
       "PT    10000.0"
      ]
     },
     "execution_count": 287,
     "metadata": {},
     "output_type": "execute_result"
    }
   ],
   "source": [
    "df_husb_wife[df_husb_wife[\"b5pt1q3_per_fv_h\"] == \"31\"][[\"FT_h\", \"wage_h\"]].groupby(\"FT_h\").median()"
   ]
  },
  {
   "cell_type": "markdown",
   "id": "30e9ff95-acce-40d1-b7f0-7e6628646261",
   "metadata": {},
   "source": [
    "There is a decent chunk of women that are part time. I don't want to complicate the model too much at this point so I will stick with one job type for now"
   ]
  },
  {
   "cell_type": "markdown",
   "id": "f7fc560b-7c5d-4dc8-80dc-39fef7953505",
   "metadata": {},
   "source": [
    "### Estimating the Offer Distribution"
   ]
  },
  {
   "cell_type": "markdown",
   "id": "b083dc1c-bcf5-47e9-a3c5-c762eaa058be",
   "metadata": {},
   "source": [
    "### This is being done in Julia"
   ]
  },
  {
   "cell_type": "code",
   "execution_count": 746,
   "id": "7a4cef09-3d81-405a-a3c5-5c5fda976daa",
   "metadata": {
    "tags": []
   },
   "outputs": [],
   "source": [
    "df_husb_wife.loc[:,\"income_h\"] = None\n",
    "df_husb_wife.loc[df_husb_wife[\"wageFreq_h\"] == \"m\",\"income_h\"] = df_husb_wife.loc[df_husb_wife[\"wageFreq_h\"] == \"m\",\"wage_h\"]\n",
    "df_husb_wife.loc[df_husb_wife[\"wageFreq_h\"] == \"w\",\"income_h\"] = 4*df_husb_wife.loc[df_husb_wife[\"wageFreq_h\"] == \"w\",\"wage_h\"]\n",
    "\n",
    "df_husb_wife.loc[:,\"income_w\"] = None\n",
    "df_husb_wife.loc[df_husb_wife[\"wageFreq_w\"] == \"m\",\"income_w\"] = df_husb_wife.loc[df_husb_wife[\"wageFreq_w\"] == \"m\",\"wage_w\"]\n",
    "df_husb_wife.loc[df_husb_wife[\"wageFreq_w\"] == \"w\",\"income_w\"] = 4*df_husb_wife.loc[df_husb_wife[\"wageFreq_w\"] == \"w\",\"wage_w\"]\n",
    "\n"
   ]
  },
  {
   "cell_type": "code",
   "execution_count": 791,
   "id": "3046a7a1-78da-4963-8c37-7ef4bf0c2c33",
   "metadata": {
    "tags": []
   },
   "outputs": [],
   "source": [
    "# TODO: There is a little bit of an issue here: The EMP variable is calculated using yearly status\n",
    "# b6q5_per_fv_h is weekly status code. These may differ (although the # of times this happens is small)\n",
    "\n",
    "df_h = df_husb_wife[(df_husb_wife[\"hourlywage_h\"].astype(float) > 0)][[\"col_h\", \"north\", \"hourlywage_h\"]].sort_values(\"hourlywage_h\").groupby([\"north\", \"col_h\"])\n",
    "df_w = df_husb_wife[(df_husb_wife[\"hourlywage_w\"].astype(float) > 0)][[\"col_w\", \"north\", \"hourlywage_w\"]].sort_values(\"hourlywage_w\").groupby([\"north\", \"col_w\"])\n"
   ]
  },
  {
   "cell_type": "code",
   "execution_count": 792,
   "id": "4c11d6cd-22d2-437b-985f-c0a920df58d1",
   "metadata": {
    "tags": []
   },
   "outputs": [
    {
     "data": {
      "text/html": [
       "<div>\n",
       "<style scoped>\n",
       "    .dataframe tbody tr th:only-of-type {\n",
       "        vertical-align: middle;\n",
       "    }\n",
       "\n",
       "    .dataframe tbody tr th {\n",
       "        vertical-align: top;\n",
       "    }\n",
       "\n",
       "    .dataframe thead th {\n",
       "        text-align: right;\n",
       "    }\n",
       "</style>\n",
       "<table border=\"1\" class=\"dataframe\">\n",
       "  <thead>\n",
       "    <tr style=\"text-align: right;\">\n",
       "      <th></th>\n",
       "      <th></th>\n",
       "      <th>hourlywage_h</th>\n",
       "    </tr>\n",
       "    <tr>\n",
       "      <th>north</th>\n",
       "      <th>col_h</th>\n",
       "      <th></th>\n",
       "    </tr>\n",
       "  </thead>\n",
       "  <tbody>\n",
       "    <tr>\n",
       "      <th rowspan=\"2\" valign=\"top\">0</th>\n",
       "      <th>0</th>\n",
       "      <td>64.23913</td>\n",
       "    </tr>\n",
       "    <tr>\n",
       "      <th>1</th>\n",
       "      <td>128.058484</td>\n",
       "    </tr>\n",
       "    <tr>\n",
       "      <th rowspan=\"2\" valign=\"top\">1</th>\n",
       "      <th>0</th>\n",
       "      <td>56.505687</td>\n",
       "    </tr>\n",
       "    <tr>\n",
       "      <th>1</th>\n",
       "      <td>115.438885</td>\n",
       "    </tr>\n",
       "  </tbody>\n",
       "</table>\n",
       "</div>"
      ],
      "text/plain": [
       "            hourlywage_h\n",
       "north col_h             \n",
       "0     0         64.23913\n",
       "      1       128.058484\n",
       "1     0        56.505687\n",
       "      1       115.438885"
      ]
     },
     "execution_count": 792,
     "metadata": {},
     "output_type": "execute_result"
    }
   ],
   "source": [
    "df_h.mean()"
   ]
  },
  {
   "cell_type": "code",
   "execution_count": 793,
   "id": "cd4be833-b883-45dc-a269-c2306f4955cc",
   "metadata": {
    "tags": []
   },
   "outputs": [
    {
     "data": {
      "text/html": [
       "<div>\n",
       "<style scoped>\n",
       "    .dataframe tbody tr th:only-of-type {\n",
       "        vertical-align: middle;\n",
       "    }\n",
       "\n",
       "    .dataframe tbody tr th {\n",
       "        vertical-align: top;\n",
       "    }\n",
       "\n",
       "    .dataframe thead th {\n",
       "        text-align: right;\n",
       "    }\n",
       "</style>\n",
       "<table border=\"1\" class=\"dataframe\">\n",
       "  <thead>\n",
       "    <tr style=\"text-align: right;\">\n",
       "      <th></th>\n",
       "      <th></th>\n",
       "      <th>hourlywage_h</th>\n",
       "    </tr>\n",
       "    <tr>\n",
       "      <th>north</th>\n",
       "      <th>col_h</th>\n",
       "      <th></th>\n",
       "    </tr>\n",
       "  </thead>\n",
       "  <tbody>\n",
       "    <tr>\n",
       "      <th rowspan=\"2\" valign=\"top\">0</th>\n",
       "      <th>0</th>\n",
       "      <td>41.816217</td>\n",
       "    </tr>\n",
       "    <tr>\n",
       "      <th>1</th>\n",
       "      <td>90.558929</td>\n",
       "    </tr>\n",
       "    <tr>\n",
       "      <th rowspan=\"2\" valign=\"top\">1</th>\n",
       "      <th>0</th>\n",
       "      <td>40.384927</td>\n",
       "    </tr>\n",
       "    <tr>\n",
       "      <th>1</th>\n",
       "      <td>81.255471</td>\n",
       "    </tr>\n",
       "  </tbody>\n",
       "</table>\n",
       "</div>"
      ],
      "text/plain": [
       "             hourlywage_h\n",
       "north col_h              \n",
       "0     0         41.816217\n",
       "      1         90.558929\n",
       "1     0         40.384927\n",
       "      1         81.255471"
      ]
     },
     "execution_count": 793,
     "metadata": {},
     "output_type": "execute_result"
    }
   ],
   "source": [
    "df_h.std()"
   ]
  },
  {
   "cell_type": "code",
   "execution_count": 794,
   "id": "cd698a94-18cb-4b32-89d0-7cf36583d884",
   "metadata": {
    "tags": []
   },
   "outputs": [
    {
     "data": {
      "text/html": [
       "<div>\n",
       "<style scoped>\n",
       "    .dataframe tbody tr th:only-of-type {\n",
       "        vertical-align: middle;\n",
       "    }\n",
       "\n",
       "    .dataframe tbody tr th {\n",
       "        vertical-align: top;\n",
       "    }\n",
       "\n",
       "    .dataframe thead th {\n",
       "        text-align: right;\n",
       "    }\n",
       "</style>\n",
       "<table border=\"1\" class=\"dataframe\">\n",
       "  <thead>\n",
       "    <tr style=\"text-align: right;\">\n",
       "      <th></th>\n",
       "      <th></th>\n",
       "      <th>hourlywage_w</th>\n",
       "    </tr>\n",
       "    <tr>\n",
       "      <th>north</th>\n",
       "      <th>col_w</th>\n",
       "      <th></th>\n",
       "    </tr>\n",
       "  </thead>\n",
       "  <tbody>\n",
       "    <tr>\n",
       "      <th rowspan=\"2\" valign=\"top\">0</th>\n",
       "      <th>0</th>\n",
       "      <td>36.061029</td>\n",
       "    </tr>\n",
       "    <tr>\n",
       "      <th>1</th>\n",
       "      <td>105.738040</td>\n",
       "    </tr>\n",
       "    <tr>\n",
       "      <th rowspan=\"2\" valign=\"top\">1</th>\n",
       "      <th>0</th>\n",
       "      <td>32.397402</td>\n",
       "    </tr>\n",
       "    <tr>\n",
       "      <th>1</th>\n",
       "      <td>100.899476</td>\n",
       "    </tr>\n",
       "  </tbody>\n",
       "</table>\n",
       "</div>"
      ],
      "text/plain": [
       "             hourlywage_w\n",
       "north col_w              \n",
       "0     0         36.061029\n",
       "      1        105.738040\n",
       "1     0         32.397402\n",
       "      1        100.899476"
      ]
     },
     "execution_count": 794,
     "metadata": {},
     "output_type": "execute_result"
    }
   ],
   "source": [
    "df_w.mean()"
   ]
  },
  {
   "cell_type": "code",
   "execution_count": 795,
   "id": "09d5a6a9-875e-440c-ba99-63398a180d10",
   "metadata": {
    "tags": []
   },
   "outputs": [
    {
     "data": {
      "text/html": [
       "<div>\n",
       "<style scoped>\n",
       "    .dataframe tbody tr th:only-of-type {\n",
       "        vertical-align: middle;\n",
       "    }\n",
       "\n",
       "    .dataframe tbody tr th {\n",
       "        vertical-align: top;\n",
       "    }\n",
       "\n",
       "    .dataframe thead th {\n",
       "        text-align: right;\n",
       "    }\n",
       "</style>\n",
       "<table border=\"1\" class=\"dataframe\">\n",
       "  <thead>\n",
       "    <tr style=\"text-align: right;\">\n",
       "      <th></th>\n",
       "      <th></th>\n",
       "      <th>hourlywage_w</th>\n",
       "    </tr>\n",
       "    <tr>\n",
       "      <th>north</th>\n",
       "      <th>col_w</th>\n",
       "      <th></th>\n",
       "    </tr>\n",
       "  </thead>\n",
       "  <tbody>\n",
       "    <tr>\n",
       "      <th rowspan=\"2\" valign=\"top\">0</th>\n",
       "      <th>0</th>\n",
       "      <td>32.442157</td>\n",
       "    </tr>\n",
       "    <tr>\n",
       "      <th>1</th>\n",
       "      <td>80.385530</td>\n",
       "    </tr>\n",
       "    <tr>\n",
       "      <th rowspan=\"2\" valign=\"top\">1</th>\n",
       "      <th>0</th>\n",
       "      <td>35.455490</td>\n",
       "    </tr>\n",
       "    <tr>\n",
       "      <th>1</th>\n",
       "      <td>81.488282</td>\n",
       "    </tr>\n",
       "  </tbody>\n",
       "</table>\n",
       "</div>"
      ],
      "text/plain": [
       "             hourlywage_w\n",
       "north col_w              \n",
       "0     0         32.442157\n",
       "      1         80.385530\n",
       "1     0         35.455490\n",
       "      1         81.488282"
      ]
     },
     "execution_count": 795,
     "metadata": {},
     "output_type": "execute_result"
    }
   ],
   "source": [
    "df_w.std()"
   ]
  },
  {
   "cell_type": "code",
   "execution_count": 796,
   "id": "5d354d83-cbb5-4e47-bd52-958a1a7b737e",
   "metadata": {
    "tags": []
   },
   "outputs": [
    {
     "data": {
      "text/html": [
       "<div>\n",
       "<style scoped>\n",
       "    .dataframe tbody tr th:only-of-type {\n",
       "        vertical-align: middle;\n",
       "    }\n",
       "\n",
       "    .dataframe tbody tr th {\n",
       "        vertical-align: top;\n",
       "    }\n",
       "\n",
       "    .dataframe thead th {\n",
       "        text-align: right;\n",
       "    }\n",
       "</style>\n",
       "<table border=\"1\" class=\"dataframe\">\n",
       "  <thead>\n",
       "    <tr style=\"text-align: right;\">\n",
       "      <th></th>\n",
       "      <th>col_h</th>\n",
       "      <th>north</th>\n",
       "      <th>hourlywage_h</th>\n",
       "    </tr>\n",
       "  </thead>\n",
       "  <tbody>\n",
       "    <tr>\n",
       "      <th>6519</th>\n",
       "      <td>0</td>\n",
       "      <td>1</td>\n",
       "      <td>3.571429</td>\n",
       "    </tr>\n",
       "    <tr>\n",
       "      <th>32400</th>\n",
       "      <td>0</td>\n",
       "      <td>0</td>\n",
       "      <td>4.464286</td>\n",
       "    </tr>\n",
       "    <tr>\n",
       "      <th>8837</th>\n",
       "      <td>1</td>\n",
       "      <td>0</td>\n",
       "      <td>8.928571</td>\n",
       "    </tr>\n",
       "    <tr>\n",
       "      <th>14348</th>\n",
       "      <td>1</td>\n",
       "      <td>1</td>\n",
       "      <td>9.183673</td>\n",
       "    </tr>\n",
       "  </tbody>\n",
       "</table>\n",
       "</div>"
      ],
      "text/plain": [
       "       col_h north hourlywage_h\n",
       "6519       0     1     3.571429\n",
       "32400      0     0     4.464286\n",
       "8837       1     0     8.928571\n",
       "14348      1     1     9.183673"
      ]
     },
     "execution_count": 796,
     "metadata": {},
     "output_type": "execute_result"
    }
   ],
   "source": [
    "df_h.nth(2)"
   ]
  },
  {
   "cell_type": "code",
   "execution_count": 799,
   "id": "b18db9a7-1e41-4a0e-b4b7-052abd8abcb4",
   "metadata": {
    "tags": []
   },
   "outputs": [
    {
     "data": {
      "text/html": [
       "<div>\n",
       "<style scoped>\n",
       "    .dataframe tbody tr th:only-of-type {\n",
       "        vertical-align: middle;\n",
       "    }\n",
       "\n",
       "    .dataframe tbody tr th {\n",
       "        vertical-align: top;\n",
       "    }\n",
       "\n",
       "    .dataframe thead th {\n",
       "        text-align: right;\n",
       "    }\n",
       "</style>\n",
       "<table border=\"1\" class=\"dataframe\">\n",
       "  <thead>\n",
       "    <tr style=\"text-align: right;\">\n",
       "      <th></th>\n",
       "      <th>col_w</th>\n",
       "      <th>north</th>\n",
       "      <th>hourlywage_w</th>\n",
       "    </tr>\n",
       "  </thead>\n",
       "  <tbody>\n",
       "    <tr>\n",
       "      <th>9861</th>\n",
       "      <td>0</td>\n",
       "      <td>0</td>\n",
       "      <td>2.976190</td>\n",
       "    </tr>\n",
       "    <tr>\n",
       "      <th>24505</th>\n",
       "      <td>0</td>\n",
       "      <td>1</td>\n",
       "      <td>3.571429</td>\n",
       "    </tr>\n",
       "    <tr>\n",
       "      <th>41165</th>\n",
       "      <td>1</td>\n",
       "      <td>1</td>\n",
       "      <td>7.407407</td>\n",
       "    </tr>\n",
       "    <tr>\n",
       "      <th>22537</th>\n",
       "      <td>1</td>\n",
       "      <td>0</td>\n",
       "      <td>8.928571</td>\n",
       "    </tr>\n",
       "  </tbody>\n",
       "</table>\n",
       "</div>"
      ],
      "text/plain": [
       "       col_w north  hourlywage_w\n",
       "9861       0     0      2.976190\n",
       "24505      0     1      3.571429\n",
       "41165      1     1      7.407407\n",
       "22537      1     0      8.928571"
      ]
     },
     "execution_count": 799,
     "metadata": {},
     "output_type": "execute_result"
    }
   ],
   "source": [
    "df_w.nth(2)"
   ]
  },
  {
   "cell_type": "markdown",
   "id": "070115e3-1177-4ce2-840f-50a4250268b0",
   "metadata": {},
   "source": [
    "### Is there a material difference in hourly wages in the North v South?"
   ]
  },
  {
   "cell_type": "code",
   "execution_count": 809,
   "id": "61e92d79-9144-4e54-b89f-452d34b950a9",
   "metadata": {
    "tags": []
   },
   "outputs": [
    {
     "name": "stdout",
     "output_type": "stream",
     "text": [
      "Males College: (-5.050404469987602, 4.5743898808144617e-07)\n",
      "Females College: (-0.9946728983046915, 0.3201044381905187)\n",
      "Males No College: (-11.756063146526945, 8.944624576009158e-32)\n",
      "Females No College: (-2.595734608003948, 0.009494940678674946)\n"
     ]
    }
   ],
   "source": [
    "\n",
    "df_h = df_husb_wife[(df_husb_wife[\"hourlywage_h\"].astype(float) > 0)][[\"col_h\", \"north\", \"hourlywage_h\"]]\n",
    "df_w = df_husb_wife[(df_husb_wife[\"hourlywage_w\"].astype(float) > 0)][[\"col_w\", \"north\", \"hourlywage_w\"]]\n",
    "\n",
    "# Males, College\n",
    "tstat, pval = stats.ttest_ind(df_h[(df_h[\"col_h\"] == 1) & (df_h[\"north\"] == 1)][\"hourlywage_h\"].astype(float),\\\n",
    "                df_h[(df_h[\"col_h\"] == 1) & (df_h[\"north\"] == 0)][\"hourlywage_h\"].astype(float))\n",
    "print(f'Males College: {tstat, pval}')\n",
    "\n",
    "# Females, College\n",
    "tstat, pval = stats.ttest_ind(df_w[(df_w[\"col_w\"] == 1) & (df_w[\"north\"] == 1)][\"hourlywage_w\"].astype(float),\\\n",
    "                df_w[(df_w[\"col_w\"] == 1) & (df_w[\"north\"] == 0)][\"hourlywage_w\"].astype(float))\n",
    "print(f'Females College: {tstat, pval}')\n",
    "\n",
    "# Males, No College\n",
    "tstat, pval = stats.ttest_ind(df_h[(df_h[\"col_h\"] == 0) & (df_h[\"north\"] == 1)][\"hourlywage_h\"].astype(float),\\\n",
    "                df_h[(df_h[\"col_h\"] == 0) & (df_h[\"north\"] == 0)][\"hourlywage_h\"].astype(float))\n",
    "print(f'Males No College: {tstat, pval}')\n",
    "\n",
    "# Females, No College\n",
    "tstat, pval = stats.ttest_ind(df_w[(df_w[\"col_w\"] == 0) & (df_w[\"north\"] == 1)][\"hourlywage_w\"].astype(float),\\\n",
    "                df_w[(df_w[\"col_w\"] == 0) & (df_w[\"north\"] == 0)][\"hourlywage_w\"].astype(float))\n",
    "print(f'Females No College: {tstat, pval}')\n",
    "\n"
   ]
  },
  {
   "cell_type": "markdown",
   "id": "675b23ab-462c-474e-9f18-41598e2014b2",
   "metadata": {},
   "source": [
    "### Employment Gap: North v South"
   ]
  },
  {
   "cell_type": "code",
   "execution_count": 738,
   "id": "7c0ab2c2-1ea2-4835-b55a-c4897fccb783",
   "metadata": {
    "tags": []
   },
   "outputs": [],
   "source": [
    "# NORTH: Gujarat, Rajasthan, Uttar Pradesh, Uttarakhand, Madhya Pradesh, Delhi, Chhattisgarh, Punjab, and Haryana\n",
    "# SOUTH: Kerala, Tamil Nadu, Andhra Pradesh, Telangana, Karnataka, and Maharashtra\n",
    "\n",
    "# Generate north and south states\n",
    "df_husb_wife[\"north\"] = pd.Series(None)\n",
    "# df_husb_wife.loc[ \"state_per_fv_h\"]\n",
    "df_husb_wife.loc[df_husb_wife[\"state_per_fv_h\"].isin([\"05\", \"03\",\"06\",\"07\",\"08\",\"09\", \"22\", \"23\",\"24\"]),\"north\"] = 1\n",
    "df_husb_wife.loc[df_husb_wife[\"state_per_fv_h\"].isin([\"27\",\"28\",\"29\",\"32\",\"33\",\"36\"]),\"north\"] = 0\n"
   ]
  },
  {
   "cell_type": "code",
   "execution_count": 739,
   "id": "44a30200-504a-42f6-be88-8630e6de71b9",
   "metadata": {
    "tags": []
   },
   "outputs": [
    {
     "data": {
      "text/html": [
       "<div>\n",
       "<style scoped>\n",
       "    .dataframe tbody tr th:only-of-type {\n",
       "        vertical-align: middle;\n",
       "    }\n",
       "\n",
       "    .dataframe tbody tr th {\n",
       "        vertical-align: top;\n",
       "    }\n",
       "\n",
       "    .dataframe thead th {\n",
       "        text-align: right;\n",
       "    }\n",
       "</style>\n",
       "<table border=\"1\" class=\"dataframe\">\n",
       "  <thead>\n",
       "    <tr style=\"text-align: right;\">\n",
       "      <th></th>\n",
       "      <th>EMP_w</th>\n",
       "    </tr>\n",
       "    <tr>\n",
       "      <th>north</th>\n",
       "      <th></th>\n",
       "    </tr>\n",
       "  </thead>\n",
       "  <tbody>\n",
       "    <tr>\n",
       "      <th>0</th>\n",
       "      <td>0.237781</td>\n",
       "    </tr>\n",
       "    <tr>\n",
       "      <th>1</th>\n",
       "      <td>0.133604</td>\n",
       "    </tr>\n",
       "  </tbody>\n",
       "</table>\n",
       "</div>"
      ],
      "text/plain": [
       "          EMP_w\n",
       "north          \n",
       "0      0.237781\n",
       "1      0.133604"
      ]
     },
     "execution_count": 739,
     "metadata": {},
     "output_type": "execute_result"
    }
   ],
   "source": [
    "df_husb_wife[[\"EMP_w\", 'north']].groupby('north').mean()"
   ]
  },
  {
   "cell_type": "code",
   "execution_count": 12,
   "id": "eb96c3d5-b198-49a1-953c-228dbbf38969",
   "metadata": {
    "tags": []
   },
   "outputs": [
    {
     "data": {
      "text/html": [
       "<div>\n",
       "<style scoped>\n",
       "    .dataframe tbody tr th:only-of-type {\n",
       "        vertical-align: middle;\n",
       "    }\n",
       "\n",
       "    .dataframe tbody tr th {\n",
       "        vertical-align: top;\n",
       "    }\n",
       "\n",
       "    .dataframe thead th {\n",
       "        text-align: right;\n",
       "    }\n",
       "</style>\n",
       "<table border=\"1\" class=\"dataframe\">\n",
       "  <thead>\n",
       "    <tr style=\"text-align: right;\">\n",
       "      <th></th>\n",
       "      <th>EMP_h</th>\n",
       "    </tr>\n",
       "    <tr>\n",
       "      <th>north</th>\n",
       "      <th></th>\n",
       "    </tr>\n",
       "  </thead>\n",
       "  <tbody>\n",
       "    <tr>\n",
       "      <th>0</th>\n",
       "      <td>0.959240</td>\n",
       "    </tr>\n",
       "    <tr>\n",
       "      <th>1</th>\n",
       "      <td>0.935021</td>\n",
       "    </tr>\n",
       "  </tbody>\n",
       "</table>\n",
       "</div>"
      ],
      "text/plain": [
       "          EMP_h\n",
       "north          \n",
       "0      0.959240\n",
       "1      0.935021"
      ]
     },
     "execution_count": 12,
     "metadata": {},
     "output_type": "execute_result"
    }
   ],
   "source": [
    "df_husb_wife[[\"EMP_h\", 'north']].groupby('north').mean()"
   ]
  },
  {
   "cell_type": "markdown",
   "id": "41972873-4fab-41e3-9cb5-34e5b5faf23f",
   "metadata": {},
   "source": [
    "### Prop of People: North v South"
   ]
  },
  {
   "cell_type": "code",
   "execution_count": 737,
   "id": "d5b6c5b7-815a-41b5-a06c-a7e7566c436d",
   "metadata": {
    "tags": []
   },
   "outputs": [
    {
     "data": {
      "text/plain": [
       "north\n",
       "1    0.507727\n",
       "0    0.492273\n",
       "Name: proportion, dtype: float64"
      ]
     },
     "execution_count": 737,
     "metadata": {},
     "output_type": "execute_result"
    }
   ],
   "source": [
    "df_husb_wife[\"north\"].value_counts(normalize=True)"
   ]
  },
  {
   "cell_type": "markdown",
   "id": "6afe5995-a553-444d-9ed3-dbd8a80d098d",
   "metadata": {},
   "source": [
    "### Distribution across Education: North v South"
   ]
  },
  {
   "cell_type": "code",
   "execution_count": 811,
   "id": "43468d0b-81b1-449e-bad7-74674d302fc8",
   "metadata": {
    "tags": []
   },
   "outputs": [
    {
     "data": {
      "text/plain": [
       "33768"
      ]
     },
     "execution_count": 811,
     "metadata": {},
     "output_type": "execute_result"
    }
   ],
   "source": [
    "nrows"
   ]
  },
  {
   "cell_type": "code",
   "execution_count": 823,
   "id": "779a1309-e9b1-4a00-9496-b98a8ad8ffd1",
   "metadata": {
    "tags": []
   },
   "outputs": [
    {
     "data": {
      "text/plain": [
       "north  col_h  col_w\n",
       "0      0      0        0.341807\n",
       "       1      1        0.069108\n",
       "              0        0.042545\n",
       "       0      1        0.038813\n",
       "1      0      0        0.347998\n",
       "       1      1        0.070601\n",
       "              0        0.052468\n",
       "       0      1        0.036661\n",
       "Name: count, dtype: float64"
      ]
     },
     "execution_count": 823,
     "metadata": {},
     "output_type": "execute_result"
    }
   ],
   "source": [
    "df_husb_wife[[\"col_h\", \"col_w\", \"north\"]].groupby('north').value_counts()/df_husb_wife[\"north\"].value_counts().sum()"
   ]
  },
  {
   "cell_type": "code",
   "execution_count": 41,
   "id": "23db364e-c11b-4d69-8c3b-81573b29933f",
   "metadata": {
    "tags": []
   },
   "outputs": [
    {
     "data": {
      "text/plain": [
       "col_h  col_w\n",
       "0      0        0.686839\n",
       "1      1        0.136844\n",
       "       0        0.103870\n",
       "0      1        0.072447\n",
       "Name: count, dtype: float64"
      ]
     },
     "execution_count": 41,
     "metadata": {},
     "output_type": "execute_result"
    }
   ],
   "source": [
    "df_husb_wife[df_husb_wife[\"north\"] == 1][[\"col_h\", \"col_w\"]].value_counts()/df_husb_wife[df_husb_wife[\"north\"] == 1][[\"col_h\", \"col_w\"]].value_counts().sum()"
   ]
  },
  {
   "cell_type": "code",
   "execution_count": 43,
   "id": "a4e106b2-8639-4274-9e21-282476c064f4",
   "metadata": {
    "tags": []
   },
   "outputs": [
    {
     "data": {
      "text/plain": [
       "col_h  col_w\n",
       "0      0        0.694345\n",
       "1      1        0.140385\n",
       "       0        0.086425\n",
       "0      1        0.078844\n",
       "Name: count, dtype: float64"
      ]
     },
     "execution_count": 43,
     "metadata": {},
     "output_type": "execute_result"
    }
   ],
   "source": [
    "df_husb_wife[df_husb_wife[\"north\"] == 0][[\"col_h\", \"col_w\"]].value_counts()/df_husb_wife[df_husb_wife[\"north\"] == 0][[\"col_h\", \"col_w\"]].value_counts().sum()"
   ]
  },
  {
   "cell_type": "code",
   "execution_count": 14,
   "id": "280095f4-49cd-4035-8f8a-3339c3dc7f3f",
   "metadata": {
    "tags": []
   },
   "outputs": [
    {
     "data": {
      "text/html": [
       "<div>\n",
       "<style scoped>\n",
       "    .dataframe tbody tr th:only-of-type {\n",
       "        vertical-align: middle;\n",
       "    }\n",
       "\n",
       "    .dataframe tbody tr th {\n",
       "        vertical-align: top;\n",
       "    }\n",
       "\n",
       "    .dataframe thead th {\n",
       "        text-align: right;\n",
       "    }\n",
       "</style>\n",
       "<table border=\"1\" class=\"dataframe\">\n",
       "  <thead>\n",
       "    <tr style=\"text-align: right;\">\n",
       "      <th></th>\n",
       "      <th>col_h</th>\n",
       "    </tr>\n",
       "    <tr>\n",
       "      <th>north</th>\n",
       "      <th></th>\n",
       "    </tr>\n",
       "  </thead>\n",
       "  <tbody>\n",
       "    <tr>\n",
       "      <th>0</th>\n",
       "      <td>0.226811</td>\n",
       "    </tr>\n",
       "    <tr>\n",
       "      <th>1</th>\n",
       "      <td>0.240714</td>\n",
       "    </tr>\n",
       "  </tbody>\n",
       "</table>\n",
       "</div>"
      ],
      "text/plain": [
       "          col_h\n",
       "north          \n",
       "0      0.226811\n",
       "1      0.240714"
      ]
     },
     "execution_count": 14,
     "metadata": {},
     "output_type": "execute_result"
    }
   ],
   "source": [
    "df_husb_wife[[\"col_h\", \"north\"]].groupby('north').mean()"
   ]
  },
  {
   "cell_type": "code",
   "execution_count": 15,
   "id": "299a52b6-f725-4cae-bf08-effc6db7d616",
   "metadata": {
    "tags": []
   },
   "outputs": [
    {
     "data": {
      "text/html": [
       "<div>\n",
       "<style scoped>\n",
       "    .dataframe tbody tr th:only-of-type {\n",
       "        vertical-align: middle;\n",
       "    }\n",
       "\n",
       "    .dataframe tbody tr th {\n",
       "        vertical-align: top;\n",
       "    }\n",
       "\n",
       "    .dataframe thead th {\n",
       "        text-align: right;\n",
       "    }\n",
       "</style>\n",
       "<table border=\"1\" class=\"dataframe\">\n",
       "  <thead>\n",
       "    <tr style=\"text-align: right;\">\n",
       "      <th></th>\n",
       "      <th>col_w</th>\n",
       "    </tr>\n",
       "    <tr>\n",
       "      <th>north</th>\n",
       "      <th></th>\n",
       "    </tr>\n",
       "  </thead>\n",
       "  <tbody>\n",
       "    <tr>\n",
       "      <th>0</th>\n",
       "      <td>0.219229</td>\n",
       "    </tr>\n",
       "    <tr>\n",
       "      <th>1</th>\n",
       "      <td>0.209291</td>\n",
       "    </tr>\n",
       "  </tbody>\n",
       "</table>\n",
       "</div>"
      ],
      "text/plain": [
       "          col_w\n",
       "north          \n",
       "0      0.219229\n",
       "1      0.209291"
      ]
     },
     "execution_count": 15,
     "metadata": {},
     "output_type": "execute_result"
    }
   ],
   "source": [
    "df_husb_wife[[\"col_w\", \"north\"]].groupby('north').mean()"
   ]
  },
  {
   "cell_type": "code",
   "execution_count": 815,
   "id": "d84097c9-3c90-400e-87d1-0d58bef83bba",
   "metadata": {
    "tags": []
   },
   "outputs": [
    {
     "data": {
      "text/plain": [
       "col_h\n",
       "0    25790\n",
       "1     7978\n",
       "Name: count, dtype: int64"
      ]
     },
     "execution_count": 815,
     "metadata": {},
     "output_type": "execute_result"
    }
   ],
   "source": [
    "df_husb_wife[\"col_h\"].value_counts()"
   ]
  },
  {
   "cell_type": "code",
   "execution_count": 816,
   "id": "84a8c84a-1c21-440d-bede-68529306711d",
   "metadata": {
    "tags": []
   },
   "outputs": [
    {
     "data": {
      "text/plain": [
       "col_w\n",
       "0    26892\n",
       "1     6876\n",
       "Name: count, dtype: int64"
      ]
     },
     "execution_count": 816,
     "metadata": {},
     "output_type": "execute_result"
    }
   ],
   "source": [
    "df_husb_wife[\"col_w\"].value_counts()"
   ]
  },
  {
   "cell_type": "code",
   "execution_count": 822,
   "id": "d5d2e2d7-0813-4c18-8795-2205bd419388",
   "metadata": {
    "tags": []
   },
   "outputs": [
    {
     "data": {
      "text/plain": [
       "(33768,)"
      ]
     },
     "execution_count": 822,
     "metadata": {},
     "output_type": "execute_result"
    }
   ],
   "source": [
    "df_husb_wife[\"north\"]"
   ]
  },
  {
   "cell_type": "code",
   "execution_count": 812,
   "id": "a86c8a59-5117-46d6-bb8d-9857bac99652",
   "metadata": {
    "tags": []
   },
   "outputs": [
    {
     "data": {
      "text/plain": [
       "22776"
      ]
     },
     "execution_count": 812,
     "metadata": {},
     "output_type": "execute_result"
    }
   ],
   "source": [
    "7785+1574+969+884+7926+1608+1195+835"
   ]
  },
  {
   "cell_type": "markdown",
   "id": "378c8ae2-4907-458b-9407-9d4e0f9590eb",
   "metadata": {},
   "source": [
    "### Gender Wage gap: North vs South"
   ]
  },
  {
   "cell_type": "code",
   "execution_count": 159,
   "id": "780318ca-9846-4db4-a1b7-aa9b48ed8aab",
   "metadata": {
    "tags": []
   },
   "outputs": [],
   "source": [
    "df_2 = df_husb_wife[df_husb_wife[\"hourlywage_h\"] > 0]\n",
    "# df_husb_wife.loc[:,\"ratio\"] = None\n",
    "# df_husb_wife.loc[df_husb_wife[\"hourlywage_h\"] > 0, \"ratio\"] = df_husb_wife.loc[df_husb_wife[\"hourlywage_h\"] > 0, \"hourlywage_w\"]/df_husb_wife.loc[df_husb_wife[\"hourlywage_h\"] > 0, \"ratio\"]\n",
    "df_2.loc[:,\"ratio\"] = df_2[\"hourlywage_w\"]/df_2[\"hourlywage_h\"]"
   ]
  },
  {
   "cell_type": "code",
   "execution_count": 360,
   "id": "fe6ff320-79cd-4092-a337-0ae48ef450d9",
   "metadata": {
    "tags": []
   },
   "outputs": [
    {
     "data": {
      "text/html": [
       "<div>\n",
       "<style scoped>\n",
       "    .dataframe tbody tr th:only-of-type {\n",
       "        vertical-align: middle;\n",
       "    }\n",
       "\n",
       "    .dataframe tbody tr th {\n",
       "        vertical-align: top;\n",
       "    }\n",
       "\n",
       "    .dataframe thead th {\n",
       "        text-align: right;\n",
       "    }\n",
       "</style>\n",
       "<table border=\"1\" class=\"dataframe\">\n",
       "  <thead>\n",
       "    <tr style=\"text-align: right;\">\n",
       "      <th></th>\n",
       "      <th></th>\n",
       "      <th></th>\n",
       "      <th>ratio</th>\n",
       "    </tr>\n",
       "    <tr>\n",
       "      <th>north</th>\n",
       "      <th>col_h</th>\n",
       "      <th>col_w</th>\n",
       "      <th></th>\n",
       "    </tr>\n",
       "  </thead>\n",
       "  <tbody>\n",
       "    <tr>\n",
       "      <th rowspan=\"4\" valign=\"top\">0.0</th>\n",
       "      <th rowspan=\"2\" valign=\"top\">0.0</th>\n",
       "      <th>0.0</th>\n",
       "      <td>0.707178</td>\n",
       "    </tr>\n",
       "    <tr>\n",
       "      <th>1.0</th>\n",
       "      <td>0.951173</td>\n",
       "    </tr>\n",
       "    <tr>\n",
       "      <th rowspan=\"2\" valign=\"top\">1.0</th>\n",
       "      <th>0.0</th>\n",
       "      <td>0.618780</td>\n",
       "    </tr>\n",
       "    <tr>\n",
       "      <th>1.0</th>\n",
       "      <td>0.954345</td>\n",
       "    </tr>\n",
       "    <tr>\n",
       "      <th rowspan=\"4\" valign=\"top\">1.0</th>\n",
       "      <th rowspan=\"2\" valign=\"top\">0.0</th>\n",
       "      <th>0.0</th>\n",
       "      <td>0.620496</td>\n",
       "    </tr>\n",
       "    <tr>\n",
       "      <th>1.0</th>\n",
       "      <td>1.097606</td>\n",
       "    </tr>\n",
       "    <tr>\n",
       "      <th rowspan=\"2\" valign=\"top\">1.0</th>\n",
       "      <th>0.0</th>\n",
       "      <td>0.792876</td>\n",
       "    </tr>\n",
       "    <tr>\n",
       "      <th>1.0</th>\n",
       "      <td>0.869392</td>\n",
       "    </tr>\n",
       "  </tbody>\n",
       "</table>\n",
       "</div>"
      ],
      "text/plain": [
       "                      ratio\n",
       "north col_h col_w          \n",
       "0.0   0.0   0.0    0.707178\n",
       "            1.0    0.951173\n",
       "      1.0   0.0    0.618780\n",
       "            1.0    0.954345\n",
       "1.0   0.0   0.0    0.620496\n",
       "            1.0    1.097606\n",
       "      1.0   0.0    0.792876\n",
       "            1.0    0.869392"
      ]
     },
     "execution_count": 360,
     "metadata": {},
     "output_type": "execute_result"
    }
   ],
   "source": [
    "df_2[[\"ratio\", \"col_h\", \"col_w\", \"north\"]].astype(float).groupby([\"north\", \"col_h\",\"col_w\"]).mean()"
   ]
  },
  {
   "cell_type": "code",
   "execution_count": 740,
   "id": "12407598-40af-49f2-8947-6eb16e23bfa5",
   "metadata": {
    "tags": []
   },
   "outputs": [
    {
     "data": {
      "text/html": [
       "<div>\n",
       "<style scoped>\n",
       "    .dataframe tbody tr th:only-of-type {\n",
       "        vertical-align: middle;\n",
       "    }\n",
       "\n",
       "    .dataframe tbody tr th {\n",
       "        vertical-align: top;\n",
       "    }\n",
       "\n",
       "    .dataframe thead th {\n",
       "        text-align: right;\n",
       "    }\n",
       "</style>\n",
       "<table border=\"1\" class=\"dataframe\">\n",
       "  <thead>\n",
       "    <tr style=\"text-align: right;\">\n",
       "      <th></th>\n",
       "      <th></th>\n",
       "      <th>income_h</th>\n",
       "    </tr>\n",
       "    <tr>\n",
       "      <th>north</th>\n",
       "      <th>col_h</th>\n",
       "      <th></th>\n",
       "    </tr>\n",
       "  </thead>\n",
       "  <tbody>\n",
       "    <tr>\n",
       "      <th rowspan=\"2\" valign=\"top\">0</th>\n",
       "      <th>0</th>\n",
       "      <td>13913.650448</td>\n",
       "    </tr>\n",
       "    <tr>\n",
       "      <th>1</th>\n",
       "      <td>28397.269056</td>\n",
       "    </tr>\n",
       "    <tr>\n",
       "      <th rowspan=\"2\" valign=\"top\">1</th>\n",
       "      <th>0</th>\n",
       "      <td>12577.339887</td>\n",
       "    </tr>\n",
       "    <tr>\n",
       "      <th>1</th>\n",
       "      <td>24680.241525</td>\n",
       "    </tr>\n",
       "  </tbody>\n",
       "</table>\n",
       "</div>"
      ],
      "text/plain": [
       "                 income_h\n",
       "north col_h              \n",
       "0     0      13913.650448\n",
       "      1      28397.269056\n",
       "1     0      12577.339887\n",
       "      1      24680.241525"
      ]
     },
     "execution_count": 740,
     "metadata": {},
     "output_type": "execute_result"
    }
   ],
   "source": [
    "df_husb_wife[[\"north\", \"income_h\", \"col_h\"]].groupby([\"north\", \"col_h\"]).mean()"
   ]
  },
  {
   "cell_type": "code",
   "execution_count": 732,
   "id": "0e55475b-af4d-4c94-9b39-18cf9e19cc9a",
   "metadata": {
    "tags": []
   },
   "outputs": [
    {
     "data": {
      "text/plain": [
       "north  col_w\n",
       "0      0        0.401854\n",
       "       1         0.77018\n",
       "1      0        0.374736\n",
       "       1        0.804683\n",
       "dtype: object"
      ]
     },
     "execution_count": 732,
     "metadata": {},
     "output_type": "execute_result"
    }
   ],
   "source": [
    "df_w[\"income_w\"]/df_h[\"income_h\"]"
   ]
  },
  {
   "cell_type": "code",
   "execution_count": 741,
   "id": "05e8be49-c335-493d-88b6-257b13ae9b23",
   "metadata": {
    "tags": []
   },
   "outputs": [
    {
     "data": {
      "text/html": [
       "<div>\n",
       "<style scoped>\n",
       "    .dataframe tbody tr th:only-of-type {\n",
       "        vertical-align: middle;\n",
       "    }\n",
       "\n",
       "    .dataframe tbody tr th {\n",
       "        vertical-align: top;\n",
       "    }\n",
       "\n",
       "    .dataframe thead th {\n",
       "        text-align: right;\n",
       "    }\n",
       "</style>\n",
       "<table border=\"1\" class=\"dataframe\">\n",
       "  <thead>\n",
       "    <tr style=\"text-align: right;\">\n",
       "      <th></th>\n",
       "      <th></th>\n",
       "      <th>income_h</th>\n",
       "    </tr>\n",
       "    <tr>\n",
       "      <th>north</th>\n",
       "      <th>col_h</th>\n",
       "      <th></th>\n",
       "    </tr>\n",
       "  </thead>\n",
       "  <tbody>\n",
       "    <tr>\n",
       "      <th rowspan=\"2\" valign=\"top\">0</th>\n",
       "      <th>0</th>\n",
       "      <td>9834.845402</td>\n",
       "    </tr>\n",
       "    <tr>\n",
       "      <th>1</th>\n",
       "      <td>20935.346299</td>\n",
       "    </tr>\n",
       "    <tr>\n",
       "      <th rowspan=\"2\" valign=\"top\">1</th>\n",
       "      <th>0</th>\n",
       "      <td>9763.352269</td>\n",
       "    </tr>\n",
       "    <tr>\n",
       "      <th>1</th>\n",
       "      <td>18970.514740</td>\n",
       "    </tr>\n",
       "  </tbody>\n",
       "</table>\n",
       "</div>"
      ],
      "text/plain": [
       "                 income_h\n",
       "north col_h              \n",
       "0     0       9834.845402\n",
       "      1      20935.346299\n",
       "1     0       9763.352269\n",
       "      1      18970.514740"
      ]
     },
     "execution_count": 741,
     "metadata": {},
     "output_type": "execute_result"
    }
   ],
   "source": [
    "df_husb_wife[[\"north\", \"income_h\", \"col_h\"]].groupby([\"north\", \"col_h\"]).std()"
   ]
  },
  {
   "cell_type": "code",
   "execution_count": 705,
   "id": "41148a56-ea7d-4d6f-8127-72205eabeccf",
   "metadata": {
    "tags": []
   },
   "outputs": [],
   "source": [
    "df_h = df_husb_wife[[\"north\", \"income_h\", \"col_h\"]].groupby([\"north\", \"col_h\"]).mean()\n",
    "# df_h.rename(columns={\"col_h\": \"col\"})\n",
    "df_w = df_husb_wife[[\"north\", \"income_w\", \"col_w\"]].groupby([\"north\", \"col_w\"]).mean()\n",
    "# df_w.rename(columns={\"col_w\": \"col\"})\n",
    "# df_w[\"income_w\"]/df_h[\"income_h\"]\n"
   ]
  },
  {
   "cell_type": "code",
   "execution_count": 706,
   "id": "09f469fc-bc71-4fd3-ab70-cca4e18c6e22",
   "metadata": {
    "tags": []
   },
   "outputs": [
    {
     "data": {
      "text/html": [
       "<div>\n",
       "<style scoped>\n",
       "    .dataframe tbody tr th:only-of-type {\n",
       "        vertical-align: middle;\n",
       "    }\n",
       "\n",
       "    .dataframe tbody tr th {\n",
       "        vertical-align: top;\n",
       "    }\n",
       "\n",
       "    .dataframe thead th {\n",
       "        text-align: right;\n",
       "    }\n",
       "</style>\n",
       "<table border=\"1\" class=\"dataframe\">\n",
       "  <thead>\n",
       "    <tr style=\"text-align: right;\">\n",
       "      <th></th>\n",
       "      <th></th>\n",
       "      <th>income_h</th>\n",
       "    </tr>\n",
       "    <tr>\n",
       "      <th>north</th>\n",
       "      <th>col_h</th>\n",
       "      <th></th>\n",
       "    </tr>\n",
       "  </thead>\n",
       "  <tbody>\n",
       "    <tr>\n",
       "      <th rowspan=\"2\" valign=\"top\">0</th>\n",
       "      <th>0</th>\n",
       "      <td>13913.650448</td>\n",
       "    </tr>\n",
       "    <tr>\n",
       "      <th>1</th>\n",
       "      <td>28397.269056</td>\n",
       "    </tr>\n",
       "    <tr>\n",
       "      <th rowspan=\"2\" valign=\"top\">1</th>\n",
       "      <th>0</th>\n",
       "      <td>12577.339887</td>\n",
       "    </tr>\n",
       "    <tr>\n",
       "      <th>1</th>\n",
       "      <td>24680.241525</td>\n",
       "    </tr>\n",
       "  </tbody>\n",
       "</table>\n",
       "</div>"
      ],
      "text/plain": [
       "                 income_h\n",
       "north col_h              \n",
       "0     0      13913.650448\n",
       "      1      28397.269056\n",
       "1     0      12577.339887\n",
       "      1      24680.241525"
      ]
     },
     "execution_count": 706,
     "metadata": {},
     "output_type": "execute_result"
    }
   ],
   "source": [
    "df_h"
   ]
  },
  {
   "cell_type": "code",
   "execution_count": 742,
   "id": "9ae53a56-93f0-4e62-b21c-c41a1a256e8d",
   "metadata": {
    "tags": []
   },
   "outputs": [
    {
     "data": {
      "text/html": [
       "<div>\n",
       "<style scoped>\n",
       "    .dataframe tbody tr th:only-of-type {\n",
       "        vertical-align: middle;\n",
       "    }\n",
       "\n",
       "    .dataframe tbody tr th {\n",
       "        vertical-align: top;\n",
       "    }\n",
       "\n",
       "    .dataframe thead th {\n",
       "        text-align: right;\n",
       "    }\n",
       "</style>\n",
       "<table border=\"1\" class=\"dataframe\">\n",
       "  <thead>\n",
       "    <tr style=\"text-align: right;\">\n",
       "      <th></th>\n",
       "      <th></th>\n",
       "      <th>income_w</th>\n",
       "    </tr>\n",
       "    <tr>\n",
       "      <th>north</th>\n",
       "      <th>col_w</th>\n",
       "      <th></th>\n",
       "    </tr>\n",
       "  </thead>\n",
       "  <tbody>\n",
       "    <tr>\n",
       "      <th rowspan=\"2\" valign=\"top\">0</th>\n",
       "      <th>0</th>\n",
       "      <td>5591.250536</td>\n",
       "    </tr>\n",
       "    <tr>\n",
       "      <th>1</th>\n",
       "      <td>21871.001362</td>\n",
       "    </tr>\n",
       "    <tr>\n",
       "      <th rowspan=\"2\" valign=\"top\">1</th>\n",
       "      <th>0</th>\n",
       "      <td>4713.187382</td>\n",
       "    </tr>\n",
       "    <tr>\n",
       "      <th>1</th>\n",
       "      <td>19859.760915</td>\n",
       "    </tr>\n",
       "  </tbody>\n",
       "</table>\n",
       "</div>"
      ],
      "text/plain": [
       "                 income_w\n",
       "north col_w              \n",
       "0     0       5591.250536\n",
       "      1      21871.001362\n",
       "1     0       4713.187382\n",
       "      1      19859.760915"
      ]
     },
     "execution_count": 742,
     "metadata": {},
     "output_type": "execute_result"
    }
   ],
   "source": [
    "df_w"
   ]
  },
  {
   "cell_type": "code",
   "execution_count": 743,
   "id": "da863de4-10bd-41d1-b986-1218f0ad5e92",
   "metadata": {
    "tags": []
   },
   "outputs": [
    {
     "data": {
      "text/html": [
       "<div>\n",
       "<style scoped>\n",
       "    .dataframe tbody tr th:only-of-type {\n",
       "        vertical-align: middle;\n",
       "    }\n",
       "\n",
       "    .dataframe tbody tr th {\n",
       "        vertical-align: top;\n",
       "    }\n",
       "\n",
       "    .dataframe thead th {\n",
       "        text-align: right;\n",
       "    }\n",
       "</style>\n",
       "<table border=\"1\" class=\"dataframe\">\n",
       "  <thead>\n",
       "    <tr style=\"text-align: right;\">\n",
       "      <th></th>\n",
       "      <th></th>\n",
       "      <th>income_w</th>\n",
       "    </tr>\n",
       "    <tr>\n",
       "      <th>north</th>\n",
       "      <th>col_w</th>\n",
       "      <th></th>\n",
       "    </tr>\n",
       "  </thead>\n",
       "  <tbody>\n",
       "    <tr>\n",
       "      <th rowspan=\"2\" valign=\"top\">0</th>\n",
       "      <th>0</th>\n",
       "      <td>6472.269682</td>\n",
       "    </tr>\n",
       "    <tr>\n",
       "      <th>1</th>\n",
       "      <td>18038.154431</td>\n",
       "    </tr>\n",
       "    <tr>\n",
       "      <th rowspan=\"2\" valign=\"top\">1</th>\n",
       "      <th>0</th>\n",
       "      <td>6162.532393</td>\n",
       "    </tr>\n",
       "    <tr>\n",
       "      <th>1</th>\n",
       "      <td>17652.286679</td>\n",
       "    </tr>\n",
       "  </tbody>\n",
       "</table>\n",
       "</div>"
      ],
      "text/plain": [
       "                 income_w\n",
       "north col_w              \n",
       "0     0       6472.269682\n",
       "      1      18038.154431\n",
       "1     0       6162.532393\n",
       "      1      17652.286679"
      ]
     },
     "execution_count": 743,
     "metadata": {},
     "output_type": "execute_result"
    }
   ],
   "source": [
    "df_husb_wife[[\"north\", \"income_w\", \"col_w\"]].groupby([\"north\", \"col_w\"]).std()"
   ]
  },
  {
   "cell_type": "code",
   "execution_count": 7,
   "id": "3e902708-30f3-4fe1-8a59-207673465bca",
   "metadata": {
    "tags": []
   },
   "outputs": [
    {
     "data": {
      "text/plain": [
       "state_per_fv_h\n",
       "03    1273\n",
       "06     994\n",
       "07     648\n",
       "08    1638\n",
       "09    2614\n",
       "23    1731\n",
       "24    1413\n",
       "Name: count, dtype: int64"
      ]
     },
     "execution_count": 7,
     "metadata": {},
     "output_type": "execute_result"
    }
   ],
   "source": [
    "df_husb_wife[df_husb_wife[\"north\"] == 1][\"state_per_fv_h\"].value_counts().sort_index()"
   ]
  },
  {
   "cell_type": "code",
   "execution_count": 8,
   "id": "6ab7af30-070e-436a-9b7f-15376de6fe1e",
   "metadata": {
    "tags": []
   },
   "outputs": [],
   "source": [
    "df2 = copy.deepcopy(df_husb_wife)"
   ]
  },
  {
   "cell_type": "code",
   "execution_count": 9,
   "id": "ae48c84d-23ff-422a-a7ba-3b7544c7d38a",
   "metadata": {
    "tags": []
   },
   "outputs": [],
   "source": [
    "df2.loc[df2[\"state_per_fv_h\"].isin(['22', '05']), 'north'] = 1"
   ]
  },
  {
   "cell_type": "code",
   "execution_count": 10,
   "id": "7001a68c-1fe5-49e3-a472-ff174f5f7365",
   "metadata": {
    "tags": []
   },
   "outputs": [],
   "source": [
    "\n",
    "df_h = df_husb_wife[(df_husb_wife[\"hourlywage_h\"].astype(float) > 0)][[\"col_h\", \"north\", \"hourlywage_h\"]].sort_values(\"hourlywage_h\").groupby([\"north\", \"col_h\"])\n",
    "df_w = df_husb_wife[(df_husb_wife[\"hourlywage_w\"].astype(float) > 0)][[\"col_w\", \"north\", \"hourlywage_w\"]].sort_values(\"hourlywage_w\").groupby([\"north\", \"col_w\"])\n"
   ]
  },
  {
   "cell_type": "code",
   "execution_count": 25,
   "id": "d6790a46-f1ff-41c1-a867-413af1fe8f9a",
   "metadata": {
    "tags": []
   },
   "outputs": [],
   "source": [
    "nn = df_husb_wife[(df_husb_wife[\"north\"] == 1)].shape[0]\n",
    "ns = df_husb_wife[(df_husb_wife[\"north\"] == 0)].shape[0]"
   ]
  },
  {
   "cell_type": "code",
   "execution_count": 26,
   "id": "eddf12e6-9a55-4e82-9e8a-d915c52d3075",
   "metadata": {
    "tags": []
   },
   "outputs": [
    {
     "data": {
      "text/plain": [
       "EMP_type\n",
       "YN    0.814761\n",
       "YY    0.120260\n",
       "NN    0.057123\n",
       "NY    0.007856\n",
       "Name: count, dtype: float64"
      ]
     },
     "execution_count": 26,
     "metadata": {},
     "output_type": "execute_result"
    }
   ],
   "source": [
    "df_husb_wife[df_husb_wife['north'] == 1][\"EMP_type\"].value_counts()/nn"
   ]
  },
  {
   "cell_type": "code",
   "execution_count": 27,
   "id": "78e1b34f-3d63-46c3-9563-c1a3cc3964c7",
   "metadata": {
    "tags": []
   },
   "outputs": [
    {
     "data": {
      "text/plain": [
       "EMP_type\n",
       "YN    0.733857\n",
       "YY    0.225384\n",
       "NN    0.028362\n",
       "NY    0.012397\n",
       "Name: count, dtype: float64"
      ]
     },
     "execution_count": 27,
     "metadata": {},
     "output_type": "execute_result"
    }
   ],
   "source": [
    "df_husb_wife[df_husb_wife['north'] == 0][\"EMP_type\"].value_counts()/ns"
   ]
  },
  {
   "cell_type": "code",
   "execution_count": 18,
   "id": "23981643-ed74-4768-901a-068a0691225d",
   "metadata": {
    "tags": []
   },
   "outputs": [
    {
     "data": {
      "text/plain": [
       "EMP_type\n",
       "YN          0.785507\n",
       "YY          0.164712\n",
       "NN          0.039238\n",
       "NY          0.010543\n",
       "Name: count, dtype: float64"
      ]
     },
     "execution_count": 18,
     "metadata": {},
     "output_type": "execute_result"
    }
   ],
   "source": [
    "df_husb_wife[[\"EMP_type\"]].value_counts()/"
   ]
  },
  {
   "cell_type": "code",
   "execution_count": null,
   "id": "f9b3bac2-8e8a-492a-950c-0319f110d476",
   "metadata": {},
   "outputs": [],
   "source": []
  }
 ],
 "metadata": {
  "kernelspec": {
   "display_name": "Python 3 (ipykernel)",
   "language": "python",
   "name": "python3"
  },
  "language_info": {
   "codemirror_mode": {
    "name": "ipython",
    "version": 3
   },
   "file_extension": ".py",
   "mimetype": "text/x-python",
   "name": "python",
   "nbconvert_exporter": "python",
   "pygments_lexer": "ipython3",
   "version": "3.11.5"
  }
 },
 "nbformat": 4,
 "nbformat_minor": 5
}
