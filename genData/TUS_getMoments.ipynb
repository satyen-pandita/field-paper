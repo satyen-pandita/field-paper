{
 "cells": [
  {
   "cell_type": "markdown",
   "id": "dca7d0b2-73ec-4c98-bdc9-0d2a03991606",
   "metadata": {},
   "source": [
    "### In this File\n",
    "\n",
    "Having calculated time spent by each primID in each activity, I merge this dataframe with the dataframe containing characteristics for these primIDs."
   ]
  },
  {
   "cell_type": "code",
   "execution_count": 69,
   "id": "9a42311e-db3c-45af-9c3a-f4ae420652ba",
   "metadata": {
    "tags": []
   },
   "outputs": [],
   "source": [
    "import pandas as pd\n",
    "import os\n",
    "from datetime import datetime\n",
    "import copy"
   ]
  },
  {
   "cell_type": "code",
   "execution_count": 70,
   "id": "6806fcd4-5053-4d98-aecf-64f1d4d563e7",
   "metadata": {
    "tags": []
   },
   "outputs": [],
   "source": [
    "################# GLOBAL VARIABLES ######################\n",
    "\n",
    "# Definitions from PLFS 2018-19 Annual Report, Concepts and Definitions (2.38.1)\n",
    "# Problematic codes for self employed criteria: `21` - worked in household enterprises (self-employed) as helper\n",
    "SELF_EMP_CODES = [\"11\", \"12\", \"21\"]\n",
    "REG_EMP_CODES = [\"31\"]\n",
    "CASUAL_EMP_CODES = [\"41\", \"42\", \"51\", \"61\", \"62\", \"71\", \"72\"]\n",
    "\n",
    "NOT_REG_CODES = SELF_EMP_CODES + CASUAL_EMP_CODES\n",
    "\n",
    "EMP_CODES = SELF_EMP_CODES + REG_EMP_CODES + CASUAL_EMP_CODES\n",
    "UNEMP_CODES = [\"81\", \"82\"]\n",
    "LF_CODES = EMP_CODES + UNEMP_CODES\n",
    "NOT_IN_LF_CODES = [str(x) for x in list(range(91,100))]\n",
    "\n",
    "CODE_MAP = {\"1\": \"work\", \"2\": \"work\", \"3\": \"home\", \"4\": \"home\", \"5\": \"home\", \"6\": \"leisure\", \"7\": \"leisure\", \"8\": \"leisure\", \"9\": \"self\"}"
   ]
  },
  {
   "cell_type": "code",
   "execution_count": 71,
   "id": "c5d39071-5664-476f-a18e-31ee67c73d6b",
   "metadata": {
    "tags": []
   },
   "outputs": [],
   "source": [
    "df_L1L2 = pd.read_pickle(\"../../proc/df_L1L2.pkl\")\n",
    "df_L3 = pd.read_pickle(\"../../proc/df_L3.pkl\")"
   ]
  },
  {
   "cell_type": "code",
   "execution_count": 72,
   "id": "e6e9c4c9-efbe-419f-8389-189c1b01c91f",
   "metadata": {
    "tags": []
   },
   "outputs": [],
   "source": [
    "# Contains Common-ID with Response Code != 1 in L1 \n",
    "dropids = pd.read_pickle(\"../../proc/NonResponseCommonIDs.pkl\")\n",
    "# df_time = df_time.loc[~df_time[\"Common-ID\"].isin(dropids),:] "
   ]
  },
  {
   "cell_type": "code",
   "execution_count": 73,
   "id": "6593cdbc-589c-4fcc-9d93-9af26a46ce7e",
   "metadata": {
    "tags": []
   },
   "outputs": [],
   "source": [
    "df_L3 = df_L3[~df_L3[\"Common-ID\"].isin(dropids)]"
   ]
  },
  {
   "cell_type": "code",
   "execution_count": 74,
   "id": "329627ed-06a3-48f6-b5e0-37606cefe95c",
   "metadata": {
    "tags": []
   },
   "outputs": [],
   "source": [
    "# Will contain characteristics of hh/individual\n",
    "df_chars = pd.merge(df_L1L2, df_L3, how=\"outer\", on=\"Common-ID\", indicator=True)"
   ]
  },
  {
   "cell_type": "code",
   "execution_count": 75,
   "id": "7e9537fb-02f7-4503-94c9-595b31f56fc2",
   "metadata": {
    "tags": []
   },
   "outputs": [
    {
     "data": {
      "text/plain": [
       "_merge\n",
       "both          455448\n",
       "right_only         1\n",
       "left_only          0\n",
       "Name: count, dtype: int64"
      ]
     },
     "execution_count": 75,
     "metadata": {},
     "output_type": "execute_result"
    }
   ],
   "source": [
    "df_chars._merge.value_counts()"
   ]
  },
  {
   "cell_type": "code",
   "execution_count": 76,
   "id": "4b5e0b66-2058-46ba-ad61-a70903f7ce27",
   "metadata": {
    "tags": []
   },
   "outputs": [
    {
     "data": {
      "text/html": [
       "<div>\n",
       "<style scoped>\n",
       "    .dataframe tbody tr th:only-of-type {\n",
       "        vertical-align: middle;\n",
       "    }\n",
       "\n",
       "    .dataframe tbody tr th {\n",
       "        vertical-align: top;\n",
       "    }\n",
       "\n",
       "    .dataframe thead th {\n",
       "        text-align: right;\n",
       "    }\n",
       "</style>\n",
       "<table border=\"1\" class=\"dataframe\">\n",
       "  <thead>\n",
       "    <tr style=\"text-align: right;\">\n",
       "      <th>item</th>\n",
       "      <th>Sector</th>\n",
       "      <th>District</th>\n",
       "      <th>State</th>\n",
       "      <th>north</th>\n",
       "      <th>Common-ID</th>\n",
       "      <th>Person serial no.</th>\n",
       "      <th>Relation to head</th>\n",
       "      <th>Gender</th>\n",
       "      <th>Age</th>\n",
       "      <th>marital status</th>\n",
       "      <th>...</th>\n",
       "      <th>imputed value of usual consumption in a month from wages in kind, free collection, gifts, etc (C )</th>\n",
       "      <th>expenditure on purchase of household durable during last 365 days (D)</th>\n",
       "      <th>usual monthly consumer expenditure E: [A+B+C+(D/12)]</th>\n",
       "      <th>Primary source of energey for cooking</th>\n",
       "      <th>Primary source of energey for lighting</th>\n",
       "      <th>Type of washing of clothes</th>\n",
       "      <th>Type of sweeping of floor</th>\n",
       "      <th>Type of structure of the dwelling unit</th>\n",
       "      <th>member of age 5 years and above needing special care but no care giver is available</th>\n",
       "      <th>_merge</th>\n",
       "    </tr>\n",
       "  </thead>\n",
       "  <tbody>\n",
       "    <tr>\n",
       "      <th>455448</th>\n",
       "      <td>NaN</td>\n",
       "      <td>NaN</td>\n",
       "      <td>NaN</td>\n",
       "      <td>NaN</td>\n",
       "      <td>16792106201910932103012092106030</td>\n",
       "      <td>NaN</td>\n",
       "      <td>NaN</td>\n",
       "      <td>NaN</td>\n",
       "      <td>NaN</td>\n",
       "      <td>NaN</td>\n",
       "      <td>...</td>\n",
       "      <td></td>\n",
       "      <td>0400</td>\n",
       "      <td>0      021</td>\n",
       "      <td>12</td>\n",
       "      <td>2</td>\n",
       "      <td></td>\n",
       "      <td></td>\n",
       "      <td></td>\n",
       "      <td></td>\n",
       "      <td>right_only</td>\n",
       "    </tr>\n",
       "  </tbody>\n",
       "</table>\n",
       "<p>1 rows × 30 columns</p>\n",
       "</div>"
      ],
      "text/plain": [
       "item   Sector District State north                         Common-ID  \\\n",
       "455448    NaN      NaN   NaN   NaN  16792106201910932103012092106030   \n",
       "\n",
       "item   Person serial no. Relation to head Gender  Age marital status  ...  \\\n",
       "455448               NaN              NaN    NaN  NaN            NaN  ...   \n",
       "\n",
       "item   imputed value of usual consumption in a month from wages in kind, free collection, gifts, etc (C )  \\\n",
       "455448                                                                                                      \n",
       "\n",
       "item   expenditure on purchase of household durable during last 365 days (D)  \\\n",
       "455448                                               0400                      \n",
       "\n",
       "item   usual monthly consumer expenditure E: [A+B+C+(D/12)]  \\\n",
       "455448                                         0      021     \n",
       "\n",
       "item   Primary source of energey for cooking  \\\n",
       "455448                                    12   \n",
       "\n",
       "item   Primary source of energey for lighting Type of washing of clothes  \\\n",
       "455448                                      2                              \n",
       "\n",
       "item   Type of sweeping of floor Type of structure of the dwelling unit  \\\n",
       "455448                                                                    \n",
       "\n",
       "item   member of age 5 years and above needing special care but no care giver is available  \\\n",
       "455448                                                                                       \n",
       "\n",
       "item        _merge  \n",
       "455448  right_only  \n",
       "\n",
       "[1 rows x 30 columns]"
      ]
     },
     "execution_count": 76,
     "metadata": {},
     "output_type": "execute_result"
    }
   ],
   "source": [
    "df_chars[df_chars[\"_merge\"] == \"right_only\"]"
   ]
  },
  {
   "cell_type": "markdown",
   "id": "ee9c0386-0c6a-47b9-bb3b-87edbf85ea8b",
   "metadata": {},
   "source": [
    "Some error here with `Common-ID`"
   ]
  },
  {
   "cell_type": "code",
   "execution_count": 77,
   "id": "fc4d8deb-2552-4fc9-8427-4462b21e29a3",
   "metadata": {
    "tags": []
   },
   "outputs": [],
   "source": [
    "df_chars = df_chars[df_chars[\"_merge\"] == \"both\"]\n",
    "df_chars.drop(columns=[\"_merge\"], inplace=True)"
   ]
  },
  {
   "cell_type": "markdown",
   "id": "ebec749a-be80-4044-8a57-8bee00435a39",
   "metadata": {},
   "source": [
    "Now, I need to map husbands to wives. So first, subset by marital status"
   ]
  },
  {
   "cell_type": "code",
   "execution_count": 78,
   "id": "72f126c9-4bd5-4e9b-aa31-9f6b67c523d7",
   "metadata": {
    "tags": []
   },
   "outputs": [],
   "source": [
    "df_chars = df_chars[df_chars[\"marital status\"] == \"2\"]"
   ]
  },
  {
   "cell_type": "code",
   "execution_count": 79,
   "id": "aca98225-f5a0-4612-a72a-91ffcfb548b6",
   "metadata": {
    "tags": []
   },
   "outputs": [
    {
     "data": {
      "text/plain": [
       "Relation to head\n",
       "1    98554\n",
       "2    92320\n",
       "4    19251\n",
       "3    19004\n",
       "7     2349\n",
       "8     2021\n",
       "6      315\n",
       "9      141\n",
       "Name: count, dtype: int64"
      ]
     },
     "execution_count": 79,
     "metadata": {},
     "output_type": "execute_result"
    }
   ],
   "source": [
    "df_chars[\"Relation to head\"].value_counts()"
   ]
  },
  {
   "cell_type": "markdown",
   "id": "380d8ba1-ad5d-4430-8378-be309acc0370",
   "metadata": {},
   "source": [
    "Within each Household, I have to map a husband to a wife. All I have is `relation to head`. So I subset those that are the simplest to map to each other: `self -1, spouse of head -2, married child -3, spouse of married child -4`"
   ]
  },
  {
   "cell_type": "code",
   "execution_count": 80,
   "id": "d9491e29-6ce4-4b79-ae10-f29b2a069e97",
   "metadata": {
    "tags": []
   },
   "outputs": [],
   "source": [
    "df_chars = df_chars[df_chars[\"Relation to head\"].isin(['1','2','3','4'])]"
   ]
  },
  {
   "cell_type": "code",
   "execution_count": 81,
   "id": "2053259a-a22a-4fca-820d-422504d51beb",
   "metadata": {
    "tags": []
   },
   "outputs": [],
   "source": [
    "df_chars.loc[:,'spouse'] = \"husband\"\n",
    "df_chars.loc[df_chars['Gender'] == \"2\", \"spouse\"] = \"wife\""
   ]
  },
  {
   "cell_type": "code",
   "execution_count": 82,
   "id": "cc926ce1-0cc0-41b1-a201-1765a8fa2f27",
   "metadata": {
    "tags": []
   },
   "outputs": [
    {
     "data": {
      "text/plain": [
       "Relation to head  spouse \n",
       "1                 husband    93941\n",
       "                  wife        4613\n",
       "2                 husband      668\n",
       "                  wife       91652\n",
       "3                 husband    17493\n",
       "                  wife        1511\n",
       "4                 husband      523\n",
       "                  wife       18728\n",
       "Name: count, dtype: int64"
      ]
     },
     "execution_count": 82,
     "metadata": {},
     "output_type": "execute_result"
    }
   ],
   "source": [
    "df_chars[['Relation to head', 'spouse']].value_counts().sort_index()"
   ]
  },
  {
   "cell_type": "markdown",
   "id": "52aa9fd2-d716-4691-b0cb-36827fa88e1d",
   "metadata": {},
   "source": [
    "There are 4.6k women HoH but only 668 husbands. It looks like the remaining 4k husbands are living away. I need only HHs where the man and the wife are living together. So I will subset those"
   ]
  },
  {
   "cell_type": "code",
   "execution_count": 83,
   "id": "0a83f55c-3182-42b6-8f2d-9fb789ed02b5",
   "metadata": {
    "tags": []
   },
   "outputs": [],
   "source": [
    "df_chars.loc[:,\"wife\"] = 0\n",
    "df_chars.loc[df_chars[\"spouse\"] == \"wife\",\"wife\"] = 1\n",
    "\n",
    "df_chars.loc[:,\"husb\"] = 0\n",
    "df_chars.loc[df_chars[\"spouse\"] == \"husband\",\"husb\"] = 1"
   ]
  },
  {
   "cell_type": "code",
   "execution_count": 84,
   "id": "5d1f600b-74f7-4cb2-af86-cbbb940fb920",
   "metadata": {
    "tags": []
   },
   "outputs": [],
   "source": [
    "df_Nhusb_Nwife = df_chars[[\"Common-ID\", \"wife\", \"husb\"]].groupby(\"Common-ID\").sum()\n"
   ]
  },
  {
   "cell_type": "code",
   "execution_count": 85,
   "id": "7016ffa1-b350-4386-954b-375022ee141e",
   "metadata": {
    "tags": []
   },
   "outputs": [
    {
     "data": {
      "text/plain": [
       "(94760, 9511)"
      ]
     },
     "execution_count": 85,
     "metadata": {},
     "output_type": "execute_result"
    }
   ],
   "source": [
    "sum(df_Nhusb_Nwife[\"wife\"] == df_Nhusb_Nwife[\"husb\"]), sum(df_Nhusb_Nwife[\"wife\"] != df_Nhusb_Nwife[\"husb\"])"
   ]
  },
  {
   "cell_type": "code",
   "execution_count": 86,
   "id": "a8763402-6017-44b6-a5cd-bc313b07e54a",
   "metadata": {
    "tags": []
   },
   "outputs": [],
   "source": [
    "equalHusbWifeids = df_Nhusb_Nwife[df_Nhusb_Nwife[\"wife\"] == df_Nhusb_Nwife[\"husb\"]].index"
   ]
  },
  {
   "cell_type": "code",
   "execution_count": 87,
   "id": "39151b2b-53d4-4478-884e-3c6bccb809f2",
   "metadata": {
    "tags": []
   },
   "outputs": [],
   "source": [
    "df_chars = df_chars[df_chars[\"Common-ID\"].isin(equalHusbWifeids)]"
   ]
  },
  {
   "cell_type": "code",
   "execution_count": 88,
   "id": "3e49f5c0-55bf-4645-b4a5-2a98c560ca6f",
   "metadata": {
    "tags": []
   },
   "outputs": [],
   "source": [
    "# Some horrendous column names need to be changed\n",
    "rename_cols = {\n",
    "    'usual principal activity: status (code)': 'principal_activity_status_code',\n",
    "    'industry of work: 2-digit of NIC 2008': 'industry_nic2_code',\n",
    "    'Land possessed as on date of survey(code)': 'land_possessed_survey_date_code',\n",
    "    'usual consumer expenditure in a month for household purposes out of purchase (A)': 'cons_exp_purchase_monthly',\n",
    "    'imputed value of usual consumption in a month from home grown stock (B)': 'imputed_homegrown_consumption_monthly',\n",
    "    'imputed value of usual consumption in a month from wages in kind, free collection, gifts, etc (C )': 'imputed_in_kind_consumption_monthly',\n",
    "    'expenditure on purchase of household durable during last 365 days (D)': 'exp_durable_purchase_annual',\n",
    "    'usual monthly consumer expenditure E: [A+B+C+(D/12)]': 'cons_exp_total_monthly',\n",
    "    'Primary source of energey for cooking': 'primary_cooking_energy',\n",
    "    'Primary source of energey for lighting': 'primary_lighting_energy',\n",
    "    'Type of washing of clothes': 'clothes_washing_type',\n",
    "    'Type of sweeping of floor': 'floor_sweeping_type',\n",
    "    'Type of structure of the dwelling unit': 'dwelling_structure_type',\n",
    "    'member of age 5 years and above needing special care but no care giver is available': 'member_5plus_needing_care_no_caregiver',\n",
    "}\n",
    "\n",
    "df_chars.rename(columns=rename_cols, inplace=True)"
   ]
  },
  {
   "cell_type": "code",
   "execution_count": 116,
   "id": "65f3db87-bb90-452a-814e-6c6aef272d57",
   "metadata": {
    "tags": []
   },
   "outputs": [
    {
     "data": {
      "text/plain": [
       "Index(['Sector', 'District', 'State', 'north', 'Common-ID',\n",
       "       'Person serial no.', 'Relation to head', 'Gender', 'Age',\n",
       "       'marital status', 'highest level of education',\n",
       "       'principal_activity_status_code', 'industry_nic2_code', 'primID',\n",
       "       'Household size', 'religion', 'Social group ',\n",
       "       'land_possessed_survey_date_code', 'cons_exp_purchase_monthly',\n",
       "       'imputed_homegrown_consumption_monthly',\n",
       "       'imputed_in_kind_consumption_monthly', 'exp_durable_purchase_annual',\n",
       "       'cons_exp_total_monthly', 'primary_cooking_energy',\n",
       "       'primary_lighting_energy', 'clothes_washing_type',\n",
       "       'floor_sweeping_type', 'dwelling_structure_type',\n",
       "       'member_5plus_needing_care_no_caregiver', 'spouse', 'wife', 'husb'],\n",
       "      dtype='object', name='item')"
      ]
     },
     "execution_count": 116,
     "metadata": {},
     "output_type": "execute_result"
    }
   ],
   "source": [
    "df_chars.columns"
   ]
  },
  {
   "cell_type": "code",
   "execution_count": null,
   "id": "ecd8009f-1c6f-4ead-87c8-6e168953275c",
   "metadata": {},
   "outputs": [],
   "source": []
  },
  {
   "cell_type": "code",
   "execution_count": 89,
   "id": "518dd6af-de4c-4679-9f4e-d79a1e0cf7d4",
   "metadata": {
    "tags": []
   },
   "outputs": [],
   "source": [
    "# Read time file\n",
    "df_time = pd.read_pickle(\"../../proc/df_timeSpent.pkl\")\n"
   ]
  },
  {
   "cell_type": "code",
   "execution_count": 90,
   "id": "aa33e09d-cd3b-4fda-bbd1-59a5a00878dc",
   "metadata": {
    "tags": []
   },
   "outputs": [],
   "source": [
    "df_time[\"Common-ID\"] = df_time[\"primID\"].apply(lambda x: x[:-3])"
   ]
  },
  {
   "cell_type": "code",
   "execution_count": 91,
   "id": "baec9cb9-aca3-4a8e-829d-1bd8bcbd3cbd",
   "metadata": {
    "tags": []
   },
   "outputs": [],
   "source": [
    "# Drop if len(Common-ID) < 32 \n",
    "df_time = df_time[df_time[\"Common-ID\"].apply(lambda x: len(x.replace(\" \", \"\"))) == 32]"
   ]
  },
  {
   "cell_type": "code",
   "execution_count": 92,
   "id": "b187503f-c331-4207-8ad0-b1811bac8059",
   "metadata": {
    "tags": []
   },
   "outputs": [
    {
     "data": {
      "text/plain": [
       "(1676736, 5)"
      ]
     },
     "execution_count": 92,
     "metadata": {},
     "output_type": "execute_result"
    }
   ],
   "source": [
    "df_time.shape"
   ]
  },
  {
   "cell_type": "code",
   "execution_count": 93,
   "id": "d8a9cca6-63cd-4f9c-b5fa-2c4ad55b22c3",
   "metadata": {
    "tags": []
   },
   "outputs": [
    {
     "data": {
      "text/plain": [
       "(1566196, 5)"
      ]
     },
     "execution_count": 93,
     "metadata": {},
     "output_type": "execute_result"
    }
   ],
   "source": [
    "# Drop Common-ID that had Response_Code != 1\n",
    "df_time = df_time.loc[~df_time[\"Common-ID\"].isin(dropids),:] \n",
    "df_time.shape"
   ]
  },
  {
   "cell_type": "code",
   "execution_count": 94,
   "id": "8dd37509-5f07-44c1-b44e-85cfa35740be",
   "metadata": {
    "tags": []
   },
   "outputs": [
    {
     "data": {
      "text/plain": [
       "Index(['Sector', 'District', 'State', 'north', 'Common-ID',\n",
       "       'Person serial no.', 'Relation to head', 'Gender', 'Age',\n",
       "       'marital status', 'highest level of education',\n",
       "       'principal_activity_status_code', 'industry_nic2_code', 'primID',\n",
       "       'Household size', 'religion', 'Social group ',\n",
       "       'land_possessed_survey_date_code', 'cons_exp_purchase_monthly',\n",
       "       'imputed_homegrown_consumption_monthly',\n",
       "       'imputed_in_kind_consumption_monthly', 'exp_durable_purchase_annual',\n",
       "       'cons_exp_total_monthly', 'primary_cooking_energy',\n",
       "       'primary_lighting_energy', 'clothes_washing_type',\n",
       "       'floor_sweeping_type', 'dwelling_structure_type',\n",
       "       'member_5plus_needing_care_no_caregiver', 'spouse', 'wife', 'husb'],\n",
       "      dtype='object', name='item')"
      ]
     },
     "execution_count": 94,
     "metadata": {},
     "output_type": "execute_result"
    }
   ],
   "source": [
    "df_chars.columns"
   ]
  },
  {
   "cell_type": "code",
   "execution_count": 95,
   "id": "0adaf8fc-3287-4711-8be0-604829eeb7ce",
   "metadata": {
    "tags": []
   },
   "outputs": [
    {
     "data": {
      "text/plain": [
       "Index(['time_spent', 'primID', 'activity', 'TotalTime', 'Common-ID'], dtype='object')"
      ]
     },
     "execution_count": 95,
     "metadata": {},
     "output_type": "execute_result"
    }
   ],
   "source": [
    "df_time.columns"
   ]
  },
  {
   "cell_type": "code",
   "execution_count": 96,
   "id": "9bd4ee20-f3c8-416a-90c1-02f3f6c779ad",
   "metadata": {
    "tags": []
   },
   "outputs": [],
   "source": [
    "# Drop Common-ID\n",
    "df_time.drop(columns=[\"Common-ID\"], inplace=True)"
   ]
  },
  {
   "cell_type": "code",
   "execution_count": 97,
   "id": "d57a9f35-d440-4925-8c8e-6bedbcb01e21",
   "metadata": {
    "tags": []
   },
   "outputs": [],
   "source": [
    "df_merged=pd.merge(df_chars, df_time, on='primID', how=\"outer\", indicator=True)"
   ]
  },
  {
   "cell_type": "code",
   "execution_count": 98,
   "id": "dc1b0d52-8045-474b-81e1-31144330fa5c",
   "metadata": {
    "tags": []
   },
   "outputs": [
    {
     "data": {
      "text/plain": [
       "_merge\n",
       "both          849520\n",
       "right_only    716676\n",
       "left_only        586\n",
       "Name: count, dtype: int64"
      ]
     },
     "execution_count": 98,
     "metadata": {},
     "output_type": "execute_result"
    }
   ],
   "source": [
    "df_merged[\"_merge\"].value_counts()"
   ]
  },
  {
   "cell_type": "markdown",
   "id": "1ec8d403-aae4-4cdf-917a-24b6cfc6a0d5",
   "metadata": {},
   "source": [
    "Given the subsets I have already done, it makes sense that there will be a lot of `_merge == right_only`. A few of them are `left_only` - guess they will be the ones with some bad Common-IDs"
   ]
  },
  {
   "cell_type": "code",
   "execution_count": 99,
   "id": "fb96dacb-9ba7-4a9d-8e61-0e2c0cf53181",
   "metadata": {
    "tags": []
   },
   "outputs": [
    {
     "data": {
      "text/html": [
       "<div>\n",
       "<style scoped>\n",
       "    .dataframe tbody tr th:only-of-type {\n",
       "        vertical-align: middle;\n",
       "    }\n",
       "\n",
       "    .dataframe tbody tr th {\n",
       "        vertical-align: top;\n",
       "    }\n",
       "\n",
       "    .dataframe thead th {\n",
       "        text-align: right;\n",
       "    }\n",
       "</style>\n",
       "<table border=\"1\" class=\"dataframe\">\n",
       "  <thead>\n",
       "    <tr style=\"text-align: right;\">\n",
       "      <th></th>\n",
       "      <th>Sector</th>\n",
       "      <th>District</th>\n",
       "      <th>State</th>\n",
       "      <th>north</th>\n",
       "      <th>Common-ID</th>\n",
       "      <th>Person serial no.</th>\n",
       "      <th>Relation to head</th>\n",
       "      <th>Gender</th>\n",
       "      <th>Age</th>\n",
       "      <th>marital status</th>\n",
       "      <th>...</th>\n",
       "      <th>floor_sweeping_type</th>\n",
       "      <th>dwelling_structure_type</th>\n",
       "      <th>member_5plus_needing_care_no_caregiver</th>\n",
       "      <th>spouse</th>\n",
       "      <th>wife</th>\n",
       "      <th>husb</th>\n",
       "      <th>time_spent</th>\n",
       "      <th>activity</th>\n",
       "      <th>TotalTime</th>\n",
       "      <th>_merge</th>\n",
       "    </tr>\n",
       "  </thead>\n",
       "  <tbody>\n",
       "    <tr>\n",
       "      <th>476</th>\n",
       "      <td>1</td>\n",
       "      <td>08</td>\n",
       "      <td>01</td>\n",
       "      <td>NaN</td>\n",
       "      <td>TUS12469106201910130803342012002</td>\n",
       "      <td>004</td>\n",
       "      <td>4</td>\n",
       "      <td>2</td>\n",
       "      <td>33</td>\n",
       "      <td>2</td>\n",
       "      <td>...</td>\n",
       "      <td>2</td>\n",
       "      <td>3</td>\n",
       "      <td></td>\n",
       "      <td>wife</td>\n",
       "      <td>1.0</td>\n",
       "      <td>0.0</td>\n",
       "      <td>NaN</td>\n",
       "      <td>NaN</td>\n",
       "      <td>NaN</td>\n",
       "      <td>left_only</td>\n",
       "    </tr>\n",
       "    <tr>\n",
       "      <th>477</th>\n",
       "      <td>1</td>\n",
       "      <td>08</td>\n",
       "      <td>01</td>\n",
       "      <td>NaN</td>\n",
       "      <td>TUS12469106201910130803342012002</td>\n",
       "      <td>007</td>\n",
       "      <td>3</td>\n",
       "      <td>1</td>\n",
       "      <td>29</td>\n",
       "      <td>2</td>\n",
       "      <td>...</td>\n",
       "      <td>2</td>\n",
       "      <td>3</td>\n",
       "      <td></td>\n",
       "      <td>husband</td>\n",
       "      <td>0.0</td>\n",
       "      <td>1.0</td>\n",
       "      <td>NaN</td>\n",
       "      <td>NaN</td>\n",
       "      <td>NaN</td>\n",
       "      <td>left_only</td>\n",
       "    </tr>\n",
       "    <tr>\n",
       "      <th>478</th>\n",
       "      <td>1</td>\n",
       "      <td>08</td>\n",
       "      <td>01</td>\n",
       "      <td>NaN</td>\n",
       "      <td>TUS12469106201910130803342012002</td>\n",
       "      <td>008</td>\n",
       "      <td>4</td>\n",
       "      <td>2</td>\n",
       "      <td>27</td>\n",
       "      <td>2</td>\n",
       "      <td>...</td>\n",
       "      <td>2</td>\n",
       "      <td>3</td>\n",
       "      <td></td>\n",
       "      <td>wife</td>\n",
       "      <td>1.0</td>\n",
       "      <td>0.0</td>\n",
       "      <td>NaN</td>\n",
       "      <td>NaN</td>\n",
       "      <td>NaN</td>\n",
       "      <td>left_only</td>\n",
       "    </tr>\n",
       "    <tr>\n",
       "      <th>5983</th>\n",
       "      <td>2</td>\n",
       "      <td>10</td>\n",
       "      <td>01</td>\n",
       "      <td>NaN</td>\n",
       "      <td>TUS22509106201920131003011012001</td>\n",
       "      <td>001</td>\n",
       "      <td>1</td>\n",
       "      <td>1</td>\n",
       "      <td>36</td>\n",
       "      <td>2</td>\n",
       "      <td>...</td>\n",
       "      <td>2</td>\n",
       "      <td>3</td>\n",
       "      <td></td>\n",
       "      <td>husband</td>\n",
       "      <td>0.0</td>\n",
       "      <td>1.0</td>\n",
       "      <td>NaN</td>\n",
       "      <td>NaN</td>\n",
       "      <td>NaN</td>\n",
       "      <td>left_only</td>\n",
       "    </tr>\n",
       "    <tr>\n",
       "      <th>6040</th>\n",
       "      <td>2</td>\n",
       "      <td>10</td>\n",
       "      <td>01</td>\n",
       "      <td>NaN</td>\n",
       "      <td>TUS22509106201920131003011012012</td>\n",
       "      <td>004</td>\n",
       "      <td>4</td>\n",
       "      <td>2</td>\n",
       "      <td>32</td>\n",
       "      <td>2</td>\n",
       "      <td>...</td>\n",
       "      <td>2</td>\n",
       "      <td>3</td>\n",
       "      <td>2</td>\n",
       "      <td>wife</td>\n",
       "      <td>1.0</td>\n",
       "      <td>0.0</td>\n",
       "      <td>NaN</td>\n",
       "      <td>NaN</td>\n",
       "      <td>NaN</td>\n",
       "      <td>left_only</td>\n",
       "    </tr>\n",
       "  </tbody>\n",
       "</table>\n",
       "<p>5 rows × 36 columns</p>\n",
       "</div>"
      ],
      "text/plain": [
       "     Sector District State north                         Common-ID  \\\n",
       "476       1       08    01   NaN  TUS12469106201910130803342012002   \n",
       "477       1       08    01   NaN  TUS12469106201910130803342012002   \n",
       "478       1       08    01   NaN  TUS12469106201910130803342012002   \n",
       "5983      2       10    01   NaN  TUS22509106201920131003011012001   \n",
       "6040      2       10    01   NaN  TUS22509106201920131003011012012   \n",
       "\n",
       "     Person serial no. Relation to head Gender Age marital status  ...  \\\n",
       "476                004                4      2  33              2  ...   \n",
       "477                007                3      1  29              2  ...   \n",
       "478                008                4      2  27              2  ...   \n",
       "5983               001                1      1  36              2  ...   \n",
       "6040               004                4      2  32              2  ...   \n",
       "\n",
       "     floor_sweeping_type dwelling_structure_type  \\\n",
       "476                    2                       3   \n",
       "477                    2                       3   \n",
       "478                    2                       3   \n",
       "5983                   2                       3   \n",
       "6040                   2                       3   \n",
       "\n",
       "     member_5plus_needing_care_no_caregiver   spouse wife husb time_spent  \\\n",
       "476                                             wife  1.0  0.0        NaN   \n",
       "477                                          husband  0.0  1.0        NaN   \n",
       "478                                             wife  1.0  0.0        NaN   \n",
       "5983                                         husband  0.0  1.0        NaN   \n",
       "6040                                      2     wife  1.0  0.0        NaN   \n",
       "\n",
       "     activity TotalTime     _merge  \n",
       "476       NaN       NaN  left_only  \n",
       "477       NaN       NaN  left_only  \n",
       "478       NaN       NaN  left_only  \n",
       "5983      NaN       NaN  left_only  \n",
       "6040      NaN       NaN  left_only  \n",
       "\n",
       "[5 rows x 36 columns]"
      ]
     },
     "execution_count": 99,
     "metadata": {},
     "output_type": "execute_result"
    }
   ],
   "source": [
    "df_merged[df_merged['_merge'] == \"left_only\"].head()"
   ]
  },
  {
   "cell_type": "markdown",
   "id": "b8e7c26e-32bd-496a-85ee-e76c34edaa0f",
   "metadata": {},
   "source": [
    "These look okay so I am not sure about the problem here. I guess I will have to drop them. They are not that money so I guess that's okay"
   ]
  },
  {
   "cell_type": "code",
   "execution_count": 100,
   "id": "1c58fb7b-ef38-4f83-94d9-87073793adff",
   "metadata": {
    "tags": []
   },
   "outputs": [],
   "source": [
    "df_merged = df_merged[df_merged['_merge'] == 'both']\n",
    "df_merged.drop(columns=['_merge'], inplace=True)"
   ]
  },
  {
   "cell_type": "code",
   "execution_count": 101,
   "id": "90ad6bf0-ebf3-4f65-96be-2747f2ceb1b0",
   "metadata": {
    "tags": []
   },
   "outputs": [
    {
     "data": {
      "text/plain": [
       "(849520, 35)"
      ]
     },
     "execution_count": 101,
     "metadata": {},
     "output_type": "execute_result"
    }
   ],
   "source": [
    "df_merged.shape"
   ]
  },
  {
   "cell_type": "code",
   "execution_count": 102,
   "id": "d57d20d7-daf1-49ff-8a2a-d901195b3516",
   "metadata": {
    "tags": []
   },
   "outputs": [],
   "source": [
    "# Both urban/rural. Earlier version of the paper had only urban\n",
    "# df_merged = df_merged[df_merged[\"Sector\"] == \"2\"]"
   ]
  },
  {
   "cell_type": "code",
   "execution_count": 104,
   "id": "f85dfd2b-7e64-4cd6-888a-c6c835cd1d15",
   "metadata": {
    "tags": []
   },
   "outputs": [],
   "source": [
    "# Generate some dummy variables: College, Working, Adivasi - Begin here on 25/07/2025\n",
    "df_merged.loc[:,\"col\"] = 0\n",
    "df_merged.loc[df_merged[\"highest level of education\"].astype(float) >= 11,\"col\"] = 1\n",
    "\n",
    "df_merged.loc[:,\"working\"] = 0\n",
    "df_merged.loc[df_merged[\"principal_activity_status_code\"].isin(EMP_CODES),\"working\"] = 1\n",
    "\n",
    "df_merged.loc[:,\"Adivasi\"] = df_merged.loc[:,\"Social group \"].apply(lambda x: 1 if x == \"1\" else 0)"
   ]
  },
  {
   "cell_type": "code",
   "execution_count": 105,
   "id": "fd9c0e9d-6177-4c2e-a52c-9cf21e9476d3",
   "metadata": {
    "tags": []
   },
   "outputs": [],
   "source": [
    "df_merged[\"Age\"] = df_merged[\"Age\"].astype(float)"
   ]
  },
  {
   "cell_type": "code",
   "execution_count": 106,
   "id": "b81cff89-50b0-44d3-af33-dc8b7d624591",
   "metadata": {
    "tags": []
   },
   "outputs": [
    {
     "data": {
      "text/plain": [
       "(53,)"
      ]
     },
     "execution_count": 106,
     "metadata": {},
     "output_type": "execute_result"
    }
   ],
   "source": [
    "# Subset by age: Drop HH ids where either the man or the woman are age < 18\n",
    "df_minage = df_merged[[\"Common-ID\", \"Age\"]].groupby(\"Common-ID\").min()\n",
    "df_minage_lt18_ids = df_minage[df_minage[\"Age\"].astype(float) < 18].index\n",
    "df_minage_lt18_ids.shape"
   ]
  },
  {
   "cell_type": "code",
   "execution_count": 107,
   "id": "5f469ca8-9b8b-4d6d-bf6b-c9640bbc032c",
   "metadata": {
    "tags": []
   },
   "outputs": [],
   "source": [
    "df_merged = df_merged[~df_merged[\"Common-ID\"].isin(df_minage_lt18_ids)]"
   ]
  },
  {
   "cell_type": "markdown",
   "id": "7baf971e-0ca4-4bd1-b85e-86f45114f3ec",
   "metadata": {},
   "source": [
    " Now I calculate moments for: \n",
    " 1. The entire dataset\n",
    " 2. Working men vs Working women\n",
    " 3. Working men and Working women in North v South. \n",
    " \n",
    " BEFORE I DO THAT, I need to note one thing about the men's and women's dataframes: For each woman, I will have 4 rows for all her activities, and 4 rows for her husband's activities. That means each woman is represented in 16 rows. Would it be a problem? I can do a check, where I disentangle the two frames and calculate moments that way too. \\[My guess is that this won't make much of a difference\\] -- **Note (07/25)**: Past me is wrong - the time entries will not be repeated."
   ]
  },
  {
   "cell_type": "code",
   "execution_count": 108,
   "id": "c8569a36-d5d6-407a-bcaa-0f6eb731d7b2",
   "metadata": {
    "tags": []
   },
   "outputs": [
    {
     "name": "stderr",
     "output_type": "stream",
     "text": [
      "C:\\Users\\shrey\\AppData\\Local\\Temp\\ipykernel_33744\\2650154317.py:2: SettingWithCopyWarning: \n",
      "A value is trying to be set on a copy of a slice from a DataFrame.\n",
      "Try using .loc[row_indexer,col_indexer] = value instead\n",
      "\n",
      "See the caveats in the documentation: https://pandas.pydata.org/pandas-docs/stable/user_guide/indexing.html#returning-a-view-versus-a-copy\n",
      "  df_merged[\"prop_day\"] = df_merged[\"time_spent\"]/df_merged[\"TotalTime\"]\n"
     ]
    },
    {
     "data": {
      "text/html": [
       "<div>\n",
       "<style scoped>\n",
       "    .dataframe tbody tr th:only-of-type {\n",
       "        vertical-align: middle;\n",
       "    }\n",
       "\n",
       "    .dataframe tbody tr th {\n",
       "        vertical-align: top;\n",
       "    }\n",
       "\n",
       "    .dataframe thead th {\n",
       "        text-align: right;\n",
       "    }\n",
       "</style>\n",
       "<table border=\"1\" class=\"dataframe\">\n",
       "  <thead>\n",
       "    <tr style=\"text-align: right;\">\n",
       "      <th></th>\n",
       "      <th></th>\n",
       "      <th>prop_day</th>\n",
       "    </tr>\n",
       "    <tr>\n",
       "      <th>husb</th>\n",
       "      <th>activity</th>\n",
       "      <th></th>\n",
       "    </tr>\n",
       "  </thead>\n",
       "  <tbody>\n",
       "    <tr>\n",
       "      <th rowspan=\"4\" valign=\"top\">0.0</th>\n",
       "      <th>home</th>\n",
       "      <td>0.527062</td>\n",
       "    </tr>\n",
       "    <tr>\n",
       "      <th>leisure</th>\n",
       "      <td>0.352471</td>\n",
       "    </tr>\n",
       "    <tr>\n",
       "      <th>self</th>\n",
       "      <td>NaN</td>\n",
       "    </tr>\n",
       "    <tr>\n",
       "      <th>work</th>\n",
       "      <td>0.120458</td>\n",
       "    </tr>\n",
       "    <tr>\n",
       "      <th rowspan=\"4\" valign=\"top\">1.0</th>\n",
       "      <th>home</th>\n",
       "      <td>0.063612</td>\n",
       "    </tr>\n",
       "    <tr>\n",
       "      <th>leisure</th>\n",
       "      <td>0.389711</td>\n",
       "    </tr>\n",
       "    <tr>\n",
       "      <th>self</th>\n",
       "      <td>NaN</td>\n",
       "    </tr>\n",
       "    <tr>\n",
       "      <th>work</th>\n",
       "      <td>0.546667</td>\n",
       "    </tr>\n",
       "  </tbody>\n",
       "</table>\n",
       "</div>"
      ],
      "text/plain": [
       "               prop_day\n",
       "husb activity          \n",
       "0.0  home      0.527062\n",
       "     leisure   0.352471\n",
       "     self           NaN\n",
       "     work      0.120458\n",
       "1.0  home      0.063612\n",
       "     leisure   0.389711\n",
       "     self           NaN\n",
       "     work      0.546667"
      ]
     },
     "execution_count": 108,
     "metadata": {},
     "output_type": "execute_result"
    }
   ],
   "source": [
    "# 1. The entire dataset\n",
    "df_merged[\"prop_day\"] = df_merged[\"time_spent\"]/df_merged[\"TotalTime\"]\n",
    "\n",
    "df_merged[[\"activity\", \"husb\", \"prop_day\"]].groupby([\"husb\", \"activity\"]).mean()\n"
   ]
  },
  {
   "cell_type": "code",
   "execution_count": 109,
   "id": "782b31ff-4705-4d96-bde4-0ed9701b6f60",
   "metadata": {
    "tags": []
   },
   "outputs": [
    {
     "data": {
      "text/html": [
       "<div>\n",
       "<style scoped>\n",
       "    .dataframe tbody tr th:only-of-type {\n",
       "        vertical-align: middle;\n",
       "    }\n",
       "\n",
       "    .dataframe tbody tr th {\n",
       "        vertical-align: top;\n",
       "    }\n",
       "\n",
       "    .dataframe thead th {\n",
       "        text-align: right;\n",
       "    }\n",
       "</style>\n",
       "<table border=\"1\" class=\"dataframe\">\n",
       "  <thead>\n",
       "    <tr style=\"text-align: right;\">\n",
       "      <th></th>\n",
       "      <th></th>\n",
       "      <th>time_spent</th>\n",
       "    </tr>\n",
       "    <tr>\n",
       "      <th>husb</th>\n",
       "      <th>activity</th>\n",
       "      <th></th>\n",
       "    </tr>\n",
       "  </thead>\n",
       "  <tbody>\n",
       "    <tr>\n",
       "      <th rowspan=\"4\" valign=\"top\">0.0</th>\n",
       "      <th>home</th>\n",
       "      <td>6.453082</td>\n",
       "    </tr>\n",
       "    <tr>\n",
       "      <th>leisure</th>\n",
       "      <td>4.301844</td>\n",
       "    </tr>\n",
       "    <tr>\n",
       "      <th>self</th>\n",
       "      <td>11.681024</td>\n",
       "    </tr>\n",
       "    <tr>\n",
       "      <th>work</th>\n",
       "      <td>1.563823</td>\n",
       "    </tr>\n",
       "    <tr>\n",
       "      <th rowspan=\"4\" valign=\"top\">1.0</th>\n",
       "      <th>home</th>\n",
       "      <td>0.747537</td>\n",
       "    </tr>\n",
       "    <tr>\n",
       "      <th>leisure</th>\n",
       "      <td>4.527045</td>\n",
       "    </tr>\n",
       "    <tr>\n",
       "      <th>self</th>\n",
       "      <td>11.952940</td>\n",
       "    </tr>\n",
       "    <tr>\n",
       "      <th>work</th>\n",
       "      <td>6.772252</td>\n",
       "    </tr>\n",
       "  </tbody>\n",
       "</table>\n",
       "</div>"
      ],
      "text/plain": [
       "               time_spent\n",
       "husb activity            \n",
       "0.0  home        6.453082\n",
       "     leisure     4.301844\n",
       "     self       11.681024\n",
       "     work        1.563823\n",
       "1.0  home        0.747537\n",
       "     leisure     4.527045\n",
       "     self       11.952940\n",
       "     work        6.772252"
      ]
     },
     "execution_count": 109,
     "metadata": {},
     "output_type": "execute_result"
    }
   ],
   "source": [
    "df_merged[[\"activity\", \"husb\", \"time_spent\"]].groupby([\"husb\", \"activity\"]).mean()"
   ]
  },
  {
   "cell_type": "code",
   "execution_count": 110,
   "id": "33a67e1e-d857-4537-9301-9443fea41f10",
   "metadata": {
    "tags": []
   },
   "outputs": [
    {
     "data": {
      "text/html": [
       "<div>\n",
       "<style scoped>\n",
       "    .dataframe tbody tr th:only-of-type {\n",
       "        vertical-align: middle;\n",
       "    }\n",
       "\n",
       "    .dataframe tbody tr th {\n",
       "        vertical-align: top;\n",
       "    }\n",
       "\n",
       "    .dataframe thead th {\n",
       "        text-align: right;\n",
       "    }\n",
       "</style>\n",
       "<table border=\"1\" class=\"dataframe\">\n",
       "  <thead>\n",
       "    <tr style=\"text-align: right;\">\n",
       "      <th></th>\n",
       "      <th></th>\n",
       "      <th>time_spent</th>\n",
       "    </tr>\n",
       "    <tr>\n",
       "      <th>husb</th>\n",
       "      <th>activity</th>\n",
       "      <th></th>\n",
       "    </tr>\n",
       "  </thead>\n",
       "  <tbody>\n",
       "    <tr>\n",
       "      <th rowspan=\"4\" valign=\"top\">0.0</th>\n",
       "      <th>home</th>\n",
       "      <td>4.689450</td>\n",
       "    </tr>\n",
       "    <tr>\n",
       "      <th>leisure</th>\n",
       "      <td>3.244216</td>\n",
       "    </tr>\n",
       "    <tr>\n",
       "      <th>self</th>\n",
       "      <td>11.012754</td>\n",
       "    </tr>\n",
       "    <tr>\n",
       "      <th>work</th>\n",
       "      <td>5.053579</td>\n",
       "    </tr>\n",
       "    <tr>\n",
       "      <th rowspan=\"4\" valign=\"top\">1.0</th>\n",
       "      <th>home</th>\n",
       "      <td>0.722413</td>\n",
       "    </tr>\n",
       "    <tr>\n",
       "      <th>leisure</th>\n",
       "      <td>4.114857</td>\n",
       "    </tr>\n",
       "    <tr>\n",
       "      <th>self</th>\n",
       "      <td>11.756088</td>\n",
       "    </tr>\n",
       "    <tr>\n",
       "      <th>work</th>\n",
       "      <td>7.406642</td>\n",
       "    </tr>\n",
       "  </tbody>\n",
       "</table>\n",
       "</div>"
      ],
      "text/plain": [
       "               time_spent\n",
       "husb activity            \n",
       "0.0  home        4.689450\n",
       "     leisure     3.244216\n",
       "     self       11.012754\n",
       "     work        5.053579\n",
       "1.0  home        0.722413\n",
       "     leisure     4.114857\n",
       "     self       11.756088\n",
       "     work        7.406642"
      ]
     },
     "execution_count": 110,
     "metadata": {},
     "output_type": "execute_result"
    }
   ],
   "source": [
    "# 2. Working men vs Working women\n",
    "df_merged[df_merged[\"working\"] == 1][[\"activity\", \"time_spent\", \"husb\"]].groupby([\"husb\", \"activity\"]).mean()"
   ]
  },
  {
   "cell_type": "code",
   "execution_count": 114,
   "id": "175e6a80-a689-4223-b865-36e0e2e9ec4e",
   "metadata": {
    "tags": []
   },
   "outputs": [
    {
     "data": {
      "text/html": [
       "<div>\n",
       "<style scoped>\n",
       "    .dataframe tbody tr th:only-of-type {\n",
       "        vertical-align: middle;\n",
       "    }\n",
       "\n",
       "    .dataframe tbody tr th {\n",
       "        vertical-align: top;\n",
       "    }\n",
       "\n",
       "    .dataframe thead th {\n",
       "        text-align: right;\n",
       "    }\n",
       "</style>\n",
       "<table border=\"1\" class=\"dataframe\">\n",
       "  <thead>\n",
       "    <tr style=\"text-align: right;\">\n",
       "      <th></th>\n",
       "      <th></th>\n",
       "      <th></th>\n",
       "      <th>time_spent</th>\n",
       "    </tr>\n",
       "    <tr>\n",
       "      <th>north</th>\n",
       "      <th>husb</th>\n",
       "      <th>activity</th>\n",
       "      <th></th>\n",
       "    </tr>\n",
       "  </thead>\n",
       "  <tbody>\n",
       "    <tr>\n",
       "      <th rowspan=\"8\" valign=\"top\">0</th>\n",
       "      <th rowspan=\"4\" valign=\"top\">0.0</th>\n",
       "      <th>home</th>\n",
       "      <td>4.532074</td>\n",
       "    </tr>\n",
       "    <tr>\n",
       "      <th>leisure</th>\n",
       "      <td>3.047512</td>\n",
       "    </tr>\n",
       "    <tr>\n",
       "      <th>self</th>\n",
       "      <td>11.072842</td>\n",
       "    </tr>\n",
       "    <tr>\n",
       "      <th>work</th>\n",
       "      <td>5.347572</td>\n",
       "    </tr>\n",
       "    <tr>\n",
       "      <th rowspan=\"4\" valign=\"top\">1.0</th>\n",
       "      <th>home</th>\n",
       "      <td>0.611272</td>\n",
       "    </tr>\n",
       "    <tr>\n",
       "      <th>leisure</th>\n",
       "      <td>4.284259</td>\n",
       "    </tr>\n",
       "    <tr>\n",
       "      <th>self</th>\n",
       "      <td>11.804348</td>\n",
       "    </tr>\n",
       "    <tr>\n",
       "      <th>work</th>\n",
       "      <td>7.300121</td>\n",
       "    </tr>\n",
       "    <tr>\n",
       "      <th rowspan=\"8\" valign=\"top\">1</th>\n",
       "      <th rowspan=\"4\" valign=\"top\">0.0</th>\n",
       "      <th>home</th>\n",
       "      <td>4.789057</td>\n",
       "    </tr>\n",
       "    <tr>\n",
       "      <th>leisure</th>\n",
       "      <td>2.688491</td>\n",
       "    </tr>\n",
       "    <tr>\n",
       "      <th>self</th>\n",
       "      <td>11.372956</td>\n",
       "    </tr>\n",
       "    <tr>\n",
       "      <th>work</th>\n",
       "      <td>5.149497</td>\n",
       "    </tr>\n",
       "    <tr>\n",
       "      <th rowspan=\"4\" valign=\"top\">1.0</th>\n",
       "      <th>home</th>\n",
       "      <td>0.697755</td>\n",
       "    </tr>\n",
       "    <tr>\n",
       "      <th>leisure</th>\n",
       "      <td>3.874460</td>\n",
       "    </tr>\n",
       "    <tr>\n",
       "      <th>self</th>\n",
       "      <td>11.976711</td>\n",
       "    </tr>\n",
       "    <tr>\n",
       "      <th>work</th>\n",
       "      <td>7.451074</td>\n",
       "    </tr>\n",
       "  </tbody>\n",
       "</table>\n",
       "</div>"
      ],
      "text/plain": [
       "                     time_spent\n",
       "north husb activity            \n",
       "0     0.0  home        4.532074\n",
       "           leisure     3.047512\n",
       "           self       11.072842\n",
       "           work        5.347572\n",
       "      1.0  home        0.611272\n",
       "           leisure     4.284259\n",
       "           self       11.804348\n",
       "           work        7.300121\n",
       "1     0.0  home        4.789057\n",
       "           leisure     2.688491\n",
       "           self       11.372956\n",
       "           work        5.149497\n",
       "      1.0  home        0.697755\n",
       "           leisure     3.874460\n",
       "           self       11.976711\n",
       "           work        7.451074"
      ]
     },
     "execution_count": 114,
     "metadata": {},
     "output_type": "execute_result"
    }
   ],
   "source": [
    "df_merged[(df_merged[\"working\"] == 1) & (df_merged[\"Adivasi\"] == 1)][[\"north\", \"activity\", \"time_spent\", \"husb\"]].groupby([\"north\", \"husb\", \"activity\"]).mean()"
   ]
  },
  {
   "cell_type": "code",
   "execution_count": 111,
   "id": "93eae72f-feb5-4e7e-9d00-01da11868f3e",
   "metadata": {
    "tags": []
   },
   "outputs": [
    {
     "data": {
      "text/html": [
       "<div>\n",
       "<style scoped>\n",
       "    .dataframe tbody tr th:only-of-type {\n",
       "        vertical-align: middle;\n",
       "    }\n",
       "\n",
       "    .dataframe tbody tr th {\n",
       "        vertical-align: top;\n",
       "    }\n",
       "\n",
       "    .dataframe thead th {\n",
       "        text-align: right;\n",
       "    }\n",
       "</style>\n",
       "<table border=\"1\" class=\"dataframe\">\n",
       "  <thead>\n",
       "    <tr style=\"text-align: right;\">\n",
       "      <th></th>\n",
       "      <th></th>\n",
       "      <th></th>\n",
       "      <th>time_spent</th>\n",
       "    </tr>\n",
       "    <tr>\n",
       "      <th>north</th>\n",
       "      <th>husb</th>\n",
       "      <th>activity</th>\n",
       "      <th></th>\n",
       "    </tr>\n",
       "  </thead>\n",
       "  <tbody>\n",
       "    <tr>\n",
       "      <th rowspan=\"8\" valign=\"top\">0</th>\n",
       "      <th rowspan=\"4\" valign=\"top\">0.0</th>\n",
       "      <th>home</th>\n",
       "      <td>4.572074</td>\n",
       "    </tr>\n",
       "    <tr>\n",
       "      <th>leisure</th>\n",
       "      <td>3.366532</td>\n",
       "    </tr>\n",
       "    <tr>\n",
       "      <th>self</th>\n",
       "      <td>10.875015</td>\n",
       "    </tr>\n",
       "    <tr>\n",
       "      <th>work</th>\n",
       "      <td>5.186380</td>\n",
       "    </tr>\n",
       "    <tr>\n",
       "      <th rowspan=\"4\" valign=\"top\">1.0</th>\n",
       "      <th>home</th>\n",
       "      <td>0.617446</td>\n",
       "    </tr>\n",
       "    <tr>\n",
       "      <th>leisure</th>\n",
       "      <td>4.365628</td>\n",
       "    </tr>\n",
       "    <tr>\n",
       "      <th>self</th>\n",
       "      <td>11.536657</td>\n",
       "    </tr>\n",
       "    <tr>\n",
       "      <th>work</th>\n",
       "      <td>7.480269</td>\n",
       "    </tr>\n",
       "    <tr>\n",
       "      <th rowspan=\"8\" valign=\"top\">1</th>\n",
       "      <th rowspan=\"4\" valign=\"top\">0.0</th>\n",
       "      <th>home</th>\n",
       "      <td>4.700596</td>\n",
       "    </tr>\n",
       "    <tr>\n",
       "      <th>leisure</th>\n",
       "      <td>3.099690</td>\n",
       "    </tr>\n",
       "    <tr>\n",
       "      <th>self</th>\n",
       "      <td>11.119439</td>\n",
       "    </tr>\n",
       "    <tr>\n",
       "      <th>work</th>\n",
       "      <td>5.080276</td>\n",
       "    </tr>\n",
       "    <tr>\n",
       "      <th rowspan=\"4\" valign=\"top\">1.0</th>\n",
       "      <th>home</th>\n",
       "      <td>0.586747</td>\n",
       "    </tr>\n",
       "    <tr>\n",
       "      <th>leisure</th>\n",
       "      <td>4.172331</td>\n",
       "    </tr>\n",
       "    <tr>\n",
       "      <th>self</th>\n",
       "      <td>11.772908</td>\n",
       "    </tr>\n",
       "    <tr>\n",
       "      <th>work</th>\n",
       "      <td>7.468014</td>\n",
       "    </tr>\n",
       "  </tbody>\n",
       "</table>\n",
       "</div>"
      ],
      "text/plain": [
       "                     time_spent\n",
       "north husb activity            \n",
       "0     0.0  home        4.572074\n",
       "           leisure     3.366532\n",
       "           self       10.875015\n",
       "           work        5.186380\n",
       "      1.0  home        0.617446\n",
       "           leisure     4.365628\n",
       "           self       11.536657\n",
       "           work        7.480269\n",
       "1     0.0  home        4.700596\n",
       "           leisure     3.099690\n",
       "           self       11.119439\n",
       "           work        5.080276\n",
       "      1.0  home        0.586747\n",
       "           leisure     4.172331\n",
       "           self       11.772908\n",
       "           work        7.468014"
      ]
     },
     "execution_count": 111,
     "metadata": {},
     "output_type": "execute_result"
    }
   ],
   "source": [
    "#3. Working men vs Working women, North v South\n",
    "df_merged[df_merged[\"working\"] == 1][[\"activity\", \"time_spent\", \"husb\", \"north\"]].groupby([\"north\", \"husb\", \"activity\"]).mean()"
   ]
  },
  {
   "cell_type": "code",
   "execution_count": 112,
   "id": "b80db75b-34be-45d0-92dc-8a714064ca80",
   "metadata": {
    "tags": []
   },
   "outputs": [
    {
     "data": {
      "text/html": [
       "<div>\n",
       "<style scoped>\n",
       "    .dataframe tbody tr th:only-of-type {\n",
       "        vertical-align: middle;\n",
       "    }\n",
       "\n",
       "    .dataframe tbody tr th {\n",
       "        vertical-align: top;\n",
       "    }\n",
       "\n",
       "    .dataframe thead th {\n",
       "        text-align: right;\n",
       "    }\n",
       "</style>\n",
       "<table border=\"1\" class=\"dataframe\">\n",
       "  <thead>\n",
       "    <tr style=\"text-align: right;\">\n",
       "      <th></th>\n",
       "      <th></th>\n",
       "      <th>time_spent</th>\n",
       "    </tr>\n",
       "    <tr>\n",
       "      <th>husb</th>\n",
       "      <th>activity</th>\n",
       "      <th></th>\n",
       "    </tr>\n",
       "  </thead>\n",
       "  <tbody>\n",
       "    <tr>\n",
       "      <th rowspan=\"4\" valign=\"top\">0.0</th>\n",
       "      <th>home</th>\n",
       "      <td>4.715865</td>\n",
       "    </tr>\n",
       "    <tr>\n",
       "      <th>leisure</th>\n",
       "      <td>3.082923</td>\n",
       "    </tr>\n",
       "    <tr>\n",
       "      <th>self</th>\n",
       "      <td>11.316608</td>\n",
       "    </tr>\n",
       "    <tr>\n",
       "      <th>work</th>\n",
       "      <td>4.884605</td>\n",
       "    </tr>\n",
       "    <tr>\n",
       "      <th rowspan=\"4\" valign=\"top\">1.0</th>\n",
       "      <th>home</th>\n",
       "      <td>0.815961</td>\n",
       "    </tr>\n",
       "    <tr>\n",
       "      <th>leisure</th>\n",
       "      <td>4.094200</td>\n",
       "    </tr>\n",
       "    <tr>\n",
       "      <th>self</th>\n",
       "      <td>12.106794</td>\n",
       "    </tr>\n",
       "    <tr>\n",
       "      <th>work</th>\n",
       "      <td>6.983045</td>\n",
       "    </tr>\n",
       "  </tbody>\n",
       "</table>\n",
       "</div>"
      ],
      "text/plain": [
       "               time_spent\n",
       "husb activity            \n",
       "0.0  home        4.715865\n",
       "     leisure     3.082923\n",
       "     self       11.316608\n",
       "     work        4.884605\n",
       "1.0  home        0.815961\n",
       "     leisure     4.094200\n",
       "     self       12.106794\n",
       "     work        6.983045"
      ]
     },
     "execution_count": 112,
     "metadata": {},
     "output_type": "execute_result"
    }
   ],
   "source": [
    "#3. Working Adivasi men vs Working Adivasi women\n",
    "df_merged[(df_merged[\"working\"] == 1) & (df_merged[\"Adivasi\"] == 1)][[\"activity\", \"time_spent\", \"husb\"]].groupby([\"husb\", \"activity\"]).mean()"
   ]
  },
  {
   "cell_type": "code",
   "execution_count": 113,
   "id": "fbfeb045-5f6f-495d-a904-b32758b031c0",
   "metadata": {
    "tags": []
   },
   "outputs": [
    {
     "data": {
      "text/html": [
       "<div>\n",
       "<style scoped>\n",
       "    .dataframe tbody tr th:only-of-type {\n",
       "        vertical-align: middle;\n",
       "    }\n",
       "\n",
       "    .dataframe tbody tr th {\n",
       "        vertical-align: top;\n",
       "    }\n",
       "\n",
       "    .dataframe thead th {\n",
       "        text-align: right;\n",
       "    }\n",
       "</style>\n",
       "<table border=\"1\" class=\"dataframe\">\n",
       "  <thead>\n",
       "    <tr style=\"text-align: right;\">\n",
       "      <th></th>\n",
       "      <th></th>\n",
       "      <th>time_spent</th>\n",
       "    </tr>\n",
       "    <tr>\n",
       "      <th>husb</th>\n",
       "      <th>activity</th>\n",
       "      <th></th>\n",
       "    </tr>\n",
       "  </thead>\n",
       "  <tbody>\n",
       "    <tr>\n",
       "      <th rowspan=\"4\" valign=\"top\">0.0</th>\n",
       "      <th>home</th>\n",
       "      <td>6.913399</td>\n",
       "    </tr>\n",
       "    <tr>\n",
       "      <th>leisure</th>\n",
       "      <td>3.975330</td>\n",
       "    </tr>\n",
       "    <tr>\n",
       "      <th>self</th>\n",
       "      <td>12.056364</td>\n",
       "    </tr>\n",
       "    <tr>\n",
       "      <th>work</th>\n",
       "      <td>1.054907</td>\n",
       "    </tr>\n",
       "    <tr>\n",
       "      <th rowspan=\"4\" valign=\"top\">1.0</th>\n",
       "      <th>home</th>\n",
       "      <td>1.098203</td>\n",
       "    </tr>\n",
       "    <tr>\n",
       "      <th>leisure</th>\n",
       "      <td>7.508451</td>\n",
       "    </tr>\n",
       "    <tr>\n",
       "      <th>self</th>\n",
       "      <td>14.089217</td>\n",
       "    </tr>\n",
       "    <tr>\n",
       "      <th>work</th>\n",
       "      <td>1.304129</td>\n",
       "    </tr>\n",
       "  </tbody>\n",
       "</table>\n",
       "</div>"
      ],
      "text/plain": [
       "               time_spent\n",
       "husb activity            \n",
       "0.0  home        6.913399\n",
       "     leisure     3.975330\n",
       "     self       12.056364\n",
       "     work        1.054907\n",
       "1.0  home        1.098203\n",
       "     leisure     7.508451\n",
       "     self       14.089217\n",
       "     work        1.304129"
      ]
     },
     "execution_count": 113,
     "metadata": {},
     "output_type": "execute_result"
    }
   ],
   "source": [
    "df_merged[(df_merged[\"working\"] == 0) & (df_merged[\"Adivasi\"] == 1)][[\"activity\", \"time_spent\", \"husb\"]].groupby([\"husb\", \"activity\"]).mean()"
   ]
  },
  {
   "cell_type": "markdown",
   "id": "3e5107dd-789a-41a1-a179-bf6a007e90ee",
   "metadata": {},
   "source": [
    "So it looks like Adivasi's on average ARE very similar to non-adivasis. Maybe, I should see if this holds up in a regression. This regression will be at the HH level, where I will measure the ratio of the average time spent in leisure vs home prod. by men and women: \n",
    "\n",
    "$\\frac{\\text{HP}_w/\\text{HP}_w+\\text{L}_w}{\\text{HP}_m/\\text{HP}_m+\\text{L}_m}$\n",
    "\n",
    "Should leisure include Self-Care and Maint.?"
   ]
  },
  {
   "cell_type": "code",
   "execution_count": 280,
   "id": "5beca0f0-ed18-4cd2-a8df-35aa5b0a498f",
   "metadata": {
    "tags": []
   },
   "outputs": [
    {
     "data": {
      "text/plain": [
       "Index(['Sector', 'District', 'State', 'north', 'Common-ID', 'Household size',\n",
       "       'religion', 'Social group ', 'land_possessed_survey_date_code',\n",
       "       'cons_exp_purchase_monthly', 'imputed_homegrown_consumption_monthly',\n",
       "       'imputed_in_kind_consumption_monthly', 'exp_durable_purchase_annual',\n",
       "       'cons_exp_total_monthly', 'primary_cooking_energy',\n",
       "       'primary_lighting_energy', 'clothes_washing_type',\n",
       "       'floor_sweeping_type', 'dwelling_structure_type',\n",
       "       'member_5plus_needing_care_no_caregiver'],\n",
       "      dtype='object', name='item')"
      ]
     },
     "execution_count": 280,
     "metadata": {},
     "output_type": "execute_result"
    }
   ],
   "source": [
    "# A HH level dataset that stores: HH demographic info, men's avg hours disposition, women avg hours disposition. \n",
    "df_hh = df_chars.drop(columns=['Person serial no.', 'Relation to head', 'Gender', 'Age',\n",
    "       'marital status', 'highest level of education',\n",
    "       'principal_activity_status_code', 'industry_nic2_code', 'primID', 'spouse', 'wife', 'husb'])\n",
    "df_hh.columns"
   ]
  },
  {
   "cell_type": "code",
   "execution_count": 281,
   "id": "ae9b3bf6-2fb3-4c6c-8969-b795c7d3af9a",
   "metadata": {
    "tags": []
   },
   "outputs": [],
   "source": [
    "df_hh.drop_duplicates(subset=[\"Common-ID\"], inplace=True)"
   ]
  },
  {
   "cell_type": "code",
   "execution_count": 282,
   "id": "b13a1a74-baa0-4fda-b042-c74cd2e2cb6d",
   "metadata": {
    "tags": []
   },
   "outputs": [
    {
     "data": {
      "text/plain": [
       "(94760, 20)"
      ]
     },
     "execution_count": 282,
     "metadata": {},
     "output_type": "execute_result"
    }
   ],
   "source": [
    "df_hh.shape"
   ]
  },
  {
   "cell_type": "code",
   "execution_count": 283,
   "id": "05617773-e720-4fc7-845c-3fad03dc914e",
   "metadata": {
    "tags": []
   },
   "outputs": [
    {
     "data": {
      "text/plain": [
       "array(['05', '08', '06', '07', '04', '03', '12', '02', '01', '11', '',\n",
       "       '10', '99'], dtype=object)"
      ]
     },
     "execution_count": 283,
     "metadata": {},
     "output_type": "execute_result"
    }
   ],
   "source": [
    "df_hh.land_possessed_survey_date_code.unique()"
   ]
  },
  {
   "cell_type": "code",
   "execution_count": 284,
   "id": "af000c7a-31ad-4f8e-982b-7484ea6aee6d",
   "metadata": {
    "tags": []
   },
   "outputs": [],
   "source": [
    "df_wHH_time = df_merged[df_merged[\"wife\"] == 1][[\"Common-ID\", \"activity\", \"time_spent\"]].groupby([\"Common-ID\", \"activity\"]).mean()"
   ]
  },
  {
   "cell_type": "code",
   "execution_count": 285,
   "id": "0849ff63-a38b-4ff6-a44a-7483fd75a2ab",
   "metadata": {
    "tags": []
   },
   "outputs": [
    {
     "data": {
      "text/html": [
       "<div>\n",
       "<style scoped>\n",
       "    .dataframe tbody tr th:only-of-type {\n",
       "        vertical-align: middle;\n",
       "    }\n",
       "\n",
       "    .dataframe tbody tr th {\n",
       "        vertical-align: top;\n",
       "    }\n",
       "\n",
       "    .dataframe thead th {\n",
       "        text-align: right;\n",
       "    }\n",
       "</style>\n",
       "<table border=\"1\" class=\"dataframe\">\n",
       "  <thead>\n",
       "    <tr style=\"text-align: right;\">\n",
       "      <th></th>\n",
       "      <th></th>\n",
       "      <th>time_spent</th>\n",
       "    </tr>\n",
       "    <tr>\n",
       "      <th>Common-ID</th>\n",
       "      <th>activity</th>\n",
       "      <th></th>\n",
       "    </tr>\n",
       "  </thead>\n",
       "  <tbody>\n",
       "    <tr>\n",
       "      <th rowspan=\"4\" valign=\"top\">TUS10001106201913310301382332001</th>\n",
       "      <th>home</th>\n",
       "      <td>5.750</td>\n",
       "    </tr>\n",
       "    <tr>\n",
       "      <th>leisure</th>\n",
       "      <td>2.125</td>\n",
       "    </tr>\n",
       "    <tr>\n",
       "      <th>self</th>\n",
       "      <td>12.125</td>\n",
       "    </tr>\n",
       "    <tr>\n",
       "      <th>work</th>\n",
       "      <td>4.000</td>\n",
       "    </tr>\n",
       "    <tr>\n",
       "      <th rowspan=\"4\" valign=\"top\">TUS10001106201913310301382332003</th>\n",
       "      <th>home</th>\n",
       "      <td>3.750</td>\n",
       "    </tr>\n",
       "    <tr>\n",
       "      <th>leisure</th>\n",
       "      <td>7.000</td>\n",
       "    </tr>\n",
       "    <tr>\n",
       "      <th>self</th>\n",
       "      <td>13.250</td>\n",
       "    </tr>\n",
       "    <tr>\n",
       "      <th>work</th>\n",
       "      <td>0.000</td>\n",
       "    </tr>\n",
       "  </tbody>\n",
       "</table>\n",
       "</div>"
      ],
      "text/plain": [
       "                                           time_spent\n",
       "Common-ID                        activity            \n",
       "TUS10001106201913310301382332001 home           5.750\n",
       "                                 leisure        2.125\n",
       "                                 self          12.125\n",
       "                                 work           4.000\n",
       "TUS10001106201913310301382332003 home           3.750\n",
       "                                 leisure        7.000\n",
       "                                 self          13.250\n",
       "                                 work           0.000"
      ]
     },
     "execution_count": 285,
     "metadata": {},
     "output_type": "execute_result"
    }
   ],
   "source": [
    "df_wHH_time.head(8)"
   ]
  },
  {
   "cell_type": "code",
   "execution_count": 286,
   "id": "01ec4dd3-76f7-49fa-bf58-8e04cc4f39f7",
   "metadata": {
    "tags": []
   },
   "outputs": [],
   "source": [
    "df_wHH_time.reset_index(inplace=True)"
   ]
  },
  {
   "cell_type": "code",
   "execution_count": 287,
   "id": "75001cbd-1c81-4357-9081-0b9f398b9275",
   "metadata": {
    "tags": []
   },
   "outputs": [],
   "source": [
    "df_mHH_time = df_merged[df_merged[\"husb\"] == 1][[\"Common-ID\", \"activity\", \"time_spent\"]].groupby([\"Common-ID\", \"activity\"]).mean()"
   ]
  },
  {
   "cell_type": "code",
   "execution_count": 288,
   "id": "96a1e7d6-be0d-493f-a08a-295065f5acd5",
   "metadata": {
    "tags": []
   },
   "outputs": [
    {
     "data": {
      "text/html": [
       "<div>\n",
       "<style scoped>\n",
       "    .dataframe tbody tr th:only-of-type {\n",
       "        vertical-align: middle;\n",
       "    }\n",
       "\n",
       "    .dataframe tbody tr th {\n",
       "        vertical-align: top;\n",
       "    }\n",
       "\n",
       "    .dataframe thead th {\n",
       "        text-align: right;\n",
       "    }\n",
       "</style>\n",
       "<table border=\"1\" class=\"dataframe\">\n",
       "  <thead>\n",
       "    <tr style=\"text-align: right;\">\n",
       "      <th></th>\n",
       "      <th></th>\n",
       "      <th>time_spent</th>\n",
       "    </tr>\n",
       "    <tr>\n",
       "      <th>Common-ID</th>\n",
       "      <th>activity</th>\n",
       "      <th></th>\n",
       "    </tr>\n",
       "  </thead>\n",
       "  <tbody>\n",
       "    <tr>\n",
       "      <th rowspan=\"4\" valign=\"top\">TUS10001106201913310301382332001</th>\n",
       "      <th>home</th>\n",
       "      <td>0.500</td>\n",
       "    </tr>\n",
       "    <tr>\n",
       "      <th>leisure</th>\n",
       "      <td>3.375</td>\n",
       "    </tr>\n",
       "    <tr>\n",
       "      <th>self</th>\n",
       "      <td>12.625</td>\n",
       "    </tr>\n",
       "    <tr>\n",
       "      <th>work</th>\n",
       "      <td>7.500</td>\n",
       "    </tr>\n",
       "    <tr>\n",
       "      <th rowspan=\"4\" valign=\"top\">TUS10001106201913310301382332003</th>\n",
       "      <th>home</th>\n",
       "      <td>0.000</td>\n",
       "    </tr>\n",
       "    <tr>\n",
       "      <th>leisure</th>\n",
       "      <td>3.250</td>\n",
       "    </tr>\n",
       "    <tr>\n",
       "      <th>self</th>\n",
       "      <td>13.750</td>\n",
       "    </tr>\n",
       "    <tr>\n",
       "      <th>work</th>\n",
       "      <td>7.000</td>\n",
       "    </tr>\n",
       "  </tbody>\n",
       "</table>\n",
       "</div>"
      ],
      "text/plain": [
       "                                           time_spent\n",
       "Common-ID                        activity            \n",
       "TUS10001106201913310301382332001 home           0.500\n",
       "                                 leisure        3.375\n",
       "                                 self          12.625\n",
       "                                 work           7.500\n",
       "TUS10001106201913310301382332003 home           0.000\n",
       "                                 leisure        3.250\n",
       "                                 self          13.750\n",
       "                                 work           7.000"
      ]
     },
     "execution_count": 288,
     "metadata": {},
     "output_type": "execute_result"
    }
   ],
   "source": [
    "df_mHH_time.head(8)"
   ]
  },
  {
   "cell_type": "code",
   "execution_count": 289,
   "id": "7b98dc4c-c3a6-4f12-aca2-2449444a7bdd",
   "metadata": {
    "tags": []
   },
   "outputs": [],
   "source": [
    "df_mHH_time.reset_index(inplace=True)"
   ]
  },
  {
   "cell_type": "code",
   "execution_count": 290,
   "id": "7212fe60-817a-4156-a8af-2f405b291ecf",
   "metadata": {
    "tags": []
   },
   "outputs": [
    {
     "data": {
      "text/plain": [
       "(378328, 3)"
      ]
     },
     "execution_count": 290,
     "metadata": {},
     "output_type": "execute_result"
    }
   ],
   "source": [
    "df_wHH_time.shape"
   ]
  },
  {
   "cell_type": "code",
   "execution_count": 291,
   "id": "868fec56-00bf-47ad-98fd-a54fdcd2b94b",
   "metadata": {
    "tags": []
   },
   "outputs": [
    {
     "data": {
      "text/plain": [
       "(378160, 3)"
      ]
     },
     "execution_count": 291,
     "metadata": {},
     "output_type": "execute_result"
    }
   ],
   "source": [
    "df_mHH_time.shape"
   ]
  },
  {
   "cell_type": "code",
   "execution_count": 292,
   "id": "578af68e-e974-4527-beec-3bad0bbc9b8b",
   "metadata": {
    "tags": []
   },
   "outputs": [],
   "source": [
    "df_HH_time = pd.merge(df_mHH_time, df_wHH_time, on=[\"Common-ID\", \"activity\"], how=\"outer\", indicator=True)"
   ]
  },
  {
   "cell_type": "code",
   "execution_count": 293,
   "id": "4b8e1c7c-b857-435b-b1a2-dd877f21d038",
   "metadata": {
    "tags": []
   },
   "outputs": [
    {
     "data": {
      "text/plain": [
       "_merge\n",
       "both          377780\n",
       "right_only       548\n",
       "left_only        380\n",
       "Name: count, dtype: int64"
      ]
     },
     "execution_count": 293,
     "metadata": {},
     "output_type": "execute_result"
    }
   ],
   "source": [
    "df_HH_time[\"_merge\"].value_counts()"
   ]
  },
  {
   "cell_type": "code",
   "execution_count": 294,
   "id": "f8bace53-ae43-4c95-9c68-e1959f353761",
   "metadata": {
    "tags": []
   },
   "outputs": [],
   "source": [
    "df_HH_time = df_HH_time[df_HH_time[\"_merge\"] == \"both\"]\n",
    "df_HH_time.drop(columns=[\"_merge\"], inplace=True)\n",
    "df_HH_time.rename(columns={\"time_spent_x\": \"time_spent_m\", \"time_spent_y\": \"time_spent_w\"}, inplace=True)"
   ]
  },
  {
   "cell_type": "code",
   "execution_count": 295,
   "id": "5455fad2-82b8-469a-a2be-a2c496ae7ec2",
   "metadata": {
    "tags": []
   },
   "outputs": [],
   "source": [
    "# Long -> Wide\n",
    "df_HH_time = df_HH_time.pivot(index=\"Common-ID\", columns=\"activity\", values=[\"time_spent_m\", \"time_spent_w\"])\n",
    "# Flatten Multiindex\n",
    "df_HH_time.columns = [f\"{measure}_{act}\" for measure,act in df_HH_time.columns]\n"
   ]
  },
  {
   "cell_type": "code",
   "execution_count": 296,
   "id": "0e7331b0-f47f-4e3b-a12e-f1265cbd7675",
   "metadata": {
    "tags": []
   },
   "outputs": [
    {
     "data": {
      "text/html": [
       "<div>\n",
       "<style scoped>\n",
       "    .dataframe tbody tr th:only-of-type {\n",
       "        vertical-align: middle;\n",
       "    }\n",
       "\n",
       "    .dataframe tbody tr th {\n",
       "        vertical-align: top;\n",
       "    }\n",
       "\n",
       "    .dataframe thead th {\n",
       "        text-align: right;\n",
       "    }\n",
       "</style>\n",
       "<table border=\"1\" class=\"dataframe\">\n",
       "  <thead>\n",
       "    <tr style=\"text-align: right;\">\n",
       "      <th></th>\n",
       "      <th>time_spent_m_home</th>\n",
       "      <th>time_spent_m_leisure</th>\n",
       "      <th>time_spent_m_self</th>\n",
       "      <th>time_spent_m_work</th>\n",
       "      <th>time_spent_w_home</th>\n",
       "      <th>time_spent_w_leisure</th>\n",
       "      <th>time_spent_w_self</th>\n",
       "      <th>time_spent_w_work</th>\n",
       "    </tr>\n",
       "    <tr>\n",
       "      <th>Common-ID</th>\n",
       "      <th></th>\n",
       "      <th></th>\n",
       "      <th></th>\n",
       "      <th></th>\n",
       "      <th></th>\n",
       "      <th></th>\n",
       "      <th></th>\n",
       "      <th></th>\n",
       "    </tr>\n",
       "  </thead>\n",
       "  <tbody>\n",
       "    <tr>\n",
       "      <th>TUS10001106201913310301382332001</th>\n",
       "      <td>0.500</td>\n",
       "      <td>3.375</td>\n",
       "      <td>12.625</td>\n",
       "      <td>7.50</td>\n",
       "      <td>5.750</td>\n",
       "      <td>2.125</td>\n",
       "      <td>12.125</td>\n",
       "      <td>4.0</td>\n",
       "    </tr>\n",
       "    <tr>\n",
       "      <th>TUS10001106201913310301382332003</th>\n",
       "      <td>0.000</td>\n",
       "      <td>3.250</td>\n",
       "      <td>13.750</td>\n",
       "      <td>7.00</td>\n",
       "      <td>3.750</td>\n",
       "      <td>7.000</td>\n",
       "      <td>13.250</td>\n",
       "      <td>0.0</td>\n",
       "    </tr>\n",
       "    <tr>\n",
       "      <th>TUS10001106201913310301382332007</th>\n",
       "      <td>2.375</td>\n",
       "      <td>4.125</td>\n",
       "      <td>12.750</td>\n",
       "      <td>4.75</td>\n",
       "      <td>4.125</td>\n",
       "      <td>3.125</td>\n",
       "      <td>14.250</td>\n",
       "      <td>2.5</td>\n",
       "    </tr>\n",
       "    <tr>\n",
       "      <th>TUS10001106201913310301382332009</th>\n",
       "      <td>0.000</td>\n",
       "      <td>4.250</td>\n",
       "      <td>11.250</td>\n",
       "      <td>8.50</td>\n",
       "      <td>5.000</td>\n",
       "      <td>4.000</td>\n",
       "      <td>15.000</td>\n",
       "      <td>0.0</td>\n",
       "    </tr>\n",
       "    <tr>\n",
       "      <th>TUS10001106201913310301382332011</th>\n",
       "      <td>0.000</td>\n",
       "      <td>4.500</td>\n",
       "      <td>13.500</td>\n",
       "      <td>6.00</td>\n",
       "      <td>4.500</td>\n",
       "      <td>2.750</td>\n",
       "      <td>12.750</td>\n",
       "      <td>4.0</td>\n",
       "    </tr>\n",
       "  </tbody>\n",
       "</table>\n",
       "</div>"
      ],
      "text/plain": [
       "                                  time_spent_m_home  time_spent_m_leisure  \\\n",
       "Common-ID                                                                   \n",
       "TUS10001106201913310301382332001              0.500                 3.375   \n",
       "TUS10001106201913310301382332003              0.000                 3.250   \n",
       "TUS10001106201913310301382332007              2.375                 4.125   \n",
       "TUS10001106201913310301382332009              0.000                 4.250   \n",
       "TUS10001106201913310301382332011              0.000                 4.500   \n",
       "\n",
       "                                  time_spent_m_self  time_spent_m_work  \\\n",
       "Common-ID                                                                \n",
       "TUS10001106201913310301382332001             12.625               7.50   \n",
       "TUS10001106201913310301382332003             13.750               7.00   \n",
       "TUS10001106201913310301382332007             12.750               4.75   \n",
       "TUS10001106201913310301382332009             11.250               8.50   \n",
       "TUS10001106201913310301382332011             13.500               6.00   \n",
       "\n",
       "                                  time_spent_w_home  time_spent_w_leisure  \\\n",
       "Common-ID                                                                   \n",
       "TUS10001106201913310301382332001              5.750                 2.125   \n",
       "TUS10001106201913310301382332003              3.750                 7.000   \n",
       "TUS10001106201913310301382332007              4.125                 3.125   \n",
       "TUS10001106201913310301382332009              5.000                 4.000   \n",
       "TUS10001106201913310301382332011              4.500                 2.750   \n",
       "\n",
       "                                  time_spent_w_self  time_spent_w_work  \n",
       "Common-ID                                                               \n",
       "TUS10001106201913310301382332001             12.125                4.0  \n",
       "TUS10001106201913310301382332003             13.250                0.0  \n",
       "TUS10001106201913310301382332007             14.250                2.5  \n",
       "TUS10001106201913310301382332009             15.000                0.0  \n",
       "TUS10001106201913310301382332011             12.750                4.0  "
      ]
     },
     "execution_count": 296,
     "metadata": {},
     "output_type": "execute_result"
    }
   ],
   "source": [
    "df_HH_time.head()"
   ]
  },
  {
   "cell_type": "code",
   "execution_count": 297,
   "id": "ac8e0881-28a8-486f-8916-5109ae4bc4f9",
   "metadata": {
    "tags": []
   },
   "outputs": [],
   "source": [
    "df_HH_time.reset_index(inplace=True)"
   ]
  },
  {
   "cell_type": "code",
   "execution_count": 298,
   "id": "8584b00f-e0f8-4f3b-b686-deefab0b1d79",
   "metadata": {
    "tags": []
   },
   "outputs": [],
   "source": [
    "df_hh = pd.merge(df_hh, df_HH_time, on=\"Common-ID\", how=\"outer\", indicator=True)"
   ]
  },
  {
   "cell_type": "code",
   "execution_count": 299,
   "id": "09ceaea5-885f-474d-8636-8726e1073136",
   "metadata": {
    "tags": []
   },
   "outputs": [
    {
     "data": {
      "text/plain": [
       "_merge\n",
       "both          94445\n",
       "left_only       315\n",
       "right_only        0\n",
       "Name: count, dtype: int64"
      ]
     },
     "execution_count": 299,
     "metadata": {},
     "output_type": "execute_result"
    }
   ],
   "source": [
    "df_hh[\"_merge\"].value_counts()"
   ]
  },
  {
   "cell_type": "code",
   "execution_count": 300,
   "id": "b631f5d9-08c5-460a-bf43-6a6c12a2d832",
   "metadata": {
    "tags": []
   },
   "outputs": [
    {
     "data": {
      "text/html": [
       "<div>\n",
       "<style scoped>\n",
       "    .dataframe tbody tr th:only-of-type {\n",
       "        vertical-align: middle;\n",
       "    }\n",
       "\n",
       "    .dataframe tbody tr th {\n",
       "        vertical-align: top;\n",
       "    }\n",
       "\n",
       "    .dataframe thead th {\n",
       "        text-align: right;\n",
       "    }\n",
       "</style>\n",
       "<table border=\"1\" class=\"dataframe\">\n",
       "  <thead>\n",
       "    <tr style=\"text-align: right;\">\n",
       "      <th></th>\n",
       "      <th>Sector</th>\n",
       "      <th>District</th>\n",
       "      <th>State</th>\n",
       "      <th>north</th>\n",
       "      <th>Common-ID</th>\n",
       "      <th>Household size</th>\n",
       "      <th>religion</th>\n",
       "      <th>Social group</th>\n",
       "      <th>land_possessed_survey_date_code</th>\n",
       "      <th>cons_exp_purchase_monthly</th>\n",
       "      <th>...</th>\n",
       "      <th>member_5plus_needing_care_no_caregiver</th>\n",
       "      <th>time_spent_m_home</th>\n",
       "      <th>time_spent_m_leisure</th>\n",
       "      <th>time_spent_m_self</th>\n",
       "      <th>time_spent_m_work</th>\n",
       "      <th>time_spent_w_home</th>\n",
       "      <th>time_spent_w_leisure</th>\n",
       "      <th>time_spent_w_self</th>\n",
       "      <th>time_spent_w_work</th>\n",
       "      <th>_merge</th>\n",
       "    </tr>\n",
       "  </thead>\n",
       "  <tbody>\n",
       "    <tr>\n",
       "      <th>0</th>\n",
       "      <td>1</td>\n",
       "      <td>19</td>\n",
       "      <td>01</td>\n",
       "      <td>NaN</td>\n",
       "      <td>TUS10202106201910111901311011001</td>\n",
       "      <td>4</td>\n",
       "      <td>1</td>\n",
       "      <td>9</td>\n",
       "      <td>05</td>\n",
       "      <td>8500</td>\n",
       "      <td>...</td>\n",
       "      <td>2</td>\n",
       "      <td>2.166667</td>\n",
       "      <td>1.333333</td>\n",
       "      <td>9.500000</td>\n",
       "      <td>11.0</td>\n",
       "      <td>6.000000</td>\n",
       "      <td>2.000000</td>\n",
       "      <td>9.500000</td>\n",
       "      <td>6.5</td>\n",
       "      <td>both</td>\n",
       "    </tr>\n",
       "    <tr>\n",
       "      <th>1</th>\n",
       "      <td>1</td>\n",
       "      <td>19</td>\n",
       "      <td>01</td>\n",
       "      <td>NaN</td>\n",
       "      <td>TUS10202106201910111901311011002</td>\n",
       "      <td>5</td>\n",
       "      <td>1</td>\n",
       "      <td>9</td>\n",
       "      <td>05</td>\n",
       "      <td>7000</td>\n",
       "      <td>...</td>\n",
       "      <td>2</td>\n",
       "      <td>2.250000</td>\n",
       "      <td>5.916667</td>\n",
       "      <td>11.833333</td>\n",
       "      <td>4.0</td>\n",
       "      <td>9.000000</td>\n",
       "      <td>5.166667</td>\n",
       "      <td>9.833333</td>\n",
       "      <td>0.0</td>\n",
       "      <td>both</td>\n",
       "    </tr>\n",
       "    <tr>\n",
       "      <th>2</th>\n",
       "      <td>1</td>\n",
       "      <td>19</td>\n",
       "      <td>01</td>\n",
       "      <td>NaN</td>\n",
       "      <td>TUS10202106201910111901311011003</td>\n",
       "      <td>4</td>\n",
       "      <td>4</td>\n",
       "      <td>1</td>\n",
       "      <td>08</td>\n",
       "      <td>12000</td>\n",
       "      <td>...</td>\n",
       "      <td>2</td>\n",
       "      <td>1.500000</td>\n",
       "      <td>4.333333</td>\n",
       "      <td>11.166667</td>\n",
       "      <td>7.0</td>\n",
       "      <td>8.583333</td>\n",
       "      <td>3.166667</td>\n",
       "      <td>9.250000</td>\n",
       "      <td>3.0</td>\n",
       "      <td>both</td>\n",
       "    </tr>\n",
       "    <tr>\n",
       "      <th>3</th>\n",
       "      <td>1</td>\n",
       "      <td>19</td>\n",
       "      <td>01</td>\n",
       "      <td>NaN</td>\n",
       "      <td>TUS10202106201910111901311011004</td>\n",
       "      <td>5</td>\n",
       "      <td>1</td>\n",
       "      <td>9</td>\n",
       "      <td>06</td>\n",
       "      <td>12000</td>\n",
       "      <td>...</td>\n",
       "      <td>2</td>\n",
       "      <td>1.500000</td>\n",
       "      <td>1.666667</td>\n",
       "      <td>9.833333</td>\n",
       "      <td>11.0</td>\n",
       "      <td>10.416667</td>\n",
       "      <td>2.166667</td>\n",
       "      <td>10.916667</td>\n",
       "      <td>0.5</td>\n",
       "      <td>both</td>\n",
       "    </tr>\n",
       "    <tr>\n",
       "      <th>4</th>\n",
       "      <td>1</td>\n",
       "      <td>19</td>\n",
       "      <td>01</td>\n",
       "      <td>NaN</td>\n",
       "      <td>TUS10202106201910111901311011005</td>\n",
       "      <td>5</td>\n",
       "      <td>1</td>\n",
       "      <td>9</td>\n",
       "      <td>05</td>\n",
       "      <td>10000</td>\n",
       "      <td>...</td>\n",
       "      <td>1</td>\n",
       "      <td>1.000000</td>\n",
       "      <td>3.666667</td>\n",
       "      <td>13.333333</td>\n",
       "      <td>6.0</td>\n",
       "      <td>4.416667</td>\n",
       "      <td>4.500000</td>\n",
       "      <td>9.583333</td>\n",
       "      <td>5.5</td>\n",
       "      <td>both</td>\n",
       "    </tr>\n",
       "  </tbody>\n",
       "</table>\n",
       "<p>5 rows × 29 columns</p>\n",
       "</div>"
      ],
      "text/plain": [
       "  Sector District State north                         Common-ID  \\\n",
       "0      1       19    01   NaN  TUS10202106201910111901311011001   \n",
       "1      1       19    01   NaN  TUS10202106201910111901311011002   \n",
       "2      1       19    01   NaN  TUS10202106201910111901311011003   \n",
       "3      1       19    01   NaN  TUS10202106201910111901311011004   \n",
       "4      1       19    01   NaN  TUS10202106201910111901311011005   \n",
       "\n",
       "  Household size religion Social group  land_possessed_survey_date_code  \\\n",
       "0              4        1             9                              05   \n",
       "1              5        1             9                              05   \n",
       "2              4        4             1                              08   \n",
       "3              5        1             9                              06   \n",
       "4              5        1             9                              05   \n",
       "\n",
       "  cons_exp_purchase_monthly  ... member_5plus_needing_care_no_caregiver  \\\n",
       "0                      8500  ...                                      2   \n",
       "1                      7000  ...                                      2   \n",
       "2                     12000  ...                                      2   \n",
       "3                     12000  ...                                      2   \n",
       "4                     10000  ...                                      1   \n",
       "\n",
       "  time_spent_m_home time_spent_m_leisure time_spent_m_self time_spent_m_work  \\\n",
       "0          2.166667             1.333333          9.500000              11.0   \n",
       "1          2.250000             5.916667         11.833333               4.0   \n",
       "2          1.500000             4.333333         11.166667               7.0   \n",
       "3          1.500000             1.666667          9.833333              11.0   \n",
       "4          1.000000             3.666667         13.333333               6.0   \n",
       "\n",
       "  time_spent_w_home time_spent_w_leisure time_spent_w_self time_spent_w_work  \\\n",
       "0          6.000000             2.000000          9.500000               6.5   \n",
       "1          9.000000             5.166667          9.833333               0.0   \n",
       "2          8.583333             3.166667          9.250000               3.0   \n",
       "3         10.416667             2.166667         10.916667               0.5   \n",
       "4          4.416667             4.500000          9.583333               5.5   \n",
       "\n",
       "  _merge  \n",
       "0   both  \n",
       "1   both  \n",
       "2   both  \n",
       "3   both  \n",
       "4   both  \n",
       "\n",
       "[5 rows x 29 columns]"
      ]
     },
     "execution_count": 300,
     "metadata": {},
     "output_type": "execute_result"
    }
   ],
   "source": [
    "df_hh.head()"
   ]
  },
  {
   "cell_type": "code",
   "execution_count": 301,
   "id": "7c3493f3-7712-44bd-a841-df35e39ad202",
   "metadata": {
    "tags": []
   },
   "outputs": [],
   "source": [
    "df_hh = df_hh[df_hh[\"_merge\"] == \"both\"]\n",
    "df_hh.drop(columns=[\"_merge\"], inplace=True)"
   ]
  },
  {
   "cell_type": "code",
   "execution_count": 302,
   "id": "8a6ba0ea-1c3a-4020-9002-d2b16001e2f7",
   "metadata": {
    "tags": []
   },
   "outputs": [],
   "source": [
    "df_hh.to_csv(\"../../proc/TimeReg.csv\")"
   ]
  },
  {
   "cell_type": "code",
   "execution_count": null,
   "id": "b726ab10-f539-4f7f-a0e6-47b4afd518fc",
   "metadata": {},
   "outputs": [],
   "source": []
  }
 ],
 "metadata": {
  "kernelspec": {
   "display_name": "Python 3 (ipykernel)",
   "language": "python",
   "name": "python3"
  },
  "language_info": {
   "codemirror_mode": {
    "name": "ipython",
    "version": 3
   },
   "file_extension": ".py",
   "mimetype": "text/x-python",
   "name": "python",
   "nbconvert_exporter": "python",
   "pygments_lexer": "ipython3",
   "version": "3.11.5"
  }
 },
 "nbformat": 4,
 "nbformat_minor": 5
}
